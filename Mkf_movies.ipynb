{
 "cells": [
  {
   "cell_type": "markdown",
   "metadata": {
    "id": "sIfNaMOxgFyK"
   },
   "source": [
    "## Study of data on Russian film distribution\n",
    "\n"
   ]
  },
  {
   "cell_type": "code",
   "execution_count": 1,
   "metadata": {
    "id": "dw87FlzMgFyM",
    "scrolled": true
   },
   "outputs": [
    {
     "data": {
      "text/html": [
       "<div>\n",
       "<style scoped>\n",
       "    .dataframe tbody tr th:only-of-type {\n",
       "        vertical-align: middle;\n",
       "    }\n",
       "\n",
       "    .dataframe tbody tr th {\n",
       "        vertical-align: top;\n",
       "    }\n",
       "\n",
       "    .dataframe thead th {\n",
       "        text-align: right;\n",
       "    }\n",
       "</style>\n",
       "<table border=\"1\" class=\"dataframe\">\n",
       "  <thead>\n",
       "    <tr style=\"text-align: right;\">\n",
       "      <th></th>\n",
       "      <th>title</th>\n",
       "      <th>puNumber</th>\n",
       "      <th>show_start_date</th>\n",
       "      <th>type</th>\n",
       "      <th>film_studio</th>\n",
       "      <th>production_country</th>\n",
       "      <th>director</th>\n",
       "      <th>producer</th>\n",
       "      <th>age_restriction</th>\n",
       "      <th>refundable_support</th>\n",
       "      <th>nonrefundable_support</th>\n",
       "      <th>budget</th>\n",
       "      <th>financing_source</th>\n",
       "      <th>ratings</th>\n",
       "      <th>genres</th>\n",
       "    </tr>\n",
       "  </thead>\n",
       "  <tbody>\n",
       "    <tr>\n",
       "      <td>0</td>\n",
       "      <td>Открытый простор</td>\n",
       "      <td>221048915</td>\n",
       "      <td>2015-11-27T12:00:00.000Z</td>\n",
       "      <td>Художественный</td>\n",
       "      <td>Тачстоун Пикчерз, Кобальт Пикчерз, Бикон Пикче...</td>\n",
       "      <td>США</td>\n",
       "      <td>Кевин Костнер</td>\n",
       "      <td>Дэвид Валдес, Кевин Костнер, Джейк Эбертс</td>\n",
       "      <td>«18+» - запрещено для детей</td>\n",
       "      <td>NaN</td>\n",
       "      <td>NaN</td>\n",
       "      <td>NaN</td>\n",
       "      <td>NaN</td>\n",
       "      <td>7.2</td>\n",
       "      <td>боевик,драма,мелодрама</td>\n",
       "    </tr>\n",
       "    <tr>\n",
       "      <td>1</td>\n",
       "      <td>Особо важное задание</td>\n",
       "      <td>111013716</td>\n",
       "      <td>2016-09-13T12:00:00.000Z</td>\n",
       "      <td>Художественный</td>\n",
       "      <td>Киностудия \"Мосфильм\"</td>\n",
       "      <td>СССР</td>\n",
       "      <td>Е.Матвеев</td>\n",
       "      <td>NaN</td>\n",
       "      <td>«6+» - для детей старше 6 лет</td>\n",
       "      <td>NaN</td>\n",
       "      <td>NaN</td>\n",
       "      <td>NaN</td>\n",
       "      <td>NaN</td>\n",
       "      <td>6.6</td>\n",
       "      <td>драма,военный</td>\n",
       "    </tr>\n",
       "    <tr>\n",
       "      <td>2</td>\n",
       "      <td>Особо опасен</td>\n",
       "      <td>221038416</td>\n",
       "      <td>2016-10-10T12:00:00.000Z</td>\n",
       "      <td>Художественный</td>\n",
       "      <td>Юниверсал Пикчерз, Кикстарт Продакшнз, Марк Пл...</td>\n",
       "      <td>США</td>\n",
       "      <td>Тимур Бекмамбетов</td>\n",
       "      <td>Джим Лемли, Джейсон Нетер, Марк Е.Платт, Яйн Смит</td>\n",
       "      <td>«18+» - запрещено для детей</td>\n",
       "      <td>NaN</td>\n",
       "      <td>NaN</td>\n",
       "      <td>NaN</td>\n",
       "      <td>NaN</td>\n",
       "      <td>6.8</td>\n",
       "      <td>фантастика,боевик,триллер</td>\n",
       "    </tr>\n",
       "    <tr>\n",
       "      <td>3</td>\n",
       "      <td>Особо опасен</td>\n",
       "      <td>221026916</td>\n",
       "      <td>2016-06-10T12:00:00.000Z</td>\n",
       "      <td>Художественный</td>\n",
       "      <td>Юниверсал Пикчерз, Кикстарт Продакшнз, Марк Пл...</td>\n",
       "      <td>США</td>\n",
       "      <td>Тимур Бекмамбетов</td>\n",
       "      <td>Джим Лемли, Джейсон Нетер, Марк Е.Платт, Яйн Смит</td>\n",
       "      <td>«18+» - запрещено для детей</td>\n",
       "      <td>NaN</td>\n",
       "      <td>NaN</td>\n",
       "      <td>NaN</td>\n",
       "      <td>NaN</td>\n",
       "      <td>6.8</td>\n",
       "      <td>фантастика,боевик,триллер</td>\n",
       "    </tr>\n",
       "    <tr>\n",
       "      <td>4</td>\n",
       "      <td>Особо опасен</td>\n",
       "      <td>221030815</td>\n",
       "      <td>2015-07-29T12:00:00.000Z</td>\n",
       "      <td>Художественный</td>\n",
       "      <td>Юниверсал Пикчерз, Кикстарт Продакшнз, Марк Пл...</td>\n",
       "      <td>США</td>\n",
       "      <td>Тимур Бекмамбетов</td>\n",
       "      <td>Джим Лемли, Джейсон Нетер, Марк Е.Платт, Яйн Смит</td>\n",
       "      <td>«18+» - запрещено для детей</td>\n",
       "      <td>NaN</td>\n",
       "      <td>NaN</td>\n",
       "      <td>NaN</td>\n",
       "      <td>NaN</td>\n",
       "      <td>6.8</td>\n",
       "      <td>фантастика,боевик,триллер</td>\n",
       "    </tr>\n",
       "  </tbody>\n",
       "</table>\n",
       "</div>"
      ],
      "text/plain": [
       "                  title   puNumber           show_start_date            type  \\\n",
       "0      Открытый простор  221048915  2015-11-27T12:00:00.000Z  Художественный   \n",
       "1  Особо важное задание  111013716  2016-09-13T12:00:00.000Z  Художественный   \n",
       "2          Особо опасен  221038416  2016-10-10T12:00:00.000Z  Художественный   \n",
       "3          Особо опасен  221026916  2016-06-10T12:00:00.000Z  Художественный   \n",
       "4          Особо опасен  221030815  2015-07-29T12:00:00.000Z  Художественный   \n",
       "\n",
       "                                         film_studio production_country  \\\n",
       "0  Тачстоун Пикчерз, Кобальт Пикчерз, Бикон Пикче...                США   \n",
       "1                              Киностудия \"Мосфильм\"               СССР   \n",
       "2  Юниверсал Пикчерз, Кикстарт Продакшнз, Марк Пл...                США   \n",
       "3  Юниверсал Пикчерз, Кикстарт Продакшнз, Марк Пл...                США   \n",
       "4  Юниверсал Пикчерз, Кикстарт Продакшнз, Марк Пл...                США   \n",
       "\n",
       "            director                                           producer  \\\n",
       "0      Кевин Костнер          Дэвид Валдес, Кевин Костнер, Джейк Эбертс   \n",
       "1          Е.Матвеев                                                NaN   \n",
       "2  Тимур Бекмамбетов  Джим Лемли, Джейсон Нетер, Марк Е.Платт, Яйн Смит   \n",
       "3  Тимур Бекмамбетов  Джим Лемли, Джейсон Нетер, Марк Е.Платт, Яйн Смит   \n",
       "4  Тимур Бекмамбетов  Джим Лемли, Джейсон Нетер, Марк Е.Платт, Яйн Смит   \n",
       "\n",
       "                 age_restriction  refundable_support  nonrefundable_support  \\\n",
       "0    «18+» - запрещено для детей                 NaN                    NaN   \n",
       "1  «6+» - для детей старше 6 лет                 NaN                    NaN   \n",
       "2    «18+» - запрещено для детей                 NaN                    NaN   \n",
       "3    «18+» - запрещено для детей                 NaN                    NaN   \n",
       "4    «18+» - запрещено для детей                 NaN                    NaN   \n",
       "\n",
       "   budget financing_source ratings                     genres  \n",
       "0     NaN              NaN     7.2     боевик,драма,мелодрама  \n",
       "1     NaN              NaN     6.6              драма,военный  \n",
       "2     NaN              NaN     6.8  фантастика,боевик,триллер  \n",
       "3     NaN              NaN     6.8  фантастика,боевик,триллер  \n",
       "4     NaN              NaN     6.8  фантастика,боевик,триллер  "
      ]
     },
     "execution_count": 1,
     "metadata": {},
     "output_type": "execute_result"
    }
   ],
   "source": [
    "import pandas as pd\n",
    "#open data files\n",
    "df = pd.read_csv(\"/datasets/mkrf_movies.csv\")\n",
    "df.head(5)\n",
    "#df.info()"
   ]
  },
  {
   "cell_type": "code",
   "execution_count": 2,
   "metadata": {},
   "outputs": [
    {
     "data": {
      "text/html": [
       "<div>\n",
       "<style scoped>\n",
       "    .dataframe tbody tr th:only-of-type {\n",
       "        vertical-align: middle;\n",
       "    }\n",
       "\n",
       "    .dataframe tbody tr th {\n",
       "        vertical-align: top;\n",
       "    }\n",
       "\n",
       "    .dataframe thead th {\n",
       "        text-align: right;\n",
       "    }\n",
       "</style>\n",
       "<table border=\"1\" class=\"dataframe\">\n",
       "  <thead>\n",
       "    <tr style=\"text-align: right;\">\n",
       "      <th></th>\n",
       "      <th>puNumber</th>\n",
       "      <th>box_office</th>\n",
       "    </tr>\n",
       "  </thead>\n",
       "  <tbody>\n",
       "    <tr>\n",
       "      <td>0</td>\n",
       "      <td>111000113</td>\n",
       "      <td>2.450000e+03</td>\n",
       "    </tr>\n",
       "    <tr>\n",
       "      <td>1</td>\n",
       "      <td>111000115</td>\n",
       "      <td>6.104000e+04</td>\n",
       "    </tr>\n",
       "    <tr>\n",
       "      <td>2</td>\n",
       "      <td>111000116</td>\n",
       "      <td>1.530300e+08</td>\n",
       "    </tr>\n",
       "    <tr>\n",
       "      <td>3</td>\n",
       "      <td>111000117</td>\n",
       "      <td>1.226096e+07</td>\n",
       "    </tr>\n",
       "    <tr>\n",
       "      <td>4</td>\n",
       "      <td>111000118</td>\n",
       "      <td>1.636841e+08</td>\n",
       "    </tr>\n",
       "  </tbody>\n",
       "</table>\n",
       "</div>"
      ],
      "text/plain": [
       "    puNumber    box_office\n",
       "0  111000113  2.450000e+03\n",
       "1  111000115  6.104000e+04\n",
       "2  111000116  1.530300e+08\n",
       "3  111000117  1.226096e+07\n",
       "4  111000118  1.636841e+08"
      ]
     },
     "execution_count": 2,
     "metadata": {},
     "output_type": "execute_result"
    }
   ],
   "source": [
    "df1 = pd.read_csv(\"/datasets/mkrf_shows.csv\")\n",
    "df1.head()\n",
    "#df1.info()"
   ]
  },
  {
   "cell_type": "code",
   "execution_count": 3,
   "metadata": {
    "scrolled": true
   },
   "outputs": [],
   "source": [
    "# will replace the data type with object\n",
    "df[\"puNumber\"] = pd.to_numeric(df[\"puNumber\"], errors=\"coerce\")\n",
    "#df.info()\n"
   ]
  },
  {
   "cell_type": "code",
   "execution_count": 4,
   "metadata": {},
   "outputs": [],
   "source": [
    "# merge them\n",
    "movies = df.merge(df1, on=\"puNumber\", how=\"outer\")"
   ]
  },
  {
   "cell_type": "code",
   "execution_count": 5,
   "metadata": {
    "scrolled": true
   },
   "outputs": [
    {
     "data": {
      "text/html": [
       "<div>\n",
       "<style scoped>\n",
       "    .dataframe tbody tr th:only-of-type {\n",
       "        vertical-align: middle;\n",
       "    }\n",
       "\n",
       "    .dataframe tbody tr th {\n",
       "        vertical-align: top;\n",
       "    }\n",
       "\n",
       "    .dataframe thead th {\n",
       "        text-align: right;\n",
       "    }\n",
       "</style>\n",
       "<table border=\"1\" class=\"dataframe\">\n",
       "  <thead>\n",
       "    <tr style=\"text-align: right;\">\n",
       "      <th></th>\n",
       "      <th>title</th>\n",
       "      <th>puNumber</th>\n",
       "      <th>show_start_date</th>\n",
       "      <th>type</th>\n",
       "      <th>film_studio</th>\n",
       "      <th>production_country</th>\n",
       "      <th>director</th>\n",
       "      <th>producer</th>\n",
       "      <th>age_restriction</th>\n",
       "      <th>refundable_support</th>\n",
       "      <th>nonrefundable_support</th>\n",
       "      <th>budget</th>\n",
       "      <th>financing_source</th>\n",
       "      <th>ratings</th>\n",
       "      <th>genres</th>\n",
       "      <th>box_office</th>\n",
       "    </tr>\n",
       "  </thead>\n",
       "  <tbody>\n",
       "    <tr>\n",
       "      <td>0</td>\n",
       "      <td>Открытый простор</td>\n",
       "      <td>221048915.0</td>\n",
       "      <td>2015-11-27T12:00:00.000Z</td>\n",
       "      <td>Художественный</td>\n",
       "      <td>Тачстоун Пикчерз, Кобальт Пикчерз, Бикон Пикче...</td>\n",
       "      <td>США</td>\n",
       "      <td>Кевин Костнер</td>\n",
       "      <td>Дэвид Валдес, Кевин Костнер, Джейк Эбертс</td>\n",
       "      <td>«18+» - запрещено для детей</td>\n",
       "      <td>NaN</td>\n",
       "      <td>NaN</td>\n",
       "      <td>NaN</td>\n",
       "      <td>NaN</td>\n",
       "      <td>7.2</td>\n",
       "      <td>боевик,драма,мелодрама</td>\n",
       "      <td>NaN</td>\n",
       "    </tr>\n",
       "    <tr>\n",
       "      <td>1</td>\n",
       "      <td>Особо важное задание</td>\n",
       "      <td>111013716.0</td>\n",
       "      <td>2016-09-13T12:00:00.000Z</td>\n",
       "      <td>Художественный</td>\n",
       "      <td>Киностудия \"Мосфильм\"</td>\n",
       "      <td>СССР</td>\n",
       "      <td>Е.Матвеев</td>\n",
       "      <td>NaN</td>\n",
       "      <td>«6+» - для детей старше 6 лет</td>\n",
       "      <td>NaN</td>\n",
       "      <td>NaN</td>\n",
       "      <td>NaN</td>\n",
       "      <td>NaN</td>\n",
       "      <td>6.6</td>\n",
       "      <td>драма,военный</td>\n",
       "      <td>NaN</td>\n",
       "    </tr>\n",
       "    <tr>\n",
       "      <td>2</td>\n",
       "      <td>Особо опасен</td>\n",
       "      <td>221038416.0</td>\n",
       "      <td>2016-10-10T12:00:00.000Z</td>\n",
       "      <td>Художественный</td>\n",
       "      <td>Юниверсал Пикчерз, Кикстарт Продакшнз, Марк Пл...</td>\n",
       "      <td>США</td>\n",
       "      <td>Тимур Бекмамбетов</td>\n",
       "      <td>Джим Лемли, Джейсон Нетер, Марк Е.Платт, Яйн Смит</td>\n",
       "      <td>«18+» - запрещено для детей</td>\n",
       "      <td>NaN</td>\n",
       "      <td>NaN</td>\n",
       "      <td>NaN</td>\n",
       "      <td>NaN</td>\n",
       "      <td>6.8</td>\n",
       "      <td>фантастика,боевик,триллер</td>\n",
       "      <td>NaN</td>\n",
       "    </tr>\n",
       "    <tr>\n",
       "      <td>3</td>\n",
       "      <td>Особо опасен</td>\n",
       "      <td>221026916.0</td>\n",
       "      <td>2016-06-10T12:00:00.000Z</td>\n",
       "      <td>Художественный</td>\n",
       "      <td>Юниверсал Пикчерз, Кикстарт Продакшнз, Марк Пл...</td>\n",
       "      <td>США</td>\n",
       "      <td>Тимур Бекмамбетов</td>\n",
       "      <td>Джим Лемли, Джейсон Нетер, Марк Е.Платт, Яйн Смит</td>\n",
       "      <td>«18+» - запрещено для детей</td>\n",
       "      <td>NaN</td>\n",
       "      <td>NaN</td>\n",
       "      <td>NaN</td>\n",
       "      <td>NaN</td>\n",
       "      <td>6.8</td>\n",
       "      <td>фантастика,боевик,триллер</td>\n",
       "      <td>NaN</td>\n",
       "    </tr>\n",
       "    <tr>\n",
       "      <td>4</td>\n",
       "      <td>Особо опасен</td>\n",
       "      <td>221030815.0</td>\n",
       "      <td>2015-07-29T12:00:00.000Z</td>\n",
       "      <td>Художественный</td>\n",
       "      <td>Юниверсал Пикчерз, Кикстарт Продакшнз, Марк Пл...</td>\n",
       "      <td>США</td>\n",
       "      <td>Тимур Бекмамбетов</td>\n",
       "      <td>Джим Лемли, Джейсон Нетер, Марк Е.Платт, Яйн Смит</td>\n",
       "      <td>«18+» - запрещено для детей</td>\n",
       "      <td>NaN</td>\n",
       "      <td>NaN</td>\n",
       "      <td>NaN</td>\n",
       "      <td>NaN</td>\n",
       "      <td>6.8</td>\n",
       "      <td>фантастика,боевик,триллер</td>\n",
       "      <td>NaN</td>\n",
       "    </tr>\n",
       "    <tr>\n",
       "      <td>...</td>\n",
       "      <td>...</td>\n",
       "      <td>...</td>\n",
       "      <td>...</td>\n",
       "      <td>...</td>\n",
       "      <td>...</td>\n",
       "      <td>...</td>\n",
       "      <td>...</td>\n",
       "      <td>...</td>\n",
       "      <td>...</td>\n",
       "      <td>...</td>\n",
       "      <td>...</td>\n",
       "      <td>...</td>\n",
       "      <td>...</td>\n",
       "      <td>...</td>\n",
       "      <td>...</td>\n",
       "      <td>...</td>\n",
       "    </tr>\n",
       "    <tr>\n",
       "      <td>7481</td>\n",
       "      <td>Сад художника: Американский импрессионизм</td>\n",
       "      <td>126008019.0</td>\n",
       "      <td>2019-12-23T12:00:00.000Z</td>\n",
       "      <td>Прочие</td>\n",
       "      <td>Севен Артс Продакшнз</td>\n",
       "      <td>Великобритания</td>\n",
       "      <td>Фил Грабски</td>\n",
       "      <td>Фил Грабски</td>\n",
       "      <td>«12+» - для детей старше 12 лет</td>\n",
       "      <td>NaN</td>\n",
       "      <td>NaN</td>\n",
       "      <td>NaN</td>\n",
       "      <td>NaN</td>\n",
       "      <td>NaN</td>\n",
       "      <td>NaN</td>\n",
       "      <td>NaN</td>\n",
       "    </tr>\n",
       "    <tr>\n",
       "      <td>7482</td>\n",
       "      <td>Звериная ярость</td>\n",
       "      <td>121037819.0</td>\n",
       "      <td>2019-12-24T12:00:00.000Z</td>\n",
       "      <td>Художественный</td>\n",
       "      <td>Дэниел Гродник Продакшнз, Вандерфилм Медиа Кор...</td>\n",
       "      <td>США</td>\n",
       "      <td>Ник Пауэлл</td>\n",
       "      <td>Джефф Боулер, Дэниэл Гродник, Луильо Руис, Брэ...</td>\n",
       "      <td>«16+» - для детей старше 16 лет</td>\n",
       "      <td>NaN</td>\n",
       "      <td>NaN</td>\n",
       "      <td>NaN</td>\n",
       "      <td>NaN</td>\n",
       "      <td>5.4</td>\n",
       "      <td>боевик,триллер</td>\n",
       "      <td>NaN</td>\n",
       "    </tr>\n",
       "    <tr>\n",
       "      <td>7483</td>\n",
       "      <td>Щенячий патруль: Скорей спешим на помощь!</td>\n",
       "      <td>124010819.0</td>\n",
       "      <td>2019-12-28T12:00:00.000Z</td>\n",
       "      <td>Художественный</td>\n",
       "      <td>Никелодеон Анимейшн Студиос, Спин Мастер</td>\n",
       "      <td>США - Канада</td>\n",
       "      <td>Чарльз Е.Бастьен</td>\n",
       "      <td>Дженнифер Додж</td>\n",
       "      <td>«0+» - для любой зрительской аудитории</td>\n",
       "      <td>NaN</td>\n",
       "      <td>NaN</td>\n",
       "      <td>NaN</td>\n",
       "      <td>NaN</td>\n",
       "      <td>NaN</td>\n",
       "      <td>NaN</td>\n",
       "      <td>NaN</td>\n",
       "    </tr>\n",
       "    <tr>\n",
       "      <td>7484</td>\n",
       "      <td>Машины песенки. Серия \"Испанские мотивы\"</td>\n",
       "      <td>124010619.0</td>\n",
       "      <td>2019-12-30T12:00:00.000Z</td>\n",
       "      <td>Анимационный</td>\n",
       "      <td>Анимаккорд Лтд., ООО Студия \"АНИМАККОРД\"</td>\n",
       "      <td>Республика Кипр, Россия</td>\n",
       "      <td>А.Беляев</td>\n",
       "      <td>Д.Ловейко</td>\n",
       "      <td>«0+» - для любой зрительской аудитории</td>\n",
       "      <td>NaN</td>\n",
       "      <td>NaN</td>\n",
       "      <td>NaN</td>\n",
       "      <td>NaN</td>\n",
       "      <td>NaN</td>\n",
       "      <td>NaN</td>\n",
       "      <td>NaN</td>\n",
       "    </tr>\n",
       "    <tr>\n",
       "      <td>7485</td>\n",
       "      <td>Машины песенки. Серия \"Когда цветут кактусы\"</td>\n",
       "      <td>124010719.0</td>\n",
       "      <td>2019-12-30T12:00:00.000Z</td>\n",
       "      <td>Анимационный</td>\n",
       "      <td>Анимаккорд Лтд., ООО Студия \"АНИМАККОРД\"</td>\n",
       "      <td>Республика Кипр, Россия</td>\n",
       "      <td>И.Трусов</td>\n",
       "      <td>Д.Ловейко</td>\n",
       "      <td>«0+» - для любой зрительской аудитории</td>\n",
       "      <td>NaN</td>\n",
       "      <td>NaN</td>\n",
       "      <td>NaN</td>\n",
       "      <td>NaN</td>\n",
       "      <td>6.3</td>\n",
       "      <td>комедия,вестерн</td>\n",
       "      <td>NaN</td>\n",
       "    </tr>\n",
       "  </tbody>\n",
       "</table>\n",
       "<p>7486 rows × 16 columns</p>\n",
       "</div>"
      ],
      "text/plain": [
       "                                             title     puNumber  \\\n",
       "0                                 Открытый простор  221048915.0   \n",
       "1                             Особо важное задание  111013716.0   \n",
       "2                                     Особо опасен  221038416.0   \n",
       "3                                     Особо опасен  221026916.0   \n",
       "4                                     Особо опасен  221030815.0   \n",
       "...                                            ...          ...   \n",
       "7481     Сад художника: Американский импрессионизм  126008019.0   \n",
       "7482                               Звериная ярость  121037819.0   \n",
       "7483     Щенячий патруль: Скорей спешим на помощь!  124010819.0   \n",
       "7484      Машины песенки. Серия \"Испанские мотивы\"  124010619.0   \n",
       "7485  Машины песенки. Серия \"Когда цветут кактусы\"  124010719.0   \n",
       "\n",
       "               show_start_date             type  \\\n",
       "0     2015-11-27T12:00:00.000Z   Художественный   \n",
       "1     2016-09-13T12:00:00.000Z   Художественный   \n",
       "2     2016-10-10T12:00:00.000Z   Художественный   \n",
       "3     2016-06-10T12:00:00.000Z   Художественный   \n",
       "4     2015-07-29T12:00:00.000Z   Художественный   \n",
       "...                        ...              ...   \n",
       "7481  2019-12-23T12:00:00.000Z           Прочие   \n",
       "7482  2019-12-24T12:00:00.000Z   Художественный   \n",
       "7483  2019-12-28T12:00:00.000Z   Художественный   \n",
       "7484  2019-12-30T12:00:00.000Z     Анимационный   \n",
       "7485  2019-12-30T12:00:00.000Z     Анимационный   \n",
       "\n",
       "                                            film_studio  \\\n",
       "0     Тачстоун Пикчерз, Кобальт Пикчерз, Бикон Пикче...   \n",
       "1                                 Киностудия \"Мосфильм\"   \n",
       "2     Юниверсал Пикчерз, Кикстарт Продакшнз, Марк Пл...   \n",
       "3     Юниверсал Пикчерз, Кикстарт Продакшнз, Марк Пл...   \n",
       "4     Юниверсал Пикчерз, Кикстарт Продакшнз, Марк Пл...   \n",
       "...                                                 ...   \n",
       "7481                               Севен Артс Продакшнз   \n",
       "7482  Дэниел Гродник Продакшнз, Вандерфилм Медиа Кор...   \n",
       "7483           Никелодеон Анимейшн Студиос, Спин Мастер   \n",
       "7484           Анимаккорд Лтд., ООО Студия \"АНИМАККОРД\"   \n",
       "7485           Анимаккорд Лтд., ООО Студия \"АНИМАККОРД\"   \n",
       "\n",
       "           production_country           director  \\\n",
       "0                         США      Кевин Костнер   \n",
       "1                        СССР          Е.Матвеев   \n",
       "2                         США  Тимур Бекмамбетов   \n",
       "3                         США  Тимур Бекмамбетов   \n",
       "4                         США  Тимур Бекмамбетов   \n",
       "...                       ...                ...   \n",
       "7481           Великобритания        Фил Грабски   \n",
       "7482                      США         Ник Пауэлл   \n",
       "7483             США - Канада   Чарльз Е.Бастьен   \n",
       "7484  Республика Кипр, Россия           А.Беляев   \n",
       "7485  Республика Кипр, Россия           И.Трусов   \n",
       "\n",
       "                                               producer  \\\n",
       "0             Дэвид Валдес, Кевин Костнер, Джейк Эбертс   \n",
       "1                                                   NaN   \n",
       "2     Джим Лемли, Джейсон Нетер, Марк Е.Платт, Яйн Смит   \n",
       "3     Джим Лемли, Джейсон Нетер, Марк Е.Платт, Яйн Смит   \n",
       "4     Джим Лемли, Джейсон Нетер, Марк Е.Платт, Яйн Смит   \n",
       "...                                                 ...   \n",
       "7481                                        Фил Грабски   \n",
       "7482  Джефф Боулер, Дэниэл Гродник, Луильо Руис, Брэ...   \n",
       "7483                                     Дженнифер Додж   \n",
       "7484                                          Д.Ловейко   \n",
       "7485                                          Д.Ловейко   \n",
       "\n",
       "                             age_restriction  refundable_support  \\\n",
       "0                «18+» - запрещено для детей                 NaN   \n",
       "1              «6+» - для детей старше 6 лет                 NaN   \n",
       "2                «18+» - запрещено для детей                 NaN   \n",
       "3                «18+» - запрещено для детей                 NaN   \n",
       "4                «18+» - запрещено для детей                 NaN   \n",
       "...                                      ...                 ...   \n",
       "7481         «12+» - для детей старше 12 лет                 NaN   \n",
       "7482         «16+» - для детей старше 16 лет                 NaN   \n",
       "7483  «0+» - для любой зрительской аудитории                 NaN   \n",
       "7484  «0+» - для любой зрительской аудитории                 NaN   \n",
       "7485  «0+» - для любой зрительской аудитории                 NaN   \n",
       "\n",
       "      nonrefundable_support  budget financing_source ratings  \\\n",
       "0                       NaN     NaN              NaN     7.2   \n",
       "1                       NaN     NaN              NaN     6.6   \n",
       "2                       NaN     NaN              NaN     6.8   \n",
       "3                       NaN     NaN              NaN     6.8   \n",
       "4                       NaN     NaN              NaN     6.8   \n",
       "...                     ...     ...              ...     ...   \n",
       "7481                    NaN     NaN              NaN     NaN   \n",
       "7482                    NaN     NaN              NaN     5.4   \n",
       "7483                    NaN     NaN              NaN     NaN   \n",
       "7484                    NaN     NaN              NaN     NaN   \n",
       "7485                    NaN     NaN              NaN     6.3   \n",
       "\n",
       "                         genres  box_office  \n",
       "0        боевик,драма,мелодрама         NaN  \n",
       "1                 драма,военный         NaN  \n",
       "2     фантастика,боевик,триллер         NaN  \n",
       "3     фантастика,боевик,триллер         NaN  \n",
       "4     фантастика,боевик,триллер         NaN  \n",
       "...                         ...         ...  \n",
       "7481                        NaN         NaN  \n",
       "7482             боевик,триллер         NaN  \n",
       "7483                        NaN         NaN  \n",
       "7484                        NaN         NaN  \n",
       "7485            комедия,вестерн         NaN  \n",
       "\n",
       "[7486 rows x 16 columns]"
      ]
     },
     "execution_count": 5,
     "metadata": {},
     "output_type": "execute_result"
    }
   ],
   "source": [
    "movies"
   ]
  },
  {
   "cell_type": "markdown",
   "metadata": {
    "id": "KLDGpPG0gFyM"
   },
   "source": [
    "### Step 2. Data preprocessing"
   ]
  },
  {
   "cell_type": "markdown",
   "metadata": {
    "id": "ssWwKXsxgFyO"
   },
   "source": [
    "#### Step 2.1. Data Type Check\n",
    "\n"
   ]
  },
  {
   "cell_type": "code",
   "execution_count": 6,
   "metadata": {
    "id": "kVGSplJOgFyO"
   },
   "outputs": [
    {
     "name": "stdout",
     "output_type": "stream",
     "text": [
      "<class 'pandas.core.frame.DataFrame'>\n",
      "Int64Index: 7486 entries, 0 to 7485\n",
      "Data columns (total 16 columns):\n",
      "title                    7486 non-null object\n",
      "puNumber                 7485 non-null float64\n",
      "show_start_date          7486 non-null object\n",
      "type                     7486 non-null object\n",
      "film_studio              7468 non-null object\n",
      "production_country       7484 non-null object\n",
      "director                 7477 non-null object\n",
      "producer                 6918 non-null object\n",
      "age_restriction          7486 non-null object\n",
      "refundable_support       332 non-null float64\n",
      "nonrefundable_support    332 non-null float64\n",
      "budget                   332 non-null float64\n",
      "financing_source         332 non-null object\n",
      "ratings                  6519 non-null object\n",
      "genres                   6510 non-null object\n",
      "box_office               3158 non-null float64\n",
      "dtypes: float64(5), object(11)\n",
      "memory usage: 994.2+ KB\n"
     ]
    }
   ],
   "source": [
    "movies.info()"
   ]
  },
  {
   "cell_type": "code",
   "execution_count": 7,
   "metadata": {},
   "outputs": [],
   "source": [
    "# replace the data type with the datetime method\n",
    "\n",
    "\n",
    "movies[\"show_start_date\"] = pd.to_datetime(movies[\"show_start_date\"], format='%Y-%m-%dT%H:%M:%S')\n",
    "movies['ratings'] = pd.to_numeric(movies['ratings'], errors='coerce')"
   ]
  },
  {
   "cell_type": "markdown",
   "metadata": {
    "id": "i0MOLbF-gFyP"
   },
   "source": [
    "#### Шаг 2.2. Examine the gaps in the dataframe\n",
    "\n"
   ]
  },
  {
   "cell_type": "code",
   "execution_count": 8,
   "metadata": {
    "id": "8MJD_lkngFyP",
    "scrolled": true
   },
   "outputs": [
    {
     "data": {
      "text/plain": [
       "title                       0\n",
       "puNumber                    1\n",
       "show_start_date             0\n",
       "type                        0\n",
       "film_studio                18\n",
       "production_country          2\n",
       "director                    9\n",
       "producer                  568\n",
       "age_restriction             0\n",
       "refundable_support       7154\n",
       "nonrefundable_support    7154\n",
       "budget                   7154\n",
       "financing_source         7154\n",
       "ratings                   996\n",
       "genres                    976\n",
       "box_office               4328\n",
       "dtype: int64"
      ]
     },
     "execution_count": 8,
     "metadata": {},
     "output_type": "execute_result"
    }
   ],
   "source": [
    "movies.isnull().sum()"
   ]
  },
  {
   "cell_type": "markdown",
   "metadata": {},
   "source": [
    "We see that there are a lot of gaps in the columns refundable_support, nonrefundable_support, budget, financing_source, box_office\n",
    "It is better to just not touch them and leave them as they are."
   ]
  },
  {
   "cell_type": "code",
   "execution_count": 9,
   "metadata": {},
   "outputs": [],
   "source": [
    "# replace the data in the rating column where there is% with Nan\n",
    "import numpy as np\n",
    "#movies['ratings'] = movies['ratings'].replace('99%', np.NaN)\n",
    "#movies['ratings'] = movies['ratings'].replace('28%', np.NaN)\n",
    "#movies['ratings'] = movies['ratings'].replace('97%', np.NaN)\n",
    "#movies['ratings'] = movies['ratings'].replace('83%', np.NaN)\n",
    "#movies['ratings'] = movies['ratings'].replace('64%', np.NaN)\n",
    "#movies['ratings'] = movies['ratings'].replace('91%', np.NaN)\n",
    "#movies['ratings'] = movies['ratings'].replace('94%', np.NaN)\n",
    "#movies['ratings'] = movies['ratings'].replace('62%', np.NaN)\n",
    "#movies['ratings'] = movies['ratings'].replace('79%', np.NaN)\n",
    "#movies['ratings'] = movies['ratings'].replace('90%', np.NaN)\n",
    "#movies['ratings'] = movies['ratings'].replace('19%', np.NaN)\n",
    "#movies['ratings'] = movies['ratings'].replace('88%', np.NaN)\n",
    "#movies['ratings'] = movies['ratings'].replace('89%', np.NaN)\n",
    "#movies['ratings'] = movies['ratings'].replace('90%', np.NaN)\n",
    "#movies['ratings'] = movies['ratings'].replace('92%', np.NaN)\n",
    "#movies['ratings'] = movies['ratings'].replace('93%', np.NaN)\n",
    "#movies['ratings'] = movies['ratings'].replace('94%', np.NaN)\n",
    "#movies['ratings'] = movies['ratings'].replace('95%', np.NaN)\n",
    "#movies['ratings'] = movies['ratings'].replace('84%', np.NaN)\n",
    "#movies['ratings'] = movies['ratings'].replace('78%', np.NaN)\n",
    "#movies['ratings'] = movies['ratings'].replace('98%', np.NaN)"
   ]
  },
  {
   "cell_type": "markdown",
   "metadata": {},
   "source": [
    "We cast the ratings column to float. In other cases, it is very difficult to do anything. Let's leave it as is."
   ]
  },
  {
   "cell_type": "markdown",
   "metadata": {
    "id": "4c6k1t9ygFyQ"
   },
   "source": [
    "#### Step 2.3. Examining duplicates in a dataframe\n"
   ]
  },
  {
   "cell_type": "code",
   "execution_count": 10,
   "metadata": {
    "id": "aKck8RIdgFyQ"
   },
   "outputs": [
    {
     "data": {
      "text/plain": [
       "0"
      ]
     },
     "execution_count": 10,
     "metadata": {},
     "output_type": "execute_result"
    }
   ],
   "source": [
    "movies.duplicated().sum()"
   ]
  },
  {
   "cell_type": "code",
   "execution_count": 11,
   "metadata": {},
   "outputs": [
    {
     "data": {
      "text/plain": [
       "714"
      ]
     },
     "execution_count": 11,
     "metadata": {},
     "output_type": "execute_result"
    }
   ],
   "source": [
    "# we see that there are a lot of duplicates in the title column\n",
    "# apparently due to the fact that the data can be from different sites\n",
    "movies[\"title\"].duplicated().sum()"
   ]
  },
  {
   "cell_type": "code",
   "execution_count": 12,
   "metadata": {},
   "outputs": [],
   "source": [
    "# delete duplicates\n",
    "movies =  movies.drop_duplicates(subset=\"title\").reset_index(drop= True)"
   ]
  },
  {
   "cell_type": "code",
   "execution_count": 13,
   "metadata": {},
   "outputs": [
    {
     "data": {
      "text/plain": [
       "0"
      ]
     },
     "execution_count": 13,
     "metadata": {},
     "output_type": "execute_result"
    }
   ],
   "source": [
    "movies[\"title\"].duplicated().sum()"
   ]
  },
  {
   "cell_type": "code",
   "execution_count": 14,
   "metadata": {},
   "outputs": [
    {
     "data": {
      "text/html": [
       "<div>\n",
       "<style scoped>\n",
       "    .dataframe tbody tr th:only-of-type {\n",
       "        vertical-align: middle;\n",
       "    }\n",
       "\n",
       "    .dataframe tbody tr th {\n",
       "        vertical-align: top;\n",
       "    }\n",
       "\n",
       "    .dataframe thead th {\n",
       "        text-align: right;\n",
       "    }\n",
       "</style>\n",
       "<table border=\"1\" class=\"dataframe\">\n",
       "  <thead>\n",
       "    <tr style=\"text-align: right;\">\n",
       "      <th></th>\n",
       "      <th>title</th>\n",
       "      <th>puNumber</th>\n",
       "      <th>show_start_date</th>\n",
       "      <th>type</th>\n",
       "      <th>film_studio</th>\n",
       "      <th>production_country</th>\n",
       "      <th>director</th>\n",
       "      <th>producer</th>\n",
       "      <th>age_restriction</th>\n",
       "      <th>refundable_support</th>\n",
       "      <th>nonrefundable_support</th>\n",
       "      <th>budget</th>\n",
       "      <th>financing_source</th>\n",
       "      <th>ratings</th>\n",
       "      <th>genres</th>\n",
       "      <th>box_office</th>\n",
       "    </tr>\n",
       "  </thead>\n",
       "  <tbody>\n",
       "    <tr>\n",
       "      <td>0</td>\n",
       "      <td>Открытый простор</td>\n",
       "      <td>221048915.0</td>\n",
       "      <td>2015-11-27 12:00:00+00:00</td>\n",
       "      <td>Художественный</td>\n",
       "      <td>Тачстоун Пикчерз, Кобальт Пикчерз, Бикон Пикче...</td>\n",
       "      <td>США</td>\n",
       "      <td>Кевин Костнер</td>\n",
       "      <td>Дэвид Валдес, Кевин Костнер, Джейк Эбертс</td>\n",
       "      <td>«18+» - запрещено для детей</td>\n",
       "      <td>NaN</td>\n",
       "      <td>NaN</td>\n",
       "      <td>NaN</td>\n",
       "      <td>NaN</td>\n",
       "      <td>7.2</td>\n",
       "      <td>боевик,драма,мелодрама</td>\n",
       "      <td>NaN</td>\n",
       "    </tr>\n",
       "    <tr>\n",
       "      <td>1</td>\n",
       "      <td>Особо важное задание</td>\n",
       "      <td>111013716.0</td>\n",
       "      <td>2016-09-13 12:00:00+00:00</td>\n",
       "      <td>Художественный</td>\n",
       "      <td>Киностудия \"Мосфильм\"</td>\n",
       "      <td>СССР</td>\n",
       "      <td>Е.Матвеев</td>\n",
       "      <td>NaN</td>\n",
       "      <td>«6+» - для детей старше 6 лет</td>\n",
       "      <td>NaN</td>\n",
       "      <td>NaN</td>\n",
       "      <td>NaN</td>\n",
       "      <td>NaN</td>\n",
       "      <td>6.6</td>\n",
       "      <td>драма,военный</td>\n",
       "      <td>NaN</td>\n",
       "    </tr>\n",
       "    <tr>\n",
       "      <td>2</td>\n",
       "      <td>Особо опасен</td>\n",
       "      <td>221038416.0</td>\n",
       "      <td>2016-10-10 12:00:00+00:00</td>\n",
       "      <td>Художественный</td>\n",
       "      <td>Юниверсал Пикчерз, Кикстарт Продакшнз, Марк Пл...</td>\n",
       "      <td>США</td>\n",
       "      <td>Тимур Бекмамбетов</td>\n",
       "      <td>Джим Лемли, Джейсон Нетер, Марк Е.Платт, Яйн Смит</td>\n",
       "      <td>«18+» - запрещено для детей</td>\n",
       "      <td>NaN</td>\n",
       "      <td>NaN</td>\n",
       "      <td>NaN</td>\n",
       "      <td>NaN</td>\n",
       "      <td>6.8</td>\n",
       "      <td>фантастика,боевик,триллер</td>\n",
       "      <td>NaN</td>\n",
       "    </tr>\n",
       "    <tr>\n",
       "      <td>3</td>\n",
       "      <td>Остановился поезд</td>\n",
       "      <td>111013816.0</td>\n",
       "      <td>2016-09-13 12:00:00+00:00</td>\n",
       "      <td>Художественный</td>\n",
       "      <td>Киностудия \"Мосфильм\"</td>\n",
       "      <td>СССР</td>\n",
       "      <td>В.Абдрашитов</td>\n",
       "      <td>NaN</td>\n",
       "      <td>«6+» - для детей старше 6 лет</td>\n",
       "      <td>NaN</td>\n",
       "      <td>NaN</td>\n",
       "      <td>NaN</td>\n",
       "      <td>NaN</td>\n",
       "      <td>7.7</td>\n",
       "      <td>драма</td>\n",
       "      <td>NaN</td>\n",
       "    </tr>\n",
       "    <tr>\n",
       "      <td>4</td>\n",
       "      <td>Любовь и голуби</td>\n",
       "      <td>111007013.0</td>\n",
       "      <td>2013-10-18 12:00:00+00:00</td>\n",
       "      <td>Художественный</td>\n",
       "      <td>Киностудия \"Мосфильм\"</td>\n",
       "      <td>СССР</td>\n",
       "      <td>В.Меньшов</td>\n",
       "      <td>NaN</td>\n",
       "      <td>«12+» - для детей старше 12 лет</td>\n",
       "      <td>NaN</td>\n",
       "      <td>NaN</td>\n",
       "      <td>NaN</td>\n",
       "      <td>NaN</td>\n",
       "      <td>8.3</td>\n",
       "      <td>мелодрама,комедия</td>\n",
       "      <td>2700.0</td>\n",
       "    </tr>\n",
       "  </tbody>\n",
       "</table>\n",
       "</div>"
      ],
      "text/plain": [
       "                  title     puNumber           show_start_date  \\\n",
       "0      Открытый простор  221048915.0 2015-11-27 12:00:00+00:00   \n",
       "1  Особо важное задание  111013716.0 2016-09-13 12:00:00+00:00   \n",
       "2          Особо опасен  221038416.0 2016-10-10 12:00:00+00:00   \n",
       "3     Остановился поезд  111013816.0 2016-09-13 12:00:00+00:00   \n",
       "4       Любовь и голуби  111007013.0 2013-10-18 12:00:00+00:00   \n",
       "\n",
       "             type                                        film_studio  \\\n",
       "0  Художественный  Тачстоун Пикчерз, Кобальт Пикчерз, Бикон Пикче...   \n",
       "1  Художественный                              Киностудия \"Мосфильм\"   \n",
       "2  Художественный  Юниверсал Пикчерз, Кикстарт Продакшнз, Марк Пл...   \n",
       "3  Художественный                              Киностудия \"Мосфильм\"   \n",
       "4  Художественный                              Киностудия \"Мосфильм\"   \n",
       "\n",
       "  production_country           director  \\\n",
       "0                США      Кевин Костнер   \n",
       "1               СССР          Е.Матвеев   \n",
       "2                США  Тимур Бекмамбетов   \n",
       "3               СССР       В.Абдрашитов   \n",
       "4               СССР          В.Меньшов   \n",
       "\n",
       "                                            producer  \\\n",
       "0          Дэвид Валдес, Кевин Костнер, Джейк Эбертс   \n",
       "1                                                NaN   \n",
       "2  Джим Лемли, Джейсон Нетер, Марк Е.Платт, Яйн Смит   \n",
       "3                                                NaN   \n",
       "4                                                NaN   \n",
       "\n",
       "                   age_restriction  refundable_support  nonrefundable_support  \\\n",
       "0      «18+» - запрещено для детей                 NaN                    NaN   \n",
       "1    «6+» - для детей старше 6 лет                 NaN                    NaN   \n",
       "2      «18+» - запрещено для детей                 NaN                    NaN   \n",
       "3    «6+» - для детей старше 6 лет                 NaN                    NaN   \n",
       "4  «12+» - для детей старше 12 лет                 NaN                    NaN   \n",
       "\n",
       "   budget financing_source  ratings                     genres  box_office  \n",
       "0     NaN              NaN      7.2     боевик,драма,мелодрама         NaN  \n",
       "1     NaN              NaN      6.6              драма,военный         NaN  \n",
       "2     NaN              NaN      6.8  фантастика,боевик,триллер         NaN  \n",
       "3     NaN              NaN      7.7                      драма         NaN  \n",
       "4     NaN              NaN      8.3          мелодрама,комедия      2700.0  "
      ]
     },
     "execution_count": 14,
     "metadata": {},
     "output_type": "execute_result"
    }
   ],
   "source": [
    "movies.head() # we see that the film was especially dangerous as many as 3 times and became one"
   ]
  },
  {
   "cell_type": "code",
   "execution_count": 15,
   "metadata": {},
   "outputs": [
    {
     "data": {
      "text/plain": [
       "0"
      ]
     },
     "execution_count": 15,
     "metadata": {},
     "output_type": "execute_result"
    }
   ],
   "source": [
    "movies[\"puNumber\"].duplicated().sum() # there are only 2 duplicates\n"
   ]
  },
  {
   "cell_type": "code",
   "execution_count": 16,
   "metadata": {},
   "outputs": [],
   "source": [
    "# let's delete them\n",
    "movies[\"puNumber\"] =  movies.drop_duplicates(subset=\"puNumber\").reset_index(drop=True)"
   ]
  },
  {
   "cell_type": "code",
   "execution_count": 17,
   "metadata": {},
   "outputs": [
    {
     "data": {
      "text/plain": [
       "0"
      ]
     },
     "execution_count": 17,
     "metadata": {},
     "output_type": "execute_result"
    }
   ],
   "source": [
    "movies[\"puNumber\"].duplicated().sum()"
   ]
  },
  {
   "cell_type": "markdown",
   "metadata": {
    "id": "52fOPrEBgFyQ"
   },
   "source": [
    "#### Step 2.4. Explore categorical meanings\n",
    "\n",
    "- Let's see what common problem occurs in almost all categorical columns;\n",
    "- Fix the problematic values ​​in the field `type`.\n",
    "\n"
   ]
  },
  {
   "cell_type": "code",
   "execution_count": 18,
   "metadata": {
    "id": "PnXKIVdFgFyR"
   },
   "outputs": [],
   "source": [
    "# перезапишем данные\n",
    "movies['type'] = movies['type'].str.strip()"
   ]
  },
  {
   "cell_type": "code",
   "execution_count": 19,
   "metadata": {},
   "outputs": [
    {
     "data": {
      "text/plain": [
       "array(['Художественный', 'Анимационный', 'Прочие', 'Документальный',\n",
       "       'Научно-популярный', 'Музыкально-развлекательный'], dtype=object)"
      ]
     },
     "execution_count": 19,
     "metadata": {},
     "output_type": "execute_result"
    }
   ],
   "source": [
    "movies[\"type\"].unique()"
   ]
  },
  {
   "cell_type": "markdown",
   "metadata": {
    "id": "XFSN5lrEgFyR"
   },
   "source": [
    "#### Step 2.5. Let's check the quantitative values\n",
    "\n",
    "- Let's check if suspicious data was found in such columns. What is the best way to deal with such data?\n",
    "\n"
   ]
  },
  {
   "cell_type": "code",
   "execution_count": 20,
   "metadata": {
    "id": "YbzClBxagFyS"
   },
   "outputs": [
    {
     "data": {
      "text/plain": [
       "title                       0\n",
       "puNumber                    0\n",
       "show_start_date             0\n",
       "type                        0\n",
       "film_studio                17\n",
       "production_country          2\n",
       "director                    9\n",
       "producer                  559\n",
       "age_restriction             0\n",
       "refundable_support       6443\n",
       "nonrefundable_support    6443\n",
       "budget                   6443\n",
       "financing_source         6443\n",
       "ratings                   987\n",
       "genres                    967\n",
       "box_office               3755\n",
       "dtype: int64"
      ]
     },
     "execution_count": 20,
     "metadata": {},
     "output_type": "execute_result"
    }
   ],
   "source": [
    "movies.isna().sum()"
   ]
  },
  {
   "cell_type": "code",
   "execution_count": 21,
   "metadata": {},
   "outputs": [
    {
     "name": "stderr",
     "output_type": "stream",
     "text": [
      "/opt/conda/lib/python3.7/site-packages/ipykernel_launcher.py:3: SettingWithCopyWarning: \n",
      "A value is trying to be set on a copy of a slice from a DataFrame\n",
      "\n",
      "See the caveats in the documentation: http://pandas.pydata.org/pandas-docs/stable/user_guide/indexing.html#returning-a-view-versus-a-copy\n",
      "  This is separate from the ipykernel package so we can avoid doing imports until\n"
     ]
    }
   ],
   "source": [
    "# remove movies with total budget less than refundable_support + nonrefundable_support\n",
    "movies[\"Ft\"] = movies[\"budget\"] < movies[\"nonrefundable_support\"] + movies[\"refundable_support\"]\n",
    "movies[movies[\"Ft\"] ==True] = movies[movies[\"Ft\"] ==True].dropna(inplace=True)\n"
   ]
  },
  {
   "cell_type": "code",
   "execution_count": 22,
   "metadata": {},
   "outputs": [
    {
     "data": {
      "text/plain": [
       "title                    0\n",
       "puNumber                 0\n",
       "show_start_date          0\n",
       "type                     0\n",
       "film_studio              0\n",
       "production_country       0\n",
       "director                 0\n",
       "producer                 0\n",
       "age_restriction          0\n",
       "refundable_support       0\n",
       "nonrefundable_support    0\n",
       "budget                   0\n",
       "financing_source         0\n",
       "ratings                  0\n",
       "genres                   0\n",
       "box_office               0\n",
       "Ft                       0\n",
       "dtype: int64"
      ]
     },
     "execution_count": 22,
     "metadata": {},
     "output_type": "execute_result"
    }
   ],
   "source": [
    "movies[movies[\"Ft\"] ==True].count()"
   ]
  },
  {
   "cell_type": "markdown",
   "metadata": {},
   "source": [
    "It can be seen that there are a lot of gaps in the budget, financing_source, nonrefundable_support, refundable_support columns. Only 3% of the data has this information. This is understandable, people do not want to disclose this information. It seems to me that for the time being it is better not to touch this data"
   ]
  },
  {
   "cell_type": "markdown",
   "metadata": {
    "id": "Eu6oWp2CgFyS"
   },
   "source": [
    "#### Step 2.6. Add new columns\n",
    "\n",
    "\n",
    "\n"
   ]
  },
  {
   "cell_type": "markdown",
   "metadata": {
    "id": "7GgW-UpAgFyS"
   },
   "source": [
    "- Let's create a column with information about the rental year. Select the year from the movie's release date."
   ]
  },
  {
   "cell_type": "code",
   "execution_count": 23,
   "metadata": {},
   "outputs": [],
   "source": [
    "movies[\"genres\"] = movies[\"genres\"].replace(np.nan, 'None')"
   ]
  },
  {
   "cell_type": "code",
   "execution_count": 24,
   "metadata": {
    "id": "I-yd1DkWgFyT"
   },
   "outputs": [],
   "source": [
    "movies[\"year\"] = movies[\"show_start_date\"].dt.year\n"
   ]
  },
  {
   "cell_type": "code",
   "execution_count": 25,
   "metadata": {},
   "outputs": [
    {
     "data": {
      "text/html": [
       "<div>\n",
       "<style scoped>\n",
       "    .dataframe tbody tr th:only-of-type {\n",
       "        vertical-align: middle;\n",
       "    }\n",
       "\n",
       "    .dataframe tbody tr th {\n",
       "        vertical-align: top;\n",
       "    }\n",
       "\n",
       "    .dataframe thead th {\n",
       "        text-align: right;\n",
       "    }\n",
       "</style>\n",
       "<table border=\"1\" class=\"dataframe\">\n",
       "  <thead>\n",
       "    <tr style=\"text-align: right;\">\n",
       "      <th></th>\n",
       "      <th>title</th>\n",
       "      <th>puNumber</th>\n",
       "      <th>show_start_date</th>\n",
       "      <th>type</th>\n",
       "      <th>film_studio</th>\n",
       "      <th>production_country</th>\n",
       "      <th>director</th>\n",
       "      <th>producer</th>\n",
       "      <th>age_restriction</th>\n",
       "      <th>refundable_support</th>\n",
       "      <th>nonrefundable_support</th>\n",
       "      <th>budget</th>\n",
       "      <th>financing_source</th>\n",
       "      <th>ratings</th>\n",
       "      <th>genres</th>\n",
       "      <th>box_office</th>\n",
       "      <th>Ft</th>\n",
       "      <th>year</th>\n",
       "    </tr>\n",
       "  </thead>\n",
       "  <tbody>\n",
       "    <tr>\n",
       "      <td>0</td>\n",
       "      <td>Открытый простор</td>\n",
       "      <td>Открытый простор</td>\n",
       "      <td>2015-11-27 12:00:00+00:00</td>\n",
       "      <td>Художественный</td>\n",
       "      <td>Тачстоун Пикчерз, Кобальт Пикчерз, Бикон Пикче...</td>\n",
       "      <td>США</td>\n",
       "      <td>Кевин Костнер</td>\n",
       "      <td>Дэвид Валдес, Кевин Костнер, Джейк Эбертс</td>\n",
       "      <td>«18+» - запрещено для детей</td>\n",
       "      <td>NaN</td>\n",
       "      <td>NaN</td>\n",
       "      <td>NaN</td>\n",
       "      <td>NaN</td>\n",
       "      <td>7.2</td>\n",
       "      <td>боевик,драма,мелодрама</td>\n",
       "      <td>NaN</td>\n",
       "      <td>0.0</td>\n",
       "      <td>2015.0</td>\n",
       "    </tr>\n",
       "    <tr>\n",
       "      <td>1</td>\n",
       "      <td>Особо важное задание</td>\n",
       "      <td>Особо важное задание</td>\n",
       "      <td>2016-09-13 12:00:00+00:00</td>\n",
       "      <td>Художественный</td>\n",
       "      <td>Киностудия \"Мосфильм\"</td>\n",
       "      <td>СССР</td>\n",
       "      <td>Е.Матвеев</td>\n",
       "      <td>NaN</td>\n",
       "      <td>«6+» - для детей старше 6 лет</td>\n",
       "      <td>NaN</td>\n",
       "      <td>NaN</td>\n",
       "      <td>NaN</td>\n",
       "      <td>NaN</td>\n",
       "      <td>6.6</td>\n",
       "      <td>драма,военный</td>\n",
       "      <td>NaN</td>\n",
       "      <td>0.0</td>\n",
       "      <td>2016.0</td>\n",
       "    </tr>\n",
       "    <tr>\n",
       "      <td>2</td>\n",
       "      <td>Особо опасен</td>\n",
       "      <td>Особо опасен</td>\n",
       "      <td>2016-10-10 12:00:00+00:00</td>\n",
       "      <td>Художественный</td>\n",
       "      <td>Юниверсал Пикчерз, Кикстарт Продакшнз, Марк Пл...</td>\n",
       "      <td>США</td>\n",
       "      <td>Тимур Бекмамбетов</td>\n",
       "      <td>Джим Лемли, Джейсон Нетер, Марк Е.Платт, Яйн Смит</td>\n",
       "      <td>«18+» - запрещено для детей</td>\n",
       "      <td>NaN</td>\n",
       "      <td>NaN</td>\n",
       "      <td>NaN</td>\n",
       "      <td>NaN</td>\n",
       "      <td>6.8</td>\n",
       "      <td>фантастика,боевик,триллер</td>\n",
       "      <td>NaN</td>\n",
       "      <td>0.0</td>\n",
       "      <td>2016.0</td>\n",
       "    </tr>\n",
       "    <tr>\n",
       "      <td>3</td>\n",
       "      <td>Остановился поезд</td>\n",
       "      <td>Остановился поезд</td>\n",
       "      <td>2016-09-13 12:00:00+00:00</td>\n",
       "      <td>Художественный</td>\n",
       "      <td>Киностудия \"Мосфильм\"</td>\n",
       "      <td>СССР</td>\n",
       "      <td>В.Абдрашитов</td>\n",
       "      <td>NaN</td>\n",
       "      <td>«6+» - для детей старше 6 лет</td>\n",
       "      <td>NaN</td>\n",
       "      <td>NaN</td>\n",
       "      <td>NaN</td>\n",
       "      <td>NaN</td>\n",
       "      <td>7.7</td>\n",
       "      <td>драма</td>\n",
       "      <td>NaN</td>\n",
       "      <td>0.0</td>\n",
       "      <td>2016.0</td>\n",
       "    </tr>\n",
       "    <tr>\n",
       "      <td>4</td>\n",
       "      <td>Любовь и голуби</td>\n",
       "      <td>Любовь и голуби</td>\n",
       "      <td>2013-10-18 12:00:00+00:00</td>\n",
       "      <td>Художественный</td>\n",
       "      <td>Киностудия \"Мосфильм\"</td>\n",
       "      <td>СССР</td>\n",
       "      <td>В.Меньшов</td>\n",
       "      <td>NaN</td>\n",
       "      <td>«12+» - для детей старше 12 лет</td>\n",
       "      <td>NaN</td>\n",
       "      <td>NaN</td>\n",
       "      <td>NaN</td>\n",
       "      <td>NaN</td>\n",
       "      <td>8.3</td>\n",
       "      <td>мелодрама,комедия</td>\n",
       "      <td>2700.0</td>\n",
       "      <td>0.0</td>\n",
       "      <td>2013.0</td>\n",
       "    </tr>\n",
       "  </tbody>\n",
       "</table>\n",
       "</div>"
      ],
      "text/plain": [
       "                  title              puNumber           show_start_date  \\\n",
       "0      Открытый простор      Открытый простор 2015-11-27 12:00:00+00:00   \n",
       "1  Особо важное задание  Особо важное задание 2016-09-13 12:00:00+00:00   \n",
       "2          Особо опасен          Особо опасен 2016-10-10 12:00:00+00:00   \n",
       "3     Остановился поезд     Остановился поезд 2016-09-13 12:00:00+00:00   \n",
       "4       Любовь и голуби       Любовь и голуби 2013-10-18 12:00:00+00:00   \n",
       "\n",
       "             type                                        film_studio  \\\n",
       "0  Художественный  Тачстоун Пикчерз, Кобальт Пикчерз, Бикон Пикче...   \n",
       "1  Художественный                              Киностудия \"Мосфильм\"   \n",
       "2  Художественный  Юниверсал Пикчерз, Кикстарт Продакшнз, Марк Пл...   \n",
       "3  Художественный                              Киностудия \"Мосфильм\"   \n",
       "4  Художественный                              Киностудия \"Мосфильм\"   \n",
       "\n",
       "  production_country           director  \\\n",
       "0                США      Кевин Костнер   \n",
       "1               СССР          Е.Матвеев   \n",
       "2                США  Тимур Бекмамбетов   \n",
       "3               СССР       В.Абдрашитов   \n",
       "4               СССР          В.Меньшов   \n",
       "\n",
       "                                            producer  \\\n",
       "0          Дэвид Валдес, Кевин Костнер, Джейк Эбертс   \n",
       "1                                                NaN   \n",
       "2  Джим Лемли, Джейсон Нетер, Марк Е.Платт, Яйн Смит   \n",
       "3                                                NaN   \n",
       "4                                                NaN   \n",
       "\n",
       "                   age_restriction  refundable_support  nonrefundable_support  \\\n",
       "0      «18+» - запрещено для детей                 NaN                    NaN   \n",
       "1    «6+» - для детей старше 6 лет                 NaN                    NaN   \n",
       "2      «18+» - запрещено для детей                 NaN                    NaN   \n",
       "3    «6+» - для детей старше 6 лет                 NaN                    NaN   \n",
       "4  «12+» - для детей старше 12 лет                 NaN                    NaN   \n",
       "\n",
       "   budget financing_source  ratings                     genres  box_office  \\\n",
       "0     NaN              NaN      7.2     боевик,драма,мелодрама         NaN   \n",
       "1     NaN              NaN      6.6              драма,военный         NaN   \n",
       "2     NaN              NaN      6.8  фантастика,боевик,триллер         NaN   \n",
       "3     NaN              NaN      7.7                      драма         NaN   \n",
       "4     NaN              NaN      8.3          мелодрама,комедия      2700.0   \n",
       "\n",
       "    Ft    year  \n",
       "0  0.0  2015.0  \n",
       "1  0.0  2016.0  \n",
       "2  0.0  2016.0  \n",
       "3  0.0  2016.0  \n",
       "4  0.0  2013.0  "
      ]
     },
     "execution_count": 25,
     "metadata": {},
     "output_type": "execute_result"
    }
   ],
   "source": [
    "movies.head()"
   ]
  },
  {
   "cell_type": "code",
   "execution_count": 26,
   "metadata": {},
   "outputs": [
    {
     "name": "stdout",
     "output_type": "stream",
     "text": [
      "<class 'pandas.core.frame.DataFrame'>\n",
      "RangeIndex: 6772 entries, 0 to 6771\n",
      "Data columns (total 18 columns):\n",
      "title                    6755 non-null object\n",
      "puNumber                 6755 non-null object\n",
      "show_start_date          6755 non-null datetime64[ns, UTC]\n",
      "type                     6755 non-null object\n",
      "film_studio              6738 non-null object\n",
      "production_country       6753 non-null object\n",
      "director                 6746 non-null object\n",
      "producer                 6196 non-null object\n",
      "age_restriction          6755 non-null object\n",
      "refundable_support       312 non-null float64\n",
      "nonrefundable_support    312 non-null float64\n",
      "budget                   312 non-null float64\n",
      "financing_source         312 non-null object\n",
      "ratings                  5769 non-null float64\n",
      "genres                   6772 non-null object\n",
      "box_office               3000 non-null float64\n",
      "Ft                       6755 non-null float64\n",
      "year                     6755 non-null float64\n",
      "dtypes: datetime64[ns, UTC](1), float64(7), object(10)\n",
      "memory usage: 952.4+ KB\n"
     ]
    }
   ],
   "source": [
    "movies.info()"
   ]
  },
  {
   "cell_type": "markdown",
   "metadata": {
    "id": "1FsCXHwdgFyU"
   },
   "source": [
    "- Let's calculate what share of the total budget of the film is government support."
   ]
  },
  {
   "cell_type": "code",
   "execution_count": 27,
   "metadata": {
    "id": "LV6qFuZLgFyV"
   },
   "outputs": [],
   "source": [
    "movies[\"goc_help\"] = movies[\"nonrefundable_support\"] + movies[\"refundable_support\"]/movies[\"budget\"]\n",
    "\n",
    "movies[\"main_genre\"] = movies[\"genres\"].apply(lambda x: x.split(',')[0])\n",
    "\n",
    "movies= movies[movies['director'].notnull()]\n",
    "\n",
    "movies[\"main_director\"] = movies[\"director\"].apply(lambda x: x.split(\",\")[0])"
   ]
  },
  {
   "cell_type": "code",
   "execution_count": 28,
   "metadata": {},
   "outputs": [
    {
     "data": {
      "text/html": [
       "<div>\n",
       "<style scoped>\n",
       "    .dataframe tbody tr th:only-of-type {\n",
       "        vertical-align: middle;\n",
       "    }\n",
       "\n",
       "    .dataframe tbody tr th {\n",
       "        vertical-align: top;\n",
       "    }\n",
       "\n",
       "    .dataframe thead th {\n",
       "        text-align: right;\n",
       "    }\n",
       "</style>\n",
       "<table border=\"1\" class=\"dataframe\">\n",
       "  <thead>\n",
       "    <tr style=\"text-align: right;\">\n",
       "      <th></th>\n",
       "      <th>title</th>\n",
       "      <th>puNumber</th>\n",
       "      <th>show_start_date</th>\n",
       "      <th>type</th>\n",
       "      <th>film_studio</th>\n",
       "      <th>production_country</th>\n",
       "      <th>director</th>\n",
       "      <th>producer</th>\n",
       "      <th>age_restriction</th>\n",
       "      <th>refundable_support</th>\n",
       "      <th>...</th>\n",
       "      <th>budget</th>\n",
       "      <th>financing_source</th>\n",
       "      <th>ratings</th>\n",
       "      <th>genres</th>\n",
       "      <th>box_office</th>\n",
       "      <th>Ft</th>\n",
       "      <th>year</th>\n",
       "      <th>goc_help</th>\n",
       "      <th>main_genre</th>\n",
       "      <th>main_director</th>\n",
       "    </tr>\n",
       "  </thead>\n",
       "  <tbody>\n",
       "    <tr>\n",
       "      <td>0</td>\n",
       "      <td>Открытый простор</td>\n",
       "      <td>Открытый простор</td>\n",
       "      <td>2015-11-27 12:00:00+00:00</td>\n",
       "      <td>Художественный</td>\n",
       "      <td>Тачстоун Пикчерз, Кобальт Пикчерз, Бикон Пикче...</td>\n",
       "      <td>США</td>\n",
       "      <td>Кевин Костнер</td>\n",
       "      <td>Дэвид Валдес, Кевин Костнер, Джейк Эбертс</td>\n",
       "      <td>«18+» - запрещено для детей</td>\n",
       "      <td>NaN</td>\n",
       "      <td>...</td>\n",
       "      <td>NaN</td>\n",
       "      <td>NaN</td>\n",
       "      <td>7.2</td>\n",
       "      <td>боевик,драма,мелодрама</td>\n",
       "      <td>NaN</td>\n",
       "      <td>0.0</td>\n",
       "      <td>2015.0</td>\n",
       "      <td>NaN</td>\n",
       "      <td>боевик</td>\n",
       "      <td>Кевин Костнер</td>\n",
       "    </tr>\n",
       "    <tr>\n",
       "      <td>1</td>\n",
       "      <td>Особо важное задание</td>\n",
       "      <td>Особо важное задание</td>\n",
       "      <td>2016-09-13 12:00:00+00:00</td>\n",
       "      <td>Художественный</td>\n",
       "      <td>Киностудия \"Мосфильм\"</td>\n",
       "      <td>СССР</td>\n",
       "      <td>Е.Матвеев</td>\n",
       "      <td>NaN</td>\n",
       "      <td>«6+» - для детей старше 6 лет</td>\n",
       "      <td>NaN</td>\n",
       "      <td>...</td>\n",
       "      <td>NaN</td>\n",
       "      <td>NaN</td>\n",
       "      <td>6.6</td>\n",
       "      <td>драма,военный</td>\n",
       "      <td>NaN</td>\n",
       "      <td>0.0</td>\n",
       "      <td>2016.0</td>\n",
       "      <td>NaN</td>\n",
       "      <td>драма</td>\n",
       "      <td>Е.Матвеев</td>\n",
       "    </tr>\n",
       "    <tr>\n",
       "      <td>2</td>\n",
       "      <td>Особо опасен</td>\n",
       "      <td>Особо опасен</td>\n",
       "      <td>2016-10-10 12:00:00+00:00</td>\n",
       "      <td>Художественный</td>\n",
       "      <td>Юниверсал Пикчерз, Кикстарт Продакшнз, Марк Пл...</td>\n",
       "      <td>США</td>\n",
       "      <td>Тимур Бекмамбетов</td>\n",
       "      <td>Джим Лемли, Джейсон Нетер, Марк Е.Платт, Яйн Смит</td>\n",
       "      <td>«18+» - запрещено для детей</td>\n",
       "      <td>NaN</td>\n",
       "      <td>...</td>\n",
       "      <td>NaN</td>\n",
       "      <td>NaN</td>\n",
       "      <td>6.8</td>\n",
       "      <td>фантастика,боевик,триллер</td>\n",
       "      <td>NaN</td>\n",
       "      <td>0.0</td>\n",
       "      <td>2016.0</td>\n",
       "      <td>NaN</td>\n",
       "      <td>фантастика</td>\n",
       "      <td>Тимур Бекмамбетов</td>\n",
       "    </tr>\n",
       "    <tr>\n",
       "      <td>3</td>\n",
       "      <td>Остановился поезд</td>\n",
       "      <td>Остановился поезд</td>\n",
       "      <td>2016-09-13 12:00:00+00:00</td>\n",
       "      <td>Художественный</td>\n",
       "      <td>Киностудия \"Мосфильм\"</td>\n",
       "      <td>СССР</td>\n",
       "      <td>В.Абдрашитов</td>\n",
       "      <td>NaN</td>\n",
       "      <td>«6+» - для детей старше 6 лет</td>\n",
       "      <td>NaN</td>\n",
       "      <td>...</td>\n",
       "      <td>NaN</td>\n",
       "      <td>NaN</td>\n",
       "      <td>7.7</td>\n",
       "      <td>драма</td>\n",
       "      <td>NaN</td>\n",
       "      <td>0.0</td>\n",
       "      <td>2016.0</td>\n",
       "      <td>NaN</td>\n",
       "      <td>драма</td>\n",
       "      <td>В.Абдрашитов</td>\n",
       "    </tr>\n",
       "    <tr>\n",
       "      <td>4</td>\n",
       "      <td>Любовь и голуби</td>\n",
       "      <td>Любовь и голуби</td>\n",
       "      <td>2013-10-18 12:00:00+00:00</td>\n",
       "      <td>Художественный</td>\n",
       "      <td>Киностудия \"Мосфильм\"</td>\n",
       "      <td>СССР</td>\n",
       "      <td>В.Меньшов</td>\n",
       "      <td>NaN</td>\n",
       "      <td>«12+» - для детей старше 12 лет</td>\n",
       "      <td>NaN</td>\n",
       "      <td>...</td>\n",
       "      <td>NaN</td>\n",
       "      <td>NaN</td>\n",
       "      <td>8.3</td>\n",
       "      <td>мелодрама,комедия</td>\n",
       "      <td>2700.0</td>\n",
       "      <td>0.0</td>\n",
       "      <td>2013.0</td>\n",
       "      <td>NaN</td>\n",
       "      <td>мелодрама</td>\n",
       "      <td>В.Меньшов</td>\n",
       "    </tr>\n",
       "    <tr>\n",
       "      <td>5</td>\n",
       "      <td>Любовь и сигареты</td>\n",
       "      <td>Любовь и сигареты</td>\n",
       "      <td>2014-12-29 12:00:00+00:00</td>\n",
       "      <td>Художественный</td>\n",
       "      <td>Юнайтед Артистс, Грин Стрит Филмз, Айкон Интер...</td>\n",
       "      <td>США</td>\n",
       "      <td>Джон Туртурро</td>\n",
       "      <td>Джон Пенотти, Джон Туртурро</td>\n",
       "      <td>«18+» - запрещено для детей</td>\n",
       "      <td>NaN</td>\n",
       "      <td>...</td>\n",
       "      <td>NaN</td>\n",
       "      <td>NaN</td>\n",
       "      <td>6.6</td>\n",
       "      <td>мюзикл,мелодрама,комедия</td>\n",
       "      <td>NaN</td>\n",
       "      <td>0.0</td>\n",
       "      <td>2014.0</td>\n",
       "      <td>NaN</td>\n",
       "      <td>мюзикл</td>\n",
       "      <td>Джон Туртурро</td>\n",
       "    </tr>\n",
       "    <tr>\n",
       "      <td>6</td>\n",
       "      <td>Отпетые мошенники.</td>\n",
       "      <td>Отпетые мошенники.</td>\n",
       "      <td>2016-05-05 12:00:00+00:00</td>\n",
       "      <td>Художественный</td>\n",
       "      <td>Пульсар Продюксьон, ТФ1 Фильм</td>\n",
       "      <td>Франция</td>\n",
       "      <td>Эрик Беснард</td>\n",
       "      <td>Патрис Леду</td>\n",
       "      <td>«18+» - запрещено для детей</td>\n",
       "      <td>NaN</td>\n",
       "      <td>...</td>\n",
       "      <td>NaN</td>\n",
       "      <td>NaN</td>\n",
       "      <td>8.0</td>\n",
       "      <td>комедия,криминал</td>\n",
       "      <td>NaN</td>\n",
       "      <td>0.0</td>\n",
       "      <td>2016.0</td>\n",
       "      <td>NaN</td>\n",
       "      <td>комедия</td>\n",
       "      <td>Эрик Беснард</td>\n",
       "    </tr>\n",
       "    <tr>\n",
       "      <td>7</td>\n",
       "      <td>Отпуск за свой счет</td>\n",
       "      <td>Отпуск за свой счет</td>\n",
       "      <td>2014-12-01 12:00:00+00:00</td>\n",
       "      <td>Художественный</td>\n",
       "      <td>Киностудия \"Мосфильм\", Телевидение ВНР</td>\n",
       "      <td>СССР, Венгрия</td>\n",
       "      <td>В.Титов</td>\n",
       "      <td>NaN</td>\n",
       "      <td>«12+» - для детей старше 12 лет</td>\n",
       "      <td>NaN</td>\n",
       "      <td>...</td>\n",
       "      <td>NaN</td>\n",
       "      <td>NaN</td>\n",
       "      <td>7.8</td>\n",
       "      <td>мелодрама,комедия</td>\n",
       "      <td>NaN</td>\n",
       "      <td>0.0</td>\n",
       "      <td>2014.0</td>\n",
       "      <td>NaN</td>\n",
       "      <td>мелодрама</td>\n",
       "      <td>В.Титов</td>\n",
       "    </tr>\n",
       "    <tr>\n",
       "      <td>8</td>\n",
       "      <td>Превосходство Борна /По одноименной новелле Ро...</td>\n",
       "      <td>Превосходство Борна /По одноименной новелле Ро...</td>\n",
       "      <td>2016-06-29 12:00:00+00:00</td>\n",
       "      <td>Художественный</td>\n",
       "      <td>Кеннеди/Маршал Компани, Юниверсал Пикчерз, Гип...</td>\n",
       "      <td>США</td>\n",
       "      <td>Пол Грингросс</td>\n",
       "      <td>Патрик Кроули, Фрэнк Маршалл, Пол Сэндберг</td>\n",
       "      <td>«16+» - для детей старше 16 лет</td>\n",
       "      <td>NaN</td>\n",
       "      <td>...</td>\n",
       "      <td>NaN</td>\n",
       "      <td>NaN</td>\n",
       "      <td>7.7</td>\n",
       "      <td>боевик,триллер,детектив</td>\n",
       "      <td>NaN</td>\n",
       "      <td>0.0</td>\n",
       "      <td>2016.0</td>\n",
       "      <td>NaN</td>\n",
       "      <td>боевик</td>\n",
       "      <td>Пол Грингросс</td>\n",
       "    </tr>\n",
       "    <tr>\n",
       "      <td>9</td>\n",
       "      <td>Ответный ход</td>\n",
       "      <td>Ответный ход</td>\n",
       "      <td>2014-12-01 12:00:00+00:00</td>\n",
       "      <td>Художественный</td>\n",
       "      <td>Киностудия \"Мосфильм\"</td>\n",
       "      <td>СССР</td>\n",
       "      <td>М.Туманишвили</td>\n",
       "      <td>NaN</td>\n",
       "      <td>«12+» - для детей старше 12 лет</td>\n",
       "      <td>NaN</td>\n",
       "      <td>...</td>\n",
       "      <td>NaN</td>\n",
       "      <td>NaN</td>\n",
       "      <td>7.8</td>\n",
       "      <td>боевик,драма,приключения</td>\n",
       "      <td>NaN</td>\n",
       "      <td>0.0</td>\n",
       "      <td>2014.0</td>\n",
       "      <td>NaN</td>\n",
       "      <td>боевик</td>\n",
       "      <td>М.Туманишвили</td>\n",
       "    </tr>\n",
       "    <tr>\n",
       "      <td>10</td>\n",
       "      <td>Малышка на миллион /По мотивам рассказов Ф.Х.Т...</td>\n",
       "      <td>Малышка на миллион /По мотивам рассказов Ф.Х.Т...</td>\n",
       "      <td>2015-04-03 12:00:00+00:00</td>\n",
       "      <td>Художественный</td>\n",
       "      <td>Уорнер Бразерс, Лейкшор Интертейнмент, Малпасо...</td>\n",
       "      <td>США</td>\n",
       "      <td>Клинт Иствуд</td>\n",
       "      <td>Клинт Иствуд, Том Розенберг, Альберт С.Рудди, ...</td>\n",
       "      <td>«16+» - для детей старше 16 лет</td>\n",
       "      <td>NaN</td>\n",
       "      <td>...</td>\n",
       "      <td>NaN</td>\n",
       "      <td>NaN</td>\n",
       "      <td>8.1</td>\n",
       "      <td>драма,спорт</td>\n",
       "      <td>NaN</td>\n",
       "      <td>0.0</td>\n",
       "      <td>2015.0</td>\n",
       "      <td>NaN</td>\n",
       "      <td>драма</td>\n",
       "      <td>Клинт Иствуд</td>\n",
       "    </tr>\n",
       "    <tr>\n",
       "      <td>11</td>\n",
       "      <td>Преданный садовник</td>\n",
       "      <td>Преданный садовник</td>\n",
       "      <td>2013-08-26 12:00:00+00:00</td>\n",
       "      <td>Художественный</td>\n",
       "      <td>Потбойлер Продакшнз, Эпсилон Моушн Пикчерз, Ск...</td>\n",
       "      <td>Германия-Великобритания</td>\n",
       "      <td>Фернанду Мейрелльеш</td>\n",
       "      <td>Саймон Чэннинг Уильямс</td>\n",
       "      <td>«16+» - для детей старше 16 лет</td>\n",
       "      <td>NaN</td>\n",
       "      <td>...</td>\n",
       "      <td>NaN</td>\n",
       "      <td>NaN</td>\n",
       "      <td>7.1</td>\n",
       "      <td>триллер,драма,мелодрама</td>\n",
       "      <td>NaN</td>\n",
       "      <td>0.0</td>\n",
       "      <td>2013.0</td>\n",
       "      <td>NaN</td>\n",
       "      <td>триллер</td>\n",
       "      <td>Фернанду Мейрелльеш</td>\n",
       "    </tr>\n",
       "    <tr>\n",
       "      <td>12</td>\n",
       "      <td>Отель /По мотивам пьесы Джона Уэбстера/</td>\n",
       "      <td>Отель /По мотивам пьесы Джона Уэбстера/</td>\n",
       "      <td>2012-01-27 12:00:00+00:00</td>\n",
       "      <td>Художественный</td>\n",
       "      <td>Кэтлей, Отель Продакшнс, Мунстоун Интертейнмен...</td>\n",
       "      <td>Великобритания - Италия</td>\n",
       "      <td>Майк Фиггис</td>\n",
       "      <td>Этчи Стро, Анни Стюарт, Майк Фиггис</td>\n",
       "      <td>«18+» - запрещено для детей</td>\n",
       "      <td>NaN</td>\n",
       "      <td>...</td>\n",
       "      <td>NaN</td>\n",
       "      <td>NaN</td>\n",
       "      <td>6.0</td>\n",
       "      <td>комедия,мелодрама</td>\n",
       "      <td>NaN</td>\n",
       "      <td>0.0</td>\n",
       "      <td>2012.0</td>\n",
       "      <td>NaN</td>\n",
       "      <td>комедия</td>\n",
       "      <td>Майк Фиггис</td>\n",
       "    </tr>\n",
       "    <tr>\n",
       "      <td>13</td>\n",
       "      <td>Председатель</td>\n",
       "      <td>Председатель</td>\n",
       "      <td>2016-09-13 12:00:00+00:00</td>\n",
       "      <td>Художественный</td>\n",
       "      <td>Киностудия \"Мосфильм\"</td>\n",
       "      <td>СССР</td>\n",
       "      <td>А.Салтыков</td>\n",
       "      <td>NaN</td>\n",
       "      <td>«12+» - для детей старше 12 лет</td>\n",
       "      <td>NaN</td>\n",
       "      <td>...</td>\n",
       "      <td>NaN</td>\n",
       "      <td>NaN</td>\n",
       "      <td>8.3</td>\n",
       "      <td>драма</td>\n",
       "      <td>NaN</td>\n",
       "      <td>0.0</td>\n",
       "      <td>2016.0</td>\n",
       "      <td>NaN</td>\n",
       "      <td>драма</td>\n",
       "      <td>А.Салтыков</td>\n",
       "    </tr>\n",
       "    <tr>\n",
       "      <td>14</td>\n",
       "      <td>Осенний марафон</td>\n",
       "      <td>Осенний марафон</td>\n",
       "      <td>2013-10-18 12:00:00+00:00</td>\n",
       "      <td>Художественный</td>\n",
       "      <td>Киностудия \"Мосфильм\"</td>\n",
       "      <td>СССР</td>\n",
       "      <td>Г.Данелия</td>\n",
       "      <td>NaN</td>\n",
       "      <td>«12+» - для детей старше 12 лет</td>\n",
       "      <td>NaN</td>\n",
       "      <td>...</td>\n",
       "      <td>NaN</td>\n",
       "      <td>NaN</td>\n",
       "      <td>8.0</td>\n",
       "      <td>драма,мелодрама,комедия</td>\n",
       "      <td>NaN</td>\n",
       "      <td>0.0</td>\n",
       "      <td>2013.0</td>\n",
       "      <td>NaN</td>\n",
       "      <td>драма</td>\n",
       "      <td>Г.Данелия</td>\n",
       "    </tr>\n",
       "    <tr>\n",
       "      <td>15</td>\n",
       "      <td>Осень</td>\n",
       "      <td>Осень</td>\n",
       "      <td>2014-12-24 12:00:00+00:00</td>\n",
       "      <td>Художественный</td>\n",
       "      <td>Киностудия \"Мосфильм\"</td>\n",
       "      <td>СССР</td>\n",
       "      <td>А.Смирнов</td>\n",
       "      <td>NaN</td>\n",
       "      <td>«12+» - для детей старше 12 лет</td>\n",
       "      <td>NaN</td>\n",
       "      <td>...</td>\n",
       "      <td>NaN</td>\n",
       "      <td>NaN</td>\n",
       "      <td>7.4</td>\n",
       "      <td>драма,мелодрама</td>\n",
       "      <td>NaN</td>\n",
       "      <td>0.0</td>\n",
       "      <td>2014.0</td>\n",
       "      <td>NaN</td>\n",
       "      <td>драма</td>\n",
       "      <td>А.Смирнов</td>\n",
       "    </tr>\n",
       "    <tr>\n",
       "      <td>16</td>\n",
       "      <td>Неподдающиеся</td>\n",
       "      <td>Неподдающиеся</td>\n",
       "      <td>2016-02-12 12:00:00+00:00</td>\n",
       "      <td>Художественный</td>\n",
       "      <td>Киностудия \"Мосфильм\"</td>\n",
       "      <td>СССР</td>\n",
       "      <td>Ю.Чулюкин</td>\n",
       "      <td>NaN</td>\n",
       "      <td>«6+» - для детей старше 6 лет</td>\n",
       "      <td>NaN</td>\n",
       "      <td>...</td>\n",
       "      <td>NaN</td>\n",
       "      <td>NaN</td>\n",
       "      <td>8.0</td>\n",
       "      <td>мелодрама,комедия</td>\n",
       "      <td>360.0</td>\n",
       "      <td>0.0</td>\n",
       "      <td>2016.0</td>\n",
       "      <td>NaN</td>\n",
       "      <td>мелодрама</td>\n",
       "      <td>Ю.Чулюкин</td>\n",
       "    </tr>\n",
       "    <tr>\n",
       "      <td>17</td>\n",
       "      <td>Неподсуден</td>\n",
       "      <td>Неподсуден</td>\n",
       "      <td>2016-02-12 12:00:00+00:00</td>\n",
       "      <td>Художественный</td>\n",
       "      <td>Киностудия \"Мосфильм\"</td>\n",
       "      <td>СССР</td>\n",
       "      <td>В.Краснопольский, В.Усков</td>\n",
       "      <td>NaN</td>\n",
       "      <td>«6+» - для детей старше 6 лет</td>\n",
       "      <td>NaN</td>\n",
       "      <td>...</td>\n",
       "      <td>NaN</td>\n",
       "      <td>NaN</td>\n",
       "      <td>7.7</td>\n",
       "      <td>драма</td>\n",
       "      <td>420.0</td>\n",
       "      <td>0.0</td>\n",
       "      <td>2016.0</td>\n",
       "      <td>NaN</td>\n",
       "      <td>драма</td>\n",
       "      <td>В.Краснопольский</td>\n",
       "    </tr>\n",
       "    <tr>\n",
       "      <td>18</td>\n",
       "      <td>Незабываемый 1919-й год</td>\n",
       "      <td>Незабываемый 1919-й год</td>\n",
       "      <td>2016-02-12 12:00:00+00:00</td>\n",
       "      <td>Художественный</td>\n",
       "      <td>Киностудия \"Мосфильм\"</td>\n",
       "      <td>СССР</td>\n",
       "      <td>М.Чиаурели</td>\n",
       "      <td>NaN</td>\n",
       "      <td>«12+» - для детей старше 12 лет</td>\n",
       "      <td>NaN</td>\n",
       "      <td>...</td>\n",
       "      <td>NaN</td>\n",
       "      <td>NaN</td>\n",
       "      <td>5.8</td>\n",
       "      <td>драма,история</td>\n",
       "      <td>NaN</td>\n",
       "      <td>0.0</td>\n",
       "      <td>2016.0</td>\n",
       "      <td>NaN</td>\n",
       "      <td>драма</td>\n",
       "      <td>М.Чиаурели</td>\n",
       "    </tr>\n",
       "    <tr>\n",
       "      <td>19</td>\n",
       "      <td>Незаконченная жизнь</td>\n",
       "      <td>Незаконченная жизнь</td>\n",
       "      <td>2015-05-06 12:00:00+00:00</td>\n",
       "      <td>Художественный</td>\n",
       "      <td>Инишиэл Интертейнмент Групп, Мирамакс Филмз, П...</td>\n",
       "      <td>США</td>\n",
       "      <td>Лассе Халлстрем</td>\n",
       "      <td>Лесли Холлеран, Алан Лэдд мл., Келлиан Лэдд, Х...</td>\n",
       "      <td>«12+» - для детей старше 12 лет</td>\n",
       "      <td>NaN</td>\n",
       "      <td>...</td>\n",
       "      <td>NaN</td>\n",
       "      <td>NaN</td>\n",
       "      <td>7.2</td>\n",
       "      <td>драма,мелодрама,семейный</td>\n",
       "      <td>NaN</td>\n",
       "      <td>0.0</td>\n",
       "      <td>2015.0</td>\n",
       "      <td>NaN</td>\n",
       "      <td>драма</td>\n",
       "      <td>Лассе Халлстрем</td>\n",
       "    </tr>\n",
       "    <tr>\n",
       "      <td>20</td>\n",
       "      <td>Операция \"Ы\" и другие приключения Шурика</td>\n",
       "      <td>Операция \"Ы\" и другие приключения Шурика</td>\n",
       "      <td>2013-10-18 12:00:00+00:00</td>\n",
       "      <td>Художественный</td>\n",
       "      <td>Киностудия \"Мосфильм\"</td>\n",
       "      <td>СССР</td>\n",
       "      <td>Л.Гайдай</td>\n",
       "      <td>NaN</td>\n",
       "      <td>«6+» - для детей старше 6 лет</td>\n",
       "      <td>NaN</td>\n",
       "      <td>...</td>\n",
       "      <td>NaN</td>\n",
       "      <td>NaN</td>\n",
       "      <td>8.7</td>\n",
       "      <td>комедия,мелодрама,криминал</td>\n",
       "      <td>380.0</td>\n",
       "      <td>0.0</td>\n",
       "      <td>2013.0</td>\n",
       "      <td>NaN</td>\n",
       "      <td>комедия</td>\n",
       "      <td>Л.Гайдай</td>\n",
       "    </tr>\n",
       "    <tr>\n",
       "      <td>21</td>\n",
       "      <td>Неизвестные страницы из жизни разведчика</td>\n",
       "      <td>Неизвестные страницы из жизни разведчика</td>\n",
       "      <td>2016-02-12 12:00:00+00:00</td>\n",
       "      <td>Художественный</td>\n",
       "      <td>Киностудия \"Мосфильм\"</td>\n",
       "      <td>СССР</td>\n",
       "      <td>В.Чеботарев</td>\n",
       "      <td>NaN</td>\n",
       "      <td>«12+» - для детей старше 12 лет</td>\n",
       "      <td>NaN</td>\n",
       "      <td>...</td>\n",
       "      <td>NaN</td>\n",
       "      <td>NaN</td>\n",
       "      <td>6.3</td>\n",
       "      <td>драма,военный</td>\n",
       "      <td>NaN</td>\n",
       "      <td>0.0</td>\n",
       "      <td>2016.0</td>\n",
       "      <td>NaN</td>\n",
       "      <td>драма</td>\n",
       "      <td>В.Чеботарев</td>\n",
       "    </tr>\n",
       "    <tr>\n",
       "      <td>22</td>\n",
       "      <td>Неисправимый лгун</td>\n",
       "      <td>Неисправимый лгун</td>\n",
       "      <td>2016-02-12 12:00:00+00:00</td>\n",
       "      <td>Художественный</td>\n",
       "      <td>Киностудия \"Мосфильм\"</td>\n",
       "      <td>СССР</td>\n",
       "      <td>В.Азаров</td>\n",
       "      <td>NaN</td>\n",
       "      <td>«6+» - для детей старше 6 лет</td>\n",
       "      <td>NaN</td>\n",
       "      <td>...</td>\n",
       "      <td>NaN</td>\n",
       "      <td>NaN</td>\n",
       "      <td>7.7</td>\n",
       "      <td>комедия</td>\n",
       "      <td>NaN</td>\n",
       "      <td>0.0</td>\n",
       "      <td>2016.0</td>\n",
       "      <td>NaN</td>\n",
       "      <td>комедия</td>\n",
       "      <td>В.Азаров</td>\n",
       "    </tr>\n",
       "    <tr>\n",
       "      <td>23</td>\n",
       "      <td>Призрак замка Моррисвиль</td>\n",
       "      <td>Призрак замка Моррисвиль</td>\n",
       "      <td>2014-12-29 12:00:00+00:00</td>\n",
       "      <td>Художественный</td>\n",
       "      <td>Фильмове Студио Баррандов</td>\n",
       "      <td>Чехословакия</td>\n",
       "      <td>Боривой Земан</td>\n",
       "      <td>NaN</td>\n",
       "      <td>«12+» - для детей старше 12 лет</td>\n",
       "      <td>NaN</td>\n",
       "      <td>...</td>\n",
       "      <td>NaN</td>\n",
       "      <td>NaN</td>\n",
       "      <td>7.7</td>\n",
       "      <td>комедия</td>\n",
       "      <td>NaN</td>\n",
       "      <td>0.0</td>\n",
       "      <td>2014.0</td>\n",
       "      <td>NaN</td>\n",
       "      <td>комедия</td>\n",
       "      <td>Боривой Земан</td>\n",
       "    </tr>\n",
       "    <tr>\n",
       "      <td>24</td>\n",
       "      <td>Оружейный барон</td>\n",
       "      <td>Оружейный барон</td>\n",
       "      <td>2015-04-03 12:00:00+00:00</td>\n",
       "      <td>Художественный</td>\n",
       "      <td>Вэ И Пэ Медиенфондс 3, Асендант Пикчерз, Сатур...</td>\n",
       "      <td>США - Франция - Турция</td>\n",
       "      <td>Эндрю Никкол</td>\n",
       "      <td>Норман Голуайтли, Энди Грош, Николас Кейдж, Эн...</td>\n",
       "      <td>«18+» - запрещено для детей</td>\n",
       "      <td>NaN</td>\n",
       "      <td>...</td>\n",
       "      <td>NaN</td>\n",
       "      <td>NaN</td>\n",
       "      <td>7.7</td>\n",
       "      <td>боевик,драма,криминал</td>\n",
       "      <td>NaN</td>\n",
       "      <td>0.0</td>\n",
       "      <td>2015.0</td>\n",
       "      <td>NaN</td>\n",
       "      <td>боевик</td>\n",
       "      <td>Эндрю Никкол</td>\n",
       "    </tr>\n",
       "    <tr>\n",
       "      <td>25</td>\n",
       "      <td>Отставной козы барабанщик</td>\n",
       "      <td>Отставной козы барабанщик</td>\n",
       "      <td>2014-12-24 12:00:00+00:00</td>\n",
       "      <td>Художественный</td>\n",
       "      <td>Киностудия \"Мосфильм\"</td>\n",
       "      <td>СССР</td>\n",
       "      <td>Г.Мыльников</td>\n",
       "      <td>NaN</td>\n",
       "      <td>«6+» - для детей старше 6 лет</td>\n",
       "      <td>NaN</td>\n",
       "      <td>...</td>\n",
       "      <td>NaN</td>\n",
       "      <td>NaN</td>\n",
       "      <td>6.9</td>\n",
       "      <td>драма,комедия</td>\n",
       "      <td>NaN</td>\n",
       "      <td>0.0</td>\n",
       "      <td>2014.0</td>\n",
       "      <td>NaN</td>\n",
       "      <td>драма</td>\n",
       "      <td>Г.Мыльников</td>\n",
       "    </tr>\n",
       "    <tr>\n",
       "      <td>26</td>\n",
       "      <td>Паршивая овца</td>\n",
       "      <td>Паршивая овца</td>\n",
       "      <td>2015-04-03 12:00:00+00:00</td>\n",
       "      <td>Художественный</td>\n",
       "      <td>Лайв Сток Филмз, Нью Зиланд Филм Комишн</td>\n",
       "      <td>Новая Зеландия</td>\n",
       "      <td>Джонатан Кинг</td>\n",
       "      <td>Филиппа Кемпбелл</td>\n",
       "      <td>«18+» - запрещено для детей</td>\n",
       "      <td>NaN</td>\n",
       "      <td>...</td>\n",
       "      <td>NaN</td>\n",
       "      <td>NaN</td>\n",
       "      <td>5.0</td>\n",
       "      <td>ужасы,фантастика,комедия</td>\n",
       "      <td>NaN</td>\n",
       "      <td>0.0</td>\n",
       "      <td>2015.0</td>\n",
       "      <td>NaN</td>\n",
       "      <td>ужасы</td>\n",
       "      <td>Джонатан Кинг</td>\n",
       "    </tr>\n",
       "    <tr>\n",
       "      <td>27</td>\n",
       "      <td>Плюмбум, или Опасная игра</td>\n",
       "      <td>Плюмбум, или Опасная игра</td>\n",
       "      <td>2016-09-13 12:00:00+00:00</td>\n",
       "      <td>Художественный</td>\n",
       "      <td>Киностудия \"Мосфильм\"</td>\n",
       "      <td>СССР</td>\n",
       "      <td>В.Абдрашитов</td>\n",
       "      <td>NaN</td>\n",
       "      <td>«16+» - для детей старше 16 лет</td>\n",
       "      <td>NaN</td>\n",
       "      <td>...</td>\n",
       "      <td>NaN</td>\n",
       "      <td>NaN</td>\n",
       "      <td>6.9</td>\n",
       "      <td>драма</td>\n",
       "      <td>NaN</td>\n",
       "      <td>0.0</td>\n",
       "      <td>2016.0</td>\n",
       "      <td>NaN</td>\n",
       "      <td>драма</td>\n",
       "      <td>В.Абдрашитов</td>\n",
       "    </tr>\n",
       "    <tr>\n",
       "      <td>28</td>\n",
       "      <td>Первое свидание</td>\n",
       "      <td>Первое свидание</td>\n",
       "      <td>2014-12-01 12:00:00+00:00</td>\n",
       "      <td>Художественный</td>\n",
       "      <td>Киностудия \"Мосфильм\"</td>\n",
       "      <td>СССР</td>\n",
       "      <td>И.Бабич</td>\n",
       "      <td>NaN</td>\n",
       "      <td>«12+» - для детей старше 12 лет</td>\n",
       "      <td>NaN</td>\n",
       "      <td>...</td>\n",
       "      <td>NaN</td>\n",
       "      <td>NaN</td>\n",
       "      <td>7.4</td>\n",
       "      <td>мультфильм,короткометражка,мелодрама</td>\n",
       "      <td>NaN</td>\n",
       "      <td>0.0</td>\n",
       "      <td>2014.0</td>\n",
       "      <td>NaN</td>\n",
       "      <td>мультфильм</td>\n",
       "      <td>И.Бабич</td>\n",
       "    </tr>\n",
       "    <tr>\n",
       "      <td>29</td>\n",
       "      <td>Охота на лис.</td>\n",
       "      <td>Охота на лис.</td>\n",
       "      <td>2016-09-13 12:00:00+00:00</td>\n",
       "      <td>Художественный</td>\n",
       "      <td>Киностудия \"Мосфильм\"</td>\n",
       "      <td>СССР</td>\n",
       "      <td>В.Абдрашитов</td>\n",
       "      <td>NaN</td>\n",
       "      <td>«12+» - для детей старше 12 лет</td>\n",
       "      <td>NaN</td>\n",
       "      <td>...</td>\n",
       "      <td>NaN</td>\n",
       "      <td>NaN</td>\n",
       "      <td>7.1</td>\n",
       "      <td>драма,криминал</td>\n",
       "      <td>NaN</td>\n",
       "      <td>0.0</td>\n",
       "      <td>2016.0</td>\n",
       "      <td>NaN</td>\n",
       "      <td>драма</td>\n",
       "      <td>В.Абдрашитов</td>\n",
       "    </tr>\n",
       "  </tbody>\n",
       "</table>\n",
       "<p>30 rows × 21 columns</p>\n",
       "</div>"
      ],
      "text/plain": [
       "                                                title  \\\n",
       "0                                    Открытый простор   \n",
       "1                                Особо важное задание   \n",
       "2                                        Особо опасен   \n",
       "3                                   Остановился поезд   \n",
       "4                                     Любовь и голуби   \n",
       "5                                   Любовь и сигареты   \n",
       "6                                  Отпетые мошенники.   \n",
       "7                                 Отпуск за свой счет   \n",
       "8   Превосходство Борна /По одноименной новелле Ро...   \n",
       "9                                        Ответный ход   \n",
       "10  Малышка на миллион /По мотивам рассказов Ф.Х.Т...   \n",
       "11                                 Преданный садовник   \n",
       "12            Отель /По мотивам пьесы Джона Уэбстера/   \n",
       "13                                       Председатель   \n",
       "14                                    Осенний марафон   \n",
       "15                                              Осень   \n",
       "16                                      Неподдающиеся   \n",
       "17                                         Неподсуден   \n",
       "18                            Незабываемый 1919-й год   \n",
       "19                                Незаконченная жизнь   \n",
       "20           Операция \"Ы\" и другие приключения Шурика   \n",
       "21           Неизвестные страницы из жизни разведчика   \n",
       "22                                  Неисправимый лгун   \n",
       "23                           Призрак замка Моррисвиль   \n",
       "24                                    Оружейный барон   \n",
       "25                          Отставной козы барабанщик   \n",
       "26                                      Паршивая овца   \n",
       "27                          Плюмбум, или Опасная игра   \n",
       "28                                    Первое свидание   \n",
       "29                                      Охота на лис.   \n",
       "\n",
       "                                             puNumber  \\\n",
       "0                                    Открытый простор   \n",
       "1                                Особо важное задание   \n",
       "2                                        Особо опасен   \n",
       "3                                   Остановился поезд   \n",
       "4                                     Любовь и голуби   \n",
       "5                                   Любовь и сигареты   \n",
       "6                                  Отпетые мошенники.   \n",
       "7                                 Отпуск за свой счет   \n",
       "8   Превосходство Борна /По одноименной новелле Ро...   \n",
       "9                                        Ответный ход   \n",
       "10  Малышка на миллион /По мотивам рассказов Ф.Х.Т...   \n",
       "11                                 Преданный садовник   \n",
       "12            Отель /По мотивам пьесы Джона Уэбстера/   \n",
       "13                                       Председатель   \n",
       "14                                    Осенний марафон   \n",
       "15                                              Осень   \n",
       "16                                      Неподдающиеся   \n",
       "17                                         Неподсуден   \n",
       "18                            Незабываемый 1919-й год   \n",
       "19                                Незаконченная жизнь   \n",
       "20           Операция \"Ы\" и другие приключения Шурика   \n",
       "21           Неизвестные страницы из жизни разведчика   \n",
       "22                                  Неисправимый лгун   \n",
       "23                           Призрак замка Моррисвиль   \n",
       "24                                    Оружейный барон   \n",
       "25                          Отставной козы барабанщик   \n",
       "26                                      Паршивая овца   \n",
       "27                          Плюмбум, или Опасная игра   \n",
       "28                                    Первое свидание   \n",
       "29                                      Охота на лис.   \n",
       "\n",
       "             show_start_date            type  \\\n",
       "0  2015-11-27 12:00:00+00:00  Художественный   \n",
       "1  2016-09-13 12:00:00+00:00  Художественный   \n",
       "2  2016-10-10 12:00:00+00:00  Художественный   \n",
       "3  2016-09-13 12:00:00+00:00  Художественный   \n",
       "4  2013-10-18 12:00:00+00:00  Художественный   \n",
       "5  2014-12-29 12:00:00+00:00  Художественный   \n",
       "6  2016-05-05 12:00:00+00:00  Художественный   \n",
       "7  2014-12-01 12:00:00+00:00  Художественный   \n",
       "8  2016-06-29 12:00:00+00:00  Художественный   \n",
       "9  2014-12-01 12:00:00+00:00  Художественный   \n",
       "10 2015-04-03 12:00:00+00:00  Художественный   \n",
       "11 2013-08-26 12:00:00+00:00  Художественный   \n",
       "12 2012-01-27 12:00:00+00:00  Художественный   \n",
       "13 2016-09-13 12:00:00+00:00  Художественный   \n",
       "14 2013-10-18 12:00:00+00:00  Художественный   \n",
       "15 2014-12-24 12:00:00+00:00  Художественный   \n",
       "16 2016-02-12 12:00:00+00:00  Художественный   \n",
       "17 2016-02-12 12:00:00+00:00  Художественный   \n",
       "18 2016-02-12 12:00:00+00:00  Художественный   \n",
       "19 2015-05-06 12:00:00+00:00  Художественный   \n",
       "20 2013-10-18 12:00:00+00:00  Художественный   \n",
       "21 2016-02-12 12:00:00+00:00  Художественный   \n",
       "22 2016-02-12 12:00:00+00:00  Художественный   \n",
       "23 2014-12-29 12:00:00+00:00  Художественный   \n",
       "24 2015-04-03 12:00:00+00:00  Художественный   \n",
       "25 2014-12-24 12:00:00+00:00  Художественный   \n",
       "26 2015-04-03 12:00:00+00:00  Художественный   \n",
       "27 2016-09-13 12:00:00+00:00  Художественный   \n",
       "28 2014-12-01 12:00:00+00:00  Художественный   \n",
       "29 2016-09-13 12:00:00+00:00  Художественный   \n",
       "\n",
       "                                          film_studio  \\\n",
       "0   Тачстоун Пикчерз, Кобальт Пикчерз, Бикон Пикче...   \n",
       "1                               Киностудия \"Мосфильм\"   \n",
       "2   Юниверсал Пикчерз, Кикстарт Продакшнз, Марк Пл...   \n",
       "3                               Киностудия \"Мосфильм\"   \n",
       "4                               Киностудия \"Мосфильм\"   \n",
       "5   Юнайтед Артистс, Грин Стрит Филмз, Айкон Интер...   \n",
       "6                      Пульсар Продюксьон, ТФ1 Фильм    \n",
       "7              Киностудия \"Мосфильм\", Телевидение ВНР   \n",
       "8   Кеннеди/Маршал Компани, Юниверсал Пикчерз, Гип...   \n",
       "9                               Киностудия \"Мосфильм\"   \n",
       "10  Уорнер Бразерс, Лейкшор Интертейнмент, Малпасо...   \n",
       "11  Потбойлер Продакшнз, Эпсилон Моушн Пикчерз, Ск...   \n",
       "12  Кэтлей, Отель Продакшнс, Мунстоун Интертейнмен...   \n",
       "13                              Киностудия \"Мосфильм\"   \n",
       "14                              Киностудия \"Мосфильм\"   \n",
       "15                              Киностудия \"Мосфильм\"   \n",
       "16                              Киностудия \"Мосфильм\"   \n",
       "17                              Киностудия \"Мосфильм\"   \n",
       "18                              Киностудия \"Мосфильм\"   \n",
       "19  Инишиэл Интертейнмент Групп, Мирамакс Филмз, П...   \n",
       "20                              Киностудия \"Мосфильм\"   \n",
       "21                              Киностудия \"Мосфильм\"   \n",
       "22                              Киностудия \"Мосфильм\"   \n",
       "23                          Фильмове Студио Баррандов   \n",
       "24  Вэ И Пэ Медиенфондс 3, Асендант Пикчерз, Сатур...   \n",
       "25                              Киностудия \"Мосфильм\"   \n",
       "26            Лайв Сток Филмз, Нью Зиланд Филм Комишн   \n",
       "27                              Киностудия \"Мосфильм\"   \n",
       "28                              Киностудия \"Мосфильм\"   \n",
       "29                              Киностудия \"Мосфильм\"   \n",
       "\n",
       "         production_country                   director  \\\n",
       "0                       США              Кевин Костнер   \n",
       "1                      СССР                  Е.Матвеев   \n",
       "2                       США          Тимур Бекмамбетов   \n",
       "3                      СССР               В.Абдрашитов   \n",
       "4                      СССР                  В.Меньшов   \n",
       "5                       США              Джон Туртурро   \n",
       "6                   Франция               Эрик Беснард   \n",
       "7             СССР, Венгрия                    В.Титов   \n",
       "8                       США              Пол Грингросс   \n",
       "9                      СССР              М.Туманишвили   \n",
       "10                      США               Клинт Иствуд   \n",
       "11  Германия-Великобритания        Фернанду Мейрелльеш   \n",
       "12  Великобритания - Италия                Майк Фиггис   \n",
       "13                     СССР                 А.Салтыков   \n",
       "14                     СССР                  Г.Данелия   \n",
       "15                     СССР                  А.Смирнов   \n",
       "16                     СССР                  Ю.Чулюкин   \n",
       "17                     СССР  В.Краснопольский, В.Усков   \n",
       "18                     СССР                 М.Чиаурели   \n",
       "19                      США            Лассе Халлстрем   \n",
       "20                     СССР                   Л.Гайдай   \n",
       "21                     СССР                В.Чеботарев   \n",
       "22                     СССР                   В.Азаров   \n",
       "23             Чехословакия              Боривой Земан   \n",
       "24   США - Франция - Турция               Эндрю Никкол   \n",
       "25                     СССР                Г.Мыльников   \n",
       "26           Новая Зеландия              Джонатан Кинг   \n",
       "27                     СССР               В.Абдрашитов   \n",
       "28                     СССР                    И.Бабич   \n",
       "29                     СССР               В.Абдрашитов   \n",
       "\n",
       "                                             producer  \\\n",
       "0           Дэвид Валдес, Кевин Костнер, Джейк Эбертс   \n",
       "1                                                 NaN   \n",
       "2   Джим Лемли, Джейсон Нетер, Марк Е.Платт, Яйн Смит   \n",
       "3                                                 NaN   \n",
       "4                                                 NaN   \n",
       "5                         Джон Пенотти, Джон Туртурро   \n",
       "6                                         Патрис Леду   \n",
       "7                                                 NaN   \n",
       "8          Патрик Кроули, Фрэнк Маршалл, Пол Сэндберг   \n",
       "9                                                 NaN   \n",
       "10  Клинт Иствуд, Том Розенберг, Альберт С.Рудди, ...   \n",
       "11                             Саймон Чэннинг Уильямс   \n",
       "12                Этчи Стро, Анни Стюарт, Майк Фиггис   \n",
       "13                                                NaN   \n",
       "14                                                NaN   \n",
       "15                                                NaN   \n",
       "16                                                NaN   \n",
       "17                                                NaN   \n",
       "18                                                NaN   \n",
       "19  Лесли Холлеран, Алан Лэдд мл., Келлиан Лэдд, Х...   \n",
       "20                                                NaN   \n",
       "21                                                NaN   \n",
       "22                                                NaN   \n",
       "23                                                NaN   \n",
       "24  Норман Голуайтли, Энди Грош, Николас Кейдж, Эн...   \n",
       "25                                                NaN   \n",
       "26                                   Филиппа Кемпбелл   \n",
       "27                                                NaN   \n",
       "28                                                NaN   \n",
       "29                                                NaN   \n",
       "\n",
       "                    age_restriction  refundable_support  ...  budget  \\\n",
       "0       «18+» - запрещено для детей                 NaN  ...     NaN   \n",
       "1     «6+» - для детей старше 6 лет                 NaN  ...     NaN   \n",
       "2       «18+» - запрещено для детей                 NaN  ...     NaN   \n",
       "3     «6+» - для детей старше 6 лет                 NaN  ...     NaN   \n",
       "4   «12+» - для детей старше 12 лет                 NaN  ...     NaN   \n",
       "5       «18+» - запрещено для детей                 NaN  ...     NaN   \n",
       "6       «18+» - запрещено для детей                 NaN  ...     NaN   \n",
       "7   «12+» - для детей старше 12 лет                 NaN  ...     NaN   \n",
       "8   «16+» - для детей старше 16 лет                 NaN  ...     NaN   \n",
       "9   «12+» - для детей старше 12 лет                 NaN  ...     NaN   \n",
       "10  «16+» - для детей старше 16 лет                 NaN  ...     NaN   \n",
       "11  «16+» - для детей старше 16 лет                 NaN  ...     NaN   \n",
       "12      «18+» - запрещено для детей                 NaN  ...     NaN   \n",
       "13  «12+» - для детей старше 12 лет                 NaN  ...     NaN   \n",
       "14  «12+» - для детей старше 12 лет                 NaN  ...     NaN   \n",
       "15  «12+» - для детей старше 12 лет                 NaN  ...     NaN   \n",
       "16    «6+» - для детей старше 6 лет                 NaN  ...     NaN   \n",
       "17    «6+» - для детей старше 6 лет                 NaN  ...     NaN   \n",
       "18  «12+» - для детей старше 12 лет                 NaN  ...     NaN   \n",
       "19  «12+» - для детей старше 12 лет                 NaN  ...     NaN   \n",
       "20    «6+» - для детей старше 6 лет                 NaN  ...     NaN   \n",
       "21  «12+» - для детей старше 12 лет                 NaN  ...     NaN   \n",
       "22    «6+» - для детей старше 6 лет                 NaN  ...     NaN   \n",
       "23  «12+» - для детей старше 12 лет                 NaN  ...     NaN   \n",
       "24      «18+» - запрещено для детей                 NaN  ...     NaN   \n",
       "25    «6+» - для детей старше 6 лет                 NaN  ...     NaN   \n",
       "26      «18+» - запрещено для детей                 NaN  ...     NaN   \n",
       "27  «16+» - для детей старше 16 лет                 NaN  ...     NaN   \n",
       "28  «12+» - для детей старше 12 лет                 NaN  ...     NaN   \n",
       "29  «12+» - для детей старше 12 лет                 NaN  ...     NaN   \n",
       "\n",
       "    financing_source ratings                                genres box_office  \\\n",
       "0                NaN     7.2                боевик,драма,мелодрама        NaN   \n",
       "1                NaN     6.6                         драма,военный        NaN   \n",
       "2                NaN     6.8             фантастика,боевик,триллер        NaN   \n",
       "3                NaN     7.7                                 драма        NaN   \n",
       "4                NaN     8.3                     мелодрама,комедия     2700.0   \n",
       "5                NaN     6.6              мюзикл,мелодрама,комедия        NaN   \n",
       "6                NaN     8.0                      комедия,криминал        NaN   \n",
       "7                NaN     7.8                     мелодрама,комедия        NaN   \n",
       "8                NaN     7.7               боевик,триллер,детектив        NaN   \n",
       "9                NaN     7.8              боевик,драма,приключения        NaN   \n",
       "10               NaN     8.1                           драма,спорт        NaN   \n",
       "11               NaN     7.1               триллер,драма,мелодрама        NaN   \n",
       "12               NaN     6.0                     комедия,мелодрама        NaN   \n",
       "13               NaN     8.3                                 драма        NaN   \n",
       "14               NaN     8.0               драма,мелодрама,комедия        NaN   \n",
       "15               NaN     7.4                       драма,мелодрама        NaN   \n",
       "16               NaN     8.0                     мелодрама,комедия      360.0   \n",
       "17               NaN     7.7                                 драма      420.0   \n",
       "18               NaN     5.8                         драма,история        NaN   \n",
       "19               NaN     7.2              драма,мелодрама,семейный        NaN   \n",
       "20               NaN     8.7            комедия,мелодрама,криминал      380.0   \n",
       "21               NaN     6.3                         драма,военный        NaN   \n",
       "22               NaN     7.7                               комедия        NaN   \n",
       "23               NaN     7.7                               комедия        NaN   \n",
       "24               NaN     7.7                 боевик,драма,криминал        NaN   \n",
       "25               NaN     6.9                         драма,комедия        NaN   \n",
       "26               NaN     5.0              ужасы,фантастика,комедия        NaN   \n",
       "27               NaN     6.9                                 драма        NaN   \n",
       "28               NaN     7.4  мультфильм,короткометражка,мелодрама        NaN   \n",
       "29               NaN     7.1                        драма,криминал        NaN   \n",
       "\n",
       "     Ft    year  goc_help  main_genre        main_director  \n",
       "0   0.0  2015.0       NaN      боевик        Кевин Костнер  \n",
       "1   0.0  2016.0       NaN       драма            Е.Матвеев  \n",
       "2   0.0  2016.0       NaN  фантастика    Тимур Бекмамбетов  \n",
       "3   0.0  2016.0       NaN       драма         В.Абдрашитов  \n",
       "4   0.0  2013.0       NaN   мелодрама            В.Меньшов  \n",
       "5   0.0  2014.0       NaN      мюзикл        Джон Туртурро  \n",
       "6   0.0  2016.0       NaN     комедия         Эрик Беснард  \n",
       "7   0.0  2014.0       NaN   мелодрама              В.Титов  \n",
       "8   0.0  2016.0       NaN      боевик        Пол Грингросс  \n",
       "9   0.0  2014.0       NaN      боевик        М.Туманишвили  \n",
       "10  0.0  2015.0       NaN       драма         Клинт Иствуд  \n",
       "11  0.0  2013.0       NaN     триллер  Фернанду Мейрелльеш  \n",
       "12  0.0  2012.0       NaN     комедия          Майк Фиггис  \n",
       "13  0.0  2016.0       NaN       драма           А.Салтыков  \n",
       "14  0.0  2013.0       NaN       драма            Г.Данелия  \n",
       "15  0.0  2014.0       NaN       драма            А.Смирнов  \n",
       "16  0.0  2016.0       NaN   мелодрама            Ю.Чулюкин  \n",
       "17  0.0  2016.0       NaN       драма     В.Краснопольский  \n",
       "18  0.0  2016.0       NaN       драма           М.Чиаурели  \n",
       "19  0.0  2015.0       NaN       драма      Лассе Халлстрем  \n",
       "20  0.0  2013.0       NaN     комедия             Л.Гайдай  \n",
       "21  0.0  2016.0       NaN       драма          В.Чеботарев  \n",
       "22  0.0  2016.0       NaN     комедия             В.Азаров  \n",
       "23  0.0  2014.0       NaN     комедия        Боривой Земан  \n",
       "24  0.0  2015.0       NaN      боевик         Эндрю Никкол  \n",
       "25  0.0  2014.0       NaN       драма          Г.Мыльников  \n",
       "26  0.0  2015.0       NaN       ужасы        Джонатан Кинг  \n",
       "27  0.0  2016.0       NaN       драма         В.Абдрашитов  \n",
       "28  0.0  2014.0       NaN  мультфильм              И.Бабич  \n",
       "29  0.0  2016.0       NaN       драма         В.Абдрашитов  \n",
       "\n",
       "[30 rows x 21 columns]"
      ]
     },
     "execution_count": 28,
     "metadata": {},
     "output_type": "execute_result"
    }
   ],
   "source": [
    "movies.head(30)"
   ]
  },
  {
   "cell_type": "code",
   "execution_count": 29,
   "metadata": {},
   "outputs": [],
   "source": [
    "#movies[\"main_genre\"] = movies[\"genres\"].apply(lambda x: x.str.split().str[0])"
   ]
  },
  {
   "cell_type": "code",
   "execution_count": 30,
   "metadata": {},
   "outputs": [
    {
     "data": {
      "text/html": [
       "<div>\n",
       "<style scoped>\n",
       "    .dataframe tbody tr th:only-of-type {\n",
       "        vertical-align: middle;\n",
       "    }\n",
       "\n",
       "    .dataframe tbody tr th {\n",
       "        vertical-align: top;\n",
       "    }\n",
       "\n",
       "    .dataframe thead th {\n",
       "        text-align: right;\n",
       "    }\n",
       "</style>\n",
       "<table border=\"1\" class=\"dataframe\">\n",
       "  <thead>\n",
       "    <tr style=\"text-align: right;\">\n",
       "      <th></th>\n",
       "      <th>title</th>\n",
       "      <th>puNumber</th>\n",
       "      <th>show_start_date</th>\n",
       "      <th>type</th>\n",
       "      <th>film_studio</th>\n",
       "      <th>production_country</th>\n",
       "      <th>director</th>\n",
       "      <th>producer</th>\n",
       "      <th>age_restriction</th>\n",
       "      <th>refundable_support</th>\n",
       "      <th>...</th>\n",
       "      <th>budget</th>\n",
       "      <th>financing_source</th>\n",
       "      <th>ratings</th>\n",
       "      <th>genres</th>\n",
       "      <th>box_office</th>\n",
       "      <th>Ft</th>\n",
       "      <th>year</th>\n",
       "      <th>goc_help</th>\n",
       "      <th>main_genre</th>\n",
       "      <th>main_director</th>\n",
       "    </tr>\n",
       "  </thead>\n",
       "  <tbody>\n",
       "    <tr>\n",
       "      <td>0</td>\n",
       "      <td>Открытый простор</td>\n",
       "      <td>Открытый простор</td>\n",
       "      <td>2015-11-27 12:00:00+00:00</td>\n",
       "      <td>Художественный</td>\n",
       "      <td>Тачстоун Пикчерз, Кобальт Пикчерз, Бикон Пикче...</td>\n",
       "      <td>США</td>\n",
       "      <td>Кевин Костнер</td>\n",
       "      <td>Дэвид Валдес, Кевин Костнер, Джейк Эбертс</td>\n",
       "      <td>«18+» - запрещено для детей</td>\n",
       "      <td>NaN</td>\n",
       "      <td>...</td>\n",
       "      <td>NaN</td>\n",
       "      <td>NaN</td>\n",
       "      <td>7.2</td>\n",
       "      <td>боевик,драма,мелодрама</td>\n",
       "      <td>NaN</td>\n",
       "      <td>0.0</td>\n",
       "      <td>2015.0</td>\n",
       "      <td>NaN</td>\n",
       "      <td>боевик</td>\n",
       "      <td>Кевин Костнер</td>\n",
       "    </tr>\n",
       "    <tr>\n",
       "      <td>1</td>\n",
       "      <td>Особо важное задание</td>\n",
       "      <td>Особо важное задание</td>\n",
       "      <td>2016-09-13 12:00:00+00:00</td>\n",
       "      <td>Художественный</td>\n",
       "      <td>Киностудия \"Мосфильм\"</td>\n",
       "      <td>СССР</td>\n",
       "      <td>Е.Матвеев</td>\n",
       "      <td>NaN</td>\n",
       "      <td>«6+» - для детей старше 6 лет</td>\n",
       "      <td>NaN</td>\n",
       "      <td>...</td>\n",
       "      <td>NaN</td>\n",
       "      <td>NaN</td>\n",
       "      <td>6.6</td>\n",
       "      <td>драма,военный</td>\n",
       "      <td>NaN</td>\n",
       "      <td>0.0</td>\n",
       "      <td>2016.0</td>\n",
       "      <td>NaN</td>\n",
       "      <td>драма</td>\n",
       "      <td>Е.Матвеев</td>\n",
       "    </tr>\n",
       "    <tr>\n",
       "      <td>2</td>\n",
       "      <td>Особо опасен</td>\n",
       "      <td>Особо опасен</td>\n",
       "      <td>2016-10-10 12:00:00+00:00</td>\n",
       "      <td>Художественный</td>\n",
       "      <td>Юниверсал Пикчерз, Кикстарт Продакшнз, Марк Пл...</td>\n",
       "      <td>США</td>\n",
       "      <td>Тимур Бекмамбетов</td>\n",
       "      <td>Джим Лемли, Джейсон Нетер, Марк Е.Платт, Яйн Смит</td>\n",
       "      <td>«18+» - запрещено для детей</td>\n",
       "      <td>NaN</td>\n",
       "      <td>...</td>\n",
       "      <td>NaN</td>\n",
       "      <td>NaN</td>\n",
       "      <td>6.8</td>\n",
       "      <td>фантастика,боевик,триллер</td>\n",
       "      <td>NaN</td>\n",
       "      <td>0.0</td>\n",
       "      <td>2016.0</td>\n",
       "      <td>NaN</td>\n",
       "      <td>фантастика</td>\n",
       "      <td>Тимур Бекмамбетов</td>\n",
       "    </tr>\n",
       "    <tr>\n",
       "      <td>3</td>\n",
       "      <td>Остановился поезд</td>\n",
       "      <td>Остановился поезд</td>\n",
       "      <td>2016-09-13 12:00:00+00:00</td>\n",
       "      <td>Художественный</td>\n",
       "      <td>Киностудия \"Мосфильм\"</td>\n",
       "      <td>СССР</td>\n",
       "      <td>В.Абдрашитов</td>\n",
       "      <td>NaN</td>\n",
       "      <td>«6+» - для детей старше 6 лет</td>\n",
       "      <td>NaN</td>\n",
       "      <td>...</td>\n",
       "      <td>NaN</td>\n",
       "      <td>NaN</td>\n",
       "      <td>7.7</td>\n",
       "      <td>драма</td>\n",
       "      <td>NaN</td>\n",
       "      <td>0.0</td>\n",
       "      <td>2016.0</td>\n",
       "      <td>NaN</td>\n",
       "      <td>драма</td>\n",
       "      <td>В.Абдрашитов</td>\n",
       "    </tr>\n",
       "    <tr>\n",
       "      <td>4</td>\n",
       "      <td>Любовь и голуби</td>\n",
       "      <td>Любовь и голуби</td>\n",
       "      <td>2013-10-18 12:00:00+00:00</td>\n",
       "      <td>Художественный</td>\n",
       "      <td>Киностудия \"Мосфильм\"</td>\n",
       "      <td>СССР</td>\n",
       "      <td>В.Меньшов</td>\n",
       "      <td>NaN</td>\n",
       "      <td>«12+» - для детей старше 12 лет</td>\n",
       "      <td>NaN</td>\n",
       "      <td>...</td>\n",
       "      <td>NaN</td>\n",
       "      <td>NaN</td>\n",
       "      <td>8.3</td>\n",
       "      <td>мелодрама,комедия</td>\n",
       "      <td>2700.0</td>\n",
       "      <td>0.0</td>\n",
       "      <td>2013.0</td>\n",
       "      <td>NaN</td>\n",
       "      <td>мелодрама</td>\n",
       "      <td>В.Меньшов</td>\n",
       "    </tr>\n",
       "  </tbody>\n",
       "</table>\n",
       "<p>5 rows × 21 columns</p>\n",
       "</div>"
      ],
      "text/plain": [
       "                  title              puNumber           show_start_date  \\\n",
       "0      Открытый простор      Открытый простор 2015-11-27 12:00:00+00:00   \n",
       "1  Особо важное задание  Особо важное задание 2016-09-13 12:00:00+00:00   \n",
       "2          Особо опасен          Особо опасен 2016-10-10 12:00:00+00:00   \n",
       "3     Остановился поезд     Остановился поезд 2016-09-13 12:00:00+00:00   \n",
       "4       Любовь и голуби       Любовь и голуби 2013-10-18 12:00:00+00:00   \n",
       "\n",
       "             type                                        film_studio  \\\n",
       "0  Художественный  Тачстоун Пикчерз, Кобальт Пикчерз, Бикон Пикче...   \n",
       "1  Художественный                              Киностудия \"Мосфильм\"   \n",
       "2  Художественный  Юниверсал Пикчерз, Кикстарт Продакшнз, Марк Пл...   \n",
       "3  Художественный                              Киностудия \"Мосфильм\"   \n",
       "4  Художественный                              Киностудия \"Мосфильм\"   \n",
       "\n",
       "  production_country           director  \\\n",
       "0                США      Кевин Костнер   \n",
       "1               СССР          Е.Матвеев   \n",
       "2                США  Тимур Бекмамбетов   \n",
       "3               СССР       В.Абдрашитов   \n",
       "4               СССР          В.Меньшов   \n",
       "\n",
       "                                            producer  \\\n",
       "0          Дэвид Валдес, Кевин Костнер, Джейк Эбертс   \n",
       "1                                                NaN   \n",
       "2  Джим Лемли, Джейсон Нетер, Марк Е.Платт, Яйн Смит   \n",
       "3                                                NaN   \n",
       "4                                                NaN   \n",
       "\n",
       "                   age_restriction  refundable_support  ...  budget  \\\n",
       "0      «18+» - запрещено для детей                 NaN  ...     NaN   \n",
       "1    «6+» - для детей старше 6 лет                 NaN  ...     NaN   \n",
       "2      «18+» - запрещено для детей                 NaN  ...     NaN   \n",
       "3    «6+» - для детей старше 6 лет                 NaN  ...     NaN   \n",
       "4  «12+» - для детей старше 12 лет                 NaN  ...     NaN   \n",
       "\n",
       "   financing_source ratings                     genres box_office   Ft  \\\n",
       "0               NaN     7.2     боевик,драма,мелодрама        NaN  0.0   \n",
       "1               NaN     6.6              драма,военный        NaN  0.0   \n",
       "2               NaN     6.8  фантастика,боевик,триллер        NaN  0.0   \n",
       "3               NaN     7.7                      драма        NaN  0.0   \n",
       "4               NaN     8.3          мелодрама,комедия     2700.0  0.0   \n",
       "\n",
       "     year  goc_help  main_genre      main_director  \n",
       "0  2015.0       NaN      боевик      Кевин Костнер  \n",
       "1  2016.0       NaN       драма          Е.Матвеев  \n",
       "2  2016.0       NaN  фантастика  Тимур Бекмамбетов  \n",
       "3  2016.0       NaN       драма       В.Абдрашитов  \n",
       "4  2013.0       NaN   мелодрама          В.Меньшов  \n",
       "\n",
       "[5 rows x 21 columns]"
      ]
     },
     "execution_count": 30,
     "metadata": {},
     "output_type": "execute_result"
    }
   ],
   "source": [
    "movies.head()"
   ]
  },
  {
   "cell_type": "code",
   "execution_count": null,
   "metadata": {},
   "outputs": [],
   "source": []
  },
  {
   "cell_type": "markdown",
   "metadata": {
    "id": "6t4EukPLgFyV"
   },
   "source": [
    "### Step 3. Exploratory data analysis\n"
   ]
  },
  {
   "cell_type": "markdown",
   "metadata": {
    "id": "vAH8WCzugFyV"
   },
   "source": [
    "- Let's see how many films were released each year. Please note that not all films have theatrical release figures. Calculate the share of films with the specified information about rental in cinemas."
   ]
  },
  {
   "cell_type": "code",
   "execution_count": 31,
   "metadata": {
    "id": "ABeV47y7gFyW",
    "scrolled": true
   },
   "outputs": [
    {
     "data": {
      "text/plain": [
       "year\n",
       "2011.0    475\n",
       "2017.0    496\n",
       "2012.0    516\n",
       "2013.0    589\n",
       "2015.0    655\n",
       "2014.0    729\n",
       "2010.0    757\n",
       "2016.0    768\n",
       "2018.0    871\n",
       "2019.0    890\n",
       "Name: title, dtype: int64"
      ]
     },
     "execution_count": 31,
     "metadata": {},
     "output_type": "execute_result"
    }
   ],
   "source": [
    "import matplotlib.pyplot as plt\n",
    "import seaborn as sns\n",
    "f = movies.groupby(\"year\")[\"title\"].count().sort_values()\n",
    "f"
   ]
  },
  {
   "cell_type": "code",
   "execution_count": 32,
   "metadata": {},
   "outputs": [
    {
     "data": {
      "text/plain": [
       "year\n",
       "2010.0     88\n",
       "2011.0     98\n",
       "2012.0    115\n",
       "2013.0    176\n",
       "2014.0    256\n",
       "2017.0    354\n",
       "2015.0    425\n",
       "2018.0    468\n",
       "2016.0    498\n",
       "2019.0    521\n",
       "Name: box_office, dtype: int64"
      ]
     },
     "execution_count": 32,
     "metadata": {},
     "output_type": "execute_result"
    }
   ],
   "source": [
    "#Let's calculate the number of films for which the information about the box office in rubles is indicated\n",
    "d = movies.groupby(\"year\")[\"box_office\"].count().sort_values()\n",
    "d"
   ]
  },
  {
   "cell_type": "code",
   "execution_count": 33,
   "metadata": {},
   "outputs": [
    {
     "name": "stdout",
     "output_type": "stream",
     "text": [
      "year\n",
      "2010.0    0.116248\n",
      "2011.0    0.206316\n",
      "2012.0    0.222868\n",
      "2013.0    0.298812\n",
      "2014.0    0.351166\n",
      "2015.0    0.648855\n",
      "2016.0    0.648438\n",
      "2017.0    0.713710\n",
      "2018.0    0.537313\n",
      "2019.0    0.585393\n",
      "dtype: float64\n"
     ]
    }
   ],
   "source": [
    "#Let's calculate the share of films for which the information about \n",
    "# the box office in rubles is indicated from the total number of films per year.\n",
    "print(d/f)"
   ]
  },
  {
   "cell_type": "markdown",
   "metadata": {},
   "source": [
    "We see that the most films were released in 2010 and the least in 2019."
   ]
  },
  {
   "cell_type": "markdown",
   "metadata": {
    "id": "BEOdcIrIgFyW"
   },
   "source": [
    "- We will study how the dynamics of rental has changed over the years. In what year was the minimum amount collected? And the maximum?"
   ]
  },
  {
   "cell_type": "code",
   "execution_count": 34,
   "metadata": {
    "id": "tfEhofYvgFyX"
   },
   "outputs": [
    {
     "data": {
      "text/plain": [
       "<matplotlib.axes._subplots.AxesSubplot at 0x7fafb57f1110>"
      ]
     },
     "execution_count": 34,
     "metadata": {},
     "output_type": "execute_result"
    },
    {
     "data": {
      "image/png": "[encoded data removed]",
      "text/plain": [
       "<Figure size 432x288 with 1 Axes>"
      ]
     },
     "metadata": {
      "needs_background": "light"
     },
     "output_type": "display_data"
    }
   ],
   "source": [
    "# To make it clearer, let's convert rubles to dollars\n",
    "movies[\"fees_in$\"] = movies[\"box_office\"]/65\n",
    "\n",
    "# build a graph of the average number of fees for each year\n",
    "movies.groupby(\"year\")[\"fees_in$\"].sum().plot()"
   ]
  },
  {
   "cell_type": "markdown",
   "metadata": {},
   "source": [
    "We see that the most fees were in 2018."
   ]
  },
  {
   "cell_type": "code",
   "execution_count": 35,
   "metadata": {},
   "outputs": [
    {
     "data": {
      "text/plain": [
       "year\n",
       "2017.0    7.454768e+08\n",
       "2019.0    7.424891e+08\n",
       "2018.0    7.316090e+08\n",
       "2016.0    6.554994e+08\n",
       "2015.0    4.786940e+08\n",
       "2014.0    1.132671e+08\n",
       "2013.0    4.579774e+05\n",
       "2011.0    2.145291e+05\n",
       "2012.0    9.878094e+04\n",
       "2010.0    3.652831e+04\n",
       "Name: fees_in$, dtype: float64"
      ]
     },
     "execution_count": 35,
     "metadata": {},
     "output_type": "execute_result"
    }
   ],
   "source": [
    "movies.groupby(\"year\")[\"fees_in$\"].sum().sort_values(ascending=False) #in descending order"
   ]
  },
  {
   "cell_type": "markdown",
   "metadata": {},
   "source": [
    "The maximum amount of fees was in 2018, and the minimum in 2010"
   ]
  },
  {
   "cell_type": "markdown",
   "metadata": {
    "id": "G-7qS-N-gFyY"
   },
   "source": [
    "- Use the pivot table to calculate the average and median fees for each year."
   ]
  },
  {
   "cell_type": "code",
   "execution_count": 36,
   "metadata": {
    "id": "jmp-rgg9gFyY"
   },
   "outputs": [
    {
     "data": {
      "text/html": [
       "<div>\n",
       "<style scoped>\n",
       "    .dataframe tbody tr th:only-of-type {\n",
       "        vertical-align: middle;\n",
       "    }\n",
       "\n",
       "    .dataframe tbody tr th {\n",
       "        vertical-align: top;\n",
       "    }\n",
       "\n",
       "    .dataframe thead th {\n",
       "        text-align: right;\n",
       "    }\n",
       "</style>\n",
       "<table border=\"1\" class=\"dataframe\">\n",
       "  <thead>\n",
       "    <tr style=\"text-align: right;\">\n",
       "      <th></th>\n",
       "      <th>mean</th>\n",
       "      <th>median</th>\n",
       "    </tr>\n",
       "    <tr>\n",
       "      <th>year</th>\n",
       "      <th></th>\n",
       "      <th></th>\n",
       "    </tr>\n",
       "  </thead>\n",
       "  <tbody>\n",
       "    <tr>\n",
       "      <td>2010.0</td>\n",
       "      <td>4.150944e+02</td>\n",
       "      <td>28.738462</td>\n",
       "    </tr>\n",
       "    <tr>\n",
       "      <td>2011.0</td>\n",
       "      <td>2.189072e+03</td>\n",
       "      <td>46.807692</td>\n",
       "    </tr>\n",
       "    <tr>\n",
       "      <td>2012.0</td>\n",
       "      <td>8.589647e+02</td>\n",
       "      <td>102.384615</td>\n",
       "    </tr>\n",
       "    <tr>\n",
       "      <td>2013.0</td>\n",
       "      <td>2.602144e+03</td>\n",
       "      <td>54.846154</td>\n",
       "    </tr>\n",
       "    <tr>\n",
       "      <td>2014.0</td>\n",
       "      <td>4.424498e+05</td>\n",
       "      <td>329.923077</td>\n",
       "    </tr>\n",
       "    <tr>\n",
       "      <td>2015.0</td>\n",
       "      <td>1.126339e+06</td>\n",
       "      <td>65856.823077</td>\n",
       "    </tr>\n",
       "    <tr>\n",
       "      <td>2016.0</td>\n",
       "      <td>1.316264e+06</td>\n",
       "      <td>53826.592308</td>\n",
       "    </tr>\n",
       "    <tr>\n",
       "      <td>2017.0</td>\n",
       "      <td>2.105867e+06</td>\n",
       "      <td>152982.730769</td>\n",
       "    </tr>\n",
       "    <tr>\n",
       "      <td>2018.0</td>\n",
       "      <td>1.563267e+06</td>\n",
       "      <td>134311.961923</td>\n",
       "    </tr>\n",
       "    <tr>\n",
       "      <td>2019.0</td>\n",
       "      <td>1.425123e+06</td>\n",
       "      <td>73316.300000</td>\n",
       "    </tr>\n",
       "  </tbody>\n",
       "</table>\n",
       "</div>"
      ],
      "text/plain": [
       "                mean         median\n",
       "year                               \n",
       "2010.0  4.150944e+02      28.738462\n",
       "2011.0  2.189072e+03      46.807692\n",
       "2012.0  8.589647e+02     102.384615\n",
       "2013.0  2.602144e+03      54.846154\n",
       "2014.0  4.424498e+05     329.923077\n",
       "2015.0  1.126339e+06   65856.823077\n",
       "2016.0  1.316264e+06   53826.592308\n",
       "2017.0  2.105867e+06  152982.730769\n",
       "2018.0  1.563267e+06  134311.961923\n",
       "2019.0  1.425123e+06   73316.300000"
      ]
     },
     "execution_count": 36,
     "metadata": {},
     "output_type": "execute_result"
    }
   ],
   "source": [
    "tab = movies.pivot_table(index=\"year\", values=\"fees_in$\", aggfunc=[\"mean\", \"median\"])\n",
    "tab.columns = [\"mean\", \"median\"]\n",
    "tab"
   ]
  },
  {
   "cell_type": "markdown",
   "metadata": {},
   "source": [
    "We see that the mean and median are very different, which means that there are most likely outliers."
   ]
  },
  {
   "cell_type": "code",
   "execution_count": 37,
   "metadata": {},
   "outputs": [
    {
     "data": {
      "image/png": "[encoded data removed]",
      "text/plain": [
       "<Figure size 432x288 with 1 Axes>"
      ]
     },
     "metadata": {
      "needs_background": "light"
     },
     "output_type": "display_data"
    }
   ],
   "source": [
    "sns.barplot(x=\"year\", y=\"fees_in$\", data=movies)\n",
    "plt.show()"
   ]
  },
  {
   "cell_type": "markdown",
   "metadata": {},
   "source": [
    "We see that the confidence interval for fees in 2017 is very large. So there are films that have skyrocketed.\n",
    "Let's see what kind of movies"
   ]
  },
  {
   "cell_type": "code",
   "execution_count": 38,
   "metadata": {},
   "outputs": [
    {
     "data": {
      "text/html": [
       "<div>\n",
       "<style scoped>\n",
       "    .dataframe tbody tr th:only-of-type {\n",
       "        vertical-align: middle;\n",
       "    }\n",
       "\n",
       "    .dataframe tbody tr th {\n",
       "        vertical-align: top;\n",
       "    }\n",
       "\n",
       "    .dataframe thead th {\n",
       "        text-align: right;\n",
       "    }\n",
       "</style>\n",
       "<table border=\"1\" class=\"dataframe\">\n",
       "  <thead>\n",
       "    <tr style=\"text-align: right;\">\n",
       "      <th></th>\n",
       "      <th></th>\n",
       "      <th>fees_in$</th>\n",
       "    </tr>\n",
       "    <tr>\n",
       "      <th>year</th>\n",
       "      <th>title</th>\n",
       "      <th></th>\n",
       "    </tr>\n",
       "  </thead>\n",
       "  <tbody>\n",
       "    <tr>\n",
       "      <td>2019.0</td>\n",
       "      <td>Холоп</td>\n",
       "      <td>4.728567e+07</td>\n",
       "    </tr>\n",
       "    <tr>\n",
       "      <td>2017.0</td>\n",
       "      <td>Движение вверх</td>\n",
       "      <td>4.276440e+07</td>\n",
       "    </tr>\n",
       "    <tr>\n",
       "      <td>2019.0</td>\n",
       "      <td>Мстители: Финал</td>\n",
       "      <td>3.964021e+07</td>\n",
       "    </tr>\n",
       "    <tr>\n",
       "      <td>2018.0</td>\n",
       "      <td>Т-34</td>\n",
       "      <td>3.495006e+07</td>\n",
       "    </tr>\n",
       "    <tr>\n",
       "      <td>2017.0</td>\n",
       "      <td>Пираты Карибского моря: Мертвецы не рассказывают сказки</td>\n",
       "      <td>3.259071e+07</td>\n",
       "    </tr>\n",
       "    <tr>\n",
       "      <td rowspan=\"2\" valign=\"top\">2016.0</td>\n",
       "      <td>Зверополис</td>\n",
       "      <td>3.150963e+07</td>\n",
       "    </tr>\n",
       "    <tr>\n",
       "      <td>Тайная жизнь домашних животных. Миньоны против газона</td>\n",
       "      <td>3.032316e+07</td>\n",
       "    </tr>\n",
       "    <tr>\n",
       "      <td>2018.0</td>\n",
       "      <td>Веном</td>\n",
       "      <td>2.943474e+07</td>\n",
       "    </tr>\n",
       "    <tr>\n",
       "      <td rowspan=\"2\" valign=\"top\">2019.0</td>\n",
       "      <td>Малефисента: Владычица тьмы</td>\n",
       "      <td>2.941454e+07</td>\n",
       "    </tr>\n",
       "    <tr>\n",
       "      <td>Джокер</td>\n",
       "      <td>2.908259e+07</td>\n",
       "    </tr>\n",
       "  </tbody>\n",
       "</table>\n",
       "</div>"
      ],
      "text/plain": [
       "                                                               fees_in$\n",
       "year   title                                                           \n",
       "2019.0 Холоп                                               4.728567e+07\n",
       "2017.0 Движение вверх                                      4.276440e+07\n",
       "2019.0 Мстители: Финал                                     3.964021e+07\n",
       "2018.0 Т-34                                                3.495006e+07\n",
       "2017.0 Пираты Карибского моря: Мертвецы не рассказываю...  3.259071e+07\n",
       "2016.0 Зверополис                                          3.150963e+07\n",
       "       Тайная жизнь домашних животных. Миньоны против ...  3.032316e+07\n",
       "2018.0 Веном                                               2.943474e+07\n",
       "2019.0 Малефисента: Владычица тьмы                         2.941454e+07\n",
       "       Джокер                                              2.908259e+07"
      ]
     },
     "execution_count": 38,
     "metadata": {},
     "output_type": "execute_result"
    }
   ],
   "source": [
    "films = movies.pivot_table(index=[\"year\", \"title\"],values=\"fees_in$\", aggfunc=\"max\").sort_values(by=\"fees_in$\", ascending=False).head(10)\n",
    "films"
   ]
  },
  {
   "cell_type": "markdown",
   "metadata": {},
   "source": [
    "Most collected films that were released in 2017. And he collected much more than other films."
   ]
  },
  {
   "cell_type": "markdown",
   "metadata": {
    "id": "Ok89WFwJgFyZ"
   },
   "source": [
    "- Determine if the age limit of the audience (“6+”, “12+”, “16+”, “18+”, etc.) affects the box office of the film in the period from 2015 to 2019? Which age-rated films made the most money at the box office? Does the picture change depending on the year? If yes, please suggest what it might be."
   ]
  },
  {
   "cell_type": "code",
   "execution_count": 39,
   "metadata": {
    "id": "jsSbEqfjgFya"
   },
   "outputs": [
    {
     "data": {
      "text/plain": [
       "array(['«18+» - запрещено для детей', '«6+» - для детей старше 6 лет',\n",
       "       '«12+» - для детей старше 12 лет',\n",
       "       '«16+» - для детей старше 16 лет',\n",
       "       '«0+» - для любой зрительской аудитории'], dtype=object)"
      ]
     },
     "execution_count": 39,
     "metadata": {},
     "output_type": "execute_result"
    }
   ],
   "source": [
    "movies[\"age_restriction\"].unique()\n"
   ]
  },
  {
   "cell_type": "code",
   "execution_count": 40,
   "metadata": {},
   "outputs": [],
   "source": [
    "movies[\"age_restriction\"] = movies[\"age_restriction\"].replace(\"«18+» - запрещено для детей\", \"18+\")\n",
    "movies[\"age_restriction\"] = movies[\"age_restriction\"].replace(\"«12+» - для детей старше 12 лет\", \"12+\")\n",
    "movies[\"age_restriction\"] = movies[\"age_restriction\"].replace(\"«16+» - для детей старше 16 лет\", \"16+\")\n",
    "movies[\"age_restriction\"] = movies[\"age_restriction\"].replace(\"«0+» - для любой зрительской аудитории\", \"0+\")\n",
    "movies[\"age_restriction\"] = movies[\"age_restriction\"].replace(\"«6+» - для детей старше 6 лет\", \"6+\")"
   ]
  },
  {
   "cell_type": "code",
   "execution_count": 41,
   "metadata": {},
   "outputs": [
    {
     "data": {
      "text/plain": [
       "array(['18+', '6+', '12+', '16+', '0+'], dtype=object)"
      ]
     },
     "execution_count": 41,
     "metadata": {},
     "output_type": "execute_result"
    }
   ],
   "source": [
    "movies[\"age_restriction\"].unique()"
   ]
  },
  {
   "cell_type": "code",
   "execution_count": 42,
   "metadata": {},
   "outputs": [
    {
     "data": {
      "text/plain": [
       "<matplotlib.axes._subplots.AxesSubplot at 0x7fafad00e950>"
      ]
     },
     "execution_count": 42,
     "metadata": {},
     "output_type": "execute_result"
    },
    {
     "data": {
      "image/png": "[encoded data removed]",
      "text/plain": [
       "<Figure size 432x288 with 1 Axes>"
      ]
     },
     "metadata": {
      "needs_background": "light"
     },
     "output_type": "display_data"
    }
   ],
   "source": [
    "age = movies.pivot_table(index= \"age_restriction\", values=\"fees_in$\", aggfunc=\"mean\")\n",
    "age.plot()"
   ]
  },
  {
   "cell_type": "markdown",
   "metadata": {},
   "source": [
    "6+ films collected the most at the box office, and 0+ films the least"
   ]
  },
  {
   "cell_type": "code",
   "execution_count": 43,
   "metadata": {},
   "outputs": [
    {
     "data": {
      "text/plain": [
       "<matplotlib.axes._subplots.AxesSubplot at 0x7fafacf39bd0>"
      ]
     },
     "execution_count": 43,
     "metadata": {},
     "output_type": "execute_result"
    },
    {
     "data": {
      "image/png": "[encoded data removed]",
      "text/plain": [
       "<Figure size 432x288 with 1 Axes>"
      ]
     },
     "metadata": {
      "needs_background": "light"
     },
     "output_type": "display_data"
    }
   ],
   "source": [
    "sns.barplot(x=\"year\",y=\"fees_in$\", hue=\"age_restriction\", data=movies, ci=None)"
   ]
  },
  {
   "cell_type": "markdown",
   "metadata": {},
   "source": [
    " In 2017, I collected a lot of films with a 6+ restriction, and 18+ films are collected not so much."
   ]
  },
  {
   "cell_type": "code",
   "execution_count": 44,
   "metadata": {},
   "outputs": [
    {
     "data": {
      "text/plain": [
       "array([nan, 'Министерство культуры', 'Фонд кино',\n",
       "       'Министерство культуры, Фонд кино'], dtype=object)"
      ]
     },
     "execution_count": 44,
     "metadata": {},
     "output_type": "execute_result"
    }
   ],
   "source": [
    "movies[\"financing_source\"].unique()"
   ]
  },
  {
   "cell_type": "markdown",
   "metadata": {
    "id": "l_Kg6Ku4gFya"
   },
   "source": [
    "### Step 4. Exploring films that have received government support\n",
    "\n"
   ]
  },
  {
   "cell_type": "code",
   "execution_count": 45,
   "metadata": {},
   "outputs": [
    {
     "name": "stdout",
     "output_type": "stream",
     "text": [
      "6.012881355932204\n"
     ]
    },
    {
     "data": {
      "text/html": [
       "<div>\n",
       "<style scoped>\n",
       "    .dataframe tbody tr th:only-of-type {\n",
       "        vertical-align: middle;\n",
       "    }\n",
       "\n",
       "    .dataframe tbody tr th {\n",
       "        vertical-align: top;\n",
       "    }\n",
       "\n",
       "    .dataframe thead th {\n",
       "        text-align: right;\n",
       "    }\n",
       "</style>\n",
       "<table border=\"1\" class=\"dataframe\">\n",
       "  <thead>\n",
       "    <tr style=\"text-align: right;\">\n",
       "      <th></th>\n",
       "      <th></th>\n",
       "      <th>fees_in$</th>\n",
       "      <th>ratings</th>\n",
       "    </tr>\n",
       "    <tr>\n",
       "      <th>financing_source</th>\n",
       "      <th>title</th>\n",
       "      <th></th>\n",
       "      <th></th>\n",
       "    </tr>\n",
       "  </thead>\n",
       "  <tbody>\n",
       "    <tr>\n",
       "      <td rowspan=\"3\" valign=\"top\">Фонд кино</td>\n",
       "      <td>БОЛЬШОЙ</td>\n",
       "      <td>3.516588e+06</td>\n",
       "      <td>8.5</td>\n",
       "    </tr>\n",
       "    <tr>\n",
       "      <td>А зори здесь тихие..._</td>\n",
       "      <td>3.833335e+06</td>\n",
       "      <td>8.5</td>\n",
       "    </tr>\n",
       "    <tr>\n",
       "      <td>Миллиард</td>\n",
       "      <td>6.286872e+06</td>\n",
       "      <td>8.2</td>\n",
       "    </tr>\n",
       "    <tr>\n",
       "      <td>Министерство культуры</td>\n",
       "      <td>Пока еще жива</td>\n",
       "      <td>5.620825e+03</td>\n",
       "      <td>8.1</td>\n",
       "    </tr>\n",
       "    <tr>\n",
       "      <td>Министерство культуры, Фонд кино</td>\n",
       "      <td>Мотылёк.</td>\n",
       "      <td>6.308585e+03</td>\n",
       "      <td>8.0</td>\n",
       "    </tr>\n",
       "    <tr>\n",
       "      <td>Министерство культуры</td>\n",
       "      <td>Байкал - Сердце мира 3D</td>\n",
       "      <td>NaN</td>\n",
       "      <td>8.0</td>\n",
       "    </tr>\n",
       "    <tr>\n",
       "      <td rowspan=\"4\" valign=\"top\">Фонд кино</td>\n",
       "      <td>Герой</td>\n",
       "      <td>2.659559e+06</td>\n",
       "      <td>7.9</td>\n",
       "    </tr>\n",
       "    <tr>\n",
       "      <td>Однажды._</td>\n",
       "      <td>1.961292e+05</td>\n",
       "      <td>7.9</td>\n",
       "    </tr>\n",
       "    <tr>\n",
       "      <td>Рок</td>\n",
       "      <td>7.325846e+03</td>\n",
       "      <td>7.8</td>\n",
       "    </tr>\n",
       "    <tr>\n",
       "      <td>Простая история .</td>\n",
       "      <td>9.033846e+02</td>\n",
       "      <td>7.8</td>\n",
       "    </tr>\n",
       "  </tbody>\n",
       "</table>\n",
       "</div>"
      ],
      "text/plain": [
       "                                                              fees_in$  \\\n",
       "financing_source                 title                                   \n",
       "Фонд кино                        БОЛЬШОЙ                  3.516588e+06   \n",
       "                                 А зори здесь тихие..._   3.833335e+06   \n",
       "                                 Миллиард                 6.286872e+06   \n",
       "Министерство культуры            Пока еще жива            5.620825e+03   \n",
       "Министерство культуры, Фонд кино Мотылёк.                 6.308585e+03   \n",
       "Министерство культуры            Байкал - Сердце мира 3D           NaN   \n",
       "Фонд кино                        Герой                    2.659559e+06   \n",
       "                                 Однажды._                1.961292e+05   \n",
       "                                 Рок                      7.325846e+03   \n",
       "                                 Простая история .        9.033846e+02   \n",
       "\n",
       "                                                          ratings  \n",
       "financing_source                 title                             \n",
       "Фонд кино                        БОЛЬШОЙ                      8.5  \n",
       "                                 А зори здесь тихие..._       8.5  \n",
       "                                 Миллиард                     8.2  \n",
       "Министерство культуры            Пока еще жива                8.1  \n",
       "Министерство культуры, Фонд кино Мотылёк.                     8.0  \n",
       "Министерство культуры            Байкал - Сердце мира 3D      8.0  \n",
       "Фонд кино                        Герой                        7.9  \n",
       "                                 Однажды._                    7.9  \n",
       "                                 Рок                          7.8  \n",
       "                                 Простая история .            7.8  "
      ]
     },
     "metadata": {},
     "output_type": "display_data"
    }
   ],
   "source": [
    "g = movies.pivot_table(index=[\"financing_source\", \"title\"], values=[\"fees_in$\",\"ratings\"],aggfunc=\"mean\").sort_values(by=\"ratings\",ascending=False)\n",
    "print(g[\"ratings\"].mean())\n",
    "display(g.head(10))"
   ]
  },
  {
   "cell_type": "markdown",
   "metadata": {},
   "source": [
    "The average rating for films that have received sufficient state support is about 6, and for films without state support - about 6.5"
   ]
  },
  {
   "cell_type": "code",
   "execution_count": 47,
   "metadata": {},
   "outputs": [
    {
     "data": {
      "image/png": "[encoded data removed]",
      "text/plain": [
       "<Figure size 432x288 with 1 Axes>"
      ]
     },
     "metadata": {
      "needs_background": "light"
     },
     "output_type": "display_data"
    }
   ],
   "source": [
    "co = movies.groupby(\"year\")[\"financing_source\"].count().plot()"
   ]
  },
  {
   "cell_type": "markdown",
   "metadata": {},
   "source": [
    "Films received the most assistance from the state in 2015, and growth also began to go from 17 to 19."
   ]
  },
  {
   "cell_type": "code",
   "execution_count": 48,
   "metadata": {
    "id": "W9QKpjUdgFyb"
   },
   "outputs": [
    {
     "data": {
      "image/png": "[encoded data removed]",
      "text/plain": [
       "<Figure size 432x288 with 1 Axes>"
      ]
     },
     "metadata": {
      "needs_background": "light"
     },
     "output_type": "display_data"
    }
   ],
   "source": [
    "# Let's check the dependence of the budget on the ratings\n",
    "bud = movies.groupby(\"ratings\")[\"fees_in$\"].median().plot()\n",
    "# There is no dependency"
   ]
  },
  {
   "cell_type": "code",
   "execution_count": 49,
   "metadata": {},
   "outputs": [
    {
     "data": {
      "text/html": [
       "<div>\n",
       "<style scoped>\n",
       "    .dataframe tbody tr th:only-of-type {\n",
       "        vertical-align: middle;\n",
       "    }\n",
       "\n",
       "    .dataframe tbody tr th {\n",
       "        vertical-align: top;\n",
       "    }\n",
       "\n",
       "    .dataframe thead th {\n",
       "        text-align: right;\n",
       "    }\n",
       "</style>\n",
       "<table border=\"1\" class=\"dataframe\">\n",
       "  <thead>\n",
       "    <tr style=\"text-align: right;\">\n",
       "      <th></th>\n",
       "      <th></th>\n",
       "      <th>fees_in$</th>\n",
       "    </tr>\n",
       "    <tr>\n",
       "      <th>financing_source</th>\n",
       "      <th>genres</th>\n",
       "      <th></th>\n",
       "    </tr>\n",
       "  </thead>\n",
       "  <tbody>\n",
       "    <tr>\n",
       "      <td>Фонд кино</td>\n",
       "      <td>фэнтези,ужасы</td>\n",
       "      <td>1.551919e+06</td>\n",
       "    </tr>\n",
       "    <tr>\n",
       "      <td>Министерство культуры</td>\n",
       "      <td>фэнтези,приключения,драма</td>\n",
       "      <td>7.985769e+02</td>\n",
       "    </tr>\n",
       "    <tr>\n",
       "      <td>Министерство культуры, Фонд кино</td>\n",
       "      <td>фэнтези,приключения</td>\n",
       "      <td>9.230769e+01</td>\n",
       "    </tr>\n",
       "    <tr>\n",
       "      <td>Фонд кино</td>\n",
       "      <td>фэнтези,комедия,семейный</td>\n",
       "      <td>7.873470e+06</td>\n",
       "    </tr>\n",
       "    <tr>\n",
       "      <td rowspan=\"4\" valign=\"top\">Министерство культуры</td>\n",
       "      <td>фэнтези,драма,детектив</td>\n",
       "      <td>2.130533e+05</td>\n",
       "    </tr>\n",
       "    <tr>\n",
       "      <td>...</td>\n",
       "      <td>...</td>\n",
       "    </tr>\n",
       "    <tr>\n",
       "      <td>биография,драма</td>\n",
       "      <td>1.520635e+04</td>\n",
       "    </tr>\n",
       "    <tr>\n",
       "      <td>биография,военный,драма</td>\n",
       "      <td>6.181607e+06</td>\n",
       "    </tr>\n",
       "    <tr>\n",
       "      <td>Министерство культуры, Фонд кино</td>\n",
       "      <td>None</td>\n",
       "      <td>1.743448e+05</td>\n",
       "    </tr>\n",
       "    <tr>\n",
       "      <td>Фонд кино</td>\n",
       "      <td>None</td>\n",
       "      <td>2.241279e+07</td>\n",
       "    </tr>\n",
       "    <tr>\n",
       "      <td>Министерство культуры</td>\n",
       "      <td>None</td>\n",
       "      <td>1.884645e+05</td>\n",
       "    </tr>\n",
       "  </tbody>\n",
       "</table>\n",
       "<p>168 rows × 1 columns</p>\n",
       "</div>"
      ],
      "text/plain": [
       "                                                                fees_in$\n",
       "financing_source                 genres                                 \n",
       "Фонд кино                        фэнтези,ужасы              1.551919e+06\n",
       "Министерство культуры            фэнтези,приключения,драма  7.985769e+02\n",
       "Министерство культуры, Фонд кино фэнтези,приключения        9.230769e+01\n",
       "Фонд кино                        фэнтези,комедия,семейный   7.873470e+06\n",
       "Министерство культуры            фэнтези,драма,детектив     2.130533e+05\n",
       "...                                                                  ...\n",
       "                                 биография,драма            1.520635e+04\n",
       "                                 биография,военный,драма    6.181607e+06\n",
       "Министерство культуры, Фонд кино None                       1.743448e+05\n",
       "Фонд кино                        None                       2.241279e+07\n",
       "Министерство культуры            None                       1.884645e+05\n",
       "\n",
       "[168 rows x 1 columns]"
      ]
     },
     "metadata": {},
     "output_type": "display_data"
    },
    {
     "name": "stdout",
     "output_type": "stream",
     "text": [
      "3602082.0483104396\n"
     ]
    }
   ],
   "source": [
    "j = movies.pivot_table(index=[\"financing_source\", \"genres\"], values=\"fees_in$\",aggfunc=\"sum\").sort_values(by=\"genres\",ascending=False)\n",
    "display(j)\n",
    "print(j[\"fees_in$\"].mean())"
   ]
  },
  {
   "cell_type": "markdown",
   "metadata": {},
   "source": [
    "Most of all, money is allocated to the genre - fantasy, and least of all to biographical films.\n",
    "On average, government-supported films gross $3.5 million."
   ]
  },
  {
   "cell_type": "code",
   "execution_count": 50,
   "metadata": {},
   "outputs": [
    {
     "data": {
      "text/plain": [
       "4667353.044532145"
      ]
     },
     "execution_count": 50,
     "metadata": {},
     "output_type": "execute_result"
    }
   ],
   "source": [
    "l = movies.pivot_table(index=\"genres\", values=\"fees_in$\",aggfunc=\"sum\").sort_values(by=\"genres\",ascending=False)\n",
    "l[\"fees_in$\"].mean()"
   ]
  },
  {
   "cell_type": "markdown",
   "metadata": {},
   "source": [
    "The average fee without state support is more - about $ 5 million"
   ]
  },
  {
   "cell_type": "markdown",
   "metadata": {
    "id": "V2gYwMcPgFyd"
   },
   "source": [
    "### Step 5. Conlcusion"
   ]
  },
  {
   "cell_type": "markdown",
   "metadata": {
    "id": "AYRg3dzXgFye"
   },
   "source": [
    "So, after conducting a study of data on Russian film distribution, we can draw the following conclusions:\n",
    "   1. The most films were released in 2010 and the least in 2019\n",
    "   2. The peak of fees was in the period from 2013 to 2014, and then a strong decline began from 14 to 16.\n",
    "   3. Most collected films, which was released in 2017. And he collected much more than other films.\n",
    "   4. 6+ films collected the most at the box office, and 0+ films the least\n",
    "   5. In 2017, I collected a lot of films with a 6+ restriction, and 18+ films are collected not so much.\n",
    "   6. Films that received state funding have lower box office and ratings than films without state support."
   ]
  }
 ],
 "metadata": {
  "ExecuteTimeLog": [
   {
    "duration": 537,
    "start_time": "2021-07-07T10:12:08.634Z"
   },
   {
    "duration": 206,
    "start_time": "2021-07-07T10:12:30.191Z"
   },
   {
    "duration": 227,
    "start_time": "2021-07-07T10:12:33.078Z"
   },
   {
    "duration": 153,
    "start_time": "2021-07-07T10:13:42.146Z"
   },
   {
    "duration": 233,
    "start_time": "2021-07-07T10:30:09.252Z"
   },
   {
    "duration": 19,
    "start_time": "2021-07-07T10:30:15.577Z"
   },
   {
    "duration": 18,
    "start_time": "2021-07-07T10:30:57.348Z"
   },
   {
    "duration": 19,
    "start_time": "2021-07-07T10:31:17.452Z"
   },
   {
    "duration": 21,
    "start_time": "2021-07-07T10:31:32.227Z"
   },
   {
    "duration": 27,
    "start_time": "2021-07-07T10:32:06.588Z"
   },
   {
    "duration": 23,
    "start_time": "2021-07-07T10:32:43.645Z"
   },
   {
    "duration": 24,
    "start_time": "2021-07-07T10:33:06.948Z"
   },
   {
    "duration": 7,
    "start_time": "2021-07-07T10:33:28.558Z"
   },
   {
    "duration": 23,
    "start_time": "2021-07-07T10:33:43.761Z"
   },
   {
    "duration": 28,
    "start_time": "2021-07-07T10:34:13.466Z"
   },
   {
    "duration": 23,
    "start_time": "2021-07-07T10:35:56.187Z"
   },
   {
    "duration": 6,
    "start_time": "2021-07-07T10:36:48.182Z"
   },
   {
    "duration": 14,
    "start_time": "2021-07-07T10:37:49.641Z"
   },
   {
    "duration": 6,
    "start_time": "2021-07-07T10:38:06.694Z"
   },
   {
    "duration": 6,
    "start_time": "2021-07-07T10:38:13.493Z"
   },
   {
    "duration": 19,
    "start_time": "2021-07-07T10:38:44.056Z"
   },
   {
    "duration": 186,
    "start_time": "2021-07-07T10:48:35.618Z"
   },
   {
    "duration": 24,
    "start_time": "2021-07-07T10:48:51.498Z"
   },
   {
    "duration": 20,
    "start_time": "2021-07-07T10:48:59.415Z"
   },
   {
    "duration": 20,
    "start_time": "2021-07-07T10:53:02.195Z"
   },
   {
    "duration": 188,
    "start_time": "2021-07-07T10:54:40.486Z"
   },
   {
    "duration": 115,
    "start_time": "2021-07-07T10:54:52.552Z"
   },
   {
    "duration": 214,
    "start_time": "2021-07-07T10:54:56.354Z"
   },
   {
    "duration": 47,
    "start_time": "2021-07-07T10:54:58.282Z"
   },
   {
    "duration": 217,
    "start_time": "2021-07-07T10:59:16.075Z"
   },
   {
    "duration": 51,
    "start_time": "2021-07-07T10:59:16.243Z"
   },
   {
    "duration": 578,
    "start_time": "2021-07-07T10:59:18.774Z"
   },
   {
    "duration": 161,
    "start_time": "2021-07-07T10:59:21.238Z"
   },
   {
    "duration": 59,
    "start_time": "2021-07-07T10:59:21.453Z"
   },
   {
    "duration": 3,
    "start_time": "2021-07-07T11:02:10.786Z"
   },
   {
    "duration": 13,
    "start_time": "2021-07-07T11:07:07.722Z"
   },
   {
    "duration": 26,
    "start_time": "2021-07-07T11:07:17.958Z"
   },
   {
    "duration": 22,
    "start_time": "2021-07-07T11:08:17.939Z"
   },
   {
    "duration": 212,
    "start_time": "2021-07-07T11:08:19.665Z"
   },
   {
    "duration": 21,
    "start_time": "2021-07-07T11:08:29.945Z"
   },
   {
    "duration": 31,
    "start_time": "2021-07-07T11:08:38.899Z"
   },
   {
    "duration": 23,
    "start_time": "2021-07-07T11:08:54.527Z"
   },
   {
    "duration": 8,
    "start_time": "2021-07-07T11:18:55.974Z"
   },
   {
    "duration": 7,
    "start_time": "2021-07-07T11:19:03.639Z"
   },
   {
    "duration": 7,
    "start_time": "2021-07-07T11:19:06.444Z"
   },
   {
    "duration": 578,
    "start_time": "2021-07-07T12:09:59.576Z"
   },
   {
    "duration": 195,
    "start_time": "2021-07-07T12:10:00.156Z"
   },
   {
    "duration": 115,
    "start_time": "2021-07-07T12:10:00.353Z"
   },
   {
    "duration": 3,
    "start_time": "2021-07-07T12:10:00.470Z"
   },
   {
    "duration": 32,
    "start_time": "2021-07-07T12:10:00.474Z"
   },
   {
    "duration": 23,
    "start_time": "2021-07-07T12:10:00.508Z"
   },
   {
    "duration": 19,
    "start_time": "2021-07-07T12:10:00.533Z"
   },
   {
    "duration": 44,
    "start_time": "2021-07-07T12:10:00.553Z"
   },
   {
    "duration": 7,
    "start_time": "2021-07-07T12:10:00.600Z"
   },
   {
    "duration": 7,
    "start_time": "2021-07-07T12:19:45.761Z"
   },
   {
    "duration": 21,
    "start_time": "2021-07-07T12:21:35.482Z"
   },
   {
    "duration": 21,
    "start_time": "2021-07-07T12:29:23.569Z"
   },
   {
    "duration": 525,
    "start_time": "2021-07-07T12:29:44.542Z"
   },
   {
    "duration": 214,
    "start_time": "2021-07-07T12:29:45.069Z"
   },
   {
    "duration": 92,
    "start_time": "2021-07-07T12:29:45.285Z"
   },
   {
    "duration": 3,
    "start_time": "2021-07-07T12:29:45.379Z"
   },
   {
    "duration": 28,
    "start_time": "2021-07-07T12:29:45.384Z"
   },
   {
    "duration": 23,
    "start_time": "2021-07-07T12:29:45.413Z"
   },
   {
    "duration": 21,
    "start_time": "2021-07-07T12:29:45.437Z"
   },
   {
    "duration": 41,
    "start_time": "2021-07-07T12:29:45.460Z"
   },
   {
    "duration": 7,
    "start_time": "2021-07-07T12:29:45.502Z"
   },
   {
    "duration": 20,
    "start_time": "2021-07-07T12:29:45.511Z"
   },
   {
    "duration": 12,
    "start_time": "2021-07-07T12:34:02.800Z"
   },
   {
    "duration": 7,
    "start_time": "2021-07-07T12:35:10.479Z"
   },
   {
    "duration": 8,
    "start_time": "2021-07-07T12:35:22.440Z"
   },
   {
    "duration": 6,
    "start_time": "2021-07-07T12:35:35.649Z"
   },
   {
    "duration": 6,
    "start_time": "2021-07-07T12:35:43.107Z"
   },
   {
    "duration": 22,
    "start_time": "2021-07-07T12:38:03.029Z"
   },
   {
    "duration": 10,
    "start_time": "2021-07-07T12:38:06.592Z"
   },
   {
    "duration": 563,
    "start_time": "2021-07-07T12:38:46.493Z"
   },
   {
    "duration": 265,
    "start_time": "2021-07-07T12:38:47.058Z"
   },
   {
    "duration": 94,
    "start_time": "2021-07-07T12:38:47.325Z"
   },
   {
    "duration": 3,
    "start_time": "2021-07-07T12:38:47.422Z"
   },
   {
    "duration": 30,
    "start_time": "2021-07-07T12:38:47.427Z"
   },
   {
    "duration": 16,
    "start_time": "2021-07-07T12:38:53.305Z"
   },
   {
    "duration": 10,
    "start_time": "2021-07-07T12:38:53.499Z"
   },
   {
    "duration": 8,
    "start_time": "2021-07-07T12:39:48.161Z"
   },
   {
    "duration": 27,
    "start_time": "2021-07-07T12:41:17.629Z"
   },
   {
    "duration": 17,
    "start_time": "2021-07-07T12:41:17.867Z"
   },
   {
    "duration": 21,
    "start_time": "2021-07-07T12:41:19.310Z"
   },
   {
    "duration": 7,
    "start_time": "2021-07-07T12:41:19.544Z"
   },
   {
    "duration": 20,
    "start_time": "2021-07-07T12:41:20.504Z"
   },
   {
    "duration": 554,
    "start_time": "2021-07-07T12:56:23.696Z"
   },
   {
    "duration": 200,
    "start_time": "2021-07-07T12:56:25.234Z"
   },
   {
    "duration": 119,
    "start_time": "2021-07-07T12:56:25.480Z"
   },
   {
    "duration": 4,
    "start_time": "2021-07-07T12:56:25.762Z"
   },
   {
    "duration": 26,
    "start_time": "2021-07-07T12:56:27.172Z"
   },
   {
    "duration": 12,
    "start_time": "2021-07-07T12:56:29.051Z"
   },
   {
    "duration": 10,
    "start_time": "2021-07-07T12:56:29.291Z"
   },
   {
    "duration": 8,
    "start_time": "2021-07-07T12:56:29.623Z"
   },
   {
    "duration": 28,
    "start_time": "2021-07-07T12:56:32.137Z"
   },
   {
    "duration": 19,
    "start_time": "2021-07-07T12:56:39.785Z"
   },
   {
    "duration": 20,
    "start_time": "2021-07-07T12:56:44.297Z"
   },
   {
    "duration": 7,
    "start_time": "2021-07-07T12:56:45.392Z"
   },
   {
    "duration": 23,
    "start_time": "2021-07-07T12:56:46.615Z"
   },
   {
    "duration": 4,
    "start_time": "2021-07-07T12:57:06.625Z"
   },
   {
    "duration": 32,
    "start_time": "2021-07-07T12:57:36.690Z"
   },
   {
    "duration": 18,
    "start_time": "2021-07-07T12:58:00.149Z"
   },
   {
    "duration": 15,
    "start_time": "2021-07-07T12:59:16.793Z"
   },
   {
    "duration": 7,
    "start_time": "2021-07-07T13:19:22.624Z"
   },
   {
    "duration": 6,
    "start_time": "2021-07-07T14:17:33.527Z"
   },
   {
    "duration": 9,
    "start_time": "2021-07-07T14:17:48.409Z"
   },
   {
    "duration": 8,
    "start_time": "2021-07-07T14:20:13.060Z"
   },
   {
    "duration": 8,
    "start_time": "2021-07-07T14:20:37.957Z"
   },
   {
    "duration": 8,
    "start_time": "2021-07-07T14:20:47.470Z"
   },
   {
    "duration": 9,
    "start_time": "2021-07-07T14:20:54.503Z"
   },
   {
    "duration": 10,
    "start_time": "2021-07-07T14:28:57.763Z"
   },
   {
    "duration": 3,
    "start_time": "2021-07-07T14:30:23.377Z"
   },
   {
    "duration": 3,
    "start_time": "2021-07-07T14:30:36.489Z"
   },
   {
    "duration": 103,
    "start_time": "2021-07-07T14:30:52.351Z"
   },
   {
    "duration": 8,
    "start_time": "2021-07-07T14:30:54.763Z"
   },
   {
    "duration": 8,
    "start_time": "2021-07-07T14:31:29.301Z"
   },
   {
    "duration": 13,
    "start_time": "2021-07-07T14:31:44.516Z"
   },
   {
    "duration": 7,
    "start_time": "2021-07-07T14:33:10.972Z"
   },
   {
    "duration": 11,
    "start_time": "2021-07-07T14:33:27.780Z"
   },
   {
    "duration": 8,
    "start_time": "2021-07-07T14:34:44.588Z"
   },
   {
    "duration": 57,
    "start_time": "2021-07-07T14:35:59.042Z"
   },
   {
    "duration": 3,
    "start_time": "2021-07-07T14:36:28.168Z"
   },
   {
    "duration": 5,
    "start_time": "2021-07-07T14:36:46.254Z"
   },
   {
    "duration": 4,
    "start_time": "2021-07-07T14:36:52.714Z"
   },
   {
    "duration": 3,
    "start_time": "2021-07-07T14:36:56.612Z"
   },
   {
    "duration": 4,
    "start_time": "2021-07-07T14:36:57.049Z"
   },
   {
    "duration": 3,
    "start_time": "2021-07-07T14:39:21.214Z"
   },
   {
    "duration": 7,
    "start_time": "2021-07-07T14:39:52.406Z"
   },
   {
    "duration": 11,
    "start_time": "2021-07-07T14:39:58.576Z"
   },
   {
    "duration": 9,
    "start_time": "2021-07-07T14:40:26.301Z"
   },
   {
    "duration": 10,
    "start_time": "2021-07-07T14:40:31.704Z"
   },
   {
    "duration": 11,
    "start_time": "2021-07-07T14:40:36.249Z"
   },
   {
    "duration": 10,
    "start_time": "2021-07-07T14:40:39.783Z"
   },
   {
    "duration": 9,
    "start_time": "2021-07-07T14:40:48.558Z"
   },
   {
    "duration": 10,
    "start_time": "2021-07-07T14:40:57.143Z"
   },
   {
    "duration": 9,
    "start_time": "2021-07-07T14:41:06.074Z"
   },
   {
    "duration": 4324,
    "start_time": "2021-07-07T14:41:22.004Z"
   },
   {
    "duration": 11,
    "start_time": "2021-07-07T14:41:33.392Z"
   },
   {
    "duration": 9,
    "start_time": "2021-07-07T14:41:39.288Z"
   },
   {
    "duration": 569,
    "start_time": "2021-07-07T14:42:14.387Z"
   },
   {
    "duration": 197,
    "start_time": "2021-07-07T14:42:14.959Z"
   },
   {
    "duration": 84,
    "start_time": "2021-07-07T14:42:16.052Z"
   },
   {
    "duration": 4,
    "start_time": "2021-07-07T14:42:16.900Z"
   },
   {
    "duration": 27,
    "start_time": "2021-07-07T14:42:19.898Z"
   },
   {
    "duration": 12,
    "start_time": "2021-07-07T14:42:21.577Z"
   },
   {
    "duration": 9,
    "start_time": "2021-07-07T14:42:21.813Z"
   },
   {
    "duration": 9,
    "start_time": "2021-07-07T14:42:22.569Z"
   },
   {
    "duration": 29,
    "start_time": "2021-07-07T14:42:25.837Z"
   },
   {
    "duration": 20,
    "start_time": "2021-07-07T14:42:27.003Z"
   },
   {
    "duration": 21,
    "start_time": "2021-07-07T14:42:28.767Z"
   },
   {
    "duration": 7,
    "start_time": "2021-07-07T14:42:29.838Z"
   },
   {
    "duration": 4,
    "start_time": "2021-07-07T14:43:25.493Z"
   },
   {
    "duration": 7,
    "start_time": "2021-07-07T14:43:26.573Z"
   },
   {
    "duration": 10,
    "start_time": "2021-07-07T14:43:31.639Z"
   },
   {
    "duration": 9,
    "start_time": "2021-07-07T14:43:32.046Z"
   },
   {
    "duration": 10,
    "start_time": "2021-07-07T14:43:33.301Z"
   },
   {
    "duration": 12,
    "start_time": "2021-07-07T14:43:33.658Z"
   },
   {
    "duration": 8,
    "start_time": "2021-07-07T14:43:34.552Z"
   },
   {
    "duration": 9,
    "start_time": "2021-07-07T14:43:35.058Z"
   },
   {
    "duration": 12,
    "start_time": "2021-07-07T14:43:35.914Z"
   },
   {
    "duration": 17,
    "start_time": "2021-07-07T14:45:34.368Z"
   },
   {
    "duration": 512,
    "start_time": "2021-07-07T14:51:58.236Z"
   },
   {
    "duration": 223,
    "start_time": "2021-07-07T14:51:58.750Z"
   },
   {
    "duration": 93,
    "start_time": "2021-07-07T14:51:58.977Z"
   },
   {
    "duration": 4,
    "start_time": "2021-07-07T14:51:59.071Z"
   },
   {
    "duration": 37,
    "start_time": "2021-07-07T14:51:59.077Z"
   },
   {
    "duration": 18,
    "start_time": "2021-07-07T14:51:59.116Z"
   },
   {
    "duration": 10,
    "start_time": "2021-07-07T14:51:59.137Z"
   },
   {
    "duration": 8,
    "start_time": "2021-07-07T14:51:59.149Z"
   },
   {
    "duration": 54,
    "start_time": "2021-07-07T14:51:59.158Z"
   },
   {
    "duration": 18,
    "start_time": "2021-07-07T14:51:59.213Z"
   },
   {
    "duration": 22,
    "start_time": "2021-07-07T14:51:59.232Z"
   },
   {
    "duration": 36,
    "start_time": "2021-07-07T14:51:59.255Z"
   },
   {
    "duration": 7,
    "start_time": "2021-07-07T14:51:59.293Z"
   },
   {
    "duration": 10,
    "start_time": "2021-07-07T14:51:59.302Z"
   },
   {
    "duration": 9,
    "start_time": "2021-07-07T14:51:59.313Z"
   },
   {
    "duration": 11,
    "start_time": "2021-07-07T14:51:59.324Z"
   },
   {
    "duration": 8,
    "start_time": "2021-07-07T14:51:59.337Z"
   },
   {
    "duration": 46,
    "start_time": "2021-07-07T14:51:59.347Z"
   },
   {
    "duration": 22,
    "start_time": "2021-07-07T14:51:59.395Z"
   },
   {
    "duration": 24,
    "start_time": "2021-07-07T14:57:32.911Z"
   },
   {
    "duration": 7,
    "start_time": "2021-07-07T14:58:22.070Z"
   },
   {
    "duration": 4,
    "start_time": "2021-07-07T14:59:11.239Z"
   },
   {
    "duration": 25,
    "start_time": "2021-07-07T15:07:22.208Z"
   },
   {
    "duration": 16,
    "start_time": "2021-07-07T15:08:25.560Z"
   },
   {
    "duration": 15,
    "start_time": "2021-07-07T15:08:40.647Z"
   },
   {
    "duration": 14,
    "start_time": "2021-07-07T15:08:46.669Z"
   },
   {
    "duration": 533,
    "start_time": "2021-07-07T15:18:07.440Z"
   },
   {
    "duration": 173,
    "start_time": "2021-07-07T15:18:07.974Z"
   },
   {
    "duration": 84,
    "start_time": "2021-07-07T15:18:08.149Z"
   },
   {
    "duration": 3,
    "start_time": "2021-07-07T15:18:08.235Z"
   },
   {
    "duration": 30,
    "start_time": "2021-07-07T15:18:08.240Z"
   },
   {
    "duration": 22,
    "start_time": "2021-07-07T15:18:08.272Z"
   },
   {
    "duration": 11,
    "start_time": "2021-07-07T15:18:08.295Z"
   },
   {
    "duration": 11,
    "start_time": "2021-07-07T15:18:08.309Z"
   },
   {
    "duration": 40,
    "start_time": "2021-07-07T15:18:08.322Z"
   },
   {
    "duration": 42,
    "start_time": "2021-07-07T15:18:08.364Z"
   },
   {
    "duration": 22,
    "start_time": "2021-07-07T15:18:08.408Z"
   },
   {
    "duration": 5,
    "start_time": "2021-07-07T15:18:08.432Z"
   },
   {
    "duration": 13,
    "start_time": "2021-07-07T15:18:08.439Z"
   },
   {
    "duration": 9,
    "start_time": "2021-07-07T15:18:08.454Z"
   },
   {
    "duration": 32,
    "start_time": "2021-07-07T15:18:08.465Z"
   },
   {
    "duration": 10,
    "start_time": "2021-07-07T15:18:08.501Z"
   },
   {
    "duration": 7,
    "start_time": "2021-07-07T15:18:08.513Z"
   },
   {
    "duration": 11,
    "start_time": "2021-07-07T15:18:08.521Z"
   },
   {
    "duration": 17,
    "start_time": "2021-07-07T15:18:08.534Z"
   },
   {
    "duration": 44,
    "start_time": "2021-07-07T15:18:08.553Z"
   },
   {
    "duration": 22,
    "start_time": "2021-07-07T15:18:08.599Z"
   },
   {
    "duration": 61,
    "start_time": "2021-07-07T15:18:08.622Z"
   },
   {
    "duration": 7,
    "start_time": "2021-07-07T15:18:39.457Z"
   },
   {
    "duration": 5,
    "start_time": "2021-07-07T16:05:17.020Z"
   },
   {
    "duration": 5,
    "start_time": "2021-07-07T16:51:28.794Z"
   },
   {
    "duration": 546,
    "start_time": "2021-07-07T16:52:26.306Z"
   },
   {
    "duration": 203,
    "start_time": "2021-07-07T16:52:27.523Z"
   },
   {
    "duration": 85,
    "start_time": "2021-07-07T16:52:27.736Z"
   },
   {
    "duration": 4,
    "start_time": "2021-07-07T16:52:27.899Z"
   },
   {
    "duration": 25,
    "start_time": "2021-07-07T16:52:28.674Z"
   },
   {
    "duration": 8,
    "start_time": "2021-07-07T16:52:32.956Z"
   },
   {
    "duration": 18,
    "start_time": "2021-07-07T16:52:35.616Z"
   },
   {
    "duration": 6,
    "start_time": "2021-07-07T16:52:36.913Z"
   },
   {
    "duration": 11,
    "start_time": "2021-07-07T16:52:40.258Z"
   },
   {
    "duration": 10,
    "start_time": "2021-07-07T16:52:46.251Z"
   },
   {
    "duration": 8,
    "start_time": "2021-07-07T16:52:47.182Z"
   },
   {
    "duration": 27,
    "start_time": "2021-07-07T16:53:20.391Z"
   },
   {
    "duration": 20,
    "start_time": "2021-07-07T16:53:22.022Z"
   },
   {
    "duration": 23,
    "start_time": "2021-07-07T16:53:23.690Z"
   },
   {
    "duration": 8,
    "start_time": "2021-07-07T16:53:24.261Z"
   },
   {
    "duration": 4,
    "start_time": "2021-07-07T16:53:38.733Z"
   },
   {
    "duration": 7,
    "start_time": "2021-07-07T16:53:40.445Z"
   },
   {
    "duration": 11,
    "start_time": "2021-07-07T16:53:41.348Z"
   },
   {
    "duration": 13,
    "start_time": "2021-07-07T16:53:45.250Z"
   },
   {
    "duration": 12,
    "start_time": "2021-07-07T16:53:45.467Z"
   },
   {
    "duration": 4,
    "start_time": "2021-07-07T16:55:32.704Z"
   },
   {
    "duration": 12,
    "start_time": "2021-07-07T16:55:49.012Z"
   },
   {
    "duration": 18,
    "start_time": "2021-07-07T16:55:49.547Z"
   },
   {
    "duration": 611,
    "start_time": "2021-07-07T16:58:35.156Z"
   },
   {
    "duration": 200,
    "start_time": "2021-07-07T16:58:35.770Z"
   },
   {
    "duration": 86,
    "start_time": "2021-07-07T16:58:35.972Z"
   },
   {
    "duration": 3,
    "start_time": "2021-07-07T16:58:36.060Z"
   },
   {
    "duration": 27,
    "start_time": "2021-07-07T16:58:36.065Z"
   },
   {
    "duration": 8,
    "start_time": "2021-07-07T16:58:36.094Z"
   },
   {
    "duration": 17,
    "start_time": "2021-07-07T16:58:36.103Z"
   },
   {
    "duration": 5,
    "start_time": "2021-07-07T16:58:36.123Z"
   },
   {
    "duration": 11,
    "start_time": "2021-07-07T16:58:36.130Z"
   },
   {
    "duration": 7,
    "start_time": "2021-07-07T16:58:36.143Z"
   },
   {
    "duration": 37,
    "start_time": "2021-07-07T16:58:36.152Z"
   },
   {
    "duration": 27,
    "start_time": "2021-07-07T16:58:36.191Z"
   },
   {
    "duration": 19,
    "start_time": "2021-07-07T16:58:36.219Z"
   },
   {
    "duration": 49,
    "start_time": "2021-07-07T16:58:36.240Z"
   },
   {
    "duration": 6,
    "start_time": "2021-07-07T16:58:36.291Z"
   },
   {
    "duration": 3,
    "start_time": "2021-07-07T16:58:36.299Z"
   },
   {
    "duration": 13,
    "start_time": "2021-07-07T16:58:36.304Z"
   },
   {
    "duration": 10,
    "start_time": "2021-07-07T16:58:36.319Z"
   },
   {
    "duration": 10,
    "start_time": "2021-07-07T16:58:36.331Z"
   },
   {
    "duration": 44,
    "start_time": "2021-07-07T16:58:36.343Z"
   },
   {
    "duration": 4,
    "start_time": "2021-07-07T16:58:36.388Z"
   },
   {
    "duration": 13,
    "start_time": "2021-07-07T16:58:36.394Z"
   },
   {
    "duration": 16,
    "start_time": "2021-07-07T16:58:36.410Z"
   },
   {
    "duration": 8,
    "start_time": "2021-07-07T17:02:31.629Z"
   },
   {
    "duration": 8,
    "start_time": "2021-07-07T17:02:34.308Z"
   },
   {
    "duration": 6,
    "start_time": "2021-07-07T17:05:13.483Z"
   },
   {
    "duration": 17,
    "start_time": "2021-07-07T17:05:20.606Z"
   },
   {
    "duration": 7,
    "start_time": "2021-07-07T17:05:34.638Z"
   },
   {
    "duration": 3,
    "start_time": "2021-07-07T17:06:31.883Z"
   },
   {
    "duration": 570,
    "start_time": "2021-07-07T17:06:37.165Z"
   },
   {
    "duration": 174,
    "start_time": "2021-07-07T17:06:37.737Z"
   },
   {
    "duration": 47,
    "start_time": "2021-07-07T17:06:37.913Z"
   },
   {
    "duration": 3,
    "start_time": "2021-07-07T17:06:37.962Z"
   },
   {
    "duration": 27,
    "start_time": "2021-07-07T17:06:37.967Z"
   },
   {
    "duration": 7,
    "start_time": "2021-07-07T17:06:37.996Z"
   },
   {
    "duration": 16,
    "start_time": "2021-07-07T17:06:38.005Z"
   },
   {
    "duration": 6,
    "start_time": "2021-07-07T17:06:38.024Z"
   },
   {
    "duration": 12,
    "start_time": "2021-07-07T17:06:38.031Z"
   },
   {
    "duration": 41,
    "start_time": "2021-07-07T17:06:38.045Z"
   },
   {
    "duration": 8,
    "start_time": "2021-07-07T17:06:38.088Z"
   },
   {
    "duration": 26,
    "start_time": "2021-07-07T17:06:38.098Z"
   },
   {
    "duration": 17,
    "start_time": "2021-07-07T17:06:38.126Z"
   },
   {
    "duration": 43,
    "start_time": "2021-07-07T17:06:38.144Z"
   },
   {
    "duration": 6,
    "start_time": "2021-07-07T17:06:38.188Z"
   },
   {
    "duration": 5,
    "start_time": "2021-07-07T17:06:38.195Z"
   },
   {
    "duration": 9,
    "start_time": "2021-07-07T17:06:38.201Z"
   },
   {
    "duration": 12,
    "start_time": "2021-07-07T17:06:38.212Z"
   },
   {
    "duration": 11,
    "start_time": "2021-07-07T17:06:38.226Z"
   },
   {
    "duration": 47,
    "start_time": "2021-07-07T17:06:38.239Z"
   },
   {
    "duration": 4,
    "start_time": "2021-07-07T17:06:38.288Z"
   },
   {
    "duration": 13,
    "start_time": "2021-07-07T17:06:38.293Z"
   },
   {
    "duration": 5,
    "start_time": "2021-07-07T17:06:38.309Z"
   },
   {
    "duration": 18,
    "start_time": "2021-07-07T17:06:38.325Z"
   },
   {
    "duration": 20,
    "start_time": "2021-07-07T17:07:02.805Z"
   },
   {
    "duration": 19,
    "start_time": "2021-07-07T17:07:08.527Z"
   },
   {
    "duration": 19,
    "start_time": "2021-07-07T17:07:12.758Z"
   },
   {
    "duration": 22,
    "start_time": "2021-07-07T17:07:17.497Z"
   },
   {
    "duration": 19,
    "start_time": "2021-07-07T17:07:19.645Z"
   },
   {
    "duration": 10,
    "start_time": "2021-07-07T17:07:34.239Z"
   },
   {
    "duration": 17,
    "start_time": "2021-07-07T17:07:54.144Z"
   },
   {
    "duration": 14,
    "start_time": "2021-07-07T17:08:14.357Z"
   },
   {
    "duration": 616,
    "start_time": "2021-07-07T17:08:45.254Z"
   },
   {
    "duration": 178,
    "start_time": "2021-07-07T17:08:45.872Z"
   },
   {
    "duration": 60,
    "start_time": "2021-07-07T17:08:46.054Z"
   },
   {
    "duration": 3,
    "start_time": "2021-07-07T17:08:46.116Z"
   },
   {
    "duration": 26,
    "start_time": "2021-07-07T17:08:46.121Z"
   },
   {
    "duration": 7,
    "start_time": "2021-07-07T17:08:46.149Z"
   },
   {
    "duration": 17,
    "start_time": "2021-07-07T17:08:46.158Z"
   },
   {
    "duration": 14,
    "start_time": "2021-07-07T17:08:46.176Z"
   },
   {
    "duration": 17,
    "start_time": "2021-07-07T17:08:46.193Z"
   },
   {
    "duration": 9,
    "start_time": "2021-07-07T17:08:46.211Z"
   },
   {
    "duration": 21,
    "start_time": "2021-07-07T17:08:46.221Z"
   },
   {
    "duration": 49,
    "start_time": "2021-07-07T17:08:46.244Z"
   },
   {
    "duration": 24,
    "start_time": "2021-07-07T17:08:46.295Z"
   },
   {
    "duration": 22,
    "start_time": "2021-07-07T17:08:46.321Z"
   },
   {
    "duration": 6,
    "start_time": "2021-07-07T17:08:46.345Z"
   },
   {
    "duration": 5,
    "start_time": "2021-07-07T17:08:46.353Z"
   },
   {
    "duration": 13,
    "start_time": "2021-07-07T17:08:46.386Z"
   },
   {
    "duration": 12,
    "start_time": "2021-07-07T17:08:46.402Z"
   },
   {
    "duration": 10,
    "start_time": "2021-07-07T17:08:46.415Z"
   },
   {
    "duration": 7,
    "start_time": "2021-07-07T17:08:46.427Z"
   },
   {
    "duration": 8,
    "start_time": "2021-07-07T17:08:46.435Z"
   },
   {
    "duration": 68,
    "start_time": "2021-07-07T17:08:46.446Z"
   },
   {
    "duration": 13,
    "start_time": "2021-07-07T17:08:46.516Z"
   },
   {
    "duration": 78,
    "start_time": "2021-07-07T17:08:46.530Z"
   },
   {
    "duration": 40,
    "start_time": "2021-07-07T17:09:08.185Z"
   },
   {
    "duration": 16,
    "start_time": "2021-07-07T17:09:19.324Z"
   },
   {
    "duration": 21,
    "start_time": "2021-07-07T17:09:23.290Z"
   },
   {
    "duration": 13,
    "start_time": "2021-07-07T17:09:54.812Z"
   },
   {
    "duration": 13,
    "start_time": "2021-07-07T17:10:02.039Z"
   },
   {
    "duration": 10,
    "start_time": "2021-07-07T17:10:29.632Z"
   },
   {
    "duration": 13,
    "start_time": "2021-07-07T17:10:52.372Z"
   },
   {
    "duration": 13,
    "start_time": "2021-07-07T17:11:17.270Z"
   },
   {
    "duration": 13,
    "start_time": "2021-07-07T17:14:59.284Z"
   },
   {
    "duration": 547,
    "start_time": "2021-07-07T17:18:52.403Z"
   },
   {
    "duration": 163,
    "start_time": "2021-07-07T17:18:52.952Z"
   },
   {
    "duration": 44,
    "start_time": "2021-07-07T17:18:53.117Z"
   },
   {
    "duration": 3,
    "start_time": "2021-07-07T17:18:53.162Z"
   },
   {
    "duration": 26,
    "start_time": "2021-07-07T17:18:53.167Z"
   },
   {
    "duration": 6,
    "start_time": "2021-07-07T17:18:53.195Z"
   },
   {
    "duration": 15,
    "start_time": "2021-07-07T17:18:53.203Z"
   },
   {
    "duration": 5,
    "start_time": "2021-07-07T17:18:53.220Z"
   },
   {
    "duration": 11,
    "start_time": "2021-07-07T17:18:53.228Z"
   },
   {
    "duration": 9,
    "start_time": "2021-07-07T17:18:53.241Z"
   },
   {
    "duration": 41,
    "start_time": "2021-07-07T17:18:53.252Z"
   },
   {
    "duration": 33,
    "start_time": "2021-07-07T17:18:53.295Z"
   },
   {
    "duration": 19,
    "start_time": "2021-07-07T17:18:53.330Z"
   },
   {
    "duration": 49,
    "start_time": "2021-07-07T17:18:53.350Z"
   },
   {
    "duration": 5,
    "start_time": "2021-07-07T17:18:53.401Z"
   },
   {
    "duration": 5,
    "start_time": "2021-07-07T17:18:53.408Z"
   },
   {
    "duration": 11,
    "start_time": "2021-07-07T17:18:53.414Z"
   },
   {
    "duration": 9,
    "start_time": "2021-07-07T17:18:53.427Z"
   },
   {
    "duration": 10,
    "start_time": "2021-07-07T17:18:53.437Z"
   },
   {
    "duration": 39,
    "start_time": "2021-07-07T17:18:53.448Z"
   },
   {
    "duration": 26,
    "start_time": "2021-07-07T17:18:55.799Z"
   },
   {
    "duration": 598,
    "start_time": "2021-07-07T17:20:17.862Z"
   },
   {
    "duration": 161,
    "start_time": "2021-07-07T17:20:18.462Z"
   },
   {
    "duration": 45,
    "start_time": "2021-07-07T17:20:18.626Z"
   },
   {
    "duration": 4,
    "start_time": "2021-07-07T17:20:18.673Z"
   },
   {
    "duration": 38,
    "start_time": "2021-07-07T17:20:26.877Z"
   },
   {
    "duration": 7,
    "start_time": "2021-07-07T17:20:37.405Z"
   },
   {
    "duration": 19,
    "start_time": "2021-07-07T17:20:51.534Z"
   },
   {
    "duration": 5,
    "start_time": "2021-07-07T17:20:57.228Z"
   },
   {
    "duration": 7,
    "start_time": "2021-07-07T17:21:08.235Z"
   },
   {
    "duration": 19,
    "start_time": "2021-07-07T17:21:42.158Z"
   },
   {
    "duration": 14,
    "start_time": "2021-07-07T17:21:50.225Z"
   },
   {
    "duration": 22,
    "start_time": "2021-07-07T17:22:54.104Z"
   },
   {
    "duration": 5,
    "start_time": "2021-07-07T17:22:56.371Z"
   },
   {
    "duration": 14,
    "start_time": "2021-07-07T17:22:58.316Z"
   },
   {
    "duration": 5,
    "start_time": "2021-07-07T17:22:58.493Z"
   },
   {
    "duration": 35,
    "start_time": "2021-07-07T17:22:59.666Z"
   },
   {
    "duration": 6,
    "start_time": "2021-07-07T17:23:02.410Z"
   },
   {
    "duration": 611,
    "start_time": "2021-07-07T17:24:59.664Z"
   },
   {
    "duration": 178,
    "start_time": "2021-07-07T17:25:01.945Z"
   },
   {
    "duration": 47,
    "start_time": "2021-07-07T17:25:02.125Z"
   },
   {
    "duration": 2,
    "start_time": "2021-07-07T17:25:07.903Z"
   },
   {
    "duration": 254,
    "start_time": "2021-07-07T17:25:08.232Z"
   },
   {
    "duration": 182,
    "start_time": "2021-07-07T17:25:08.671Z"
   },
   {
    "duration": 6,
    "start_time": "2021-07-07T17:25:13.104Z"
   },
   {
    "duration": 36,
    "start_time": "2021-07-07T17:25:13.662Z"
   },
   {
    "duration": 7,
    "start_time": "2021-07-07T17:25:14.528Z"
   },
   {
    "duration": 24,
    "start_time": "2021-07-07T17:25:27.982Z"
   },
   {
    "duration": 3,
    "start_time": "2021-07-07T17:25:48.982Z"
   },
   {
    "duration": 165,
    "start_time": "2021-07-07T17:25:48.987Z"
   },
   {
    "duration": 50,
    "start_time": "2021-07-07T17:25:49.154Z"
   },
   {
    "duration": 4,
    "start_time": "2021-07-07T17:25:49.206Z"
   },
   {
    "duration": 26,
    "start_time": "2021-07-07T17:25:49.212Z"
   },
   {
    "duration": 7,
    "start_time": "2021-07-07T17:25:49.240Z"
   },
   {
    "duration": 16,
    "start_time": "2021-07-07T17:25:49.249Z"
   },
   {
    "duration": 22,
    "start_time": "2021-07-07T17:25:49.266Z"
   },
   {
    "duration": 16,
    "start_time": "2021-07-07T17:25:49.291Z"
   },
   {
    "duration": 9,
    "start_time": "2021-07-07T17:25:49.309Z"
   },
   {
    "duration": 7,
    "start_time": "2021-07-07T17:25:49.319Z"
   },
   {
    "duration": 28,
    "start_time": "2021-07-07T17:25:49.328Z"
   },
   {
    "duration": 44,
    "start_time": "2021-07-07T17:25:49.357Z"
   },
   {
    "duration": 22,
    "start_time": "2021-07-07T17:25:49.403Z"
   },
   {
    "duration": 7,
    "start_time": "2021-07-07T17:25:49.427Z"
   },
   {
    "duration": 3,
    "start_time": "2021-07-07T17:25:49.436Z"
   },
   {
    "duration": 44,
    "start_time": "2021-07-07T17:25:49.441Z"
   },
   {
    "duration": 12,
    "start_time": "2021-07-07T17:25:49.488Z"
   },
   {
    "duration": 13,
    "start_time": "2021-07-07T17:25:49.502Z"
   },
   {
    "duration": 10,
    "start_time": "2021-07-07T17:25:49.516Z"
   },
   {
    "duration": 62,
    "start_time": "2021-07-07T17:25:49.527Z"
   },
   {
    "duration": 26,
    "start_time": "2021-07-07T17:26:51.809Z"
   },
   {
    "duration": 26,
    "start_time": "2021-07-07T17:26:55.759Z"
   },
   {
    "duration": 26,
    "start_time": "2021-07-07T17:27:04.501Z"
   },
   {
    "duration": 25,
    "start_time": "2021-07-07T17:28:24.859Z"
   },
   {
    "duration": 21,
    "start_time": "2021-07-07T17:28:55.250Z"
   },
   {
    "duration": 21,
    "start_time": "2021-07-07T17:28:58.885Z"
   },
   {
    "duration": 7,
    "start_time": "2021-07-07T17:45:40.972Z"
   },
   {
    "duration": 13,
    "start_time": "2021-07-07T17:45:42.529Z"
   },
   {
    "duration": 27,
    "start_time": "2021-07-07T17:45:51.026Z"
   },
   {
    "duration": 518,
    "start_time": "2021-07-07T17:46:15.532Z"
   },
   {
    "duration": 235,
    "start_time": "2021-07-07T17:46:16.053Z"
   },
   {
    "duration": 80,
    "start_time": "2021-07-07T17:46:16.292Z"
   },
   {
    "duration": 5,
    "start_time": "2021-07-07T17:46:16.373Z"
   },
   {
    "duration": 26,
    "start_time": "2021-07-07T17:46:16.380Z"
   },
   {
    "duration": 7,
    "start_time": "2021-07-07T17:46:16.408Z"
   },
   {
    "duration": 16,
    "start_time": "2021-07-07T17:46:16.418Z"
   },
   {
    "duration": 5,
    "start_time": "2021-07-07T17:46:16.436Z"
   },
   {
    "duration": 13,
    "start_time": "2021-07-07T17:46:16.442Z"
   },
   {
    "duration": 35,
    "start_time": "2021-07-07T17:46:16.456Z"
   },
   {
    "duration": 8,
    "start_time": "2021-07-07T17:46:16.493Z"
   },
   {
    "duration": 28,
    "start_time": "2021-07-07T17:46:16.502Z"
   },
   {
    "duration": 17,
    "start_time": "2021-07-07T17:46:16.532Z"
   },
   {
    "duration": 44,
    "start_time": "2021-07-07T17:46:16.551Z"
   },
   {
    "duration": 6,
    "start_time": "2021-07-07T17:46:16.597Z"
   },
   {
    "duration": 4,
    "start_time": "2021-07-07T17:46:16.605Z"
   },
   {
    "duration": 9,
    "start_time": "2021-07-07T17:46:16.610Z"
   },
   {
    "duration": 9,
    "start_time": "2021-07-07T17:46:16.621Z"
   },
   {
    "duration": 10,
    "start_time": "2021-07-07T17:46:16.632Z"
   },
   {
    "duration": 43,
    "start_time": "2021-07-07T17:46:16.644Z"
   },
   {
    "duration": 26,
    "start_time": "2021-07-07T17:46:16.689Z"
   },
   {
    "duration": 19,
    "start_time": "2021-07-07T17:46:16.718Z"
   },
   {
    "duration": 8,
    "start_time": "2021-07-07T17:46:16.738Z"
   },
   {
    "duration": 43,
    "start_time": "2021-07-07T17:46:16.747Z"
   },
   {
    "duration": 19,
    "start_time": "2021-07-07T17:46:16.791Z"
   },
   {
    "duration": 9,
    "start_time": "2021-07-07T17:46:16.812Z"
   },
   {
    "duration": 60,
    "start_time": "2021-07-07T17:46:16.822Z"
   },
   {
    "duration": -8,
    "start_time": "2021-07-07T17:46:16.892Z"
   },
   {
    "duration": 12,
    "start_time": "2021-07-07T17:48:47.707Z"
   },
   {
    "duration": 553,
    "start_time": "2021-07-07T18:10:09.350Z"
   },
   {
    "duration": 230,
    "start_time": "2021-07-07T18:10:09.905Z"
   },
   {
    "duration": 97,
    "start_time": "2021-07-07T18:10:10.137Z"
   },
   {
    "duration": 5,
    "start_time": "2021-07-07T18:10:10.236Z"
   },
   {
    "duration": 29,
    "start_time": "2021-07-07T18:10:10.242Z"
   },
   {
    "duration": 7,
    "start_time": "2021-07-07T18:10:10.272Z"
   },
   {
    "duration": 15,
    "start_time": "2021-07-07T18:10:10.281Z"
   },
   {
    "duration": 4,
    "start_time": "2021-07-07T18:10:10.299Z"
   },
   {
    "duration": 14,
    "start_time": "2021-07-07T18:10:10.305Z"
   },
   {
    "duration": 8,
    "start_time": "2021-07-07T18:10:10.321Z"
   },
   {
    "duration": 8,
    "start_time": "2021-07-07T18:10:10.331Z"
   },
   {
    "duration": 56,
    "start_time": "2021-07-07T18:10:10.341Z"
   },
   {
    "duration": 19,
    "start_time": "2021-07-07T18:10:10.399Z"
   },
   {
    "duration": 23,
    "start_time": "2021-07-07T18:10:10.419Z"
   },
   {
    "duration": 6,
    "start_time": "2021-07-07T18:10:10.444Z"
   },
   {
    "duration": 9,
    "start_time": "2021-07-07T18:10:10.451Z"
   },
   {
    "duration": 30,
    "start_time": "2021-07-07T18:10:10.462Z"
   },
   {
    "duration": 9,
    "start_time": "2021-07-07T18:10:10.494Z"
   },
   {
    "duration": 14,
    "start_time": "2021-07-07T18:10:10.505Z"
   },
   {
    "duration": 7,
    "start_time": "2021-07-07T18:10:10.521Z"
   },
   {
    "duration": 26,
    "start_time": "2021-07-07T18:10:10.530Z"
   },
   {
    "duration": 44,
    "start_time": "2021-07-07T18:10:10.558Z"
   },
   {
    "duration": 7,
    "start_time": "2021-07-07T18:10:10.605Z"
   },
   {
    "duration": 11,
    "start_time": "2021-07-07T18:10:10.614Z"
   },
   {
    "duration": 19,
    "start_time": "2021-07-07T18:10:10.626Z"
   },
   {
    "duration": 44,
    "start_time": "2021-07-07T18:10:10.646Z"
   },
   {
    "duration": 516,
    "start_time": "2021-07-07T18:14:00.826Z"
   },
   {
    "duration": 230,
    "start_time": "2021-07-07T18:14:01.344Z"
   },
   {
    "duration": 105,
    "start_time": "2021-07-07T18:14:01.576Z"
   },
   {
    "duration": 5,
    "start_time": "2021-07-07T18:14:01.683Z"
   },
   {
    "duration": 46,
    "start_time": "2021-07-07T18:14:01.690Z"
   },
   {
    "duration": 7,
    "start_time": "2021-07-07T18:14:01.738Z"
   },
   {
    "duration": 20,
    "start_time": "2021-07-07T18:14:01.747Z"
   },
   {
    "duration": 16,
    "start_time": "2021-07-07T18:14:01.769Z"
   },
   {
    "duration": 14,
    "start_time": "2021-07-07T18:14:01.787Z"
   },
   {
    "duration": 15,
    "start_time": "2021-07-07T18:14:01.803Z"
   },
   {
    "duration": 12,
    "start_time": "2021-07-07T18:14:01.820Z"
   },
   {
    "duration": 35,
    "start_time": "2021-07-07T18:14:01.833Z"
   },
   {
    "duration": 31,
    "start_time": "2021-07-07T18:14:01.869Z"
   },
   {
    "duration": 37,
    "start_time": "2021-07-07T18:14:01.902Z"
   },
   {
    "duration": 8,
    "start_time": "2021-07-07T18:14:01.942Z"
   },
   {
    "duration": 16,
    "start_time": "2021-07-07T18:14:01.952Z"
   },
   {
    "duration": 13,
    "start_time": "2021-07-07T18:14:01.970Z"
   },
   {
    "duration": 32,
    "start_time": "2021-07-07T18:14:01.985Z"
   },
   {
    "duration": 11,
    "start_time": "2021-07-07T18:14:02.019Z"
   },
   {
    "duration": 22,
    "start_time": "2021-07-07T18:14:02.031Z"
   },
   {
    "duration": 27,
    "start_time": "2021-07-07T18:14:02.055Z"
   },
   {
    "duration": 18,
    "start_time": "2021-07-07T18:14:02.084Z"
   },
   {
    "duration": 18,
    "start_time": "2021-07-07T18:14:02.106Z"
   },
   {
    "duration": 11,
    "start_time": "2021-07-07T18:14:02.126Z"
   },
   {
    "duration": 21,
    "start_time": "2021-07-07T18:14:02.138Z"
   },
   {
    "duration": 32,
    "start_time": "2021-07-07T18:14:02.161Z"
   },
   {
    "duration": 28,
    "start_time": "2021-07-07T18:14:44.295Z"
   },
   {
    "duration": 6,
    "start_time": "2021-07-07T18:15:05.834Z"
   },
   {
    "duration": 511,
    "start_time": "2021-07-07T18:15:41.541Z"
   },
   {
    "duration": 183,
    "start_time": "2021-07-07T18:15:42.054Z"
   },
   {
    "duration": 50,
    "start_time": "2021-07-07T18:15:42.239Z"
   },
   {
    "duration": 5,
    "start_time": "2021-07-07T18:15:42.291Z"
   },
   {
    "duration": 48,
    "start_time": "2021-07-07T18:15:42.297Z"
   },
   {
    "duration": 8,
    "start_time": "2021-07-07T18:15:42.346Z"
   },
   {
    "duration": 17,
    "start_time": "2021-07-07T18:15:42.356Z"
   },
   {
    "duration": 15,
    "start_time": "2021-07-07T18:15:42.375Z"
   },
   {
    "duration": 12,
    "start_time": "2021-07-07T18:15:42.392Z"
   },
   {
    "duration": 7,
    "start_time": "2021-07-07T18:15:42.406Z"
   },
   {
    "duration": 7,
    "start_time": "2021-07-07T18:15:42.415Z"
   },
   {
    "duration": 29,
    "start_time": "2021-07-07T18:15:42.423Z"
   },
   {
    "duration": 43,
    "start_time": "2021-07-07T18:15:42.453Z"
   },
   {
    "duration": 18,
    "start_time": "2021-07-07T18:15:42.497Z"
   },
   {
    "duration": 6,
    "start_time": "2021-07-07T18:15:42.516Z"
   },
   {
    "duration": 3,
    "start_time": "2021-07-07T18:15:42.523Z"
   },
   {
    "duration": 18,
    "start_time": "2021-07-07T18:15:42.528Z"
   },
   {
    "duration": 10,
    "start_time": "2021-07-07T18:15:42.547Z"
   },
   {
    "duration": 36,
    "start_time": "2021-07-07T18:15:42.559Z"
   },
   {
    "duration": 8,
    "start_time": "2021-07-07T18:15:42.597Z"
   },
   {
    "duration": 28,
    "start_time": "2021-07-07T18:15:42.606Z"
   },
   {
    "duration": 52,
    "start_time": "2021-07-07T18:15:42.635Z"
   },
   {
    "duration": 7,
    "start_time": "2021-07-07T18:15:42.690Z"
   },
   {
    "duration": 10,
    "start_time": "2021-07-07T18:15:42.699Z"
   },
   {
    "duration": 19,
    "start_time": "2021-07-07T18:15:42.711Z"
   },
   {
    "duration": 9,
    "start_time": "2021-07-07T18:15:42.732Z"
   },
   {
    "duration": 5,
    "start_time": "2021-07-07T18:15:42.743Z"
   },
   {
    "duration": 1450,
    "start_time": "2021-07-07T18:15:51.984Z"
   },
   {
    "duration": 161,
    "start_time": "2021-07-07T18:15:53.435Z"
   },
   {
    "duration": 124,
    "start_time": "2021-07-07T18:15:53.598Z"
   },
   {
    "duration": 5,
    "start_time": "2021-07-07T18:15:53.724Z"
   },
   {
    "duration": 34,
    "start_time": "2021-07-07T18:15:53.730Z"
   },
   {
    "duration": 7,
    "start_time": "2021-07-07T18:15:53.765Z"
   },
   {
    "duration": 15,
    "start_time": "2021-07-07T18:15:53.773Z"
   },
   {
    "duration": 5,
    "start_time": "2021-07-07T18:15:53.791Z"
   },
   {
    "duration": 19,
    "start_time": "2021-07-07T18:15:53.798Z"
   },
   {
    "duration": 9,
    "start_time": "2021-07-07T18:15:53.818Z"
   },
   {
    "duration": 19,
    "start_time": "2021-07-07T18:15:53.828Z"
   },
   {
    "duration": 27,
    "start_time": "2021-07-07T18:15:53.848Z"
   },
   {
    "duration": 16,
    "start_time": "2021-07-07T18:15:53.884Z"
   },
   {
    "duration": 29,
    "start_time": "2021-07-07T18:15:53.901Z"
   },
   {
    "duration": 5,
    "start_time": "2021-07-07T18:15:53.932Z"
   },
   {
    "duration": 15,
    "start_time": "2021-07-07T18:15:53.939Z"
   },
   {
    "duration": 13,
    "start_time": "2021-07-07T18:15:53.956Z"
   },
   {
    "duration": 20,
    "start_time": "2021-07-07T18:15:53.971Z"
   },
   {
    "duration": 14,
    "start_time": "2021-07-07T18:15:53.992Z"
   },
   {
    "duration": 9,
    "start_time": "2021-07-07T18:15:54.009Z"
   },
   {
    "duration": 28,
    "start_time": "2021-07-07T18:15:54.020Z"
   },
   {
    "duration": 50,
    "start_time": "2021-07-07T18:15:54.051Z"
   },
   {
    "duration": 8,
    "start_time": "2021-07-07T18:15:54.105Z"
   },
   {
    "duration": 11,
    "start_time": "2021-07-07T18:15:54.115Z"
   },
   {
    "duration": 20,
    "start_time": "2021-07-07T18:15:54.128Z"
   },
   {
    "duration": 13,
    "start_time": "2021-07-07T18:15:54.184Z"
   },
   {
    "duration": 7,
    "start_time": "2021-07-07T18:15:54.199Z"
   },
   {
    "duration": 7,
    "start_time": "2021-07-07T18:17:08.042Z"
   },
   {
    "duration": 8,
    "start_time": "2021-07-07T18:17:21.008Z"
   },
   {
    "duration": 7,
    "start_time": "2021-07-07T18:17:29.003Z"
   },
   {
    "duration": 8,
    "start_time": "2021-07-07T18:17:32.492Z"
   },
   {
    "duration": 9,
    "start_time": "2021-07-07T18:17:41.758Z"
   },
   {
    "duration": 255,
    "start_time": "2021-07-07T18:20:20.897Z"
   },
   {
    "duration": 173,
    "start_time": "2021-07-07T18:20:26.636Z"
   },
   {
    "duration": 7,
    "start_time": "2021-07-07T18:21:47.164Z"
   },
   {
    "duration": 254,
    "start_time": "2021-07-07T18:23:08.703Z"
   },
   {
    "duration": 21,
    "start_time": "2021-07-07T18:23:22.506Z"
   },
   {
    "duration": 315,
    "start_time": "2021-07-07T18:25:54.801Z"
   },
   {
    "duration": 34,
    "start_time": "2021-07-07T18:26:51.817Z"
   },
   {
    "duration": 327,
    "start_time": "2021-07-07T18:26:56.147Z"
   },
   {
    "duration": 342,
    "start_time": "2021-07-07T18:27:15.887Z"
   },
   {
    "duration": 302,
    "start_time": "2021-07-07T18:28:18.569Z"
   },
   {
    "duration": 226,
    "start_time": "2021-07-07T18:29:20.879Z"
   },
   {
    "duration": 207,
    "start_time": "2021-07-07T18:29:58.114Z"
   },
   {
    "duration": 140,
    "start_time": "2021-07-07T18:32:04.372Z"
   },
   {
    "duration": 158,
    "start_time": "2021-07-07T18:32:32.508Z"
   },
   {
    "duration": 145,
    "start_time": "2021-07-07T18:32:41.365Z"
   },
   {
    "duration": 132,
    "start_time": "2021-07-07T18:32:45.199Z"
   },
   {
    "duration": 11,
    "start_time": "2021-07-07T18:35:24.679Z"
   },
   {
    "duration": 268,
    "start_time": "2021-07-07T18:36:16.145Z"
   },
   {
    "duration": 227,
    "start_time": "2021-07-07T18:37:04.918Z"
   },
   {
    "duration": 3,
    "start_time": "2021-07-07T18:37:33.012Z"
   },
   {
    "duration": 671,
    "start_time": "2021-07-07T18:37:38.295Z"
   },
   {
    "duration": 54,
    "start_time": "2021-07-07T18:37:53.406Z"
   },
   {
    "duration": 631,
    "start_time": "2021-07-07T18:37:56.463Z"
   },
   {
    "duration": 19,
    "start_time": "2021-07-07T18:39:40.535Z"
   },
   {
    "duration": 20,
    "start_time": "2021-07-07T18:40:12.236Z"
   },
   {
    "duration": 633,
    "start_time": "2021-07-07T18:42:00.398Z"
   },
   {
    "duration": 218,
    "start_time": "2021-07-07T18:42:01.033Z"
   },
   {
    "duration": 49,
    "start_time": "2021-07-07T18:42:01.253Z"
   },
   {
    "duration": 5,
    "start_time": "2021-07-07T18:42:01.303Z"
   },
   {
    "duration": 27,
    "start_time": "2021-07-07T18:42:01.310Z"
   },
   {
    "duration": 8,
    "start_time": "2021-07-07T18:42:01.339Z"
   },
   {
    "duration": 20,
    "start_time": "2021-07-07T18:42:01.348Z"
   },
   {
    "duration": 6,
    "start_time": "2021-07-07T18:42:01.386Z"
   },
   {
    "duration": 16,
    "start_time": "2021-07-07T18:42:01.394Z"
   },
   {
    "duration": 9,
    "start_time": "2021-07-07T18:42:01.411Z"
   },
   {
    "duration": 11,
    "start_time": "2021-07-07T18:42:01.421Z"
   },
   {
    "duration": 31,
    "start_time": "2021-07-07T18:42:01.434Z"
   },
   {
    "duration": 18,
    "start_time": "2021-07-07T18:42:01.485Z"
   },
   {
    "duration": 23,
    "start_time": "2021-07-07T18:42:01.505Z"
   },
   {
    "duration": 6,
    "start_time": "2021-07-07T18:42:01.530Z"
   },
   {
    "duration": 10,
    "start_time": "2021-07-07T18:42:01.538Z"
   },
   {
    "duration": 13,
    "start_time": "2021-07-07T18:42:01.550Z"
   },
   {
    "duration": 24,
    "start_time": "2021-07-07T18:42:01.564Z"
   },
   {
    "duration": 20,
    "start_time": "2021-07-07T18:42:01.590Z"
   },
   {
    "duration": 8,
    "start_time": "2021-07-07T18:42:01.611Z"
   },
   {
    "duration": 31,
    "start_time": "2021-07-07T18:42:01.620Z"
   },
   {
    "duration": 39,
    "start_time": "2021-07-07T18:42:01.653Z"
   },
   {
    "duration": 8,
    "start_time": "2021-07-07T18:42:01.696Z"
   },
   {
    "duration": 13,
    "start_time": "2021-07-07T18:42:01.705Z"
   },
   {
    "duration": 20,
    "start_time": "2021-07-07T18:42:01.720Z"
   },
   {
    "duration": 12,
    "start_time": "2021-07-07T18:42:01.741Z"
   },
   {
    "duration": 35,
    "start_time": "2021-07-07T18:42:01.755Z"
   },
   {
    "duration": 14,
    "start_time": "2021-07-07T18:42:01.792Z"
   },
   {
    "duration": 188,
    "start_time": "2021-07-07T18:42:01.808Z"
   },
   {
    "duration": 19,
    "start_time": "2021-07-07T18:42:01.998Z"
   },
   {
    "duration": 175,
    "start_time": "2021-07-07T18:42:02.019Z"
   },
   {
    "duration": 134,
    "start_time": "2021-07-07T18:42:02.196Z"
   },
   {
    "duration": 10,
    "start_time": "2021-07-07T18:42:02.331Z"
   },
   {
    "duration": 19,
    "start_time": "2021-07-07T18:42:02.343Z"
   },
   {
    "duration": 628,
    "start_time": "2021-07-07T18:46:30.701Z"
   },
   {
    "duration": 183,
    "start_time": "2021-07-07T18:46:31.331Z"
   },
   {
    "duration": 48,
    "start_time": "2021-07-07T18:46:31.516Z"
   },
   {
    "duration": 5,
    "start_time": "2021-07-07T18:46:31.566Z"
   },
   {
    "duration": 28,
    "start_time": "2021-07-07T18:46:31.572Z"
   },
   {
    "duration": 8,
    "start_time": "2021-07-07T18:46:31.602Z"
   },
   {
    "duration": 19,
    "start_time": "2021-07-07T18:46:31.611Z"
   },
   {
    "duration": 6,
    "start_time": "2021-07-07T18:46:31.633Z"
   },
   {
    "duration": 17,
    "start_time": "2021-07-07T18:46:31.642Z"
   },
   {
    "duration": 10,
    "start_time": "2021-07-07T18:46:31.684Z"
   },
   {
    "duration": 9,
    "start_time": "2021-07-07T18:46:31.695Z"
   },
   {
    "duration": 28,
    "start_time": "2021-07-07T18:46:31.705Z"
   },
   {
    "duration": 18,
    "start_time": "2021-07-07T18:46:31.735Z"
   },
   {
    "duration": 48,
    "start_time": "2021-07-07T18:46:31.755Z"
   },
   {
    "duration": 6,
    "start_time": "2021-07-07T18:46:31.804Z"
   },
   {
    "duration": 4,
    "start_time": "2021-07-07T18:46:31.812Z"
   },
   {
    "duration": 9,
    "start_time": "2021-07-07T18:46:31.817Z"
   },
   {
    "duration": 10,
    "start_time": "2021-07-07T18:46:31.827Z"
   },
   {
    "duration": 12,
    "start_time": "2021-07-07T18:46:31.838Z"
   },
   {
    "duration": 39,
    "start_time": "2021-07-07T18:46:31.851Z"
   },
   {
    "duration": 24,
    "start_time": "2021-07-07T18:46:31.892Z"
   },
   {
    "duration": 15,
    "start_time": "2021-07-07T18:46:31.918Z"
   },
   {
    "duration": 7,
    "start_time": "2021-07-07T18:46:31.936Z"
   },
   {
    "duration": 8,
    "start_time": "2021-07-07T18:46:31.944Z"
   },
   {
    "duration": 19,
    "start_time": "2021-07-07T18:46:31.984Z"
   },
   {
    "duration": 10,
    "start_time": "2021-07-07T18:46:32.004Z"
   },
   {
    "duration": 5,
    "start_time": "2021-07-07T18:46:32.016Z"
   },
   {
    "duration": 9,
    "start_time": "2021-07-07T18:46:32.023Z"
   },
   {
    "duration": 199,
    "start_time": "2021-07-07T18:46:32.033Z"
   },
   {
    "duration": 19,
    "start_time": "2021-07-07T18:46:32.234Z"
   },
   {
    "duration": 159,
    "start_time": "2021-07-07T18:46:32.255Z"
   },
   {
    "duration": 134,
    "start_time": "2021-07-07T18:46:32.416Z"
   },
   {
    "duration": 10,
    "start_time": "2021-07-07T18:46:32.552Z"
   },
   {
    "duration": 34,
    "start_time": "2021-07-07T18:46:32.563Z"
   },
   {
    "duration": 1039,
    "start_time": "2021-07-08T08:41:09.419Z"
   },
   {
    "duration": 333,
    "start_time": "2021-07-08T08:41:10.459Z"
   },
   {
    "duration": 173,
    "start_time": "2021-07-08T08:41:10.794Z"
   },
   {
    "duration": 5,
    "start_time": "2021-07-08T08:41:10.968Z"
   },
   {
    "duration": 25,
    "start_time": "2021-07-08T08:41:10.975Z"
   },
   {
    "duration": 9,
    "start_time": "2021-07-08T08:41:11.002Z"
   },
   {
    "duration": 18,
    "start_time": "2021-07-08T08:41:11.013Z"
   },
   {
    "duration": 6,
    "start_time": "2021-07-08T08:41:11.033Z"
   },
   {
    "duration": 44,
    "start_time": "2021-07-08T08:41:11.042Z"
   },
   {
    "duration": 10,
    "start_time": "2021-07-08T08:41:11.088Z"
   },
   {
    "duration": 9,
    "start_time": "2021-07-08T08:41:11.100Z"
   },
   {
    "duration": 27,
    "start_time": "2021-07-08T08:41:11.111Z"
   },
   {
    "duration": 46,
    "start_time": "2021-07-08T08:41:11.140Z"
   },
   {
    "duration": 17,
    "start_time": "2021-07-08T08:41:11.187Z"
   },
   {
    "duration": 6,
    "start_time": "2021-07-08T08:41:11.206Z"
   },
   {
    "duration": 5,
    "start_time": "2021-07-08T08:41:11.213Z"
   },
   {
    "duration": 10,
    "start_time": "2021-07-08T08:41:11.219Z"
   },
   {
    "duration": 9,
    "start_time": "2021-07-08T08:41:11.230Z"
   },
   {
    "duration": 45,
    "start_time": "2021-07-08T08:41:11.241Z"
   },
   {
    "duration": 7,
    "start_time": "2021-07-08T08:41:11.287Z"
   },
   {
    "duration": 24,
    "start_time": "2021-07-08T08:41:11.296Z"
   },
   {
    "duration": 16,
    "start_time": "2021-07-08T08:41:11.322Z"
   },
   {
    "duration": 7,
    "start_time": "2021-07-08T08:41:11.341Z"
   },
   {
    "duration": 41,
    "start_time": "2021-07-08T08:41:11.349Z"
   },
   {
    "duration": 17,
    "start_time": "2021-07-08T08:41:11.391Z"
   },
   {
    "duration": 9,
    "start_time": "2021-07-08T08:41:11.410Z"
   },
   {
    "duration": 5,
    "start_time": "2021-07-08T08:41:11.421Z"
   },
   {
    "duration": 6,
    "start_time": "2021-07-08T08:41:11.428Z"
   },
   {
    "duration": 198,
    "start_time": "2021-07-08T08:41:11.435Z"
   },
   {
    "duration": 18,
    "start_time": "2021-07-08T08:41:11.635Z"
   },
   {
    "duration": 155,
    "start_time": "2021-07-08T08:41:11.655Z"
   },
   {
    "duration": 138,
    "start_time": "2021-07-08T08:41:11.811Z"
   },
   {
    "duration": 10,
    "start_time": "2021-07-08T08:41:11.950Z"
   },
   {
    "duration": 29,
    "start_time": "2021-07-08T08:41:11.961Z"
   },
   {
    "duration": 171,
    "start_time": "2021-07-08T08:47:44.522Z"
   },
   {
    "duration": 124,
    "start_time": "2021-07-08T08:47:46.872Z"
   },
   {
    "duration": 191,
    "start_time": "2021-07-08T08:47:58.148Z"
   },
   {
    "duration": 191,
    "start_time": "2021-07-08T08:48:07.412Z"
   },
   {
    "duration": 261,
    "start_time": "2021-07-08T08:48:10.385Z"
   },
   {
    "duration": 255,
    "start_time": "2021-07-08T08:48:14.494Z"
   },
   {
    "duration": 219,
    "start_time": "2021-07-08T08:48:22.752Z"
   },
   {
    "duration": 173,
    "start_time": "2021-07-08T08:49:06.395Z"
   },
   {
    "duration": 180,
    "start_time": "2021-07-08T08:49:21.011Z"
   },
   {
    "duration": 6,
    "start_time": "2021-07-08T08:50:31.697Z"
   },
   {
    "duration": 10,
    "start_time": "2021-07-08T08:50:47.394Z"
   },
   {
    "duration": 11,
    "start_time": "2021-07-08T08:53:49.332Z"
   },
   {
    "duration": 171,
    "start_time": "2021-07-08T08:54:28.408Z"
   },
   {
    "duration": 636,
    "start_time": "2021-07-08T09:02:48.385Z"
   },
   {
    "duration": 227,
    "start_time": "2021-07-08T09:02:49.023Z"
   },
   {
    "duration": 104,
    "start_time": "2021-07-08T09:02:49.252Z"
   },
   {
    "duration": 5,
    "start_time": "2021-07-08T09:02:49.358Z"
   },
   {
    "duration": 27,
    "start_time": "2021-07-08T09:02:49.365Z"
   },
   {
    "duration": 8,
    "start_time": "2021-07-08T09:02:49.394Z"
   },
   {
    "duration": 18,
    "start_time": "2021-07-08T09:02:49.404Z"
   },
   {
    "duration": 6,
    "start_time": "2021-07-08T09:02:49.424Z"
   },
   {
    "duration": 11,
    "start_time": "2021-07-08T09:02:49.433Z"
   },
   {
    "duration": 13,
    "start_time": "2021-07-08T09:02:49.485Z"
   },
   {
    "duration": 9,
    "start_time": "2021-07-08T09:02:49.500Z"
   },
   {
    "duration": 38,
    "start_time": "2021-07-08T09:02:49.511Z"
   },
   {
    "duration": 42,
    "start_time": "2021-07-08T09:02:49.551Z"
   },
   {
    "duration": 21,
    "start_time": "2021-07-08T09:02:49.594Z"
   },
   {
    "duration": 6,
    "start_time": "2021-07-08T09:02:49.616Z"
   },
   {
    "duration": 3,
    "start_time": "2021-07-08T09:02:49.623Z"
   },
   {
    "duration": 9,
    "start_time": "2021-07-08T09:02:49.628Z"
   },
   {
    "duration": 52,
    "start_time": "2021-07-08T09:02:49.638Z"
   },
   {
    "duration": 11,
    "start_time": "2021-07-08T09:02:49.692Z"
   },
   {
    "duration": 8,
    "start_time": "2021-07-08T09:02:49.704Z"
   },
   {
    "duration": 27,
    "start_time": "2021-07-08T09:02:49.713Z"
   },
   {
    "duration": 59,
    "start_time": "2021-07-08T09:02:49.741Z"
   },
   {
    "duration": 8,
    "start_time": "2021-07-08T09:02:49.803Z"
   },
   {
    "duration": 14,
    "start_time": "2021-07-08T09:02:49.813Z"
   },
   {
    "duration": 20,
    "start_time": "2021-07-08T09:02:49.829Z"
   },
   {
    "duration": 44,
    "start_time": "2021-07-08T09:02:49.851Z"
   },
   {
    "duration": 14,
    "start_time": "2021-07-08T09:02:49.896Z"
   },
   {
    "duration": 221,
    "start_time": "2021-07-08T09:02:49.912Z"
   },
   {
    "duration": 6,
    "start_time": "2021-07-08T09:02:50.134Z"
   },
   {
    "duration": 206,
    "start_time": "2021-07-08T09:02:50.142Z"
   },
   {
    "duration": 19,
    "start_time": "2021-07-08T09:02:50.350Z"
   },
   {
    "duration": 21,
    "start_time": "2021-07-08T09:02:50.370Z"
   },
   {
    "duration": 20,
    "start_time": "2021-07-08T09:02:50.393Z"
   },
   {
    "duration": 5,
    "start_time": "2021-07-08T09:02:50.414Z"
   },
   {
    "duration": 5,
    "start_time": "2021-07-08T09:03:34.173Z"
   },
   {
    "duration": 6,
    "start_time": "2021-07-08T09:04:49.062Z"
   },
   {
    "duration": 9,
    "start_time": "2021-07-08T09:04:50.118Z"
   },
   {
    "duration": 14,
    "start_time": "2021-07-08T09:04:58.512Z"
   },
   {
    "duration": 9,
    "start_time": "2021-07-08T09:05:10.988Z"
   },
   {
    "duration": 11,
    "start_time": "2021-07-08T09:05:11.743Z"
   },
   {
    "duration": 7,
    "start_time": "2021-07-08T09:05:25.677Z"
   },
   {
    "duration": 13,
    "start_time": "2021-07-08T09:05:47.189Z"
   },
   {
    "duration": 13,
    "start_time": "2021-07-08T09:05:54.755Z"
   },
   {
    "duration": 4,
    "start_time": "2021-07-08T09:06:29.189Z"
   },
   {
    "duration": 244,
    "start_time": "2021-07-08T09:06:29.195Z"
   },
   {
    "duration": 91,
    "start_time": "2021-07-08T09:06:29.441Z"
   },
   {
    "duration": 4,
    "start_time": "2021-07-08T09:06:29.534Z"
   },
   {
    "duration": 28,
    "start_time": "2021-07-08T09:06:29.540Z"
   },
   {
    "duration": 6,
    "start_time": "2021-07-08T09:06:29.570Z"
   },
   {
    "duration": 18,
    "start_time": "2021-07-08T09:06:29.578Z"
   },
   {
    "duration": 5,
    "start_time": "2021-07-08T09:06:29.597Z"
   },
   {
    "duration": 13,
    "start_time": "2021-07-08T09:06:29.605Z"
   },
   {
    "duration": 8,
    "start_time": "2021-07-08T09:06:29.620Z"
   },
   {
    "duration": 7,
    "start_time": "2021-07-08T09:06:29.630Z"
   },
   {
    "duration": 63,
    "start_time": "2021-07-08T09:06:29.639Z"
   },
   {
    "duration": 17,
    "start_time": "2021-07-08T09:06:29.704Z"
   },
   {
    "duration": 20,
    "start_time": "2021-07-08T09:06:29.723Z"
   },
   {
    "duration": 6,
    "start_time": "2021-07-08T09:06:29.745Z"
   },
   {
    "duration": 3,
    "start_time": "2021-07-08T09:06:29.752Z"
   },
   {
    "duration": 7,
    "start_time": "2021-07-08T09:06:29.785Z"
   },
   {
    "duration": 11,
    "start_time": "2021-07-08T09:06:29.794Z"
   },
   {
    "duration": 15,
    "start_time": "2021-07-08T09:06:29.807Z"
   },
   {
    "duration": 8,
    "start_time": "2021-07-08T09:06:29.823Z"
   },
   {
    "duration": 70,
    "start_time": "2021-07-08T09:06:29.832Z"
   },
   {
    "duration": 17,
    "start_time": "2021-07-08T09:06:29.903Z"
   },
   {
    "duration": 9,
    "start_time": "2021-07-08T09:06:29.921Z"
   },
   {
    "duration": 9,
    "start_time": "2021-07-08T09:06:29.932Z"
   },
   {
    "duration": 57,
    "start_time": "2021-07-08T09:06:29.942Z"
   },
   {
    "duration": 11,
    "start_time": "2021-07-08T09:06:30.001Z"
   },
   {
    "duration": 19,
    "start_time": "2021-07-08T09:06:30.016Z"
   },
   {
    "duration": 217,
    "start_time": "2021-07-08T09:06:30.037Z"
   },
   {
    "duration": 6,
    "start_time": "2021-07-08T09:06:30.255Z"
   },
   {
    "duration": 205,
    "start_time": "2021-07-08T09:06:30.263Z"
   },
   {
    "duration": 27,
    "start_time": "2021-07-08T09:06:30.470Z"
   },
   {
    "duration": 11,
    "start_time": "2021-07-08T09:06:30.500Z"
   },
   {
    "duration": 31,
    "start_time": "2021-07-08T09:06:30.513Z"
   },
   {
    "duration": 18,
    "start_time": "2021-07-08T09:06:30.546Z"
   },
   {
    "duration": 11,
    "start_time": "2021-07-08T09:06:30.566Z"
   },
   {
    "duration": 19,
    "start_time": "2021-07-08T09:06:30.579Z"
   },
   {
    "duration": 20,
    "start_time": "2021-07-08T09:06:49.466Z"
   },
   {
    "duration": 9,
    "start_time": "2021-07-08T09:06:51.994Z"
   },
   {
    "duration": 20,
    "start_time": "2021-07-08T09:06:52.273Z"
   },
   {
    "duration": 246,
    "start_time": "2021-07-08T09:10:21.272Z"
   },
   {
    "duration": 84,
    "start_time": "2021-07-08T09:10:21.436Z"
   },
   {
    "duration": 7,
    "start_time": "2021-07-08T09:10:37.608Z"
   },
   {
    "duration": 189,
    "start_time": "2021-07-08T09:10:38.573Z"
   },
   {
    "duration": 185,
    "start_time": "2021-07-08T09:10:53.181Z"
   },
   {
    "duration": 11,
    "start_time": "2021-07-08T09:10:59.549Z"
   },
   {
    "duration": 42,
    "start_time": "2021-07-08T09:10:59.709Z"
   },
   {
    "duration": 12,
    "start_time": "2021-07-08T09:11:02.857Z"
   },
   {
    "duration": 28,
    "start_time": "2021-07-08T09:11:10.062Z"
   },
   {
    "duration": 249,
    "start_time": "2021-07-08T09:11:37.388Z"
   },
   {
    "duration": 232,
    "start_time": "2021-07-08T09:11:49.485Z"
   },
   {
    "duration": 453,
    "start_time": "2021-07-08T09:12:01.546Z"
   },
   {
    "duration": 440,
    "start_time": "2021-07-08T09:12:12.347Z"
   },
   {
    "duration": 213,
    "start_time": "2021-07-08T09:13:32.196Z"
   },
   {
    "duration": 172,
    "start_time": "2021-07-08T09:14:07.400Z"
   },
   {
    "duration": 185,
    "start_time": "2021-07-08T09:14:14.905Z"
   },
   {
    "duration": 209,
    "start_time": "2021-07-08T09:14:40.109Z"
   },
   {
    "duration": 201,
    "start_time": "2021-07-08T09:14:54.506Z"
   },
   {
    "duration": 622,
    "start_time": "2021-07-08T09:18:14.497Z"
   },
   {
    "duration": 220,
    "start_time": "2021-07-08T09:18:15.121Z"
   },
   {
    "duration": 79,
    "start_time": "2021-07-08T09:18:15.343Z"
   },
   {
    "duration": 4,
    "start_time": "2021-07-08T09:18:15.425Z"
   },
   {
    "duration": 24,
    "start_time": "2021-07-08T09:18:15.431Z"
   },
   {
    "duration": 8,
    "start_time": "2021-07-08T09:18:15.457Z"
   },
   {
    "duration": 16,
    "start_time": "2021-07-08T09:18:15.466Z"
   },
   {
    "duration": 5,
    "start_time": "2021-07-08T09:18:15.484Z"
   },
   {
    "duration": 10,
    "start_time": "2021-07-08T09:18:15.493Z"
   },
   {
    "duration": 8,
    "start_time": "2021-07-08T09:18:15.504Z"
   },
   {
    "duration": 7,
    "start_time": "2021-07-08T09:18:15.513Z"
   },
   {
    "duration": 26,
    "start_time": "2021-07-08T09:18:15.522Z"
   },
   {
    "duration": 49,
    "start_time": "2021-07-08T09:18:15.550Z"
   },
   {
    "duration": 21,
    "start_time": "2021-07-08T09:18:15.601Z"
   },
   {
    "duration": 8,
    "start_time": "2021-07-08T09:18:15.624Z"
   },
   {
    "duration": 3,
    "start_time": "2021-07-08T09:18:15.634Z"
   },
   {
    "duration": 8,
    "start_time": "2021-07-08T09:18:15.639Z"
   },
   {
    "duration": 45,
    "start_time": "2021-07-08T09:18:15.649Z"
   },
   {
    "duration": 13,
    "start_time": "2021-07-08T09:18:15.696Z"
   },
   {
    "duration": 10,
    "start_time": "2021-07-08T09:18:15.711Z"
   },
   {
    "duration": 64,
    "start_time": "2021-07-08T09:18:15.722Z"
   },
   {
    "duration": 19,
    "start_time": "2021-07-08T09:18:15.788Z"
   },
   {
    "duration": 9,
    "start_time": "2021-07-08T09:18:15.809Z"
   },
   {
    "duration": 9,
    "start_time": "2021-07-08T09:18:15.820Z"
   },
   {
    "duration": 18,
    "start_time": "2021-07-08T09:18:15.831Z"
   },
   {
    "duration": 43,
    "start_time": "2021-07-08T09:18:15.851Z"
   },
   {
    "duration": 12,
    "start_time": "2021-07-08T09:18:15.897Z"
   },
   {
    "duration": 219,
    "start_time": "2021-07-08T09:18:15.911Z"
   },
   {
    "duration": 8,
    "start_time": "2021-07-08T09:18:16.132Z"
   },
   {
    "duration": 199,
    "start_time": "2021-07-08T09:18:16.141Z"
   },
   {
    "duration": 18,
    "start_time": "2021-07-08T09:18:16.341Z"
   },
   {
    "duration": 24,
    "start_time": "2021-07-08T09:18:16.361Z"
   },
   {
    "duration": 24,
    "start_time": "2021-07-08T09:18:16.387Z"
   },
   {
    "duration": 211,
    "start_time": "2021-07-08T09:18:16.413Z"
   },
   {
    "duration": 18,
    "start_time": "2021-07-08T09:18:16.626Z"
   },
   {
    "duration": 596,
    "start_time": "2021-07-08T10:06:33.623Z"
   },
   {
    "duration": 181,
    "start_time": "2021-07-08T10:06:34.221Z"
   },
   {
    "duration": 176,
    "start_time": "2021-07-08T10:06:34.635Z"
   },
   {
    "duration": 239,
    "start_time": "2021-07-08T10:06:55.572Z"
   },
   {
    "duration": 6,
    "start_time": "2021-07-08T10:06:57.687Z"
   },
   {
    "duration": 4,
    "start_time": "2021-07-08T10:07:03.956Z"
   },
   {
    "duration": 4,
    "start_time": "2021-07-08T10:07:10.376Z"
   },
   {
    "duration": 4,
    "start_time": "2021-07-08T10:17:19.889Z"
   },
   {
    "duration": 3,
    "start_time": "2021-07-08T10:19:19.407Z"
   },
   {
    "duration": 197,
    "start_time": "2021-07-08T10:19:19.412Z"
   },
   {
    "duration": 127,
    "start_time": "2021-07-08T10:19:19.611Z"
   },
   {
    "duration": 4,
    "start_time": "2021-07-08T10:19:19.740Z"
   },
   {
    "duration": 27,
    "start_time": "2021-07-08T10:19:19.746Z"
   },
   {
    "duration": 7,
    "start_time": "2021-07-08T10:19:19.775Z"
   },
   {
    "duration": 30,
    "start_time": "2021-07-08T10:19:19.784Z"
   },
   {
    "duration": 7,
    "start_time": "2021-07-08T10:19:19.817Z"
   },
   {
    "duration": 26,
    "start_time": "2021-07-08T10:19:19.826Z"
   },
   {
    "duration": 18,
    "start_time": "2021-07-08T10:19:19.854Z"
   },
   {
    "duration": 14,
    "start_time": "2021-07-08T10:19:19.874Z"
   },
   {
    "duration": 48,
    "start_time": "2021-07-08T10:19:19.890Z"
   },
   {
    "duration": 17,
    "start_time": "2021-07-08T10:19:19.940Z"
   },
   {
    "duration": 38,
    "start_time": "2021-07-08T10:19:19.959Z"
   },
   {
    "duration": 8,
    "start_time": "2021-07-08T10:19:19.999Z"
   },
   {
    "duration": 15,
    "start_time": "2021-07-08T10:19:20.009Z"
   },
   {
    "duration": 22,
    "start_time": "2021-07-08T10:19:20.026Z"
   },
   {
    "duration": 10,
    "start_time": "2021-07-08T10:19:20.050Z"
   },
   {
    "duration": 10,
    "start_time": "2021-07-08T10:19:20.062Z"
   },
   {
    "duration": 20,
    "start_time": "2021-07-08T10:19:20.073Z"
   },
   {
    "duration": 29,
    "start_time": "2021-07-08T10:19:20.095Z"
   },
   {
    "duration": 17,
    "start_time": "2021-07-08T10:19:20.126Z"
   },
   {
    "duration": 40,
    "start_time": "2021-07-08T10:19:20.146Z"
   },
   {
    "duration": 15,
    "start_time": "2021-07-08T10:19:20.189Z"
   },
   {
    "duration": 19,
    "start_time": "2021-07-08T10:19:20.206Z"
   },
   {
    "duration": 10,
    "start_time": "2021-07-08T10:19:20.226Z"
   },
   {
    "duration": 11,
    "start_time": "2021-07-08T10:19:20.238Z"
   },
   {
    "duration": 297,
    "start_time": "2021-07-08T10:19:20.250Z"
   },
   {
    "duration": 6,
    "start_time": "2021-07-08T10:19:20.549Z"
   },
   {
    "duration": 191,
    "start_time": "2021-07-08T10:19:20.557Z"
   },
   {
    "duration": 19,
    "start_time": "2021-07-08T10:19:20.750Z"
   },
   {
    "duration": 20,
    "start_time": "2021-07-08T10:19:20.771Z"
   },
   {
    "duration": 15,
    "start_time": "2021-07-08T10:19:20.793Z"
   },
   {
    "duration": 222,
    "start_time": "2021-07-08T10:19:20.809Z"
   },
   {
    "duration": 20,
    "start_time": "2021-07-08T10:19:21.033Z"
   },
   {
    "duration": 27,
    "start_time": "2021-07-08T10:45:04.055Z"
   },
   {
    "duration": 8,
    "start_time": "2021-07-08T10:45:08.478Z"
   },
   {
    "duration": 8,
    "start_time": "2021-07-08T10:45:31.982Z"
   },
   {
    "duration": 10,
    "start_time": "2021-07-08T10:46:01.221Z"
   },
   {
    "duration": 17,
    "start_time": "2021-07-08T10:46:40.011Z"
   },
   {
    "duration": 193,
    "start_time": "2021-07-08T10:48:19.471Z"
   },
   {
    "duration": 225,
    "start_time": "2021-07-08T10:49:26.480Z"
   },
   {
    "duration": 204,
    "start_time": "2021-07-08T10:49:59.992Z"
   },
   {
    "duration": 435,
    "start_time": "2021-07-08T10:50:06.779Z"
   },
   {
    "duration": 199,
    "start_time": "2021-07-08T10:50:14.891Z"
   },
   {
    "duration": 204,
    "start_time": "2021-07-08T10:50:18.501Z"
   },
   {
    "duration": 244,
    "start_time": "2021-07-08T10:50:23.359Z"
   },
   {
    "duration": 192,
    "start_time": "2021-07-08T10:50:29.135Z"
   },
   {
    "duration": 218,
    "start_time": "2021-07-08T10:50:33.092Z"
   },
   {
    "duration": 207,
    "start_time": "2021-07-08T10:52:45.381Z"
   },
   {
    "duration": 5,
    "start_time": "2021-07-08T10:53:34.641Z"
   },
   {
    "duration": 196,
    "start_time": "2021-07-08T10:53:41.478Z"
   },
   {
    "duration": 43,
    "start_time": "2021-07-08T10:53:50.335Z"
   },
   {
    "duration": 32,
    "start_time": "2021-07-08T10:53:55.294Z"
   },
   {
    "duration": 55,
    "start_time": "2021-07-08T10:54:09.675Z"
   },
   {
    "duration": 16,
    "start_time": "2021-07-08T10:54:12.260Z"
   },
   {
    "duration": 15,
    "start_time": "2021-07-08T10:54:49.150Z"
   },
   {
    "duration": 20,
    "start_time": "2021-07-08T10:56:07.596Z"
   },
   {
    "duration": 16,
    "start_time": "2021-07-08T10:58:26.276Z"
   },
   {
    "duration": 22,
    "start_time": "2021-07-08T10:59:00.486Z"
   },
   {
    "duration": 18,
    "start_time": "2021-07-08T11:02:09.653Z"
   },
   {
    "duration": 10,
    "start_time": "2021-07-08T11:03:44.331Z"
   },
   {
    "duration": 10,
    "start_time": "2021-07-08T11:03:54.055Z"
   },
   {
    "duration": 12,
    "start_time": "2021-07-08T11:04:41.967Z"
   },
   {
    "duration": 24,
    "start_time": "2021-07-08T11:07:30.732Z"
   },
   {
    "duration": 6,
    "start_time": "2021-07-08T11:07:37.364Z"
   },
   {
    "duration": 16,
    "start_time": "2021-07-08T11:08:01.819Z"
   },
   {
    "duration": 17,
    "start_time": "2021-07-08T11:09:47.488Z"
   },
   {
    "duration": 246,
    "start_time": "2021-07-08T11:10:00.830Z"
   },
   {
    "duration": 18,
    "start_time": "2021-07-08T11:13:55.195Z"
   },
   {
    "duration": 204,
    "start_time": "2021-07-08T11:14:04.951Z"
   },
   {
    "duration": 19,
    "start_time": "2021-07-08T11:15:10.613Z"
   },
   {
    "duration": 680,
    "start_time": "2021-07-08T11:16:25.793Z"
   },
   {
    "duration": 451,
    "start_time": "2021-07-08T11:16:40.313Z"
   },
   {
    "duration": 469,
    "start_time": "2021-07-08T11:17:21.286Z"
   },
   {
    "duration": 20,
    "start_time": "2021-07-08T11:19:12.554Z"
   },
   {
    "duration": 35,
    "start_time": "2021-07-08T11:20:05.484Z"
   },
   {
    "duration": 53,
    "start_time": "2021-07-08T11:21:40.050Z"
   },
   {
    "duration": 13,
    "start_time": "2021-07-08T11:22:26.059Z"
   },
   {
    "duration": 19,
    "start_time": "2021-07-08T11:22:47.419Z"
   },
   {
    "duration": 25,
    "start_time": "2021-07-08T11:23:19.958Z"
   },
   {
    "duration": 29,
    "start_time": "2021-07-08T11:23:25.415Z"
   },
   {
    "duration": 10,
    "start_time": "2021-07-08T11:24:45.138Z"
   },
   {
    "duration": 19,
    "start_time": "2021-07-08T11:24:54.498Z"
   },
   {
    "duration": 12,
    "start_time": "2021-07-08T11:25:32.225Z"
   },
   {
    "duration": 19,
    "start_time": "2021-07-08T11:25:37.092Z"
   },
   {
    "duration": 17,
    "start_time": "2021-07-08T11:25:58.116Z"
   },
   {
    "duration": 15,
    "start_time": "2021-07-08T11:26:02.258Z"
   },
   {
    "duration": 8,
    "start_time": "2021-07-08T11:26:59.682Z"
   },
   {
    "duration": 184,
    "start_time": "2021-07-08T11:27:21.894Z"
   },
   {
    "duration": 8,
    "start_time": "2021-07-08T11:27:23.824Z"
   },
   {
    "duration": 202,
    "start_time": "2021-07-08T11:27:23.962Z"
   },
   {
    "duration": 360,
    "start_time": "2021-07-08T11:28:33.215Z"
   },
   {
    "duration": 231,
    "start_time": "2021-07-08T11:32:05.542Z"
   },
   {
    "duration": 607,
    "start_time": "2021-07-08T11:36:27.854Z"
   },
   {
    "duration": 241,
    "start_time": "2021-07-08T11:36:28.463Z"
   },
   {
    "duration": 67,
    "start_time": "2021-07-08T11:36:28.709Z"
   },
   {
    "duration": 5,
    "start_time": "2021-07-08T11:36:28.778Z"
   },
   {
    "duration": 32,
    "start_time": "2021-07-08T11:36:28.784Z"
   },
   {
    "duration": 11,
    "start_time": "2021-07-08T11:36:28.819Z"
   },
   {
    "duration": 20,
    "start_time": "2021-07-08T11:36:28.834Z"
   },
   {
    "duration": 36,
    "start_time": "2021-07-08T11:36:28.857Z"
   },
   {
    "duration": 16,
    "start_time": "2021-07-08T11:36:28.895Z"
   },
   {
    "duration": 14,
    "start_time": "2021-07-08T11:36:28.913Z"
   },
   {
    "duration": 9,
    "start_time": "2021-07-08T11:36:28.930Z"
   },
   {
    "duration": 55,
    "start_time": "2021-07-08T11:36:28.941Z"
   },
   {
    "duration": 27,
    "start_time": "2021-07-08T11:36:28.999Z"
   },
   {
    "duration": 30,
    "start_time": "2021-07-08T11:36:29.028Z"
   },
   {
    "duration": 31,
    "start_time": "2021-07-08T11:36:29.060Z"
   },
   {
    "duration": 3,
    "start_time": "2021-07-08T11:36:29.093Z"
   },
   {
    "duration": 12,
    "start_time": "2021-07-08T11:36:29.099Z"
   },
   {
    "duration": 11,
    "start_time": "2021-07-08T11:36:29.112Z"
   },
   {
    "duration": 12,
    "start_time": "2021-07-08T11:36:29.125Z"
   },
   {
    "duration": 9,
    "start_time": "2021-07-08T11:36:29.139Z"
   },
   {
    "duration": 31,
    "start_time": "2021-07-08T11:36:29.191Z"
   },
   {
    "duration": 17,
    "start_time": "2021-07-08T11:36:29.226Z"
   },
   {
    "duration": 7,
    "start_time": "2021-07-08T11:36:29.245Z"
   },
   {
    "duration": 10,
    "start_time": "2021-07-08T11:36:29.254Z"
   },
   {
    "duration": 30,
    "start_time": "2021-07-08T11:36:29.292Z"
   },
   {
    "duration": 11,
    "start_time": "2021-07-08T11:36:29.324Z"
   },
   {
    "duration": 11,
    "start_time": "2021-07-08T11:36:29.337Z"
   },
   {
    "duration": 230,
    "start_time": "2021-07-08T11:36:29.349Z"
   },
   {
    "duration": 13,
    "start_time": "2021-07-08T11:36:29.588Z"
   },
   {
    "duration": 205,
    "start_time": "2021-07-08T11:36:29.603Z"
   },
   {
    "duration": 20,
    "start_time": "2021-07-08T11:36:29.810Z"
   },
   {
    "duration": 9,
    "start_time": "2021-07-08T11:36:29.832Z"
   },
   {
    "duration": 16,
    "start_time": "2021-07-08T11:36:29.843Z"
   },
   {
    "duration": 283,
    "start_time": "2021-07-08T11:36:29.861Z"
   },
   {
    "duration": 50,
    "start_time": "2021-07-08T11:36:30.146Z"
   },
   {
    "duration": 14,
    "start_time": "2021-07-08T11:36:30.198Z"
   },
   {
    "duration": 11,
    "start_time": "2021-07-08T11:36:30.214Z"
   },
   {
    "duration": 245,
    "start_time": "2021-07-08T11:36:30.227Z"
   },
   {
    "duration": 439,
    "start_time": "2021-07-08T11:36:30.474Z"
   },
   {
    "duration": 210,
    "start_time": "2021-07-08T11:36:30.915Z"
   },
   {
    "duration": 15,
    "start_time": "2021-07-08T11:36:31.127Z"
   },
   {
    "duration": 17,
    "start_time": "2021-07-08T11:38:20.451Z"
   },
   {
    "duration": 642,
    "start_time": "2021-07-08T11:46:17.881Z"
   },
   {
    "duration": 210,
    "start_time": "2021-07-08T11:46:18.525Z"
   },
   {
    "duration": 104,
    "start_time": "2021-07-08T11:46:18.741Z"
   },
   {
    "duration": 8,
    "start_time": "2021-07-08T11:46:18.847Z"
   },
   {
    "duration": 25,
    "start_time": "2021-07-08T11:46:18.857Z"
   },
   {
    "duration": 14,
    "start_time": "2021-07-08T11:46:18.884Z"
   },
   {
    "duration": 22,
    "start_time": "2021-07-08T11:46:18.900Z"
   },
   {
    "duration": 5,
    "start_time": "2021-07-08T11:46:18.924Z"
   },
   {
    "duration": 13,
    "start_time": "2021-07-08T11:46:18.931Z"
   },
   {
    "duration": 45,
    "start_time": "2021-07-08T11:46:18.946Z"
   },
   {
    "duration": 12,
    "start_time": "2021-07-08T11:46:18.993Z"
   },
   {
    "duration": 38,
    "start_time": "2021-07-08T11:46:19.006Z"
   },
   {
    "duration": 50,
    "start_time": "2021-07-08T11:46:19.046Z"
   },
   {
    "duration": 29,
    "start_time": "2021-07-08T11:46:19.099Z"
   },
   {
    "duration": 7,
    "start_time": "2021-07-08T11:46:19.130Z"
   },
   {
    "duration": 3,
    "start_time": "2021-07-08T11:46:19.139Z"
   },
   {
    "duration": 11,
    "start_time": "2021-07-08T11:46:19.144Z"
   },
   {
    "duration": 40,
    "start_time": "2021-07-08T11:46:19.157Z"
   },
   {
    "duration": 15,
    "start_time": "2021-07-08T11:46:19.199Z"
   },
   {
    "duration": 10,
    "start_time": "2021-07-08T11:46:19.217Z"
   },
   {
    "duration": 68,
    "start_time": "2021-07-08T11:46:19.230Z"
   },
   {
    "duration": 17,
    "start_time": "2021-07-08T11:46:19.301Z"
   },
   {
    "duration": 7,
    "start_time": "2021-07-08T11:46:19.321Z"
   },
   {
    "duration": 11,
    "start_time": "2021-07-08T11:46:19.330Z"
   },
   {
    "duration": 59,
    "start_time": "2021-07-08T11:46:19.343Z"
   },
   {
    "duration": 17,
    "start_time": "2021-07-08T11:46:19.405Z"
   },
   {
    "duration": 16,
    "start_time": "2021-07-08T11:46:19.424Z"
   },
   {
    "duration": 252,
    "start_time": "2021-07-08T11:46:19.443Z"
   },
   {
    "duration": 9,
    "start_time": "2021-07-08T11:46:19.697Z"
   },
   {
    "duration": 224,
    "start_time": "2021-07-08T11:46:19.708Z"
   },
   {
    "duration": 21,
    "start_time": "2021-07-08T11:46:19.934Z"
   },
   {
    "duration": 9,
    "start_time": "2021-07-08T11:46:19.956Z"
   },
   {
    "duration": 32,
    "start_time": "2021-07-08T11:46:19.967Z"
   },
   {
    "duration": 288,
    "start_time": "2021-07-08T11:46:20.004Z"
   },
   {
    "duration": 23,
    "start_time": "2021-07-08T11:46:20.300Z"
   },
   {
    "duration": 11,
    "start_time": "2021-07-08T11:46:20.325Z"
   },
   {
    "duration": 11,
    "start_time": "2021-07-08T11:46:20.339Z"
   },
   {
    "duration": 259,
    "start_time": "2021-07-08T11:46:20.352Z"
   },
   {
    "duration": 438,
    "start_time": "2021-07-08T11:46:20.613Z"
   },
   {
    "duration": 207,
    "start_time": "2021-07-08T11:46:21.054Z"
   },
   {
    "duration": 27,
    "start_time": "2021-07-08T11:46:21.262Z"
   },
   {
    "duration": 19,
    "start_time": "2021-07-08T11:46:21.291Z"
   },
   {
    "duration": 820,
    "start_time": "2021-07-08T11:49:01.655Z"
   },
   {
    "duration": 372,
    "start_time": "2021-07-08T11:49:02.478Z"
   },
   {
    "duration": 98,
    "start_time": "2021-07-08T11:49:02.853Z"
   },
   {
    "duration": 6,
    "start_time": "2021-07-08T11:49:02.953Z"
   },
   {
    "duration": 39,
    "start_time": "2021-07-08T11:49:02.960Z"
   },
   {
    "duration": 9,
    "start_time": "2021-07-08T11:49:03.003Z"
   },
   {
    "duration": 23,
    "start_time": "2021-07-08T11:49:03.014Z"
   },
   {
    "duration": 6,
    "start_time": "2021-07-08T11:49:03.041Z"
   },
   {
    "duration": 20,
    "start_time": "2021-07-08T11:49:03.049Z"
   },
   {
    "duration": 18,
    "start_time": "2021-07-08T11:49:03.084Z"
   },
   {
    "duration": 14,
    "start_time": "2021-07-08T11:49:03.104Z"
   },
   {
    "duration": 39,
    "start_time": "2021-07-08T11:49:03.119Z"
   },
   {
    "duration": 38,
    "start_time": "2021-07-08T11:49:03.160Z"
   },
   {
    "duration": 26,
    "start_time": "2021-07-08T11:49:03.200Z"
   },
   {
    "duration": 7,
    "start_time": "2021-07-08T11:49:03.227Z"
   },
   {
    "duration": 4,
    "start_time": "2021-07-08T11:49:03.236Z"
   },
   {
    "duration": 15,
    "start_time": "2021-07-08T11:49:03.243Z"
   },
   {
    "duration": 21,
    "start_time": "2021-07-08T11:49:03.285Z"
   },
   {
    "duration": 17,
    "start_time": "2021-07-08T11:49:03.309Z"
   },
   {
    "duration": 10,
    "start_time": "2021-07-08T11:49:03.328Z"
   },
   {
    "duration": 65,
    "start_time": "2021-07-08T11:49:03.340Z"
   },
   {
    "duration": 18,
    "start_time": "2021-07-08T11:49:03.407Z"
   },
   {
    "duration": 8,
    "start_time": "2021-07-08T11:49:03.428Z"
   },
   {
    "duration": 15,
    "start_time": "2021-07-08T11:49:03.438Z"
   },
   {
    "duration": 40,
    "start_time": "2021-07-08T11:49:03.455Z"
   },
   {
    "duration": 12,
    "start_time": "2021-07-08T11:49:03.497Z"
   },
   {
    "duration": 29,
    "start_time": "2021-07-08T11:49:03.511Z"
   },
   {
    "duration": 285,
    "start_time": "2021-07-08T11:49:03.542Z"
   },
   {
    "duration": 8,
    "start_time": "2021-07-08T11:49:03.829Z"
   },
   {
    "duration": 227,
    "start_time": "2021-07-08T11:49:03.838Z"
   },
   {
    "duration": 40,
    "start_time": "2021-07-08T11:49:04.066Z"
   },
   {
    "duration": 10,
    "start_time": "2021-07-08T11:49:04.108Z"
   },
   {
    "duration": 26,
    "start_time": "2021-07-08T11:49:04.121Z"
   },
   {
    "duration": 290,
    "start_time": "2021-07-08T11:49:04.149Z"
   },
   {
    "duration": 26,
    "start_time": "2021-07-08T11:49:04.441Z"
   },
   {
    "duration": 31,
    "start_time": "2021-07-08T11:49:04.470Z"
   },
   {
    "duration": 14,
    "start_time": "2021-07-08T11:49:04.503Z"
   },
   {
    "duration": 259,
    "start_time": "2021-07-08T11:49:04.521Z"
   },
   {
    "duration": 480,
    "start_time": "2021-07-08T11:49:04.782Z"
   },
   {
    "duration": 225,
    "start_time": "2021-07-08T11:49:05.264Z"
   },
   {
    "duration": 22,
    "start_time": "2021-07-08T11:49:05.491Z"
   },
   {
    "duration": 24,
    "start_time": "2021-07-08T11:49:05.515Z"
   },
   {
    "duration": 634,
    "start_time": "2021-07-08T11:52:24.960Z"
   },
   {
    "duration": 199,
    "start_time": "2021-07-08T11:52:25.599Z"
   },
   {
    "duration": 106,
    "start_time": "2021-07-08T11:52:25.803Z"
   },
   {
    "duration": 7,
    "start_time": "2021-07-08T11:52:25.911Z"
   },
   {
    "duration": 29,
    "start_time": "2021-07-08T11:52:25.920Z"
   },
   {
    "duration": 7,
    "start_time": "2021-07-08T11:52:25.951Z"
   },
   {
    "duration": 26,
    "start_time": "2021-07-08T11:52:25.961Z"
   },
   {
    "duration": 11,
    "start_time": "2021-07-08T11:52:25.990Z"
   },
   {
    "duration": 29,
    "start_time": "2021-07-08T11:52:26.005Z"
   },
   {
    "duration": 9,
    "start_time": "2021-07-08T11:52:26.036Z"
   },
   {
    "duration": 8,
    "start_time": "2021-07-08T11:52:26.047Z"
   },
   {
    "duration": 63,
    "start_time": "2021-07-08T11:52:26.057Z"
   },
   {
    "duration": 17,
    "start_time": "2021-07-08T11:52:26.122Z"
   },
   {
    "duration": 43,
    "start_time": "2021-07-08T11:52:26.142Z"
   },
   {
    "duration": 17,
    "start_time": "2021-07-08T11:52:26.187Z"
   },
   {
    "duration": 5,
    "start_time": "2021-07-08T11:52:26.206Z"
   },
   {
    "duration": 12,
    "start_time": "2021-07-08T11:52:26.212Z"
   },
   {
    "duration": 11,
    "start_time": "2021-07-08T11:52:26.226Z"
   },
   {
    "duration": 12,
    "start_time": "2021-07-08T11:52:26.238Z"
   },
   {
    "duration": 38,
    "start_time": "2021-07-08T11:52:26.252Z"
   },
   {
    "duration": 40,
    "start_time": "2021-07-08T11:52:26.292Z"
   },
   {
    "duration": 17,
    "start_time": "2021-07-08T11:52:26.336Z"
   },
   {
    "duration": 39,
    "start_time": "2021-07-08T11:52:26.355Z"
   },
   {
    "duration": 11,
    "start_time": "2021-07-08T11:52:26.395Z"
   },
   {
    "duration": 23,
    "start_time": "2021-07-08T11:52:26.408Z"
   },
   {
    "duration": 12,
    "start_time": "2021-07-08T11:52:26.432Z"
   },
   {
    "duration": 41,
    "start_time": "2021-07-08T11:52:26.446Z"
   },
   {
    "duration": 215,
    "start_time": "2021-07-08T11:52:26.493Z"
   },
   {
    "duration": 8,
    "start_time": "2021-07-08T11:52:26.710Z"
   },
   {
    "duration": 228,
    "start_time": "2021-07-08T11:52:26.720Z"
   },
   {
    "duration": 18,
    "start_time": "2021-07-08T11:52:26.950Z"
   },
   {
    "duration": 35,
    "start_time": "2021-07-08T11:52:26.969Z"
   },
   {
    "duration": 23,
    "start_time": "2021-07-08T11:52:27.006Z"
   },
   {
    "duration": 258,
    "start_time": "2021-07-08T11:52:27.030Z"
   },
   {
    "duration": 24,
    "start_time": "2021-07-08T11:52:27.290Z"
   },
   {
    "duration": 12,
    "start_time": "2021-07-08T11:52:27.316Z"
   },
   {
    "duration": 10,
    "start_time": "2021-07-08T11:52:27.329Z"
   },
   {
    "duration": 298,
    "start_time": "2021-07-08T11:52:27.341Z"
   },
   {
    "duration": 436,
    "start_time": "2021-07-08T11:52:27.641Z"
   },
   {
    "duration": 216,
    "start_time": "2021-07-08T11:52:28.079Z"
   },
   {
    "duration": 20,
    "start_time": "2021-07-08T11:52:28.297Z"
   },
   {
    "duration": 17,
    "start_time": "2021-07-08T11:52:28.319Z"
   },
   {
    "duration": 657,
    "start_time": "2021-12-11T10:57:25.150Z"
   },
   {
    "duration": 68,
    "start_time": "2021-12-11T10:57:34.209Z"
   },
   {
    "duration": 70,
    "start_time": "2021-12-11T10:59:56.914Z"
   },
   {
    "duration": 81,
    "start_time": "2021-12-11T11:00:15.198Z"
   },
   {
    "duration": 71,
    "start_time": "2021-12-11T11:00:22.571Z"
   },
   {
    "duration": 111,
    "start_time": "2021-12-11T11:00:30.032Z"
   },
   {
    "duration": 69,
    "start_time": "2021-12-11T11:00:42.274Z"
   },
   {
    "duration": 68,
    "start_time": "2021-12-11T11:01:07.209Z"
   },
   {
    "duration": 69,
    "start_time": "2021-12-11T11:03:28.096Z"
   },
   {
    "duration": 56,
    "start_time": "2021-12-11T11:03:28.617Z"
   },
   {
    "duration": 491,
    "start_time": "2021-12-11T11:03:51.303Z"
   },
   {
    "duration": 49,
    "start_time": "2021-12-11T11:05:08.461Z"
   },
   {
    "duration": 67,
    "start_time": "2021-12-11T11:05:29.836Z"
   },
   {
    "duration": 48,
    "start_time": "2021-12-11T11:05:30.438Z"
   },
   {
    "duration": 368,
    "start_time": "2021-12-11T11:05:31.065Z"
   },
   {
    "duration": 764,
    "start_time": "2021-12-11T11:05:54.290Z"
   },
   {
    "duration": 48,
    "start_time": "2021-12-11T11:05:55.056Z"
   },
   {
    "duration": 424,
    "start_time": "2021-12-11T11:05:55.106Z"
   },
   {
    "duration": 52,
    "start_time": "2021-12-11T11:06:20.893Z"
   },
   {
    "duration": 74,
    "start_time": "2021-12-11T11:06:27.141Z"
   },
   {
    "duration": 67,
    "start_time": "2021-12-11T11:06:43.219Z"
   },
   {
    "duration": 38,
    "start_time": "2021-12-11T11:06:43.854Z"
   },
   {
    "duration": 68,
    "start_time": "2021-12-11T11:06:57.810Z"
   },
   {
    "duration": 67,
    "start_time": "2021-12-11T11:07:20.300Z"
   },
   {
    "duration": 38,
    "start_time": "2021-12-11T11:07:36.329Z"
   },
   {
    "duration": 90,
    "start_time": "2021-12-11T11:07:56.124Z"
   },
   {
    "duration": 78,
    "start_time": "2021-12-11T11:09:21.069Z"
   },
   {
    "duration": 39,
    "start_time": "2021-12-11T11:09:21.512Z"
   },
   {
    "duration": 4,
    "start_time": "2021-12-11T11:09:22.092Z"
   },
   {
    "duration": 402,
    "start_time": "2021-12-11T11:09:24.066Z"
   },
   {
    "duration": 8,
    "start_time": "2021-12-11T11:09:35.719Z"
   },
   {
    "duration": 64,
    "start_time": "2021-12-11T11:10:17.035Z"
   },
   {
    "duration": 67,
    "start_time": "2021-12-11T11:10:35.708Z"
   },
   {
    "duration": 38,
    "start_time": "2021-12-11T11:10:37.647Z"
   },
   {
    "duration": 7,
    "start_time": "2021-12-11T11:10:44.084Z"
   },
   {
    "duration": 16,
    "start_time": "2021-12-11T11:10:49.731Z"
   },
   {
    "duration": 5,
    "start_time": "2021-12-11T11:11:51.831Z"
   },
   {
    "duration": 28,
    "start_time": "2021-12-11T11:12:08.072Z"
   },
   {
    "duration": 66,
    "start_time": "2021-12-11T11:12:24.057Z"
   },
   {
    "duration": 39,
    "start_time": "2021-12-11T11:12:25.099Z"
   },
   {
    "duration": 21,
    "start_time": "2021-12-11T11:12:37.351Z"
   },
   {
    "duration": 66,
    "start_time": "2021-12-11T11:14:49.993Z"
   },
   {
    "duration": 39,
    "start_time": "2021-12-11T11:14:50.506Z"
   },
   {
    "duration": 26,
    "start_time": "2021-12-11T11:14:51.150Z"
   },
   {
    "duration": 17,
    "start_time": "2021-12-11T11:15:18.419Z"
   },
   {
    "duration": 68,
    "start_time": "2021-12-11T11:15:33.623Z"
   },
   {
    "duration": 39,
    "start_time": "2021-12-11T11:15:34.106Z"
   },
   {
    "duration": 23,
    "start_time": "2021-12-11T11:15:37.949Z"
   },
   {
    "duration": 68,
    "start_time": "2021-12-11T11:15:54.549Z"
   },
   {
    "duration": 40,
    "start_time": "2021-12-11T11:15:54.943Z"
   },
   {
    "duration": 30,
    "start_time": "2021-12-11T11:15:55.398Z"
   },
   {
    "duration": 15,
    "start_time": "2021-12-11T11:16:47.182Z"
   },
   {
    "duration": 68,
    "start_time": "2021-12-11T11:17:27.809Z"
   },
   {
    "duration": 40,
    "start_time": "2021-12-11T11:17:28.468Z"
   },
   {
    "duration": 11,
    "start_time": "2021-12-11T11:17:30.098Z"
   },
   {
    "duration": 15,
    "start_time": "2021-12-11T11:17:44.497Z"
   },
   {
    "duration": 69,
    "start_time": "2021-12-11T11:18:15.865Z"
   },
   {
    "duration": 68,
    "start_time": "2021-12-11T11:18:25.019Z"
   },
   {
    "duration": 20,
    "start_time": "2021-12-11T11:18:35.905Z"
   },
   {
    "duration": 69,
    "start_time": "2021-12-11T11:18:49.102Z"
   },
   {
    "duration": 38,
    "start_time": "2021-12-11T11:18:49.597Z"
   },
   {
    "duration": 11,
    "start_time": "2021-12-11T11:18:50.094Z"
   },
   {
    "duration": 22,
    "start_time": "2021-12-11T11:18:50.763Z"
   },
   {
    "duration": 71,
    "start_time": "2021-12-11T11:19:02.730Z"
   },
   {
    "duration": 40,
    "start_time": "2021-12-11T11:19:03.427Z"
   },
   {
    "duration": 11,
    "start_time": "2021-12-11T11:19:03.984Z"
   },
   {
    "duration": 20,
    "start_time": "2021-12-11T11:19:04.770Z"
   },
   {
    "duration": 67,
    "start_time": "2021-12-11T11:19:12.420Z"
   },
   {
    "duration": 39,
    "start_time": "2021-12-11T11:19:13.007Z"
   },
   {
    "duration": 11,
    "start_time": "2021-12-11T11:19:13.945Z"
   },
   {
    "duration": 23,
    "start_time": "2021-12-11T11:19:14.979Z"
   },
   {
    "duration": 16,
    "start_time": "2021-12-11T11:19:50.125Z"
   },
   {
    "duration": 70,
    "start_time": "2021-12-11T11:20:11.453Z"
   },
   {
    "duration": 39,
    "start_time": "2021-12-11T11:20:11.992Z"
   },
   {
    "duration": 14,
    "start_time": "2021-12-11T11:20:12.543Z"
   },
   {
    "duration": 16,
    "start_time": "2021-12-11T11:20:14.126Z"
   },
   {
    "duration": 26,
    "start_time": "2021-12-11T11:20:22.518Z"
   },
   {
    "duration": 94,
    "start_time": "2021-12-11T11:20:56.116Z"
   },
   {
    "duration": 40,
    "start_time": "2021-12-11T11:20:56.517Z"
   },
   {
    "duration": 15,
    "start_time": "2021-12-11T11:20:56.978Z"
   },
   {
    "duration": 24,
    "start_time": "2021-12-11T11:20:58.720Z"
   },
   {
    "duration": 17,
    "start_time": "2021-12-11T11:21:04.724Z"
   },
   {
    "duration": 70,
    "start_time": "2021-12-11T11:21:07.458Z"
   },
   {
    "duration": 39,
    "start_time": "2021-12-11T11:21:07.953Z"
   },
   {
    "duration": 16,
    "start_time": "2021-12-11T11:21:08.404Z"
   },
   {
    "duration": 18,
    "start_time": "2021-12-11T11:21:09.127Z"
   },
   {
    "duration": 14,
    "start_time": "2021-12-11T11:21:12.655Z"
   },
   {
    "duration": 10,
    "start_time": "2021-12-11T11:22:37.476Z"
   },
   {
    "duration": 369,
    "start_time": "2021-12-11T11:30:24.079Z"
   },
   {
    "duration": 348,
    "start_time": "2021-12-11T11:31:25.693Z"
   },
   {
    "duration": 7,
    "start_time": "2021-12-11T11:31:31.695Z"
   },
   {
    "duration": 65,
    "start_time": "2021-12-11T11:31:34.585Z"
   },
   {
    "duration": 39,
    "start_time": "2021-12-11T11:31:35.080Z"
   },
   {
    "duration": 13,
    "start_time": "2021-12-11T11:31:35.379Z"
   },
   {
    "duration": 14,
    "start_time": "2021-12-11T11:31:35.640Z"
   },
   {
    "duration": 10,
    "start_time": "2021-12-11T11:31:37.553Z"
   },
   {
    "duration": 7,
    "start_time": "2021-12-11T11:31:38.021Z"
   },
   {
    "duration": 11,
    "start_time": "2021-12-11T11:31:59.560Z"
   },
   {
    "duration": 1443,
    "start_time": "2021-12-11T11:33:29.713Z"
   },
   {
    "duration": 839,
    "start_time": "2021-12-11T11:34:09.626Z"
   },
   {
    "duration": 6,
    "start_time": "2021-12-11T11:35:23.376Z"
   },
   {
    "duration": 10,
    "start_time": "2021-12-11T11:36:06.515Z"
   },
   {
    "duration": 406,
    "start_time": "2021-12-11T11:46:57.122Z"
   },
   {
    "duration": 400,
    "start_time": "2021-12-11T11:47:07.576Z"
   },
   {
    "duration": 341,
    "start_time": "2021-12-11T11:47:14.305Z"
   },
   {
    "duration": 354,
    "start_time": "2021-12-11T11:47:29.588Z"
   },
   {
    "duration": 8,
    "start_time": "2021-12-11T11:48:28.332Z"
   },
   {
    "duration": 8,
    "start_time": "2021-12-11T11:49:09.830Z"
   },
   {
    "duration": 722,
    "start_time": "2021-12-11T11:49:28.158Z"
   },
   {
    "duration": 39,
    "start_time": "2021-12-11T11:49:28.881Z"
   },
   {
    "duration": 13,
    "start_time": "2021-12-11T11:49:28.922Z"
   },
   {
    "duration": 14,
    "start_time": "2021-12-11T11:49:28.937Z"
   },
   {
    "duration": 10,
    "start_time": "2021-12-11T11:49:28.953Z"
   },
   {
    "duration": 6,
    "start_time": "2021-12-11T11:49:28.965Z"
   },
   {
    "duration": 7,
    "start_time": "2021-12-11T11:49:28.972Z"
   },
   {
    "duration": 67,
    "start_time": "2021-12-11T11:50:19.328Z"
   },
   {
    "duration": 71,
    "start_time": "2021-12-11T11:50:26.435Z"
   },
   {
    "duration": 75,
    "start_time": "2021-12-11T11:50:43.924Z"
   },
   {
    "duration": 40,
    "start_time": "2021-12-11T11:50:44.316Z"
   },
   {
    "duration": 14,
    "start_time": "2021-12-11T11:50:44.547Z"
   },
   {
    "duration": 15,
    "start_time": "2021-12-11T11:50:44.731Z"
   },
   {
    "duration": 10,
    "start_time": "2021-12-11T11:50:45.634Z"
   },
   {
    "duration": 7,
    "start_time": "2021-12-11T11:50:46.127Z"
   },
   {
    "duration": 8,
    "start_time": "2021-12-11T11:50:47.730Z"
   },
   {
    "duration": 10,
    "start_time": "2021-12-11T11:52:18.620Z"
   },
   {
    "duration": 23,
    "start_time": "2021-12-11T11:52:19.211Z"
   },
   {
    "duration": 78,
    "start_time": "2021-12-11T11:54:11.886Z"
   },
   {
    "duration": 39,
    "start_time": "2021-12-11T11:54:12.634Z"
   },
   {
    "duration": 901,
    "start_time": "2021-12-11T11:54:13.142Z"
   },
   {
    "duration": -2521,
    "start_time": "2021-12-11T11:54:16.566Z"
   },
   {
    "duration": 659,
    "start_time": "2021-12-11T11:57:44.538Z"
   },
   {
    "duration": 78,
    "start_time": "2021-12-11T11:57:45.199Z"
   },
   {
    "duration": 11,
    "start_time": "2021-12-11T11:57:45.281Z"
   },
   {
    "duration": 21,
    "start_time": "2021-12-11T11:57:45.294Z"
   },
   {
    "duration": 11,
    "start_time": "2021-12-11T11:57:45.317Z"
   },
   {
    "duration": 7,
    "start_time": "2021-12-11T11:57:45.329Z"
   },
   {
    "duration": 9,
    "start_time": "2021-12-11T11:57:45.337Z"
   },
   {
    "duration": 396,
    "start_time": "2021-12-11T11:57:45.348Z"
   },
   {
    "duration": 6,
    "start_time": "2021-12-11T11:58:16.364Z"
   },
   {
    "duration": 1351,
    "start_time": "2021-12-11T11:59:04.735Z"
   },
   {
    "duration": 8,
    "start_time": "2021-12-11T12:00:28.653Z"
   },
   {
    "duration": 14,
    "start_time": "2021-12-11T12:00:38.723Z"
   },
   {
    "duration": 14,
    "start_time": "2021-12-11T12:00:50.155Z"
   },
   {
    "duration": 12,
    "start_time": "2021-12-11T12:00:57.566Z"
   },
   {
    "duration": 7,
    "start_time": "2021-12-11T12:01:17.050Z"
   },
   {
    "duration": 8,
    "start_time": "2021-12-11T12:01:19.873Z"
   },
   {
    "duration": 1417,
    "start_time": "2021-12-11T12:02:13.179Z"
   },
   {
    "duration": 7,
    "start_time": "2021-12-11T12:02:38.345Z"
   },
   {
    "duration": 2178,
    "start_time": "2021-12-11T12:03:01.846Z"
   },
   {
    "duration": 85,
    "start_time": "2021-12-11T12:03:34.793Z"
   },
   {
    "duration": 54,
    "start_time": "2021-12-11T12:03:43.189Z"
   },
   {
    "duration": 6,
    "start_time": "2021-12-11T12:04:38.723Z"
   },
   {
    "duration": 9,
    "start_time": "2021-12-11T12:05:16.741Z"
   },
   {
    "duration": 9,
    "start_time": "2021-12-11T12:05:25.101Z"
   },
   {
    "duration": 8,
    "start_time": "2021-12-11T12:05:39.851Z"
   },
   {
    "duration": 2019,
    "start_time": "2021-12-11T12:05:56.188Z"
   },
   {
    "duration": 88,
    "start_time": "2021-12-11T12:05:58.210Z"
   },
   {
    "duration": 12,
    "start_time": "2021-12-11T12:05:58.301Z"
   },
   {
    "duration": 25,
    "start_time": "2021-12-11T12:05:58.315Z"
   },
   {
    "duration": 12,
    "start_time": "2021-12-11T12:05:58.342Z"
   },
   {
    "duration": 9,
    "start_time": "2021-12-11T12:05:58.356Z"
   },
   {
    "duration": 40,
    "start_time": "2021-12-11T12:05:58.367Z"
   },
   {
    "duration": 7,
    "start_time": "2021-12-11T12:05:58.410Z"
   },
   {
    "duration": 10,
    "start_time": "2021-12-11T12:05:58.419Z"
   },
   {
    "duration": 1476,
    "start_time": "2021-12-11T12:06:20.375Z"
   },
   {
    "duration": 9,
    "start_time": "2021-12-11T12:06:56.557Z"
   },
   {
    "duration": 371,
    "start_time": "2021-12-11T12:07:47.042Z"
   },
   {
    "duration": 106,
    "start_time": "2021-12-11T12:09:58.543Z"
   },
   {
    "duration": 2882,
    "start_time": "2021-12-11T12:10:03.050Z"
   },
   {
    "duration": 726,
    "start_time": "2021-12-11T12:10:19.330Z"
   },
   {
    "duration": 48,
    "start_time": "2021-12-11T12:10:20.058Z"
   },
   {
    "duration": 11,
    "start_time": "2021-12-11T12:10:20.109Z"
   },
   {
    "duration": 24,
    "start_time": "2021-12-11T12:10:20.122Z"
   },
   {
    "duration": 10,
    "start_time": "2021-12-11T12:10:20.148Z"
   },
   {
    "duration": 7,
    "start_time": "2021-12-11T12:10:20.160Z"
   },
   {
    "duration": 40,
    "start_time": "2021-12-11T12:10:20.169Z"
   },
   {
    "duration": 8,
    "start_time": "2021-12-11T12:10:20.211Z"
   },
   {
    "duration": 12,
    "start_time": "2021-12-11T12:10:20.222Z"
   },
   {
    "duration": 3526,
    "start_time": "2021-12-11T12:10:20.236Z"
   },
   {
    "duration": 2522,
    "start_time": "2021-12-11T12:11:08.044Z"
   },
   {
    "duration": 5,
    "start_time": "2021-12-11T12:11:36.632Z"
   },
   {
    "duration": 338,
    "start_time": "2021-12-11T12:14:44.011Z"
   },
   {
    "duration": 343,
    "start_time": "2021-12-11T12:15:11.680Z"
   },
   {
    "duration": 5,
    "start_time": "2021-12-11T12:15:20.820Z"
   },
   {
    "duration": 6,
    "start_time": "2021-12-11T12:15:28.097Z"
   },
   {
    "duration": 6,
    "start_time": "2021-12-11T12:15:32.422Z"
   },
   {
    "duration": 2283,
    "start_time": "2021-12-11T12:15:36.200Z"
   },
   {
    "duration": 6,
    "start_time": "2021-12-11T12:15:42.539Z"
   },
   {
    "duration": 6,
    "start_time": "2021-12-11T12:15:53.345Z"
   },
   {
    "duration": 2349,
    "start_time": "2021-12-11T12:16:00.702Z"
   },
   {
    "duration": 12999,
    "start_time": "2021-12-11T12:16:16.862Z"
   },
   {
    "duration": 440,
    "start_time": "2021-12-11T12:18:14.870Z"
   },
   {
    "duration": 364,
    "start_time": "2021-12-11T12:19:18.430Z"
   },
   {
    "duration": 362,
    "start_time": "2021-12-11T12:19:28.605Z"
   },
   {
    "duration": 6,
    "start_time": "2021-12-11T12:21:43.381Z"
   },
   {
    "duration": 2670,
    "start_time": "2021-12-11T12:21:50.393Z"
   },
   {
    "duration": 15,
    "start_time": "2021-12-11T12:23:27.986Z"
   },
   {
    "duration": 670,
    "start_time": "2021-12-11T12:23:34.628Z"
   },
   {
    "duration": 49,
    "start_time": "2021-12-11T12:23:35.300Z"
   },
   {
    "duration": 10,
    "start_time": "2021-12-11T12:23:35.351Z"
   },
   {
    "duration": 22,
    "start_time": "2021-12-11T12:23:35.363Z"
   },
   {
    "duration": 9,
    "start_time": "2021-12-11T12:23:35.387Z"
   },
   {
    "duration": 6,
    "start_time": "2021-12-11T12:23:35.397Z"
   },
   {
    "duration": 7,
    "start_time": "2021-12-11T12:23:35.404Z"
   },
   {
    "duration": 8,
    "start_time": "2021-12-11T12:23:35.413Z"
   },
   {
    "duration": 12,
    "start_time": "2021-12-11T12:23:35.422Z"
   },
   {
    "duration": 16,
    "start_time": "2021-12-11T12:23:35.436Z"
   },
   {
    "duration": 3039,
    "start_time": "2021-12-11T12:23:35.454Z"
   },
   {
    "duration": 23,
    "start_time": "2021-12-11T12:24:11.228Z"
   },
   {
    "duration": 17,
    "start_time": "2021-12-11T12:24:15.965Z"
   },
   {
    "duration": 2689,
    "start_time": "2021-12-11T12:24:16.014Z"
   },
   {
    "duration": 17,
    "start_time": "2021-12-11T12:24:20.611Z"
   },
   {
    "duration": 2712,
    "start_time": "2021-12-11T12:24:21.083Z"
   },
   {
    "duration": 6,
    "start_time": "2021-12-11T12:24:39.206Z"
   },
   {
    "duration": 2462,
    "start_time": "2021-12-11T12:24:39.627Z"
   },
   {
    "duration": 374,
    "start_time": "2021-12-11T12:25:54.178Z"
   },
   {
    "duration": 380,
    "start_time": "2021-12-11T12:26:14.144Z"
   },
   {
    "duration": 439,
    "start_time": "2021-12-11T12:26:21.285Z"
   },
   {
    "duration": 6,
    "start_time": "2021-12-11T12:26:27.552Z"
   },
   {
    "duration": 2890,
    "start_time": "2021-12-11T12:26:28.098Z"
   },
   {
    "duration": 9,
    "start_time": "2021-12-11T12:26:38.112Z"
   },
   {
    "duration": 2393,
    "start_time": "2021-12-11T12:26:41.375Z"
   },
   {
    "duration": 12,
    "start_time": "2021-12-11T12:26:52.557Z"
   },
   {
    "duration": 2417,
    "start_time": "2021-12-11T12:26:54.307Z"
   },
   {
    "duration": 16,
    "start_time": "2021-12-11T12:27:03.936Z"
   },
   {
    "duration": 2560,
    "start_time": "2021-12-11T12:27:04.421Z"
   },
   {
    "duration": 17,
    "start_time": "2021-12-11T12:27:13.616Z"
   },
   {
    "duration": 2387,
    "start_time": "2021-12-11T12:27:15.172Z"
   },
   {
    "duration": 19,
    "start_time": "2021-12-11T12:27:24.123Z"
   },
   {
    "duration": 3286,
    "start_time": "2021-12-11T12:27:25.269Z"
   },
   {
    "duration": 444,
    "start_time": "2021-12-11T12:29:22.975Z"
   },
   {
    "duration": 114,
    "start_time": "2021-12-11T12:30:31.567Z"
   },
   {
    "duration": 343,
    "start_time": "2021-12-11T12:31:08.192Z"
   },
   {
    "duration": 342,
    "start_time": "2021-12-11T12:31:16.572Z"
   },
   {
    "duration": 17,
    "start_time": "2021-12-11T12:33:33.851Z"
   },
   {
    "duration": 2447,
    "start_time": "2021-12-11T12:33:34.675Z"
   },
   {
    "duration": 21,
    "start_time": "2021-12-11T12:33:46.323Z"
   },
   {
    "duration": 2996,
    "start_time": "2021-12-11T12:33:46.835Z"
   },
   {
    "duration": 25,
    "start_time": "2021-12-11T12:34:08.224Z"
   },
   {
    "duration": 3652,
    "start_time": "2021-12-11T12:34:10.143Z"
   },
   {
    "duration": 3,
    "start_time": "2021-12-11T12:38:50.361Z"
   },
   {
    "duration": 747,
    "start_time": "2021-12-11T12:38:56.015Z"
   },
   {
    "duration": 50,
    "start_time": "2021-12-11T12:38:56.764Z"
   },
   {
    "duration": 11,
    "start_time": "2021-12-11T12:38:56.817Z"
   },
   {
    "duration": 26,
    "start_time": "2021-12-11T12:38:56.830Z"
   },
   {
    "duration": 18,
    "start_time": "2021-12-11T12:38:56.858Z"
   },
   {
    "duration": 6,
    "start_time": "2021-12-11T12:38:56.878Z"
   },
   {
    "duration": 26,
    "start_time": "2021-12-11T12:38:56.886Z"
   },
   {
    "duration": 12,
    "start_time": "2021-12-11T12:38:56.915Z"
   },
   {
    "duration": 7,
    "start_time": "2021-12-11T12:38:56.929Z"
   },
   {
    "duration": 3,
    "start_time": "2021-12-11T12:38:56.938Z"
   },
   {
    "duration": 2789,
    "start_time": "2021-12-11T12:38:56.942Z"
   },
   {
    "duration": 10,
    "start_time": "2021-12-11T12:40:15.271Z"
   },
   {
    "duration": 2542,
    "start_time": "2021-12-11T12:40:15.894Z"
   },
   {
    "duration": 10,
    "start_time": "2021-12-11T12:40:24.648Z"
   },
   {
    "duration": 2414,
    "start_time": "2021-12-11T12:40:25.227Z"
   },
   {
    "duration": 10,
    "start_time": "2021-12-11T12:40:38.193Z"
   },
   {
    "duration": 4,
    "start_time": "2021-12-11T12:40:38.317Z"
   },
   {
    "duration": 342,
    "start_time": "2021-12-11T12:41:56.863Z"
   },
   {
    "duration": 10,
    "start_time": "2021-12-11T12:42:02.166Z"
   },
   {
    "duration": 360,
    "start_time": "2021-12-11T12:42:22.058Z"
   },
   {
    "duration": 8,
    "start_time": "2021-12-11T12:42:28.827Z"
   },
   {
    "duration": 22,
    "start_time": "2021-12-11T12:45:48.496Z"
   },
   {
    "duration": 12,
    "start_time": "2021-12-11T12:53:35.135Z"
   },
   {
    "duration": 75,
    "start_time": "2021-12-11T12:53:38.748Z"
   },
   {
    "duration": 49,
    "start_time": "2021-12-11T12:53:39.549Z"
   },
   {
    "duration": 14,
    "start_time": "2021-12-11T12:53:39.905Z"
   },
   {
    "duration": 27,
    "start_time": "2021-12-11T12:53:40.384Z"
   },
   {
    "duration": 726,
    "start_time": "2021-12-11T12:54:08.796Z"
   },
   {
    "duration": 45,
    "start_time": "2021-12-11T12:54:09.524Z"
   },
   {
    "duration": 14,
    "start_time": "2021-12-11T12:54:09.571Z"
   },
   {
    "duration": 22,
    "start_time": "2021-12-11T12:54:09.587Z"
   },
   {
    "duration": 14,
    "start_time": "2021-12-11T12:54:09.611Z"
   },
   {
    "duration": 8,
    "start_time": "2021-12-11T12:54:09.627Z"
   },
   {
    "duration": 10,
    "start_time": "2021-12-11T12:54:09.637Z"
   },
   {
    "duration": 17,
    "start_time": "2021-12-11T12:54:09.648Z"
   },
   {
    "duration": 18,
    "start_time": "2021-12-11T12:54:09.668Z"
   },
   {
    "duration": 30,
    "start_time": "2021-12-11T12:54:09.688Z"
   },
   {
    "duration": 2541,
    "start_time": "2021-12-11T12:54:09.720Z"
   },
   {
    "duration": -2557,
    "start_time": "2021-12-11T12:54:14.820Z"
   },
   {
    "duration": -2569,
    "start_time": "2021-12-11T12:54:14.833Z"
   },
   {
    "duration": 667,
    "start_time": "2021-12-11T12:55:22.456Z"
   },
   {
    "duration": 39,
    "start_time": "2021-12-11T12:55:23.125Z"
   },
   {
    "duration": 12,
    "start_time": "2021-12-11T12:55:23.166Z"
   },
   {
    "duration": 21,
    "start_time": "2021-12-11T12:55:23.180Z"
   },
   {
    "duration": 12,
    "start_time": "2021-12-11T12:55:23.203Z"
   },
   {
    "duration": 8,
    "start_time": "2021-12-11T12:55:23.216Z"
   },
   {
    "duration": 8,
    "start_time": "2021-12-11T12:55:23.226Z"
   },
   {
    "duration": 8,
    "start_time": "2021-12-11T12:55:23.236Z"
   },
   {
    "duration": 9,
    "start_time": "2021-12-11T12:55:23.245Z"
   },
   {
    "duration": 12,
    "start_time": "2021-12-11T12:55:23.256Z"
   },
   {
    "duration": 2580,
    "start_time": "2021-12-11T12:55:23.306Z"
   },
   {
    "duration": -2552,
    "start_time": "2021-12-11T12:55:28.439Z"
   },
   {
    "duration": -2565,
    "start_time": "2021-12-11T12:55:28.453Z"
   },
   {
    "duration": 15,
    "start_time": "2021-12-11T12:55:49.607Z"
   },
   {
    "duration": 3454,
    "start_time": "2021-12-11T12:55:50.057Z"
   },
   {
    "duration": 15,
    "start_time": "2021-12-11T12:57:03.083Z"
   },
   {
    "duration": 3626,
    "start_time": "2021-12-11T12:57:03.329Z"
   },
   {
    "duration": 23,
    "start_time": "2021-12-11T12:57:39.935Z"
   },
   {
    "duration": 2341,
    "start_time": "2021-12-11T12:57:40.239Z"
   },
   {
    "duration": 24,
    "start_time": "2021-12-11T12:57:48.211Z"
   },
   {
    "duration": 5,
    "start_time": "2021-12-11T12:57:48.458Z"
   },
   {
    "duration": 8,
    "start_time": "2021-12-11T12:58:02.391Z"
   },
   {
    "duration": 11,
    "start_time": "2021-12-11T12:58:56.323Z"
   },
   {
    "duration": 11,
    "start_time": "2021-12-11T12:59:05.038Z"
   },
   {
    "duration": 21,
    "start_time": "2021-12-11T12:59:13.907Z"
   },
   {
    "duration": 21,
    "start_time": "2021-12-11T12:59:23.475Z"
   },
   {
    "duration": 4,
    "start_time": "2021-12-11T12:59:26.709Z"
   },
   {
    "duration": 12,
    "start_time": "2021-12-11T12:59:27.212Z"
   },
   {
    "duration": 18,
    "start_time": "2021-12-11T12:59:44.569Z"
   },
   {
    "duration": 12,
    "start_time": "2021-12-11T13:05:32.944Z"
   },
   {
    "duration": 16,
    "start_time": "2021-12-11T13:06:00.133Z"
   },
   {
    "duration": 9,
    "start_time": "2021-12-11T13:06:51.562Z"
   },
   {
    "duration": 10,
    "start_time": "2021-12-11T13:06:58.719Z"
   },
   {
    "duration": 16,
    "start_time": "2021-12-11T13:07:21.270Z"
   },
   {
    "duration": 380,
    "start_time": "2021-12-11T13:08:26.666Z"
   },
   {
    "duration": 4,
    "start_time": "2021-12-11T13:08:43.407Z"
   },
   {
    "duration": 7,
    "start_time": "2021-12-11T13:10:03.005Z"
   },
   {
    "duration": 7,
    "start_time": "2021-12-11T13:11:19.651Z"
   },
   {
    "duration": 26,
    "start_time": "2021-12-11T13:14:08.047Z"
   },
   {
    "duration": 10,
    "start_time": "2021-12-11T13:14:32.200Z"
   },
   {
    "duration": 5,
    "start_time": "2021-12-11T13:29:48.922Z"
   },
   {
    "duration": 19,
    "start_time": "2021-12-11T13:29:53.575Z"
   },
   {
    "duration": 5,
    "start_time": "2021-12-11T13:30:01.006Z"
   },
   {
    "duration": 9164,
    "start_time": "2021-12-11T13:33:55.573Z"
   },
   {
    "duration": 3,
    "start_time": "2021-12-11T13:34:15.404Z"
   },
   {
    "duration": 19,
    "start_time": "2021-12-11T13:34:22.788Z"
   },
   {
    "duration": 17,
    "start_time": "2021-12-11T13:36:37.611Z"
   },
   {
    "duration": 395,
    "start_time": "2021-12-11T13:37:13.973Z"
   },
   {
    "duration": 18,
    "start_time": "2021-12-11T13:37:18.044Z"
   },
   {
    "duration": 18,
    "start_time": "2021-12-11T13:37:48.046Z"
   },
   {
    "duration": 402,
    "start_time": "2021-12-11T13:37:59.984Z"
   },
   {
    "duration": 19,
    "start_time": "2021-12-11T13:38:11.292Z"
   },
   {
    "duration": 1584,
    "start_time": "2021-12-11T13:38:51.442Z"
   },
   {
    "duration": 1794,
    "start_time": "2021-12-11T13:39:03.833Z"
   },
   {
    "duration": 580,
    "start_time": "2021-12-11T13:43:27.574Z"
   },
   {
    "duration": 693,
    "start_time": "2021-12-11T13:46:07.416Z"
   },
   {
    "duration": 9115,
    "start_time": "2021-12-11T13:52:09.162Z"
   },
   {
    "duration": 1105,
    "start_time": "2021-12-11T13:52:31.106Z"
   },
   {
    "duration": 693,
    "start_time": "2021-12-11T13:53:42.022Z"
   },
   {
    "duration": 97,
    "start_time": "2021-12-11T13:53:42.718Z"
   },
   {
    "duration": 13,
    "start_time": "2021-12-11T13:53:42.817Z"
   },
   {
    "duration": 22,
    "start_time": "2021-12-11T13:53:42.832Z"
   },
   {
    "duration": 12,
    "start_time": "2021-12-11T13:53:42.856Z"
   },
   {
    "duration": 8,
    "start_time": "2021-12-11T13:53:42.870Z"
   },
   {
    "duration": 33,
    "start_time": "2021-12-11T13:53:42.880Z"
   },
   {
    "duration": 16,
    "start_time": "2021-12-11T13:53:42.915Z"
   },
   {
    "duration": 412,
    "start_time": "2021-12-11T13:53:42.933Z"
   },
   {
    "duration": -2611,
    "start_time": "2021-12-11T13:53:45.958Z"
   },
   {
    "duration": -2613,
    "start_time": "2021-12-11T13:53:45.961Z"
   },
   {
    "duration": -2614,
    "start_time": "2021-12-11T13:53:45.963Z"
   },
   {
    "duration": -2614,
    "start_time": "2021-12-11T13:53:45.964Z"
   },
   {
    "duration": -2615,
    "start_time": "2021-12-11T13:53:45.966Z"
   },
   {
    "duration": -2615,
    "start_time": "2021-12-11T13:53:45.967Z"
   },
   {
    "duration": 28,
    "start_time": "2021-12-11T13:54:10.481Z"
   },
   {
    "duration": 7,
    "start_time": "2021-12-11T13:54:11.759Z"
   },
   {
    "duration": 20,
    "start_time": "2021-12-11T13:54:14.303Z"
   },
   {
    "duration": 7,
    "start_time": "2021-12-11T13:54:15.517Z"
   },
   {
    "duration": 9,
    "start_time": "2021-12-11T13:54:16.398Z"
   },
   {
    "duration": 4,
    "start_time": "2021-12-11T13:54:18.072Z"
   },
   {
    "duration": 1087,
    "start_time": "2021-12-11T13:54:20.669Z"
   },
   {
    "duration": 5,
    "start_time": "2021-12-11T13:55:52.785Z"
   },
   {
    "duration": 6,
    "start_time": "2021-12-11T13:55:53.392Z"
   },
   {
    "duration": 1925,
    "start_time": "2021-12-11T13:55:53.903Z"
   },
   {
    "duration": 2183,
    "start_time": "2021-12-11T13:56:13.163Z"
   },
   {
    "duration": 1874,
    "start_time": "2021-12-11T13:56:20.408Z"
   },
   {
    "duration": 2136,
    "start_time": "2021-12-11T13:59:04.687Z"
   },
   {
    "duration": 1697,
    "start_time": "2021-12-11T14:00:16.284Z"
   },
   {
    "duration": 2216,
    "start_time": "2021-12-11T14:01:05.879Z"
   },
   {
    "duration": 1762,
    "start_time": "2021-12-11T14:01:35.906Z"
   },
   {
    "duration": 9546,
    "start_time": "2021-12-11T14:06:19.685Z"
   },
   {
    "duration": 6,
    "start_time": "2021-12-11T14:06:37.541Z"
   },
   {
    "duration": 131,
    "start_time": "2021-12-11T14:07:24.722Z"
   },
   {
    "duration": 6,
    "start_time": "2021-12-11T14:07:30.663Z"
   },
   {
    "duration": 7,
    "start_time": "2021-12-11T14:07:50.281Z"
   },
   {
    "duration": 6,
    "start_time": "2021-12-11T14:07:57.520Z"
   },
   {
    "duration": 6,
    "start_time": "2021-12-11T14:08:05.914Z"
   },
   {
    "duration": 4,
    "start_time": "2021-12-11T14:13:23.883Z"
   },
   {
    "duration": 39,
    "start_time": "2021-12-11T14:13:31.413Z"
   },
   {
    "duration": 4,
    "start_time": "2021-12-11T14:13:48.278Z"
   },
   {
    "duration": 17,
    "start_time": "2021-12-11T14:13:49.892Z"
   },
   {
    "duration": 3,
    "start_time": "2021-12-11T14:14:05.729Z"
   },
   {
    "duration": 19,
    "start_time": "2021-12-11T14:14:07.076Z"
   },
   {
    "duration": 24,
    "start_time": "2021-12-11T14:18:34.834Z"
   },
   {
    "duration": 27,
    "start_time": "2021-12-11T14:18:38.894Z"
   },
   {
    "duration": 7,
    "start_time": "2021-12-11T14:19:05.519Z"
   },
   {
    "duration": 7,
    "start_time": "2021-12-11T14:19:55.515Z"
   },
   {
    "duration": 18,
    "start_time": "2021-12-11T14:20:38.471Z"
   },
   {
    "duration": 19,
    "start_time": "2021-12-11T14:21:26.764Z"
   },
   {
    "duration": 11,
    "start_time": "2021-12-11T14:22:35.389Z"
   },
   {
    "duration": 17,
    "start_time": "2021-12-11T14:24:49.032Z"
   },
   {
    "duration": 7,
    "start_time": "2021-12-11T14:24:55.446Z"
   },
   {
    "duration": 257,
    "start_time": "2021-12-11T14:57:33.796Z"
   },
   {
    "duration": 215,
    "start_time": "2021-12-11T14:59:56.135Z"
   },
   {
    "duration": 525,
    "start_time": "2021-12-11T15:00:20.527Z"
   },
   {
    "duration": 172,
    "start_time": "2021-12-11T15:00:27.602Z"
   },
   {
    "duration": 378,
    "start_time": "2021-12-11T15:00:54.681Z"
   },
   {
    "duration": 7,
    "start_time": "2021-12-11T15:01:27.816Z"
   },
   {
    "duration": 184,
    "start_time": "2021-12-11T15:04:10.024Z"
   },
   {
    "duration": 687,
    "start_time": "2021-12-11T15:05:13.164Z"
   },
   {
    "duration": 106,
    "start_time": "2021-12-11T15:05:13.853Z"
   },
   {
    "duration": 13,
    "start_time": "2021-12-11T15:05:13.961Z"
   },
   {
    "duration": 24,
    "start_time": "2021-12-11T15:05:13.976Z"
   },
   {
    "duration": 13,
    "start_time": "2021-12-11T15:05:14.002Z"
   },
   {
    "duration": 8,
    "start_time": "2021-12-11T15:05:14.016Z"
   },
   {
    "duration": 10,
    "start_time": "2021-12-11T15:05:14.025Z"
   },
   {
    "duration": 9,
    "start_time": "2021-12-11T15:05:14.038Z"
   },
   {
    "duration": 23,
    "start_time": "2021-12-11T15:05:14.050Z"
   },
   {
    "duration": 36,
    "start_time": "2021-12-11T15:05:14.075Z"
   },
   {
    "duration": 22,
    "start_time": "2021-12-11T15:05:14.113Z"
   },
   {
    "duration": 8,
    "start_time": "2021-12-11T15:05:14.137Z"
   },
   {
    "duration": 11,
    "start_time": "2021-12-11T15:05:14.147Z"
   },
   {
    "duration": 5,
    "start_time": "2021-12-11T15:05:14.160Z"
   },
   {
    "duration": 40,
    "start_time": "2021-12-11T15:05:14.167Z"
   },
   {
    "duration": 7,
    "start_time": "2021-12-11T15:05:14.208Z"
   },
   {
    "duration": 8,
    "start_time": "2021-12-11T15:05:14.217Z"
   },
   {
    "duration": 123,
    "start_time": "2021-12-11T15:05:14.226Z"
   },
   {
    "duration": 243,
    "start_time": "2021-12-11T15:05:24.300Z"
   },
   {
    "duration": 167,
    "start_time": "2021-12-11T15:05:29.856Z"
   },
   {
    "duration": 204,
    "start_time": "2021-12-11T15:05:40.936Z"
   },
   {
    "duration": 9,
    "start_time": "2021-12-11T15:06:31.129Z"
   },
   {
    "duration": 7,
    "start_time": "2021-12-11T15:06:49.759Z"
   },
   {
    "duration": 7,
    "start_time": "2021-12-11T15:06:54.294Z"
   },
   {
    "duration": 222,
    "start_time": "2021-12-11T15:07:06.679Z"
   },
   {
    "duration": 171,
    "start_time": "2021-12-11T15:07:20.010Z"
   },
   {
    "duration": 173,
    "start_time": "2021-12-11T15:07:52.541Z"
   },
   {
    "duration": 182,
    "start_time": "2021-12-11T15:08:17.327Z"
   },
   {
    "duration": 7,
    "start_time": "2021-12-11T15:10:13.443Z"
   },
   {
    "duration": 7,
    "start_time": "2021-12-11T15:11:10.196Z"
   },
   {
    "duration": 16,
    "start_time": "2021-12-11T15:25:07.190Z"
   },
   {
    "duration": 24,
    "start_time": "2021-12-11T15:25:11.007Z"
   },
   {
    "duration": 180,
    "start_time": "2021-12-11T15:27:18.749Z"
   },
   {
    "duration": 612,
    "start_time": "2021-12-11T15:28:06.881Z"
   },
   {
    "duration": 167,
    "start_time": "2021-12-11T15:28:22.209Z"
   },
   {
    "duration": 687,
    "start_time": "2021-12-11T15:29:14.264Z"
   },
   {
    "duration": 58,
    "start_time": "2021-12-11T15:29:14.957Z"
   },
   {
    "duration": 13,
    "start_time": "2021-12-11T15:29:15.017Z"
   },
   {
    "duration": 23,
    "start_time": "2021-12-11T15:29:15.032Z"
   },
   {
    "duration": 13,
    "start_time": "2021-12-11T15:29:15.056Z"
   },
   {
    "duration": 8,
    "start_time": "2021-12-11T15:29:15.070Z"
   },
   {
    "duration": 34,
    "start_time": "2021-12-11T15:29:15.080Z"
   },
   {
    "duration": 10,
    "start_time": "2021-12-11T15:29:15.115Z"
   },
   {
    "duration": 24,
    "start_time": "2021-12-11T15:29:15.127Z"
   },
   {
    "duration": 11,
    "start_time": "2021-12-11T15:29:15.152Z"
   },
   {
    "duration": 45,
    "start_time": "2021-12-11T15:29:15.165Z"
   },
   {
    "duration": 7,
    "start_time": "2021-12-11T15:29:15.212Z"
   },
   {
    "duration": 10,
    "start_time": "2021-12-11T15:29:15.220Z"
   },
   {
    "duration": 4,
    "start_time": "2021-12-11T15:29:15.231Z"
   },
   {
    "duration": 8,
    "start_time": "2021-12-11T15:29:15.237Z"
   },
   {
    "duration": 6,
    "start_time": "2021-12-11T15:29:15.247Z"
   },
   {
    "duration": 6,
    "start_time": "2021-12-11T15:29:15.254Z"
   },
   {
    "duration": 277,
    "start_time": "2021-12-11T15:29:15.262Z"
   },
   {
    "duration": 7,
    "start_time": "2021-12-11T15:29:15.541Z"
   },
   {
    "duration": 34,
    "start_time": "2021-12-11T15:29:15.549Z"
   },
   {
    "duration": 17,
    "start_time": "2021-12-11T15:30:20.603Z"
   },
   {
    "duration": 173,
    "start_time": "2021-12-11T15:31:09.539Z"
   },
   {
    "duration": 654,
    "start_time": "2021-12-11T15:32:36.347Z"
   },
   {
    "duration": 47,
    "start_time": "2021-12-11T15:32:37.003Z"
   },
   {
    "duration": 12,
    "start_time": "2021-12-11T15:32:37.052Z"
   },
   {
    "duration": 21,
    "start_time": "2021-12-11T15:32:37.066Z"
   },
   {
    "duration": 12,
    "start_time": "2021-12-11T15:32:37.089Z"
   },
   {
    "duration": 7,
    "start_time": "2021-12-11T15:32:37.103Z"
   },
   {
    "duration": 9,
    "start_time": "2021-12-11T15:32:37.112Z"
   },
   {
    "duration": 9,
    "start_time": "2021-12-11T15:32:37.123Z"
   },
   {
    "duration": 24,
    "start_time": "2021-12-11T15:32:37.134Z"
   },
   {
    "duration": 10,
    "start_time": "2021-12-11T15:32:37.160Z"
   },
   {
    "duration": 47,
    "start_time": "2021-12-11T15:32:37.171Z"
   },
   {
    "duration": 6,
    "start_time": "2021-12-11T15:32:37.220Z"
   },
   {
    "duration": 9,
    "start_time": "2021-12-11T15:32:37.228Z"
   },
   {
    "duration": 4,
    "start_time": "2021-12-11T15:32:37.239Z"
   },
   {
    "duration": 7,
    "start_time": "2021-12-11T15:32:37.244Z"
   },
   {
    "duration": 5,
    "start_time": "2021-12-11T15:32:37.252Z"
   },
   {
    "duration": 6,
    "start_time": "2021-12-11T15:32:37.259Z"
   },
   {
    "duration": 493,
    "start_time": "2021-12-11T15:32:37.266Z"
   },
   {
    "duration": -2663,
    "start_time": "2021-12-11T15:32:40.424Z"
   },
   {
    "duration": -2664,
    "start_time": "2021-12-11T15:32:40.426Z"
   },
   {
    "duration": -2665,
    "start_time": "2021-12-11T15:32:40.428Z"
   },
   {
    "duration": 7,
    "start_time": "2021-12-11T15:34:19.169Z"
   },
   {
    "duration": 171,
    "start_time": "2021-12-11T15:34:50.363Z"
   },
   {
    "duration": 17,
    "start_time": "2021-12-11T15:34:56.873Z"
   },
   {
    "duration": 8,
    "start_time": "2021-12-11T15:35:59.152Z"
   },
   {
    "duration": 16,
    "start_time": "2021-12-11T15:36:13.856Z"
   },
   {
    "duration": 22,
    "start_time": "2021-12-11T15:36:16.823Z"
   },
   {
    "duration": 21,
    "start_time": "2021-12-11T15:36:35.647Z"
   },
   {
    "duration": 5,
    "start_time": "2021-12-11T15:52:47.810Z"
   },
   {
    "duration": 11,
    "start_time": "2021-12-11T15:54:59.975Z"
   },
   {
    "duration": 18,
    "start_time": "2021-12-11T15:55:06.119Z"
   },
   {
    "duration": 202,
    "start_time": "2021-12-11T15:55:54.850Z"
   },
   {
    "duration": 1799,
    "start_time": "2021-12-11T15:57:21.818Z"
   },
   {
    "duration": 220,
    "start_time": "2021-12-11T15:57:57.370Z"
   },
   {
    "duration": 176,
    "start_time": "2021-12-11T15:58:48.448Z"
   },
   {
    "duration": 214,
    "start_time": "2021-12-11T15:59:07.243Z"
   },
   {
    "duration": 236,
    "start_time": "2021-12-11T16:00:11.941Z"
   },
   {
    "duration": 308,
    "start_time": "2021-12-11T16:01:07.195Z"
   },
   {
    "duration": 642,
    "start_time": "2021-12-11T16:01:54.084Z"
   },
   {
    "duration": 317,
    "start_time": "2021-12-11T16:02:32.005Z"
   },
   {
    "duration": 335,
    "start_time": "2021-12-11T16:04:22.988Z"
   },
   {
    "duration": 5,
    "start_time": "2021-12-11T16:06:00.086Z"
   },
   {
    "duration": 6,
    "start_time": "2021-12-11T16:06:07.128Z"
   },
   {
    "duration": 5,
    "start_time": "2021-12-11T16:06:23.327Z"
   },
   {
    "duration": 4,
    "start_time": "2021-12-11T16:06:23.728Z"
   },
   {
    "duration": 7,
    "start_time": "2021-12-11T16:07:16.298Z"
   },
   {
    "duration": 309,
    "start_time": "2021-12-11T16:07:16.806Z"
   },
   {
    "duration": 5,
    "start_time": "2021-12-11T16:07:50.715Z"
   },
   {
    "duration": 5,
    "start_time": "2021-12-11T16:08:21.037Z"
   },
   {
    "duration": 8,
    "start_time": "2021-12-11T16:08:21.715Z"
   },
   {
    "duration": 4,
    "start_time": "2021-12-11T16:08:22.380Z"
   },
   {
    "duration": 308,
    "start_time": "2021-12-11T16:08:28.687Z"
   },
   {
    "duration": 172,
    "start_time": "2021-12-11T16:09:18.949Z"
   },
   {
    "duration": 7,
    "start_time": "2021-12-11T16:09:19.750Z"
   },
   {
    "duration": 21,
    "start_time": "2021-12-11T16:09:20.351Z"
   },
   {
    "duration": 126,
    "start_time": "2021-12-11T16:09:20.754Z"
   },
   {
    "duration": 227,
    "start_time": "2021-12-11T16:10:07.767Z"
   },
   {
    "duration": 339,
    "start_time": "2021-12-11T16:10:15.653Z"
   },
   {
    "duration": 457,
    "start_time": "2021-12-11T16:15:00.876Z"
   },
   {
    "duration": 362,
    "start_time": "2021-12-11T16:15:23.154Z"
   },
   {
    "duration": 357,
    "start_time": "2021-12-11T16:16:04.482Z"
   },
   {
    "duration": 402,
    "start_time": "2021-12-11T16:16:18.980Z"
   },
   {
    "duration": 3,
    "start_time": "2021-12-11T16:17:08.819Z"
   },
   {
    "duration": 5,
    "start_time": "2021-12-11T16:17:26.305Z"
   },
   {
    "duration": 7,
    "start_time": "2021-12-11T16:17:44.155Z"
   },
   {
    "duration": 107,
    "start_time": "2021-12-11T16:17:54.602Z"
   },
   {
    "duration": 14,
    "start_time": "2021-12-11T16:18:40.910Z"
   },
   {
    "duration": 365,
    "start_time": "2021-12-11T16:19:09.853Z"
   },
   {
    "duration": 17,
    "start_time": "2021-12-11T16:19:22.952Z"
   },
   {
    "duration": 390,
    "start_time": "2021-12-11T16:21:04.294Z"
   },
   {
    "duration": 30,
    "start_time": "2021-12-11T16:21:15.901Z"
   },
   {
    "duration": 29,
    "start_time": "2021-12-11T16:21:49.389Z"
   },
   {
    "duration": 29,
    "start_time": "2021-12-11T16:22:41.345Z"
   },
   {
    "duration": 27,
    "start_time": "2021-12-11T16:23:08.374Z"
   },
   {
    "duration": 24,
    "start_time": "2021-12-11T16:23:49.437Z"
   },
   {
    "duration": 25,
    "start_time": "2021-12-11T16:24:01.299Z"
   },
   {
    "duration": 26,
    "start_time": "2021-12-11T16:24:42.313Z"
   },
   {
    "duration": 25,
    "start_time": "2021-12-11T16:24:45.515Z"
   },
   {
    "duration": 24,
    "start_time": "2021-12-11T16:24:57.421Z"
   },
   {
    "duration": 25,
    "start_time": "2021-12-11T16:25:29.308Z"
   },
   {
    "duration": 24,
    "start_time": "2021-12-11T16:25:41.315Z"
   },
   {
    "duration": 382,
    "start_time": "2021-12-11T16:27:37.597Z"
   },
   {
    "duration": 449,
    "start_time": "2021-12-11T16:28:06.761Z"
   },
   {
    "duration": 168,
    "start_time": "2021-12-11T16:28:50.190Z"
   },
   {
    "duration": 539,
    "start_time": "2021-12-11T16:30:02.681Z"
   },
   {
    "duration": 312,
    "start_time": "2021-12-11T16:30:35.541Z"
   },
   {
    "duration": 338,
    "start_time": "2021-12-11T16:31:18.472Z"
   },
   {
    "duration": 297,
    "start_time": "2021-12-11T16:31:29.576Z"
   },
   {
    "duration": 942,
    "start_time": "2021-12-11T16:31:37.964Z"
   },
   {
    "duration": 485,
    "start_time": "2021-12-11T16:31:54.301Z"
   },
   {
    "duration": 525,
    "start_time": "2021-12-11T16:32:13.422Z"
   },
   {
    "duration": 1026,
    "start_time": "2021-12-11T16:32:23.811Z"
   },
   {
    "duration": 292,
    "start_time": "2021-12-11T16:33:23.255Z"
   },
   {
    "duration": 120,
    "start_time": "2021-12-11T16:36:42.826Z"
   },
   {
    "duration": 5,
    "start_time": "2021-12-11T16:39:04.254Z"
   },
   {
    "duration": 5,
    "start_time": "2021-12-11T16:39:15.747Z"
   },
   {
    "duration": 755,
    "start_time": "2021-12-11T16:41:34.106Z"
   },
   {
    "duration": 17,
    "start_time": "2021-12-11T16:41:40.946Z"
   },
   {
    "duration": 29,
    "start_time": "2021-12-11T16:41:44.396Z"
   },
   {
    "duration": 25,
    "start_time": "2021-12-11T16:42:04.349Z"
   },
   {
    "duration": 104,
    "start_time": "2021-12-11T16:42:20.560Z"
   },
   {
    "duration": 368,
    "start_time": "2021-12-11T16:43:02.680Z"
   },
   {
    "duration": 27,
    "start_time": "2021-12-11T16:43:18.497Z"
   },
   {
    "duration": 368,
    "start_time": "2021-12-11T16:43:31.410Z"
   },
   {
    "duration": 27,
    "start_time": "2021-12-11T16:43:35.873Z"
   },
   {
    "duration": 108,
    "start_time": "2021-12-11T16:44:29.212Z"
   },
   {
    "duration": 24,
    "start_time": "2021-12-11T16:44:42.018Z"
   },
   {
    "duration": 24,
    "start_time": "2021-12-11T16:45:00.028Z"
   },
   {
    "duration": 8587,
    "start_time": "2021-12-11T16:45:24.559Z"
   },
   {
    "duration": 24,
    "start_time": "2021-12-11T16:47:49.939Z"
   },
   {
    "duration": 21,
    "start_time": "2021-12-11T16:47:58.361Z"
   },
   {
    "duration": 26,
    "start_time": "2021-12-11T16:48:06.484Z"
   },
   {
    "duration": 21,
    "start_time": "2021-12-11T16:48:14.702Z"
   },
   {
    "duration": 24,
    "start_time": "2021-12-11T16:48:22.991Z"
   },
   {
    "duration": 24,
    "start_time": "2021-12-11T16:48:29.844Z"
   },
   {
    "duration": 163,
    "start_time": "2021-12-11T16:52:21.156Z"
   },
   {
    "duration": 125,
    "start_time": "2021-12-11T16:57:16.491Z"
   },
   {
    "duration": 120,
    "start_time": "2021-12-11T16:57:21.617Z"
   },
   {
    "duration": 115,
    "start_time": "2021-12-11T16:57:25.793Z"
   },
   {
    "duration": 339,
    "start_time": "2021-12-11T16:57:43.839Z"
   },
   {
    "duration": 21,
    "start_time": "2021-12-11T16:57:56.334Z"
   },
   {
    "duration": 351,
    "start_time": "2021-12-11T16:58:52.254Z"
   },
   {
    "duration": 353,
    "start_time": "2021-12-11T16:59:09.562Z"
   },
   {
    "duration": 335,
    "start_time": "2021-12-11T16:59:46.582Z"
   },
   {
    "duration": 16,
    "start_time": "2021-12-11T17:00:00.859Z"
   },
   {
    "duration": 802,
    "start_time": "2021-12-11T17:00:40.199Z"
   },
   {
    "duration": 169,
    "start_time": "2021-12-11T17:01:12.111Z"
   },
   {
    "duration": 164,
    "start_time": "2021-12-11T17:01:31.623Z"
   },
   {
    "duration": 159,
    "start_time": "2021-12-11T17:01:55.803Z"
   },
   {
    "duration": 30,
    "start_time": "2021-12-11T17:04:20.282Z"
   },
   {
    "duration": 27,
    "start_time": "2021-12-11T17:04:59.315Z"
   },
   {
    "duration": 217,
    "start_time": "2021-12-11T17:05:16.711Z"
   },
   {
    "duration": 36,
    "start_time": "2021-12-11T17:05:36.356Z"
   },
   {
    "duration": 5,
    "start_time": "2021-12-11T17:09:13.525Z"
   },
   {
    "duration": 719,
    "start_time": "2021-12-11T17:10:04.706Z"
   },
   {
    "duration": 39,
    "start_time": "2021-12-11T17:10:05.427Z"
   },
   {
    "duration": 13,
    "start_time": "2021-12-11T17:10:05.468Z"
   },
   {
    "duration": 23,
    "start_time": "2021-12-11T17:10:05.483Z"
   },
   {
    "duration": 13,
    "start_time": "2021-12-11T17:10:05.508Z"
   },
   {
    "duration": 7,
    "start_time": "2021-12-11T17:10:05.523Z"
   },
   {
    "duration": 9,
    "start_time": "2021-12-11T17:10:05.532Z"
   },
   {
    "duration": 9,
    "start_time": "2021-12-11T17:10:05.543Z"
   },
   {
    "duration": 51,
    "start_time": "2021-12-11T17:10:05.556Z"
   },
   {
    "duration": 6,
    "start_time": "2021-12-11T17:10:05.609Z"
   },
   {
    "duration": 25,
    "start_time": "2021-12-11T17:10:05.617Z"
   },
   {
    "duration": 6,
    "start_time": "2021-12-11T17:10:05.644Z"
   },
   {
    "duration": 10,
    "start_time": "2021-12-11T17:10:05.652Z"
   },
   {
    "duration": 3,
    "start_time": "2021-12-11T17:10:05.664Z"
   },
   {
    "duration": 37,
    "start_time": "2021-12-11T17:10:05.669Z"
   },
   {
    "duration": 6,
    "start_time": "2021-12-11T17:10:05.708Z"
   },
   {
    "duration": 8,
    "start_time": "2021-12-11T17:10:05.715Z"
   },
   {
    "duration": 730,
    "start_time": "2021-12-11T17:10:05.725Z"
   },
   {
    "duration": 7,
    "start_time": "2021-12-11T17:10:06.457Z"
   },
   {
    "duration": 21,
    "start_time": "2021-12-11T17:10:06.466Z"
   },
   {
    "duration": 387,
    "start_time": "2021-12-11T17:10:06.490Z"
   },
   {
    "duration": 34,
    "start_time": "2021-12-11T17:10:06.879Z"
   },
   {
    "duration": 6,
    "start_time": "2021-12-11T17:10:06.915Z"
   },
   {
    "duration": 9,
    "start_time": "2021-12-11T17:10:06.922Z"
   },
   {
    "duration": 6,
    "start_time": "2021-12-11T17:10:06.933Z"
   },
   {
    "duration": 201,
    "start_time": "2021-12-11T17:10:06.940Z"
   },
   {
    "duration": 322,
    "start_time": "2021-12-11T17:10:07.145Z"
   },
   {
    "duration": 5,
    "start_time": "2021-12-11T17:10:07.469Z"
   },
   {
    "duration": 39,
    "start_time": "2021-12-11T17:10:07.475Z"
   },
   {
    "duration": 173,
    "start_time": "2021-12-11T17:10:07.516Z"
   },
   {
    "duration": 179,
    "start_time": "2021-12-11T17:10:07.690Z"
   },
   {
    "duration": 4,
    "start_time": "2021-12-11T17:10:07.871Z"
   },
   {
    "duration": 632,
    "start_time": "2021-12-12T11:30:18.904Z"
   },
   {
    "duration": 42,
    "start_time": "2021-12-12T11:30:19.538Z"
   },
   {
    "duration": 13,
    "start_time": "2021-12-12T11:30:19.582Z"
   },
   {
    "duration": 21,
    "start_time": "2021-12-12T11:30:19.598Z"
   },
   {
    "duration": 13,
    "start_time": "2021-12-12T11:30:19.620Z"
   },
   {
    "duration": 28,
    "start_time": "2021-12-12T11:30:19.635Z"
   },
   {
    "duration": 9,
    "start_time": "2021-12-12T11:30:19.666Z"
   },
   {
    "duration": 9,
    "start_time": "2021-12-12T11:30:19.677Z"
   },
   {
    "duration": 22,
    "start_time": "2021-12-12T11:30:19.688Z"
   },
   {
    "duration": 9,
    "start_time": "2021-12-12T11:30:19.712Z"
   },
   {
    "duration": 54,
    "start_time": "2021-12-12T11:30:19.722Z"
   },
   {
    "duration": 6,
    "start_time": "2021-12-12T11:30:19.778Z"
   },
   {
    "duration": 13,
    "start_time": "2021-12-12T11:30:19.786Z"
   },
   {
    "duration": 4,
    "start_time": "2021-12-12T11:30:19.801Z"
   },
   {
    "duration": 8,
    "start_time": "2021-12-12T11:30:19.806Z"
   },
   {
    "duration": 6,
    "start_time": "2021-12-12T11:30:19.815Z"
   },
   {
    "duration": 10,
    "start_time": "2021-12-12T11:30:19.822Z"
   },
   {
    "duration": 744,
    "start_time": "2021-12-12T11:30:19.833Z"
   },
   {
    "duration": 7,
    "start_time": "2021-12-12T11:30:20.579Z"
   },
   {
    "duration": 21,
    "start_time": "2021-12-12T11:30:20.587Z"
   },
   {
    "duration": 350,
    "start_time": "2021-12-12T11:30:20.610Z"
   },
   {
    "duration": 23,
    "start_time": "2021-12-12T11:30:20.963Z"
   },
   {
    "duration": 4,
    "start_time": "2021-12-12T11:30:20.988Z"
   },
   {
    "duration": 8,
    "start_time": "2021-12-12T11:30:20.994Z"
   },
   {
    "duration": 5,
    "start_time": "2021-12-12T11:30:21.004Z"
   },
   {
    "duration": 183,
    "start_time": "2021-12-12T11:30:21.011Z"
   },
   {
    "duration": 289,
    "start_time": "2021-12-12T11:30:21.196Z"
   },
   {
    "duration": 6,
    "start_time": "2021-12-12T11:30:21.486Z"
   },
   {
    "duration": 26,
    "start_time": "2021-12-12T11:30:21.493Z"
   },
   {
    "duration": 169,
    "start_time": "2021-12-12T11:30:21.521Z"
   },
   {
    "duration": 161,
    "start_time": "2021-12-12T11:30:21.692Z"
   },
   {
    "duration": 10,
    "start_time": "2021-12-12T11:30:21.855Z"
   },
   {
    "duration": 17,
    "start_time": "2021-12-12T11:33:40.608Z"
   },
   {
    "duration": 26,
    "start_time": "2021-12-12T11:38:29.269Z"
   },
   {
    "duration": 5,
    "start_time": "2021-12-12T11:38:34.883Z"
   },
   {
    "duration": 6,
    "start_time": "2021-12-12T11:38:49.653Z"
   },
   {
    "duration": 10,
    "start_time": "2021-12-12T11:39:31.235Z"
   },
   {
    "duration": 8,
    "start_time": "2021-12-12T11:39:37.770Z"
   },
   {
    "duration": 9,
    "start_time": "2021-12-12T11:39:42.560Z"
   },
   {
    "duration": 9,
    "start_time": "2021-12-12T11:39:53.066Z"
   },
   {
    "duration": 20,
    "start_time": "2021-12-12T11:41:14.319Z"
   },
   {
    "duration": 5,
    "start_time": "2021-12-12T11:41:25.135Z"
   },
   {
    "duration": 8,
    "start_time": "2021-12-12T11:41:37.107Z"
   },
   {
    "duration": 11,
    "start_time": "2021-12-12T11:41:48.839Z"
   },
   {
    "duration": 95,
    "start_time": "2021-12-12T11:58:49.133Z"
   },
   {
    "duration": 29,
    "start_time": "2021-12-12T11:59:02.715Z"
   },
   {
    "duration": 8,
    "start_time": "2021-12-12T12:00:35.579Z"
   },
   {
    "duration": 7,
    "start_time": "2021-12-12T12:01:30.825Z"
   },
   {
    "duration": 408,
    "start_time": "2021-12-12T12:01:34.552Z"
   },
   {
    "duration": 5,
    "start_time": "2021-12-12T12:01:38.233Z"
   },
   {
    "duration": 10,
    "start_time": "2021-12-12T12:01:47.627Z"
   },
   {
    "duration": 5,
    "start_time": "2021-12-12T12:01:54.678Z"
   },
   {
    "duration": 26,
    "start_time": "2021-12-12T12:02:19.760Z"
   },
   {
    "duration": 30,
    "start_time": "2021-12-12T12:02:52.378Z"
   },
   {
    "duration": 10,
    "start_time": "2021-12-12T12:02:56.597Z"
   },
   {
    "duration": 8,
    "start_time": "2021-12-12T12:03:07.678Z"
   },
   {
    "duration": 8,
    "start_time": "2021-12-12T12:03:10.174Z"
   },
   {
    "duration": 14,
    "start_time": "2021-12-12T12:03:44.027Z"
   },
   {
    "duration": 17,
    "start_time": "2021-12-12T12:03:56.751Z"
   },
   {
    "duration": 9,
    "start_time": "2021-12-12T12:04:04.220Z"
   },
   {
    "duration": 8,
    "start_time": "2021-12-12T12:04:11.988Z"
   },
   {
    "duration": 8,
    "start_time": "2021-12-12T12:04:20.975Z"
   },
   {
    "duration": 8,
    "start_time": "2021-12-12T12:04:24.299Z"
   },
   {
    "duration": 8,
    "start_time": "2021-12-12T12:05:05.117Z"
   },
   {
    "duration": 7,
    "start_time": "2021-12-12T12:05:18.644Z"
   },
   {
    "duration": 29,
    "start_time": "2021-12-12T12:05:44.889Z"
   },
   {
    "duration": 13,
    "start_time": "2021-12-12T12:05:56.695Z"
   },
   {
    "duration": 6,
    "start_time": "2021-12-12T12:06:57.687Z"
   },
   {
    "duration": 11,
    "start_time": "2021-12-12T12:07:03.876Z"
   },
   {
    "duration": 13,
    "start_time": "2021-12-12T12:09:17.870Z"
   },
   {
    "duration": 12,
    "start_time": "2021-12-12T12:10:03.166Z"
   },
   {
    "duration": 254,
    "start_time": "2021-12-12T12:10:04.427Z"
   },
   {
    "duration": 21,
    "start_time": "2021-12-12T12:10:31.658Z"
   },
   {
    "duration": 13,
    "start_time": "2021-12-12T12:11:12.276Z"
   },
   {
    "duration": 21,
    "start_time": "2021-12-12T12:11:13.338Z"
   },
   {
    "duration": 11,
    "start_time": "2021-12-12T12:15:48.423Z"
   },
   {
    "duration": 16,
    "start_time": "2021-12-12T12:15:53.023Z"
   },
   {
    "duration": 9,
    "start_time": "2021-12-12T12:16:08.381Z"
   },
   {
    "duration": 8,
    "start_time": "2021-12-12T12:16:12.012Z"
   },
   {
    "duration": 7,
    "start_time": "2021-12-12T12:16:15.177Z"
   },
   {
    "duration": 9,
    "start_time": "2021-12-12T12:17:04.892Z"
   },
   {
    "duration": 6,
    "start_time": "2021-12-12T12:17:10.401Z"
   },
   {
    "duration": 37,
    "start_time": "2021-12-12T12:18:40.393Z"
   },
   {
    "duration": 40,
    "start_time": "2021-12-12T12:18:50.121Z"
   },
   {
    "duration": 303,
    "start_time": "2021-12-12T12:18:59.933Z"
   },
   {
    "duration": 43,
    "start_time": "2021-12-12T12:19:03.661Z"
   },
   {
    "duration": 236,
    "start_time": "2021-12-12T12:24:42.191Z"
   },
   {
    "duration": 11,
    "start_time": "2021-12-12T12:32:21.715Z"
   },
   {
    "duration": 10,
    "start_time": "2021-12-12T12:32:31.725Z"
   },
   {
    "duration": 5,
    "start_time": "2021-12-12T12:33:19.032Z"
   },
   {
    "duration": 871,
    "start_time": "2021-12-12T15:12:44.533Z"
   },
   {
    "duration": 83,
    "start_time": "2021-12-12T15:12:45.407Z"
   },
   {
    "duration": 20,
    "start_time": "2021-12-12T15:12:45.493Z"
   },
   {
    "duration": 32,
    "start_time": "2021-12-12T15:12:45.516Z"
   },
   {
    "duration": 19,
    "start_time": "2021-12-12T15:12:45.550Z"
   },
   {
    "duration": 12,
    "start_time": "2021-12-12T15:12:45.571Z"
   },
   {
    "duration": 42,
    "start_time": "2021-12-12T15:12:45.586Z"
   },
   {
    "duration": 13,
    "start_time": "2021-12-12T15:12:45.632Z"
   },
   {
    "duration": 75,
    "start_time": "2021-12-12T15:12:45.649Z"
   },
   {
    "duration": 19,
    "start_time": "2021-12-12T15:12:45.727Z"
   },
   {
    "duration": 50,
    "start_time": "2021-12-12T15:12:45.749Z"
   },
   {
    "duration": 21,
    "start_time": "2021-12-12T15:12:45.802Z"
   },
   {
    "duration": 15,
    "start_time": "2021-12-12T15:12:45.826Z"
   },
   {
    "duration": 8,
    "start_time": "2021-12-12T15:12:45.844Z"
   },
   {
    "duration": 14,
    "start_time": "2021-12-12T15:12:45.854Z"
   },
   {
    "duration": 14,
    "start_time": "2021-12-12T15:12:45.871Z"
   },
   {
    "duration": 47,
    "start_time": "2021-12-12T15:12:45.888Z"
   },
   {
    "duration": 1041,
    "start_time": "2021-12-12T15:12:45.938Z"
   },
   {
    "duration": 11,
    "start_time": "2021-12-12T15:12:46.982Z"
   },
   {
    "duration": 1580,
    "start_time": "2021-12-12T15:12:46.996Z"
   },
   {
    "duration": -3330,
    "start_time": "2021-12-12T15:12:51.909Z"
   },
   {
    "duration": -3331,
    "start_time": "2021-12-12T15:12:51.911Z"
   },
   {
    "duration": -3331,
    "start_time": "2021-12-12T15:12:51.913Z"
   },
   {
    "duration": -3331,
    "start_time": "2021-12-12T15:12:51.915Z"
   },
   {
    "duration": -3332,
    "start_time": "2021-12-12T15:12:51.917Z"
   },
   {
    "duration": -3333,
    "start_time": "2021-12-12T15:12:51.919Z"
   },
   {
    "duration": -3334,
    "start_time": "2021-12-12T15:12:51.922Z"
   },
   {
    "duration": -3335,
    "start_time": "2021-12-12T15:12:51.924Z"
   },
   {
    "duration": -3335,
    "start_time": "2021-12-12T15:12:51.926Z"
   },
   {
    "duration": -3336,
    "start_time": "2021-12-12T15:12:51.928Z"
   },
   {
    "duration": -3336,
    "start_time": "2021-12-12T15:12:51.930Z"
   },
   {
    "duration": -3337,
    "start_time": "2021-12-12T15:12:51.932Z"
   },
   {
    "duration": 822,
    "start_time": "2021-12-12T15:17:03.326Z"
   },
   {
    "duration": 61,
    "start_time": "2021-12-12T15:17:04.151Z"
   },
   {
    "duration": 23,
    "start_time": "2021-12-12T15:17:04.221Z"
   },
   {
    "duration": 36,
    "start_time": "2021-12-12T15:17:04.246Z"
   },
   {
    "duration": 53,
    "start_time": "2021-12-12T15:17:04.285Z"
   },
   {
    "duration": 12,
    "start_time": "2021-12-12T15:17:04.340Z"
   },
   {
    "duration": 25,
    "start_time": "2021-12-12T15:17:04.356Z"
   },
   {
    "duration": 17,
    "start_time": "2021-12-12T15:17:04.384Z"
   },
   {
    "duration": 21,
    "start_time": "2021-12-12T15:17:04.403Z"
   },
   {
    "duration": 29,
    "start_time": "2021-12-12T15:17:04.427Z"
   },
   {
    "duration": 54,
    "start_time": "2021-12-12T15:17:04.458Z"
   },
   {
    "duration": 14,
    "start_time": "2021-12-12T15:17:04.515Z"
   },
   {
    "duration": 25,
    "start_time": "2021-12-12T15:17:04.532Z"
   },
   {
    "duration": 15,
    "start_time": "2021-12-12T15:17:04.560Z"
   },
   {
    "duration": 37,
    "start_time": "2021-12-12T15:17:04.578Z"
   },
   {
    "duration": 12,
    "start_time": "2021-12-12T15:17:04.617Z"
   },
   {
    "duration": 23,
    "start_time": "2021-12-12T15:17:04.631Z"
   },
   {
    "duration": 974,
    "start_time": "2021-12-12T15:17:04.657Z"
   },
   {
    "duration": 10,
    "start_time": "2021-12-12T15:17:05.634Z"
   },
   {
    "duration": 1981,
    "start_time": "2021-12-12T15:17:05.647Z"
   },
   {
    "duration": -3242,
    "start_time": "2021-12-12T15:17:10.874Z"
   },
   {
    "duration": -3243,
    "start_time": "2021-12-12T15:17:10.877Z"
   },
   {
    "duration": -3242,
    "start_time": "2021-12-12T15:17:10.879Z"
   },
   {
    "duration": -3243,
    "start_time": "2021-12-12T15:17:10.882Z"
   },
   {
    "duration": -3248,
    "start_time": "2021-12-12T15:17:10.889Z"
   },
   {
    "duration": -3247,
    "start_time": "2021-12-12T15:17:10.891Z"
   },
   {
    "duration": -3248,
    "start_time": "2021-12-12T15:17:10.894Z"
   },
   {
    "duration": -3248,
    "start_time": "2021-12-12T15:17:10.896Z"
   },
   {
    "duration": -3248,
    "start_time": "2021-12-12T15:17:10.899Z"
   },
   {
    "duration": -3248,
    "start_time": "2021-12-12T15:17:10.901Z"
   },
   {
    "duration": -3248,
    "start_time": "2021-12-12T15:17:10.903Z"
   },
   {
    "duration": -3247,
    "start_time": "2021-12-12T15:17:10.905Z"
   },
   {
    "duration": 791,
    "start_time": "2021-12-12T15:17:53.656Z"
   },
   {
    "duration": 54,
    "start_time": "2021-12-12T15:17:54.449Z"
   },
   {
    "duration": 20,
    "start_time": "2021-12-12T15:17:54.506Z"
   },
   {
    "duration": 34,
    "start_time": "2021-12-12T15:17:54.528Z"
   },
   {
    "duration": 25,
    "start_time": "2021-12-12T15:17:54.564Z"
   },
   {
    "duration": 32,
    "start_time": "2021-12-12T15:17:54.591Z"
   },
   {
    "duration": 15,
    "start_time": "2021-12-12T15:17:54.625Z"
   },
   {
    "duration": 10,
    "start_time": "2021-12-12T15:17:54.644Z"
   },
   {
    "duration": 18,
    "start_time": "2021-12-12T15:17:54.657Z"
   },
   {
    "duration": 52,
    "start_time": "2021-12-12T15:17:54.677Z"
   },
   {
    "duration": 11,
    "start_time": "2021-12-12T15:17:54.731Z"
   },
   {
    "duration": 24,
    "start_time": "2021-12-12T15:17:54.745Z"
   },
   {
    "duration": 19,
    "start_time": "2021-12-12T15:17:54.771Z"
   },
   {
    "duration": 13,
    "start_time": "2021-12-12T15:17:54.792Z"
   },
   {
    "duration": 18,
    "start_time": "2021-12-12T15:17:54.808Z"
   },
   {
    "duration": 18,
    "start_time": "2021-12-12T15:17:54.828Z"
   },
   {
    "duration": 965,
    "start_time": "2021-12-12T15:17:54.848Z"
   },
   {
    "duration": 15,
    "start_time": "2021-12-12T15:17:55.815Z"
   },
   {
    "duration": 1239,
    "start_time": "2021-12-12T15:17:55.833Z"
   },
   {
    "duration": -3249,
    "start_time": "2021-12-12T15:18:00.324Z"
   },
   {
    "duration": -3251,
    "start_time": "2021-12-12T15:18:00.328Z"
   },
   {
    "duration": -3253,
    "start_time": "2021-12-12T15:18:00.331Z"
   },
   {
    "duration": -3255,
    "start_time": "2021-12-12T15:18:00.336Z"
   },
   {
    "duration": -3257,
    "start_time": "2021-12-12T15:18:00.339Z"
   },
   {
    "duration": -3257,
    "start_time": "2021-12-12T15:18:00.341Z"
   },
   {
    "duration": -3257,
    "start_time": "2021-12-12T15:18:00.343Z"
   },
   {
    "duration": -3259,
    "start_time": "2021-12-12T15:18:00.346Z"
   },
   {
    "duration": -3261,
    "start_time": "2021-12-12T15:18:00.350Z"
   },
   {
    "duration": -3264,
    "start_time": "2021-12-12T15:18:00.354Z"
   },
   {
    "duration": -3264,
    "start_time": "2021-12-12T15:18:00.356Z"
   },
   {
    "duration": -3264,
    "start_time": "2021-12-12T15:18:00.358Z"
   },
   {
    "duration": 7,
    "start_time": "2021-12-12T15:20:03.450Z"
   },
   {
    "duration": 7,
    "start_time": "2021-12-12T15:21:36.357Z"
   },
   {
    "duration": 89,
    "start_time": "2021-12-12T15:22:08.232Z"
   },
   {
    "duration": 91,
    "start_time": "2021-12-12T15:22:12.321Z"
   },
   {
    "duration": 8,
    "start_time": "2021-12-12T15:24:18.007Z"
   },
   {
    "duration": 11,
    "start_time": "2021-12-12T15:24:51.374Z"
   },
   {
    "duration": 7,
    "start_time": "2021-12-12T15:25:18.921Z"
   },
   {
    "duration": 8,
    "start_time": "2021-12-12T15:25:35.792Z"
   },
   {
    "duration": 10,
    "start_time": "2021-12-12T15:25:36.247Z"
   },
   {
    "duration": 328,
    "start_time": "2021-12-12T15:26:12.457Z"
   },
   {
    "duration": 775,
    "start_time": "2021-12-12T15:26:26.963Z"
   },
   {
    "duration": 44,
    "start_time": "2021-12-12T15:26:27.740Z"
   },
   {
    "duration": 23,
    "start_time": "2021-12-12T15:26:27.787Z"
   },
   {
    "duration": 36,
    "start_time": "2021-12-12T15:26:27.813Z"
   },
   {
    "duration": 21,
    "start_time": "2021-12-12T15:26:27.852Z"
   },
   {
    "duration": 52,
    "start_time": "2021-12-12T15:26:27.876Z"
   },
   {
    "duration": 19,
    "start_time": "2021-12-12T15:26:27.931Z"
   },
   {
    "duration": 19,
    "start_time": "2021-12-12T15:26:27.956Z"
   },
   {
    "duration": 4,
    "start_time": "2021-12-12T15:26:27.978Z"
   },
   {
    "duration": 62,
    "start_time": "2021-12-12T15:26:27.984Z"
   },
   {
    "duration": 6,
    "start_time": "2021-12-12T15:26:28.048Z"
   },
   {
    "duration": 17,
    "start_time": "2021-12-12T15:26:28.056Z"
   },
   {
    "duration": 7,
    "start_time": "2021-12-12T15:26:28.075Z"
   },
   {
    "duration": 48,
    "start_time": "2021-12-12T15:26:28.085Z"
   },
   {
    "duration": 17,
    "start_time": "2021-12-12T15:26:28.136Z"
   },
   {
    "duration": 8,
    "start_time": "2021-12-12T15:26:28.155Z"
   },
   {
    "duration": 10,
    "start_time": "2021-12-12T15:26:28.166Z"
   },
   {
    "duration": 47,
    "start_time": "2021-12-12T15:26:28.178Z"
   },
   {
    "duration": 13,
    "start_time": "2021-12-12T15:26:28.227Z"
   },
   {
    "duration": 982,
    "start_time": "2021-12-12T15:26:28.243Z"
   },
   {
    "duration": 12,
    "start_time": "2021-12-12T15:26:29.229Z"
   },
   {
    "duration": 1270,
    "start_time": "2021-12-12T15:26:29.244Z"
   },
   {
    "duration": -3242,
    "start_time": "2021-12-12T15:26:33.759Z"
   },
   {
    "duration": -3244,
    "start_time": "2021-12-12T15:26:33.763Z"
   },
   {
    "duration": -3249,
    "start_time": "2021-12-12T15:26:33.770Z"
   },
   {
    "duration": -3252,
    "start_time": "2021-12-12T15:26:33.774Z"
   },
   {
    "duration": -3253,
    "start_time": "2021-12-12T15:26:33.777Z"
   },
   {
    "duration": -3254,
    "start_time": "2021-12-12T15:26:33.779Z"
   },
   {
    "duration": -3258,
    "start_time": "2021-12-12T15:26:33.785Z"
   },
   {
    "duration": -3260,
    "start_time": "2021-12-12T15:26:33.788Z"
   },
   {
    "duration": -3261,
    "start_time": "2021-12-12T15:26:33.790Z"
   },
   {
    "duration": -3261,
    "start_time": "2021-12-12T15:26:33.792Z"
   },
   {
    "duration": -3261,
    "start_time": "2021-12-12T15:26:33.794Z"
   },
   {
    "duration": -3261,
    "start_time": "2021-12-12T15:26:33.796Z"
   },
   {
    "duration": 35,
    "start_time": "2021-12-12T15:27:39.697Z"
   },
   {
    "duration": 9,
    "start_time": "2021-12-12T15:29:01.211Z"
   },
   {
    "duration": 15,
    "start_time": "2021-12-12T15:29:01.659Z"
   },
   {
    "duration": 12,
    "start_time": "2021-12-12T15:29:27.486Z"
   },
   {
    "duration": 10,
    "start_time": "2021-12-12T15:29:32.089Z"
   },
   {
    "duration": 48,
    "start_time": "2021-12-12T15:29:45.457Z"
   },
   {
    "duration": 9,
    "start_time": "2021-12-12T15:29:46.255Z"
   },
   {
    "duration": 9,
    "start_time": "2021-12-12T15:29:46.881Z"
   },
   {
    "duration": 7,
    "start_time": "2021-12-12T15:29:48.745Z"
   },
   {
    "duration": 8,
    "start_time": "2021-12-12T15:29:49.593Z"
   },
   {
    "duration": 866,
    "start_time": "2021-12-12T15:29:58.173Z"
   },
   {
    "duration": 47,
    "start_time": "2021-12-12T15:29:59.042Z"
   },
   {
    "duration": 22,
    "start_time": "2021-12-12T15:29:59.096Z"
   },
   {
    "duration": 34,
    "start_time": "2021-12-12T15:29:59.120Z"
   },
   {
    "duration": 21,
    "start_time": "2021-12-12T15:29:59.156Z"
   },
   {
    "duration": 46,
    "start_time": "2021-12-12T15:29:59.179Z"
   },
   {
    "duration": 14,
    "start_time": "2021-12-12T15:29:59.229Z"
   },
   {
    "duration": 14,
    "start_time": "2021-12-12T15:29:59.247Z"
   },
   {
    "duration": 4,
    "start_time": "2021-12-12T15:29:59.264Z"
   },
   {
    "duration": 74,
    "start_time": "2021-12-12T15:29:59.272Z"
   },
   {
    "duration": 8,
    "start_time": "2021-12-12T15:29:59.350Z"
   },
   {
    "duration": 10,
    "start_time": "2021-12-12T15:29:59.361Z"
   },
   {
    "duration": 50,
    "start_time": "2021-12-12T15:29:59.373Z"
   },
   {
    "duration": 9,
    "start_time": "2021-12-12T15:29:59.426Z"
   },
   {
    "duration": 13,
    "start_time": "2021-12-12T15:29:59.438Z"
   },
   {
    "duration": 18,
    "start_time": "2021-12-12T15:29:59.454Z"
   },
   {
    "duration": 7,
    "start_time": "2021-12-12T15:29:59.475Z"
   },
   {
    "duration": 41,
    "start_time": "2021-12-12T15:29:59.485Z"
   },
   {
    "duration": 10,
    "start_time": "2021-12-12T15:29:59.529Z"
   },
   {
    "duration": 15,
    "start_time": "2021-12-12T15:29:59.542Z"
   },
   {
    "duration": 1236,
    "start_time": "2021-12-12T15:29:59.560Z"
   },
   {
    "duration": 10,
    "start_time": "2021-12-12T15:30:00.801Z"
   },
   {
    "duration": 1853,
    "start_time": "2021-12-12T15:30:00.824Z"
   },
   {
    "duration": -3255,
    "start_time": "2021-12-12T15:30:05.935Z"
   },
   {
    "duration": -3263,
    "start_time": "2021-12-12T15:30:05.945Z"
   },
   {
    "duration": -3264,
    "start_time": "2021-12-12T15:30:05.948Z"
   },
   {
    "duration": -3265,
    "start_time": "2021-12-12T15:30:05.951Z"
   },
   {
    "duration": -3266,
    "start_time": "2021-12-12T15:30:05.954Z"
   },
   {
    "duration": -3268,
    "start_time": "2021-12-12T15:30:05.958Z"
   },
   {
    "duration": -3269,
    "start_time": "2021-12-12T15:30:05.960Z"
   },
   {
    "duration": -3269,
    "start_time": "2021-12-12T15:30:05.962Z"
   },
   {
    "duration": -3271,
    "start_time": "2021-12-12T15:30:05.965Z"
   },
   {
    "duration": -3273,
    "start_time": "2021-12-12T15:30:05.968Z"
   },
   {
    "duration": -3273,
    "start_time": "2021-12-12T15:30:05.970Z"
   },
   {
    "duration": -3274,
    "start_time": "2021-12-12T15:30:05.972Z"
   },
   {
    "duration": 27,
    "start_time": "2021-12-12T15:30:34.836Z"
   },
   {
    "duration": 9,
    "start_time": "2021-12-12T15:33:23.979Z"
   },
   {
    "duration": 12,
    "start_time": "2021-12-12T15:34:23.881Z"
   },
   {
    "duration": 11,
    "start_time": "2021-12-12T15:34:37.280Z"
   },
   {
    "duration": 12,
    "start_time": "2021-12-12T15:34:42.601Z"
   },
   {
    "duration": 6,
    "start_time": "2021-12-12T15:34:51.652Z"
   },
   {
    "duration": 18,
    "start_time": "2021-12-12T15:35:11.900Z"
   },
   {
    "duration": 7,
    "start_time": "2021-12-12T15:35:12.933Z"
   },
   {
    "duration": 11,
    "start_time": "2021-12-12T15:36:49.276Z"
   },
   {
    "duration": 7,
    "start_time": "2021-12-12T15:36:50.064Z"
   },
   {
    "duration": 13,
    "start_time": "2021-12-12T15:37:20.322Z"
   },
   {
    "duration": 6,
    "start_time": "2021-12-12T15:37:21.129Z"
   },
   {
    "duration": 333,
    "start_time": "2021-12-12T15:40:51.148Z"
   },
   {
    "duration": 296,
    "start_time": "2021-12-12T15:41:04.804Z"
   },
   {
    "duration": 289,
    "start_time": "2021-12-12T15:41:11.216Z"
   },
   {
    "duration": 386,
    "start_time": "2021-12-12T15:41:38.405Z"
   },
   {
    "duration": 321,
    "start_time": "2021-12-12T15:41:52.788Z"
   },
   {
    "duration": 9,
    "start_time": "2021-12-12T15:42:35.469Z"
   },
   {
    "duration": 10,
    "start_time": "2021-12-12T15:44:35.125Z"
   },
   {
    "duration": 269,
    "start_time": "2021-12-12T15:45:34.704Z"
   },
   {
    "duration": 11,
    "start_time": "2021-12-12T15:45:50.523Z"
   },
   {
    "duration": 262,
    "start_time": "2021-12-12T15:45:58.327Z"
   },
   {
    "duration": 280,
    "start_time": "2021-12-12T15:46:03.308Z"
   },
   {
    "duration": 280,
    "start_time": "2021-12-12T15:46:05.883Z"
   },
   {
    "duration": 853,
    "start_time": "2021-12-12T15:46:57.691Z"
   },
   {
    "duration": 69,
    "start_time": "2021-12-12T15:46:58.547Z"
   },
   {
    "duration": 21,
    "start_time": "2021-12-12T15:46:58.619Z"
   },
   {
    "duration": 36,
    "start_time": "2021-12-12T15:46:58.642Z"
   },
   {
    "duration": 59,
    "start_time": "2021-12-12T15:46:58.680Z"
   },
   {
    "duration": 17,
    "start_time": "2021-12-12T15:46:58.741Z"
   },
   {
    "duration": 15,
    "start_time": "2021-12-12T15:46:58.760Z"
   },
   {
    "duration": 13,
    "start_time": "2021-12-12T15:46:58.779Z"
   },
   {
    "duration": 30,
    "start_time": "2021-12-12T15:46:58.795Z"
   },
   {
    "duration": 35,
    "start_time": "2021-12-12T15:46:58.827Z"
   },
   {
    "duration": 7,
    "start_time": "2021-12-12T15:46:58.864Z"
   },
   {
    "duration": 9,
    "start_time": "2021-12-12T15:46:58.874Z"
   },
   {
    "duration": 58,
    "start_time": "2021-12-12T15:46:58.886Z"
   },
   {
    "duration": 7,
    "start_time": "2021-12-12T15:46:58.947Z"
   },
   {
    "duration": 9,
    "start_time": "2021-12-12T15:46:58.956Z"
   },
   {
    "duration": 17,
    "start_time": "2021-12-12T15:46:58.968Z"
   },
   {
    "duration": 37,
    "start_time": "2021-12-12T15:46:58.988Z"
   },
   {
    "duration": 15,
    "start_time": "2021-12-12T15:46:59.028Z"
   },
   {
    "duration": 421,
    "start_time": "2021-12-12T15:46:59.047Z"
   },
   {
    "duration": -3237,
    "start_time": "2021-12-12T15:47:02.708Z"
   },
   {
    "duration": -3240,
    "start_time": "2021-12-12T15:47:02.713Z"
   },
   {
    "duration": -3248,
    "start_time": "2021-12-12T15:47:02.722Z"
   },
   {
    "duration": -3249,
    "start_time": "2021-12-12T15:47:02.724Z"
   },
   {
    "duration": -3250,
    "start_time": "2021-12-12T15:47:02.726Z"
   },
   {
    "duration": -3251,
    "start_time": "2021-12-12T15:47:02.729Z"
   },
   {
    "duration": -3254,
    "start_time": "2021-12-12T15:47:02.733Z"
   },
   {
    "duration": -3255,
    "start_time": "2021-12-12T15:47:02.735Z"
   },
   {
    "duration": -3257,
    "start_time": "2021-12-12T15:47:02.738Z"
   },
   {
    "duration": -3258,
    "start_time": "2021-12-12T15:47:02.740Z"
   },
   {
    "duration": -3259,
    "start_time": "2021-12-12T15:47:02.742Z"
   },
   {
    "duration": -3260,
    "start_time": "2021-12-12T15:47:02.745Z"
   },
   {
    "duration": -3266,
    "start_time": "2021-12-12T15:47:02.752Z"
   },
   {
    "duration": -3267,
    "start_time": "2021-12-12T15:47:02.755Z"
   },
   {
    "duration": -3269,
    "start_time": "2021-12-12T15:47:02.758Z"
   },
   {
    "duration": -3271,
    "start_time": "2021-12-12T15:47:02.761Z"
   },
   {
    "duration": -3272,
    "start_time": "2021-12-12T15:47:02.764Z"
   },
   {
    "duration": -3274,
    "start_time": "2021-12-12T15:47:02.767Z"
   },
   {
    "duration": -3274,
    "start_time": "2021-12-12T15:47:02.769Z"
   },
   {
    "duration": 304,
    "start_time": "2021-12-12T15:47:41.255Z"
   },
   {
    "duration": 293,
    "start_time": "2021-12-12T15:47:51.640Z"
   },
   {
    "duration": 102,
    "start_time": "2021-12-12T15:48:19.145Z"
   },
   {
    "duration": 327,
    "start_time": "2021-12-12T15:48:24.178Z"
   },
   {
    "duration": 385,
    "start_time": "2021-12-12T15:50:30.013Z"
   },
   {
    "duration": 345,
    "start_time": "2021-12-12T15:50:58.997Z"
   },
   {
    "duration": 84,
    "start_time": "2021-12-12T15:51:07.266Z"
   },
   {
    "duration": 7,
    "start_time": "2021-12-12T15:51:17.501Z"
   },
   {
    "duration": 811,
    "start_time": "2021-12-12T15:54:43.330Z"
   },
   {
    "duration": 52,
    "start_time": "2021-12-12T15:54:44.144Z"
   },
   {
    "duration": 26,
    "start_time": "2021-12-12T15:54:44.202Z"
   },
   {
    "duration": 32,
    "start_time": "2021-12-12T15:54:44.230Z"
   },
   {
    "duration": 21,
    "start_time": "2021-12-12T15:54:44.264Z"
   },
   {
    "duration": 41,
    "start_time": "2021-12-12T15:54:44.287Z"
   },
   {
    "duration": 12,
    "start_time": "2021-12-12T15:54:44.332Z"
   },
   {
    "duration": 11,
    "start_time": "2021-12-12T15:54:44.347Z"
   },
   {
    "duration": 4,
    "start_time": "2021-12-12T15:54:44.360Z"
   },
   {
    "duration": 61,
    "start_time": "2021-12-12T15:54:44.367Z"
   },
   {
    "duration": 7,
    "start_time": "2021-12-12T15:54:44.431Z"
   },
   {
    "duration": 12,
    "start_time": "2021-12-12T15:54:44.441Z"
   },
   {
    "duration": 23,
    "start_time": "2021-12-12T15:54:44.455Z"
   },
   {
    "duration": 43,
    "start_time": "2021-12-12T15:54:44.481Z"
   },
   {
    "duration": 14,
    "start_time": "2021-12-12T15:54:44.527Z"
   },
   {
    "duration": 14,
    "start_time": "2021-12-12T15:54:44.543Z"
   },
   {
    "duration": 12,
    "start_time": "2021-12-12T15:54:44.560Z"
   },
   {
    "duration": 14,
    "start_time": "2021-12-12T15:54:44.574Z"
   },
   {
    "duration": 1103,
    "start_time": "2021-12-12T15:56:12.568Z"
   },
   {
    "duration": 45,
    "start_time": "2021-12-12T15:56:13.674Z"
   },
   {
    "duration": 24,
    "start_time": "2021-12-12T15:56:13.723Z"
   },
   {
    "duration": 37,
    "start_time": "2021-12-12T15:56:13.751Z"
   },
   {
    "duration": 50,
    "start_time": "2021-12-12T15:56:13.791Z"
   },
   {
    "duration": 18,
    "start_time": "2021-12-12T15:56:13.844Z"
   },
   {
    "duration": 26,
    "start_time": "2021-12-12T15:56:13.864Z"
   },
   {
    "duration": 13,
    "start_time": "2021-12-12T15:56:13.922Z"
   },
   {
    "duration": 4,
    "start_time": "2021-12-12T15:56:13.938Z"
   },
   {
    "duration": 35,
    "start_time": "2021-12-12T15:56:13.944Z"
   },
   {
    "duration": 8,
    "start_time": "2021-12-12T15:56:13.982Z"
   },
   {
    "duration": 11,
    "start_time": "2021-12-12T15:56:14.024Z"
   },
   {
    "duration": 26,
    "start_time": "2021-12-12T15:56:14.038Z"
   },
   {
    "duration": 8,
    "start_time": "2021-12-12T15:56:14.067Z"
   },
   {
    "duration": 50,
    "start_time": "2021-12-12T15:56:14.078Z"
   },
   {
    "duration": 17,
    "start_time": "2021-12-12T15:56:14.130Z"
   },
   {
    "duration": 8,
    "start_time": "2021-12-12T15:56:14.149Z"
   },
   {
    "duration": 13,
    "start_time": "2021-12-12T15:56:14.159Z"
   },
   {
    "duration": 5,
    "start_time": "2021-12-12T15:56:14.175Z"
   },
   {
    "duration": 44,
    "start_time": "2021-12-12T15:56:14.182Z"
   },
   {
    "duration": 8,
    "start_time": "2021-12-12T15:56:14.229Z"
   },
   {
    "duration": 11,
    "start_time": "2021-12-12T15:56:14.240Z"
   },
   {
    "duration": 996,
    "start_time": "2021-12-12T15:56:14.256Z"
   },
   {
    "duration": 13,
    "start_time": "2021-12-12T15:56:15.256Z"
   },
   {
    "duration": 1591,
    "start_time": "2021-12-12T15:56:15.273Z"
   },
   {
    "duration": -3256,
    "start_time": "2021-12-12T15:56:20.124Z"
   },
   {
    "duration": -3256,
    "start_time": "2021-12-12T15:56:20.127Z"
   },
   {
    "duration": -3262,
    "start_time": "2021-12-12T15:56:20.135Z"
   },
   {
    "duration": -3262,
    "start_time": "2021-12-12T15:56:20.137Z"
   },
   {
    "duration": -3261,
    "start_time": "2021-12-12T15:56:20.139Z"
   },
   {
    "duration": -3261,
    "start_time": "2021-12-12T15:56:20.141Z"
   },
   {
    "duration": -3268,
    "start_time": "2021-12-12T15:56:20.149Z"
   },
   {
    "duration": -3269,
    "start_time": "2021-12-12T15:56:20.151Z"
   },
   {
    "duration": -3270,
    "start_time": "2021-12-12T15:56:20.154Z"
   },
   {
    "duration": -3271,
    "start_time": "2021-12-12T15:56:20.156Z"
   },
   {
    "duration": -3272,
    "start_time": "2021-12-12T15:56:20.158Z"
   },
   {
    "duration": -3279,
    "start_time": "2021-12-12T15:56:20.166Z"
   },
   {
    "duration": 7,
    "start_time": "2021-12-12T15:57:48.042Z"
   },
   {
    "duration": 6,
    "start_time": "2021-12-12T15:57:57.797Z"
   },
   {
    "duration": 7,
    "start_time": "2021-12-12T15:58:04.057Z"
   },
   {
    "duration": 7,
    "start_time": "2021-12-12T15:58:07.757Z"
   },
   {
    "duration": 7,
    "start_time": "2021-12-12T15:58:11.167Z"
   },
   {
    "duration": 8,
    "start_time": "2021-12-12T15:58:16.056Z"
   },
   {
    "duration": 8,
    "start_time": "2021-12-12T15:59:35.179Z"
   },
   {
    "duration": 8,
    "start_time": "2021-12-12T15:59:41.369Z"
   },
   {
    "duration": 9,
    "start_time": "2021-12-12T15:59:43.336Z"
   },
   {
    "duration": 272,
    "start_time": "2021-12-12T16:00:05.211Z"
   },
   {
    "duration": 272,
    "start_time": "2021-12-12T16:00:30.240Z"
   },
   {
    "duration": 261,
    "start_time": "2021-12-12T16:00:41.733Z"
   },
   {
    "duration": 871,
    "start_time": "2021-12-12T16:00:53.155Z"
   },
   {
    "duration": 45,
    "start_time": "2021-12-12T16:00:54.029Z"
   },
   {
    "duration": 21,
    "start_time": "2021-12-12T16:00:54.077Z"
   },
   {
    "duration": 36,
    "start_time": "2021-12-12T16:00:54.101Z"
   },
   {
    "duration": 25,
    "start_time": "2021-12-12T16:00:54.140Z"
   },
   {
    "duration": 16,
    "start_time": "2021-12-12T16:00:54.168Z"
   },
   {
    "duration": 12,
    "start_time": "2021-12-12T16:00:54.186Z"
   },
   {
    "duration": 12,
    "start_time": "2021-12-12T16:00:54.226Z"
   },
   {
    "duration": 4,
    "start_time": "2021-12-12T16:00:54.241Z"
   },
   {
    "duration": 34,
    "start_time": "2021-12-12T16:00:54.248Z"
   },
   {
    "duration": 39,
    "start_time": "2021-12-12T16:00:54.284Z"
   },
   {
    "duration": 7,
    "start_time": "2021-12-12T16:00:54.326Z"
   },
   {
    "duration": 29,
    "start_time": "2021-12-12T16:00:54.336Z"
   },
   {
    "duration": 8,
    "start_time": "2021-12-12T16:00:54.367Z"
   },
   {
    "duration": 11,
    "start_time": "2021-12-12T16:00:54.377Z"
   },
   {
    "duration": 44,
    "start_time": "2021-12-12T16:00:54.391Z"
   },
   {
    "duration": 13,
    "start_time": "2021-12-12T16:00:54.437Z"
   },
   {
    "duration": 17,
    "start_time": "2021-12-12T16:00:54.452Z"
   },
   {
    "duration": 352,
    "start_time": "2021-12-12T16:00:54.471Z"
   },
   {
    "duration": -3252,
    "start_time": "2021-12-12T16:00:58.078Z"
   },
   {
    "duration": -3252,
    "start_time": "2021-12-12T16:00:58.080Z"
   },
   {
    "duration": -3252,
    "start_time": "2021-12-12T16:00:58.082Z"
   },
   {
    "duration": -3261,
    "start_time": "2021-12-12T16:00:58.092Z"
   },
   {
    "duration": -3262,
    "start_time": "2021-12-12T16:00:58.095Z"
   },
   {
    "duration": -3262,
    "start_time": "2021-12-12T16:00:58.097Z"
   },
   {
    "duration": -3263,
    "start_time": "2021-12-12T16:00:58.099Z"
   },
   {
    "duration": -3269,
    "start_time": "2021-12-12T16:00:58.107Z"
   },
   {
    "duration": -3271,
    "start_time": "2021-12-12T16:00:58.110Z"
   },
   {
    "duration": -3270,
    "start_time": "2021-12-12T16:00:58.111Z"
   },
   {
    "duration": -3272,
    "start_time": "2021-12-12T16:00:58.114Z"
   },
   {
    "duration": -3272,
    "start_time": "2021-12-12T16:00:58.116Z"
   },
   {
    "duration": -3278,
    "start_time": "2021-12-12T16:00:58.123Z"
   },
   {
    "duration": -3279,
    "start_time": "2021-12-12T16:00:58.126Z"
   },
   {
    "duration": -3279,
    "start_time": "2021-12-12T16:00:58.128Z"
   },
   {
    "duration": -3280,
    "start_time": "2021-12-12T16:00:58.130Z"
   },
   {
    "duration": -3281,
    "start_time": "2021-12-12T16:00:58.132Z"
   },
   {
    "duration": -3282,
    "start_time": "2021-12-12T16:00:58.134Z"
   },
   {
    "duration": -3288,
    "start_time": "2021-12-12T16:00:58.142Z"
   },
   {
    "duration": 6,
    "start_time": "2021-12-12T16:01:22.845Z"
   },
   {
    "duration": 6,
    "start_time": "2021-12-12T16:01:25.211Z"
   },
   {
    "duration": 7,
    "start_time": "2021-12-12T16:01:28.369Z"
   },
   {
    "duration": 11,
    "start_time": "2021-12-12T16:01:30.945Z"
   },
   {
    "duration": 955,
    "start_time": "2021-12-12T16:01:34.509Z"
   },
   {
    "duration": 11,
    "start_time": "2021-12-12T16:01:37.934Z"
   },
   {
    "duration": 1255,
    "start_time": "2021-12-12T16:01:41.807Z"
   },
   {
    "duration": 24,
    "start_time": "2021-12-12T16:01:53.678Z"
   },
   {
    "duration": 5,
    "start_time": "2021-12-12T16:02:17.448Z"
   },
   {
    "duration": 267,
    "start_time": "2021-12-12T16:02:32.456Z"
   },
   {
    "duration": 42,
    "start_time": "2021-12-12T16:02:46.124Z"
   },
   {
    "duration": 269,
    "start_time": "2021-12-12T16:03:08.427Z"
   },
   {
    "duration": 6,
    "start_time": "2021-12-12T16:03:52.760Z"
   },
   {
    "duration": 5,
    "start_time": "2021-12-12T16:03:54.236Z"
   },
   {
    "duration": 6,
    "start_time": "2021-12-12T16:03:56.351Z"
   },
   {
    "duration": 10,
    "start_time": "2021-12-12T16:03:59.624Z"
   },
   {
    "duration": 277,
    "start_time": "2021-12-12T16:04:14.610Z"
   },
   {
    "duration": 271,
    "start_time": "2021-12-12T16:04:33.934Z"
   },
   {
    "duration": 269,
    "start_time": "2021-12-12T16:04:37.768Z"
   },
   {
    "duration": 856,
    "start_time": "2021-12-12T16:04:55.891Z"
   },
   {
    "duration": 45,
    "start_time": "2021-12-12T16:04:56.750Z"
   },
   {
    "duration": 20,
    "start_time": "2021-12-12T16:04:56.798Z"
   },
   {
    "duration": 37,
    "start_time": "2021-12-12T16:04:56.821Z"
   },
   {
    "duration": 16,
    "start_time": "2021-12-12T16:04:56.860Z"
   },
   {
    "duration": 14,
    "start_time": "2021-12-12T16:04:56.879Z"
   },
   {
    "duration": 11,
    "start_time": "2021-12-12T16:04:56.923Z"
   },
   {
    "duration": 11,
    "start_time": "2021-12-12T16:04:56.938Z"
   },
   {
    "duration": 4,
    "start_time": "2021-12-12T16:04:56.952Z"
   },
   {
    "duration": 33,
    "start_time": "2021-12-12T16:04:56.958Z"
   },
   {
    "duration": 8,
    "start_time": "2021-12-12T16:04:57.024Z"
   },
   {
    "duration": 8,
    "start_time": "2021-12-12T16:04:57.035Z"
   },
   {
    "duration": 32,
    "start_time": "2021-12-12T16:04:57.046Z"
   },
   {
    "duration": 19,
    "start_time": "2021-12-12T16:04:57.080Z"
   },
   {
    "duration": 26,
    "start_time": "2021-12-12T16:04:57.101Z"
   },
   {
    "duration": 16,
    "start_time": "2021-12-12T16:04:57.130Z"
   },
   {
    "duration": 8,
    "start_time": "2021-12-12T16:04:57.149Z"
   },
   {
    "duration": 12,
    "start_time": "2021-12-12T16:04:57.160Z"
   },
   {
    "duration": 6,
    "start_time": "2021-12-12T16:04:57.174Z"
   },
   {
    "duration": 41,
    "start_time": "2021-12-12T16:04:57.182Z"
   },
   {
    "duration": 7,
    "start_time": "2021-12-12T16:04:57.225Z"
   },
   {
    "duration": 12,
    "start_time": "2021-12-12T16:04:57.235Z"
   },
   {
    "duration": 1029,
    "start_time": "2021-12-12T16:04:57.252Z"
   },
   {
    "duration": 11,
    "start_time": "2021-12-12T16:04:58.284Z"
   },
   {
    "duration": 53,
    "start_time": "2021-12-12T16:04:58.299Z"
   },
   {
    "duration": 603,
    "start_time": "2021-12-12T16:04:58.354Z"
   },
   {
    "duration": 35,
    "start_time": "2021-12-12T16:04:58.960Z"
   },
   {
    "duration": 27,
    "start_time": "2021-12-12T16:04:58.998Z"
   },
   {
    "duration": 12,
    "start_time": "2021-12-12T16:04:59.027Z"
   },
   {
    "duration": 10,
    "start_time": "2021-12-12T16:04:59.041Z"
   },
   {
    "duration": 290,
    "start_time": "2021-12-12T16:04:59.053Z"
   },
   {
    "duration": 520,
    "start_time": "2021-12-12T16:04:59.346Z"
   },
   {
    "duration": 6,
    "start_time": "2021-12-12T16:04:59.869Z"
   },
   {
    "duration": 56,
    "start_time": "2021-12-12T16:04:59.877Z"
   },
   {
    "duration": 290,
    "start_time": "2021-12-12T16:04:59.936Z"
   },
   {
    "duration": 335,
    "start_time": "2021-12-12T16:05:00.229Z"
   },
   {
    "duration": 7,
    "start_time": "2021-12-12T16:05:00.567Z"
   },
   {
    "duration": 91,
    "start_time": "2021-12-12T16:06:37.427Z"
   },
   {
    "duration": 40,
    "start_time": "2021-12-12T16:06:38.150Z"
   },
   {
    "duration": 1395,
    "start_time": "2021-12-12T16:06:38.531Z"
   },
   {
    "duration": -3278,
    "start_time": "2021-12-12T16:06:43.207Z"
   },
   {
    "duration": 792,
    "start_time": "2021-12-12T16:06:49.881Z"
   },
   {
    "duration": 36,
    "start_time": "2021-12-12T16:06:50.675Z"
   },
   {
    "duration": 1237,
    "start_time": "2021-12-12T16:06:50.717Z"
   },
   {
    "duration": -3276,
    "start_time": "2021-12-12T16:06:55.234Z"
   },
   {
    "duration": -3278,
    "start_time": "2021-12-12T16:06:55.237Z"
   },
   {
    "duration": -3278,
    "start_time": "2021-12-12T16:06:55.239Z"
   },
   {
    "duration": -3278,
    "start_time": "2021-12-12T16:06:55.241Z"
   },
   {
    "duration": -3280,
    "start_time": "2021-12-12T16:06:55.244Z"
   },
   {
    "duration": -3286,
    "start_time": "2021-12-12T16:06:55.252Z"
   },
   {
    "duration": -3287,
    "start_time": "2021-12-12T16:06:55.254Z"
   },
   {
    "duration": -3289,
    "start_time": "2021-12-12T16:06:55.257Z"
   },
   {
    "duration": -3291,
    "start_time": "2021-12-12T16:06:55.260Z"
   },
   {
    "duration": -3296,
    "start_time": "2021-12-12T16:06:55.267Z"
   },
   {
    "duration": -3298,
    "start_time": "2021-12-12T16:06:55.270Z"
   },
   {
    "duration": -3299,
    "start_time": "2021-12-12T16:06:55.272Z"
   },
   {
    "duration": -3300,
    "start_time": "2021-12-12T16:06:55.274Z"
   },
   {
    "duration": -3301,
    "start_time": "2021-12-12T16:06:55.277Z"
   },
   {
    "duration": -3306,
    "start_time": "2021-12-12T16:06:55.283Z"
   },
   {
    "duration": -3308,
    "start_time": "2021-12-12T16:06:55.286Z"
   },
   {
    "duration": -3309,
    "start_time": "2021-12-12T16:06:55.288Z"
   },
   {
    "duration": -3310,
    "start_time": "2021-12-12T16:06:55.290Z"
   },
   {
    "duration": -3311,
    "start_time": "2021-12-12T16:06:55.293Z"
   },
   {
    "duration": -3316,
    "start_time": "2021-12-12T16:06:55.299Z"
   },
   {
    "duration": -3317,
    "start_time": "2021-12-12T16:06:55.301Z"
   },
   {
    "duration": -3318,
    "start_time": "2021-12-12T16:06:55.303Z"
   },
   {
    "duration": -3319,
    "start_time": "2021-12-12T16:06:55.306Z"
   },
   {
    "duration": -3320,
    "start_time": "2021-12-12T16:06:55.308Z"
   },
   {
    "duration": -3321,
    "start_time": "2021-12-12T16:06:55.310Z"
   },
   {
    "duration": -3326,
    "start_time": "2021-12-12T16:06:55.316Z"
   },
   {
    "duration": -3327,
    "start_time": "2021-12-12T16:06:55.319Z"
   },
   {
    "duration": -3328,
    "start_time": "2021-12-12T16:06:55.321Z"
   },
   {
    "duration": -3329,
    "start_time": "2021-12-12T16:06:55.323Z"
   },
   {
    "duration": -3302,
    "start_time": "2021-12-12T16:06:55.325Z"
   },
   {
    "duration": -3308,
    "start_time": "2021-12-12T16:06:55.332Z"
   },
   {
    "duration": -3308,
    "start_time": "2021-12-12T16:06:55.334Z"
   },
   {
    "duration": -3309,
    "start_time": "2021-12-12T16:06:55.336Z"
   },
   {
    "duration": -3310,
    "start_time": "2021-12-12T16:06:55.338Z"
   },
   {
    "duration": -3311,
    "start_time": "2021-12-12T16:06:55.340Z"
   },
   {
    "duration": 88,
    "start_time": "2021-12-12T16:07:04.982Z"
   },
   {
    "duration": 279,
    "start_time": "2021-12-12T16:07:54.601Z"
   },
   {
    "duration": 289,
    "start_time": "2021-12-12T16:08:57.194Z"
   },
   {
    "duration": 1929,
    "start_time": "2021-12-12T16:09:47.323Z"
   },
   {
    "duration": 22,
    "start_time": "2021-12-12T16:10:13.082Z"
   },
   {
    "duration": 820,
    "start_time": "2021-12-12T16:10:19.030Z"
   },
   {
    "duration": 36,
    "start_time": "2021-12-12T16:10:19.853Z"
   },
   {
    "duration": 19,
    "start_time": "2021-12-12T16:10:19.892Z"
   },
   {
    "duration": 33,
    "start_time": "2021-12-12T16:10:19.914Z"
   },
   {
    "duration": 20,
    "start_time": "2021-12-12T16:10:19.949Z"
   },
   {
    "duration": 16,
    "start_time": "2021-12-12T16:10:19.971Z"
   },
   {
    "duration": 45,
    "start_time": "2021-12-12T16:10:19.989Z"
   },
   {
    "duration": 15,
    "start_time": "2021-12-12T16:10:20.046Z"
   },
   {
    "duration": 5,
    "start_time": "2021-12-12T16:10:20.064Z"
   },
   {
    "duration": 63,
    "start_time": "2021-12-12T16:10:20.071Z"
   },
   {
    "duration": 8,
    "start_time": "2021-12-12T16:10:20.137Z"
   },
   {
    "duration": 16,
    "start_time": "2021-12-12T16:10:20.148Z"
   },
   {
    "duration": 29,
    "start_time": "2021-12-12T16:10:20.167Z"
   },
   {
    "duration": 28,
    "start_time": "2021-12-12T16:10:20.199Z"
   },
   {
    "duration": 22,
    "start_time": "2021-12-12T16:10:20.230Z"
   },
   {
    "duration": 36,
    "start_time": "2021-12-12T16:10:20.255Z"
   },
   {
    "duration": 8,
    "start_time": "2021-12-12T16:10:20.293Z"
   },
   {
    "duration": 20,
    "start_time": "2021-12-12T16:10:20.303Z"
   },
   {
    "duration": 5,
    "start_time": "2021-12-12T16:10:20.326Z"
   },
   {
    "duration": 13,
    "start_time": "2021-12-12T16:10:20.335Z"
   },
   {
    "duration": 12,
    "start_time": "2021-12-12T16:10:20.350Z"
   },
   {
    "duration": 15,
    "start_time": "2021-12-12T16:10:20.364Z"
   },
   {
    "duration": 954,
    "start_time": "2021-12-12T16:10:20.384Z"
   },
   {
    "duration": 12,
    "start_time": "2021-12-12T16:10:21.341Z"
   },
   {
    "duration": 24,
    "start_time": "2021-12-12T16:10:21.356Z"
   },
   {
    "duration": 340,
    "start_time": "2021-12-12T16:10:21.383Z"
   },
   {
    "duration": 439,
    "start_time": "2021-12-12T16:10:21.726Z"
   },
   {
    "duration": -3285,
    "start_time": "2021-12-12T16:10:25.453Z"
   },
   {
    "duration": -3286,
    "start_time": "2021-12-12T16:10:25.456Z"
   },
   {
    "duration": -3287,
    "start_time": "2021-12-12T16:10:25.458Z"
   },
   {
    "duration": -3287,
    "start_time": "2021-12-12T16:10:25.460Z"
   },
   {
    "duration": -3288,
    "start_time": "2021-12-12T16:10:25.463Z"
   },
   {
    "duration": -3289,
    "start_time": "2021-12-12T16:10:25.465Z"
   },
   {
    "duration": -3289,
    "start_time": "2021-12-12T16:10:25.467Z"
   },
   {
    "duration": -3290,
    "start_time": "2021-12-12T16:10:25.469Z"
   },
   {
    "duration": -3290,
    "start_time": "2021-12-12T16:10:25.470Z"
   },
   {
    "duration": -3291,
    "start_time": "2021-12-12T16:10:25.472Z"
   },
   {
    "duration": 861,
    "start_time": "2021-12-12T16:11:48.041Z"
   },
   {
    "duration": 40,
    "start_time": "2021-12-12T16:11:48.905Z"
   },
   {
    "duration": 17,
    "start_time": "2021-12-12T16:11:48.949Z"
   },
   {
    "duration": 13,
    "start_time": "2021-12-12T16:11:48.969Z"
   },
   {
    "duration": 39,
    "start_time": "2021-12-12T16:11:48.985Z"
   },
   {
    "duration": 8,
    "start_time": "2021-12-12T16:11:49.027Z"
   },
   {
    "duration": 10,
    "start_time": "2021-12-12T16:11:49.039Z"
   },
   {
    "duration": 8,
    "start_time": "2021-12-12T16:11:49.055Z"
   },
   {
    "duration": 4,
    "start_time": "2021-12-12T16:11:49.067Z"
   },
   {
    "duration": 50,
    "start_time": "2021-12-12T16:11:49.075Z"
   },
   {
    "duration": 7,
    "start_time": "2021-12-12T16:11:49.129Z"
   },
   {
    "duration": 7,
    "start_time": "2021-12-12T16:11:49.138Z"
   },
   {
    "duration": 14,
    "start_time": "2021-12-12T16:11:49.148Z"
   },
   {
    "duration": 8,
    "start_time": "2021-12-12T16:11:49.164Z"
   },
   {
    "duration": 50,
    "start_time": "2021-12-12T16:11:49.174Z"
   },
   {
    "duration": 8,
    "start_time": "2021-12-12T16:11:49.227Z"
   },
   {
    "duration": 11,
    "start_time": "2021-12-12T16:11:49.237Z"
   },
   {
    "duration": 9,
    "start_time": "2021-12-12T16:11:49.250Z"
   },
   {
    "duration": 8,
    "start_time": "2021-12-12T16:11:49.261Z"
   },
   {
    "duration": 9,
    "start_time": "2021-12-12T16:11:49.272Z"
   },
   {
    "duration": 42,
    "start_time": "2021-12-12T16:11:49.284Z"
   },
   {
    "duration": 11,
    "start_time": "2021-12-12T16:11:49.328Z"
   },
   {
    "duration": 1189,
    "start_time": "2021-12-12T16:11:49.345Z"
   },
   {
    "duration": -3287,
    "start_time": "2021-12-12T16:11:53.824Z"
   },
   {
    "duration": -3289,
    "start_time": "2021-12-12T16:11:53.828Z"
   },
   {
    "duration": -3290,
    "start_time": "2021-12-12T16:11:53.830Z"
   },
   {
    "duration": -3291,
    "start_time": "2021-12-12T16:11:53.832Z"
   },
   {
    "duration": -3291,
    "start_time": "2021-12-12T16:11:53.834Z"
   },
   {
    "duration": -3298,
    "start_time": "2021-12-12T16:11:53.842Z"
   },
   {
    "duration": -3298,
    "start_time": "2021-12-12T16:11:53.844Z"
   },
   {
    "duration": -3299,
    "start_time": "2021-12-12T16:11:53.846Z"
   },
   {
    "duration": -3300,
    "start_time": "2021-12-12T16:11:53.849Z"
   },
   {
    "duration": -3301,
    "start_time": "2021-12-12T16:11:53.851Z"
   },
   {
    "duration": -3308,
    "start_time": "2021-12-12T16:11:53.859Z"
   },
   {
    "duration": -3310,
    "start_time": "2021-12-12T16:11:53.862Z"
   },
   {
    "duration": -3310,
    "start_time": "2021-12-12T16:11:53.864Z"
   },
   {
    "duration": -3311,
    "start_time": "2021-12-12T16:11:53.866Z"
   },
   {
    "duration": 768,
    "start_time": "2021-12-12T16:12:36.965Z"
   },
   {
    "duration": 37,
    "start_time": "2021-12-12T16:12:37.736Z"
   },
   {
    "duration": 21,
    "start_time": "2021-12-12T16:12:37.776Z"
   },
   {
    "duration": 46,
    "start_time": "2021-12-12T16:12:37.800Z"
   },
   {
    "duration": 22,
    "start_time": "2021-12-12T16:12:37.849Z"
   },
   {
    "duration": 16,
    "start_time": "2021-12-12T16:12:37.874Z"
   },
   {
    "duration": 37,
    "start_time": "2021-12-12T16:12:37.892Z"
   },
   {
    "duration": 29,
    "start_time": "2021-12-12T16:12:37.933Z"
   },
   {
    "duration": 6,
    "start_time": "2021-12-12T16:12:37.965Z"
   },
   {
    "duration": 42,
    "start_time": "2021-12-12T16:12:37.973Z"
   },
   {
    "duration": 7,
    "start_time": "2021-12-12T16:12:38.017Z"
   },
   {
    "duration": 41,
    "start_time": "2021-12-12T16:12:38.027Z"
   },
   {
    "duration": 41,
    "start_time": "2021-12-12T16:12:38.070Z"
   },
   {
    "duration": 13,
    "start_time": "2021-12-12T16:12:38.115Z"
   },
   {
    "duration": 15,
    "start_time": "2021-12-12T16:12:38.130Z"
   },
   {
    "duration": 33,
    "start_time": "2021-12-12T16:12:38.147Z"
   },
   {
    "duration": 14,
    "start_time": "2021-12-12T16:12:38.182Z"
   },
   {
    "duration": 34,
    "start_time": "2021-12-12T16:12:38.198Z"
   },
   {
    "duration": 21,
    "start_time": "2021-12-12T16:12:38.234Z"
   },
   {
    "duration": 15,
    "start_time": "2021-12-12T16:12:38.257Z"
   },
   {
    "duration": 24,
    "start_time": "2021-12-12T16:12:38.274Z"
   },
   {
    "duration": 24,
    "start_time": "2021-12-12T16:12:38.300Z"
   },
   {
    "duration": 989,
    "start_time": "2021-12-12T16:12:38.328Z"
   },
   {
    "duration": 10,
    "start_time": "2021-12-12T16:12:39.322Z"
   },
   {
    "duration": 29,
    "start_time": "2021-12-12T16:12:39.335Z"
   },
   {
    "duration": 311,
    "start_time": "2021-12-12T16:12:39.366Z"
   },
   {
    "duration": 495,
    "start_time": "2021-12-12T16:12:39.679Z"
   },
   {
    "duration": -3286,
    "start_time": "2021-12-12T16:12:43.463Z"
   },
   {
    "duration": -3287,
    "start_time": "2021-12-12T16:12:43.465Z"
   },
   {
    "duration": -3289,
    "start_time": "2021-12-12T16:12:43.468Z"
   },
   {
    "duration": -3289,
    "start_time": "2021-12-12T16:12:43.470Z"
   },
   {
    "duration": -3290,
    "start_time": "2021-12-12T16:12:43.472Z"
   },
   {
    "duration": -3291,
    "start_time": "2021-12-12T16:12:43.474Z"
   },
   {
    "duration": -3291,
    "start_time": "2021-12-12T16:12:43.476Z"
   },
   {
    "duration": -3292,
    "start_time": "2021-12-12T16:12:43.478Z"
   },
   {
    "duration": -3292,
    "start_time": "2021-12-12T16:12:43.480Z"
   },
   {
    "duration": -3294,
    "start_time": "2021-12-12T16:12:43.483Z"
   },
   {
    "duration": 863,
    "start_time": "2021-12-12T16:19:46.692Z"
   },
   {
    "duration": 38,
    "start_time": "2021-12-12T16:19:47.559Z"
   },
   {
    "duration": 17,
    "start_time": "2021-12-12T16:19:47.600Z"
   },
   {
    "duration": 33,
    "start_time": "2021-12-12T16:19:47.620Z"
   },
   {
    "duration": 16,
    "start_time": "2021-12-12T16:19:47.655Z"
   },
   {
    "duration": 15,
    "start_time": "2021-12-12T16:19:47.673Z"
   },
   {
    "duration": 40,
    "start_time": "2021-12-12T16:19:47.690Z"
   },
   {
    "duration": 8,
    "start_time": "2021-12-12T16:19:47.732Z"
   },
   {
    "duration": 26,
    "start_time": "2021-12-12T16:19:47.743Z"
   },
   {
    "duration": 6,
    "start_time": "2021-12-12T16:19:47.772Z"
   },
   {
    "duration": 47,
    "start_time": "2021-12-12T16:19:47.780Z"
   },
   {
    "duration": 7,
    "start_time": "2021-12-12T16:19:47.829Z"
   },
   {
    "duration": 8,
    "start_time": "2021-12-12T16:19:47.839Z"
   },
   {
    "duration": 27,
    "start_time": "2021-12-12T16:19:47.850Z"
   },
   {
    "duration": 7,
    "start_time": "2021-12-12T16:19:47.880Z"
   },
   {
    "duration": 39,
    "start_time": "2021-12-12T16:19:47.889Z"
   },
   {
    "duration": 30,
    "start_time": "2021-12-12T16:19:47.931Z"
   },
   {
    "duration": 9,
    "start_time": "2021-12-12T16:19:47.963Z"
   },
   {
    "duration": 16,
    "start_time": "2021-12-12T16:19:47.974Z"
   },
   {
    "duration": 10,
    "start_time": "2021-12-12T16:19:47.992Z"
   },
   {
    "duration": 21,
    "start_time": "2021-12-12T16:19:48.005Z"
   },
   {
    "duration": 17,
    "start_time": "2021-12-12T16:19:48.028Z"
   },
   {
    "duration": 12,
    "start_time": "2021-12-12T16:19:48.048Z"
   },
   {
    "duration": 984,
    "start_time": "2021-12-12T16:19:48.062Z"
   },
   {
    "duration": 12,
    "start_time": "2021-12-12T16:19:49.049Z"
   },
   {
    "duration": 57,
    "start_time": "2021-12-12T16:19:49.063Z"
   },
   {
    "duration": 583,
    "start_time": "2021-12-12T16:19:49.125Z"
   },
   {
    "duration": 42,
    "start_time": "2021-12-12T16:19:49.711Z"
   },
   {
    "duration": 6,
    "start_time": "2021-12-12T16:19:49.756Z"
   },
   {
    "duration": 13,
    "start_time": "2021-12-12T16:19:49.764Z"
   },
   {
    "duration": 11,
    "start_time": "2021-12-12T16:19:49.779Z"
   },
   {
    "duration": 313,
    "start_time": "2021-12-12T16:19:49.824Z"
   },
   {
    "duration": 503,
    "start_time": "2021-12-12T16:19:50.140Z"
   },
   {
    "duration": 7,
    "start_time": "2021-12-12T16:19:50.646Z"
   },
   {
    "duration": 35,
    "start_time": "2021-12-12T16:19:50.656Z"
   },
   {
    "duration": 264,
    "start_time": "2021-12-12T16:19:50.722Z"
   },
   {
    "duration": 331,
    "start_time": "2021-12-12T16:19:50.988Z"
   },
   {
    "duration": 7,
    "start_time": "2021-12-12T16:19:51.321Z"
   },
   {
    "duration": 836,
    "start_time": "2021-12-12T16:22:09.713Z"
   },
   {
    "duration": 38,
    "start_time": "2021-12-12T16:22:10.553Z"
   },
   {
    "duration": 21,
    "start_time": "2021-12-12T16:22:10.593Z"
   },
   {
    "duration": 34,
    "start_time": "2021-12-12T16:22:10.617Z"
   },
   {
    "duration": 33,
    "start_time": "2021-12-12T16:22:10.653Z"
   },
   {
    "duration": 16,
    "start_time": "2021-12-12T16:22:10.689Z"
   },
   {
    "duration": 22,
    "start_time": "2021-12-12T16:22:10.707Z"
   },
   {
    "duration": 3,
    "start_time": "2021-12-12T16:22:10.733Z"
   },
   {
    "duration": 13,
    "start_time": "2021-12-12T16:22:10.739Z"
   },
   {
    "duration": 6,
    "start_time": "2021-12-12T16:22:10.755Z"
   },
   {
    "duration": 69,
    "start_time": "2021-12-12T16:22:10.764Z"
   },
   {
    "duration": 7,
    "start_time": "2021-12-12T16:22:10.835Z"
   },
   {
    "duration": 14,
    "start_time": "2021-12-12T16:22:10.845Z"
   },
   {
    "duration": 36,
    "start_time": "2021-12-12T16:22:10.861Z"
   },
   {
    "duration": 26,
    "start_time": "2021-12-12T16:22:10.899Z"
   },
   {
    "duration": 10,
    "start_time": "2021-12-12T16:22:10.927Z"
   },
   {
    "duration": 19,
    "start_time": "2021-12-12T16:22:10.940Z"
   },
   {
    "duration": 15,
    "start_time": "2021-12-12T16:22:10.961Z"
   },
   {
    "duration": 20,
    "start_time": "2021-12-12T16:22:10.978Z"
   },
   {
    "duration": 24,
    "start_time": "2021-12-12T16:22:11.000Z"
   },
   {
    "duration": 15,
    "start_time": "2021-12-12T16:22:11.026Z"
   },
   {
    "duration": 7,
    "start_time": "2021-12-12T16:22:11.043Z"
   },
   {
    "duration": 10,
    "start_time": "2021-12-12T16:22:11.055Z"
   },
   {
    "duration": 958,
    "start_time": "2021-12-12T16:22:11.067Z"
   },
   {
    "duration": 10,
    "start_time": "2021-12-12T16:22:12.027Z"
   },
   {
    "duration": 25,
    "start_time": "2021-12-12T16:22:12.039Z"
   },
   {
    "duration": 330,
    "start_time": "2021-12-12T16:22:12.066Z"
   },
   {
    "duration": 428,
    "start_time": "2021-12-12T16:22:12.399Z"
   },
   {
    "duration": -3295,
    "start_time": "2021-12-12T16:22:16.126Z"
   },
   {
    "duration": -3296,
    "start_time": "2021-12-12T16:22:16.129Z"
   },
   {
    "duration": -3297,
    "start_time": "2021-12-12T16:22:16.132Z"
   },
   {
    "duration": -3298,
    "start_time": "2021-12-12T16:22:16.135Z"
   },
   {
    "duration": -3298,
    "start_time": "2021-12-12T16:22:16.137Z"
   },
   {
    "duration": -3298,
    "start_time": "2021-12-12T16:22:16.140Z"
   },
   {
    "duration": -3298,
    "start_time": "2021-12-12T16:22:16.142Z"
   },
   {
    "duration": -3298,
    "start_time": "2021-12-12T16:22:16.144Z"
   },
   {
    "duration": -3299,
    "start_time": "2021-12-12T16:22:16.147Z"
   },
   {
    "duration": -3298,
    "start_time": "2021-12-12T16:22:16.149Z"
   },
   {
    "duration": 11,
    "start_time": "2021-12-12T16:24:15.987Z"
   },
   {
    "duration": 798,
    "start_time": "2021-12-12T16:24:20.553Z"
   },
   {
    "duration": 38,
    "start_time": "2021-12-12T16:24:21.354Z"
   },
   {
    "duration": 22,
    "start_time": "2021-12-12T16:24:21.395Z"
   },
   {
    "duration": 34,
    "start_time": "2021-12-12T16:24:21.420Z"
   },
   {
    "duration": 20,
    "start_time": "2021-12-12T16:24:21.456Z"
   },
   {
    "duration": 17,
    "start_time": "2021-12-12T16:24:21.478Z"
   },
   {
    "duration": 13,
    "start_time": "2021-12-12T16:24:21.523Z"
   },
   {
    "duration": 10,
    "start_time": "2021-12-12T16:24:21.540Z"
   },
   {
    "duration": 10,
    "start_time": "2021-12-12T16:24:21.553Z"
   },
   {
    "duration": 4,
    "start_time": "2021-12-12T16:24:21.565Z"
   },
   {
    "duration": 74,
    "start_time": "2021-12-12T16:24:21.571Z"
   },
   {
    "duration": 8,
    "start_time": "2021-12-12T16:24:21.648Z"
   },
   {
    "duration": 9,
    "start_time": "2021-12-12T16:24:21.658Z"
   },
   {
    "duration": 24,
    "start_time": "2021-12-12T16:24:21.669Z"
   },
   {
    "duration": 31,
    "start_time": "2021-12-12T16:24:21.696Z"
   },
   {
    "duration": 8,
    "start_time": "2021-12-12T16:24:21.730Z"
   },
   {
    "duration": 14,
    "start_time": "2021-12-12T16:24:21.740Z"
   },
   {
    "duration": 9,
    "start_time": "2021-12-12T16:24:21.756Z"
   },
   {
    "duration": 13,
    "start_time": "2021-12-12T16:24:21.768Z"
   },
   {
    "duration": 44,
    "start_time": "2021-12-12T16:24:21.783Z"
   },
   {
    "duration": 8,
    "start_time": "2021-12-12T16:24:21.830Z"
   },
   {
    "duration": 6,
    "start_time": "2021-12-12T16:24:21.841Z"
   },
   {
    "duration": 9,
    "start_time": "2021-12-12T16:24:21.852Z"
   },
   {
    "duration": 961,
    "start_time": "2021-12-12T16:24:21.864Z"
   },
   {
    "duration": 10,
    "start_time": "2021-12-12T16:24:22.828Z"
   },
   {
    "duration": 29,
    "start_time": "2021-12-12T16:24:22.840Z"
   },
   {
    "duration": 304,
    "start_time": "2021-12-12T16:24:22.872Z"
   },
   {
    "duration": 468,
    "start_time": "2021-12-12T16:24:23.180Z"
   },
   {
    "duration": -3285,
    "start_time": "2021-12-12T16:24:26.935Z"
   },
   {
    "duration": -3286,
    "start_time": "2021-12-12T16:24:26.938Z"
   },
   {
    "duration": -3286,
    "start_time": "2021-12-12T16:24:26.940Z"
   },
   {
    "duration": -3286,
    "start_time": "2021-12-12T16:24:26.942Z"
   },
   {
    "duration": -3285,
    "start_time": "2021-12-12T16:24:26.944Z"
   },
   {
    "duration": -3285,
    "start_time": "2021-12-12T16:24:26.946Z"
   },
   {
    "duration": -3285,
    "start_time": "2021-12-12T16:24:26.948Z"
   },
   {
    "duration": -3285,
    "start_time": "2021-12-12T16:24:26.950Z"
   },
   {
    "duration": -3285,
    "start_time": "2021-12-12T16:24:26.952Z"
   },
   {
    "duration": -3289,
    "start_time": "2021-12-12T16:24:26.958Z"
   },
   {
    "duration": 45,
    "start_time": "2021-12-12T16:29:02.121Z"
   },
   {
    "duration": 261,
    "start_time": "2021-12-12T16:29:17.243Z"
   },
   {
    "duration": 1002,
    "start_time": "2021-12-12T16:31:46.401Z"
   },
   {
    "duration": 37,
    "start_time": "2021-12-12T16:31:47.406Z"
   },
   {
    "duration": 16,
    "start_time": "2021-12-12T16:31:47.450Z"
   },
   {
    "duration": 36,
    "start_time": "2021-12-12T16:31:47.468Z"
   },
   {
    "duration": 15,
    "start_time": "2021-12-12T16:31:47.506Z"
   },
   {
    "duration": 20,
    "start_time": "2021-12-12T16:31:47.524Z"
   },
   {
    "duration": 20,
    "start_time": "2021-12-12T16:31:47.549Z"
   },
   {
    "duration": 24,
    "start_time": "2021-12-12T16:31:47.572Z"
   },
   {
    "duration": 22,
    "start_time": "2021-12-12T16:31:47.599Z"
   },
   {
    "duration": 24,
    "start_time": "2021-12-12T16:31:47.624Z"
   },
   {
    "duration": 25,
    "start_time": "2021-12-12T16:31:47.651Z"
   },
   {
    "duration": 15,
    "start_time": "2021-12-12T16:31:47.679Z"
   },
   {
    "duration": 31,
    "start_time": "2021-12-12T16:31:47.697Z"
   },
   {
    "duration": 17,
    "start_time": "2021-12-12T16:31:47.731Z"
   },
   {
    "duration": 7,
    "start_time": "2021-12-12T16:31:47.750Z"
   },
   {
    "duration": 7,
    "start_time": "2021-12-12T16:31:47.760Z"
   },
   {
    "duration": 13,
    "start_time": "2021-12-12T16:31:47.769Z"
   },
   {
    "duration": 38,
    "start_time": "2021-12-12T16:31:47.785Z"
   },
   {
    "duration": 10,
    "start_time": "2021-12-12T16:31:47.825Z"
   },
   {
    "duration": 5,
    "start_time": "2021-12-12T16:31:47.838Z"
   },
   {
    "duration": 8,
    "start_time": "2021-12-12T16:31:47.846Z"
   },
   {
    "duration": 11,
    "start_time": "2021-12-12T16:31:47.860Z"
   },
   {
    "duration": 53,
    "start_time": "2021-12-12T16:31:47.875Z"
   },
   {
    "duration": 1372,
    "start_time": "2021-12-12T16:31:47.931Z"
   },
   {
    "duration": -3295,
    "start_time": "2021-12-12T16:31:52.601Z"
   },
   {
    "duration": -3302,
    "start_time": "2021-12-12T16:31:52.609Z"
   },
   {
    "duration": -3303,
    "start_time": "2021-12-12T16:31:52.612Z"
   },
   {
    "duration": -3304,
    "start_time": "2021-12-12T16:31:52.615Z"
   },
   {
    "duration": -3305,
    "start_time": "2021-12-12T16:31:52.618Z"
   },
   {
    "duration": -3311,
    "start_time": "2021-12-12T16:31:52.626Z"
   },
   {
    "duration": -3313,
    "start_time": "2021-12-12T16:31:52.629Z"
   },
   {
    "duration": -3324,
    "start_time": "2021-12-12T16:31:52.642Z"
   },
   {
    "duration": -3325,
    "start_time": "2021-12-12T16:31:52.644Z"
   },
   {
    "duration": -3325,
    "start_time": "2021-12-12T16:31:52.646Z"
   },
   {
    "duration": -3326,
    "start_time": "2021-12-12T16:31:52.648Z"
   },
   {
    "duration": -3326,
    "start_time": "2021-12-12T16:31:52.650Z"
   },
   {
    "duration": -3332,
    "start_time": "2021-12-12T16:31:52.658Z"
   },
   {
    "duration": -3332,
    "start_time": "2021-12-12T16:31:52.660Z"
   },
   {
    "duration": 22,
    "start_time": "2021-12-12T16:32:28.178Z"
   },
   {
    "duration": 34,
    "start_time": "2021-12-12T16:32:30.234Z"
   },
   {
    "duration": 780,
    "start_time": "2021-12-12T16:32:50.381Z"
   },
   {
    "duration": 36,
    "start_time": "2021-12-12T16:32:51.164Z"
   },
   {
    "duration": 26,
    "start_time": "2021-12-12T16:32:51.203Z"
   },
   {
    "duration": 31,
    "start_time": "2021-12-12T16:32:51.232Z"
   },
   {
    "duration": 19,
    "start_time": "2021-12-12T16:32:51.266Z"
   },
   {
    "duration": 38,
    "start_time": "2021-12-12T16:32:51.288Z"
   },
   {
    "duration": 22,
    "start_time": "2021-12-12T16:32:51.329Z"
   },
   {
    "duration": 12,
    "start_time": "2021-12-12T16:32:51.355Z"
   },
   {
    "duration": 17,
    "start_time": "2021-12-12T16:32:51.369Z"
   },
   {
    "duration": 17,
    "start_time": "2021-12-12T16:32:51.389Z"
   },
   {
    "duration": 43,
    "start_time": "2021-12-12T16:32:51.408Z"
   },
   {
    "duration": 7,
    "start_time": "2021-12-12T16:32:51.453Z"
   },
   {
    "duration": 21,
    "start_time": "2021-12-12T16:32:51.462Z"
   },
   {
    "duration": 47,
    "start_time": "2021-12-12T16:32:51.485Z"
   },
   {
    "duration": 27,
    "start_time": "2021-12-12T16:32:51.534Z"
   },
   {
    "duration": 30,
    "start_time": "2021-12-12T16:32:51.563Z"
   },
   {
    "duration": 27,
    "start_time": "2021-12-12T16:32:51.595Z"
   },
   {
    "duration": 32,
    "start_time": "2021-12-12T16:32:51.624Z"
   },
   {
    "duration": 29,
    "start_time": "2021-12-12T16:32:51.658Z"
   },
   {
    "duration": 23,
    "start_time": "2021-12-12T16:32:51.689Z"
   },
   {
    "duration": 35,
    "start_time": "2021-12-12T16:32:51.715Z"
   },
   {
    "duration": 27,
    "start_time": "2021-12-12T16:32:51.753Z"
   },
   {
    "duration": 28,
    "start_time": "2021-12-12T16:32:51.784Z"
   },
   {
    "duration": 913,
    "start_time": "2021-12-12T16:32:51.815Z"
   },
   {
    "duration": 9,
    "start_time": "2021-12-12T16:32:52.730Z"
   },
   {
    "duration": 30,
    "start_time": "2021-12-12T16:32:52.741Z"
   },
   {
    "duration": 300,
    "start_time": "2021-12-12T16:32:52.773Z"
   },
   {
    "duration": 446,
    "start_time": "2021-12-12T16:32:53.075Z"
   },
   {
    "duration": -3290,
    "start_time": "2021-12-12T16:32:56.814Z"
   },
   {
    "duration": -3290,
    "start_time": "2021-12-12T16:32:56.816Z"
   },
   {
    "duration": -3291,
    "start_time": "2021-12-12T16:32:56.819Z"
   },
   {
    "duration": -3290,
    "start_time": "2021-12-12T16:32:56.821Z"
   },
   {
    "duration": -3291,
    "start_time": "2021-12-12T16:32:56.824Z"
   },
   {
    "duration": -3290,
    "start_time": "2021-12-12T16:32:56.825Z"
   },
   {
    "duration": -3291,
    "start_time": "2021-12-12T16:32:56.828Z"
   },
   {
    "duration": -3296,
    "start_time": "2021-12-12T16:32:56.835Z"
   },
   {
    "duration": -3296,
    "start_time": "2021-12-12T16:32:56.838Z"
   },
   {
    "duration": -3296,
    "start_time": "2021-12-12T16:32:56.840Z"
   },
   {
    "duration": 7,
    "start_time": "2021-12-12T16:34:05.963Z"
   },
   {
    "duration": 10,
    "start_time": "2021-12-12T16:34:17.507Z"
   },
   {
    "duration": 43,
    "start_time": "2021-12-12T16:34:48.302Z"
   },
   {
    "duration": 270,
    "start_time": "2021-12-12T16:35:20.847Z"
   },
   {
    "duration": 11,
    "start_time": "2021-12-12T16:35:24.990Z"
   },
   {
    "duration": 11,
    "start_time": "2021-12-12T16:35:50.301Z"
   },
   {
    "duration": 267,
    "start_time": "2021-12-12T16:35:59.608Z"
   },
   {
    "duration": 11,
    "start_time": "2021-12-12T16:36:15.816Z"
   },
   {
    "duration": 21,
    "start_time": "2021-12-12T16:36:29.599Z"
   },
   {
    "duration": 40,
    "start_time": "2021-12-12T16:36:36.983Z"
   },
   {
    "duration": 277,
    "start_time": "2021-12-12T16:36:37.429Z"
   },
   {
    "duration": 289,
    "start_time": "2021-12-12T16:37:25.100Z"
   },
   {
    "duration": 37,
    "start_time": "2021-12-12T16:37:35.539Z"
   },
   {
    "duration": 38,
    "start_time": "2021-12-12T16:37:55.760Z"
   },
   {
    "duration": 29,
    "start_time": "2021-12-12T16:38:06.000Z"
   },
   {
    "duration": 44,
    "start_time": "2021-12-12T16:38:08.321Z"
   },
   {
    "duration": 21,
    "start_time": "2021-12-12T16:38:21.335Z"
   },
   {
    "duration": 34,
    "start_time": "2021-12-12T16:38:22.585Z"
   },
   {
    "duration": 820,
    "start_time": "2021-12-12T16:38:38.422Z"
   },
   {
    "duration": 36,
    "start_time": "2021-12-12T16:38:39.244Z"
   },
   {
    "duration": 21,
    "start_time": "2021-12-12T16:38:39.283Z"
   },
   {
    "duration": 35,
    "start_time": "2021-12-12T16:38:39.307Z"
   },
   {
    "duration": 20,
    "start_time": "2021-12-12T16:38:39.344Z"
   },
   {
    "duration": 17,
    "start_time": "2021-12-12T16:38:39.366Z"
   },
   {
    "duration": 48,
    "start_time": "2021-12-12T16:38:39.385Z"
   },
   {
    "duration": 11,
    "start_time": "2021-12-12T16:38:39.438Z"
   },
   {
    "duration": 20,
    "start_time": "2021-12-12T16:38:39.451Z"
   },
   {
    "duration": 9,
    "start_time": "2021-12-12T16:38:39.473Z"
   },
   {
    "duration": 50,
    "start_time": "2021-12-12T16:38:39.485Z"
   },
   {
    "duration": 8,
    "start_time": "2021-12-12T16:38:39.537Z"
   },
   {
    "duration": 20,
    "start_time": "2021-12-12T16:38:39.547Z"
   },
   {
    "duration": 33,
    "start_time": "2021-12-12T16:38:39.569Z"
   },
   {
    "duration": 22,
    "start_time": "2021-12-12T16:38:39.605Z"
   },
   {
    "duration": 22,
    "start_time": "2021-12-12T16:38:39.629Z"
   },
   {
    "duration": 24,
    "start_time": "2021-12-12T16:38:39.653Z"
   },
   {
    "duration": 10,
    "start_time": "2021-12-12T16:38:39.679Z"
   },
   {
    "duration": 19,
    "start_time": "2021-12-12T16:38:39.691Z"
   },
   {
    "duration": 13,
    "start_time": "2021-12-12T16:38:39.712Z"
   },
   {
    "duration": 9,
    "start_time": "2021-12-12T16:38:39.728Z"
   },
   {
    "duration": 17,
    "start_time": "2021-12-12T16:38:39.739Z"
   },
   {
    "duration": 16,
    "start_time": "2021-12-12T16:38:39.761Z"
   },
   {
    "duration": 945,
    "start_time": "2021-12-12T16:38:39.780Z"
   },
   {
    "duration": 9,
    "start_time": "2021-12-12T16:38:40.728Z"
   },
   {
    "duration": 35,
    "start_time": "2021-12-12T16:38:40.739Z"
   },
   {
    "duration": 319,
    "start_time": "2021-12-12T16:38:40.776Z"
   },
   {
    "duration": 443,
    "start_time": "2021-12-12T16:38:41.098Z"
   },
   {
    "duration": -3475,
    "start_time": "2021-12-12T16:38:45.018Z"
   },
   {
    "duration": -3476,
    "start_time": "2021-12-12T16:38:45.021Z"
   },
   {
    "duration": -3477,
    "start_time": "2021-12-12T16:38:45.023Z"
   },
   {
    "duration": -3477,
    "start_time": "2021-12-12T16:38:45.025Z"
   },
   {
    "duration": -3479,
    "start_time": "2021-12-12T16:38:45.028Z"
   },
   {
    "duration": -3503,
    "start_time": "2021-12-12T16:38:45.054Z"
   },
   {
    "duration": -3585,
    "start_time": "2021-12-12T16:38:45.137Z"
   },
   {
    "duration": -3586,
    "start_time": "2021-12-12T16:38:45.139Z"
   },
   {
    "duration": -3586,
    "start_time": "2021-12-12T16:38:45.141Z"
   },
   {
    "duration": -3587,
    "start_time": "2021-12-12T16:38:45.143Z"
   },
   {
    "duration": 40,
    "start_time": "2021-12-12T16:39:54.381Z"
   },
   {
    "duration": 13,
    "start_time": "2021-12-12T16:40:03.432Z"
   },
   {
    "duration": 37,
    "start_time": "2021-12-12T16:40:29.248Z"
   },
   {
    "duration": 28,
    "start_time": "2021-12-12T16:40:41.585Z"
   },
   {
    "duration": 841,
    "start_time": "2021-12-12T16:41:50.297Z"
   },
   {
    "duration": 38,
    "start_time": "2021-12-12T16:41:51.142Z"
   },
   {
    "duration": 23,
    "start_time": "2021-12-12T16:41:51.183Z"
   },
   {
    "duration": 31,
    "start_time": "2021-12-12T16:41:51.209Z"
   },
   {
    "duration": 20,
    "start_time": "2021-12-12T16:41:51.243Z"
   },
   {
    "duration": 16,
    "start_time": "2021-12-12T16:41:51.265Z"
   },
   {
    "duration": 41,
    "start_time": "2021-12-12T16:41:51.283Z"
   },
   {
    "duration": 11,
    "start_time": "2021-12-12T16:41:51.329Z"
   },
   {
    "duration": 3,
    "start_time": "2021-12-12T16:41:51.343Z"
   },
   {
    "duration": 5,
    "start_time": "2021-12-12T16:41:51.348Z"
   },
   {
    "duration": 34,
    "start_time": "2021-12-12T16:41:51.356Z"
   },
   {
    "duration": 7,
    "start_time": "2021-12-12T16:41:51.424Z"
   },
   {
    "duration": 9,
    "start_time": "2021-12-12T16:41:51.433Z"
   },
   {
    "duration": 24,
    "start_time": "2021-12-12T16:41:51.444Z"
   },
   {
    "duration": 7,
    "start_time": "2021-12-12T16:41:51.471Z"
   },
   {
    "duration": 45,
    "start_time": "2021-12-12T16:41:51.480Z"
   },
   {
    "duration": 12,
    "start_time": "2021-12-12T16:41:51.528Z"
   },
   {
    "duration": 10,
    "start_time": "2021-12-12T16:41:51.542Z"
   },
   {
    "duration": 11,
    "start_time": "2021-12-12T16:41:51.554Z"
   },
   {
    "duration": 5,
    "start_time": "2021-12-12T16:41:51.568Z"
   },
   {
    "duration": 9,
    "start_time": "2021-12-12T16:41:51.575Z"
   },
   {
    "duration": 7,
    "start_time": "2021-12-12T16:41:51.624Z"
   },
   {
    "duration": 10,
    "start_time": "2021-12-12T16:41:51.636Z"
   },
   {
    "duration": 991,
    "start_time": "2021-12-12T16:41:51.649Z"
   },
   {
    "duration": 12,
    "start_time": "2021-12-12T16:41:52.644Z"
   },
   {
    "duration": 25,
    "start_time": "2021-12-12T16:41:52.658Z"
   },
   {
    "duration": 327,
    "start_time": "2021-12-12T16:41:52.686Z"
   },
   {
    "duration": 448,
    "start_time": "2021-12-12T16:41:53.016Z"
   },
   {
    "duration": -3292,
    "start_time": "2021-12-12T16:41:56.759Z"
   },
   {
    "duration": -3291,
    "start_time": "2021-12-12T16:41:56.761Z"
   },
   {
    "duration": -3291,
    "start_time": "2021-12-12T16:41:56.763Z"
   },
   {
    "duration": -3292,
    "start_time": "2021-12-12T16:41:56.766Z"
   },
   {
    "duration": -3297,
    "start_time": "2021-12-12T16:41:56.774Z"
   },
   {
    "duration": -3298,
    "start_time": "2021-12-12T16:41:56.777Z"
   },
   {
    "duration": -3298,
    "start_time": "2021-12-12T16:41:56.779Z"
   },
   {
    "duration": -3297,
    "start_time": "2021-12-12T16:41:56.781Z"
   },
   {
    "duration": -3303,
    "start_time": "2021-12-12T16:41:56.789Z"
   },
   {
    "duration": -3303,
    "start_time": "2021-12-12T16:41:56.792Z"
   },
   {
    "duration": 13,
    "start_time": "2021-12-12T16:43:06.549Z"
   },
   {
    "duration": 12,
    "start_time": "2021-12-12T16:43:10.960Z"
   },
   {
    "duration": 11,
    "start_time": "2021-12-12T16:43:11.413Z"
   },
   {
    "duration": 787,
    "start_time": "2021-12-12T16:43:44.558Z"
   },
   {
    "duration": 39,
    "start_time": "2021-12-12T16:43:45.348Z"
   },
   {
    "duration": 18,
    "start_time": "2021-12-12T16:43:45.390Z"
   },
   {
    "duration": 27,
    "start_time": "2021-12-12T16:43:45.411Z"
   },
   {
    "duration": 17,
    "start_time": "2021-12-12T16:43:45.441Z"
   },
   {
    "duration": 15,
    "start_time": "2021-12-12T16:43:45.460Z"
   },
   {
    "duration": 47,
    "start_time": "2021-12-12T16:43:45.478Z"
   },
   {
    "duration": 10,
    "start_time": "2021-12-12T16:43:45.528Z"
   },
   {
    "duration": 15,
    "start_time": "2021-12-12T16:43:45.541Z"
   },
   {
    "duration": 6,
    "start_time": "2021-12-12T16:43:45.558Z"
   },
   {
    "duration": 32,
    "start_time": "2021-12-12T16:43:45.566Z"
   },
   {
    "duration": 7,
    "start_time": "2021-12-12T16:43:45.623Z"
   },
   {
    "duration": 8,
    "start_time": "2021-12-12T16:43:45.633Z"
   },
   {
    "duration": 24,
    "start_time": "2021-12-12T16:43:45.643Z"
   },
   {
    "duration": 9,
    "start_time": "2021-12-12T16:43:45.669Z"
   },
   {
    "duration": 49,
    "start_time": "2021-12-12T16:43:45.680Z"
   },
   {
    "duration": 14,
    "start_time": "2021-12-12T16:43:45.732Z"
   },
   {
    "duration": 8,
    "start_time": "2021-12-12T16:43:45.749Z"
   },
   {
    "duration": 14,
    "start_time": "2021-12-12T16:43:45.759Z"
   },
   {
    "duration": 6,
    "start_time": "2021-12-12T16:43:45.775Z"
   },
   {
    "duration": 42,
    "start_time": "2021-12-12T16:43:45.783Z"
   },
   {
    "duration": 11,
    "start_time": "2021-12-12T16:43:45.828Z"
   },
   {
    "duration": 11,
    "start_time": "2021-12-12T16:43:45.845Z"
   },
   {
    "duration": 957,
    "start_time": "2021-12-12T16:43:45.859Z"
   },
   {
    "duration": 9,
    "start_time": "2021-12-12T16:43:46.823Z"
   },
   {
    "duration": 35,
    "start_time": "2021-12-12T16:43:46.835Z"
   },
   {
    "duration": 600,
    "start_time": "2021-12-12T16:43:46.872Z"
   },
   {
    "duration": 33,
    "start_time": "2021-12-12T16:43:47.474Z"
   },
   {
    "duration": 6,
    "start_time": "2021-12-12T16:43:47.524Z"
   },
   {
    "duration": 23,
    "start_time": "2021-12-12T16:43:47.532Z"
   },
   {
    "duration": 27,
    "start_time": "2021-12-12T16:43:47.557Z"
   },
   {
    "duration": 272,
    "start_time": "2021-12-12T16:43:47.586Z"
   },
   {
    "duration": 503,
    "start_time": "2021-12-12T16:43:47.860Z"
   },
   {
    "duration": 6,
    "start_time": "2021-12-12T16:43:48.366Z"
   },
   {
    "duration": 55,
    "start_time": "2021-12-12T16:43:48.375Z"
   },
   {
    "duration": 274,
    "start_time": "2021-12-12T16:43:48.432Z"
   },
   {
    "duration": 330,
    "start_time": "2021-12-12T16:43:48.709Z"
   },
   {
    "duration": 6,
    "start_time": "2021-12-12T16:43:49.042Z"
   },
   {
    "duration": 838,
    "start_time": "2021-12-12T16:44:44.987Z"
   },
   {
    "duration": 37,
    "start_time": "2021-12-12T16:44:45.828Z"
   },
   {
    "duration": 32,
    "start_time": "2021-12-12T16:44:45.867Z"
   },
   {
    "duration": 29,
    "start_time": "2021-12-12T16:44:45.902Z"
   },
   {
    "duration": 24,
    "start_time": "2021-12-12T16:44:45.934Z"
   },
   {
    "duration": 18,
    "start_time": "2021-12-12T16:44:45.961Z"
   },
   {
    "duration": 33,
    "start_time": "2021-12-12T16:44:45.982Z"
   },
   {
    "duration": 11,
    "start_time": "2021-12-12T16:44:46.022Z"
   },
   {
    "duration": 26,
    "start_time": "2021-12-12T16:44:46.036Z"
   },
   {
    "duration": 19,
    "start_time": "2021-12-12T16:44:46.065Z"
   },
   {
    "duration": 37,
    "start_time": "2021-12-12T16:44:46.087Z"
   },
   {
    "duration": 6,
    "start_time": "2021-12-12T16:44:46.127Z"
   },
   {
    "duration": 15,
    "start_time": "2021-12-12T16:44:46.136Z"
   },
   {
    "duration": 40,
    "start_time": "2021-12-12T16:44:46.154Z"
   },
   {
    "duration": 29,
    "start_time": "2021-12-12T16:44:46.196Z"
   },
   {
    "duration": 19,
    "start_time": "2021-12-12T16:44:46.227Z"
   },
   {
    "duration": 21,
    "start_time": "2021-12-12T16:44:46.248Z"
   },
   {
    "duration": 16,
    "start_time": "2021-12-12T16:44:46.272Z"
   },
   {
    "duration": 17,
    "start_time": "2021-12-12T16:44:46.291Z"
   },
   {
    "duration": 11,
    "start_time": "2021-12-12T16:44:46.312Z"
   },
   {
    "duration": 17,
    "start_time": "2021-12-12T16:44:46.325Z"
   },
   {
    "duration": 8,
    "start_time": "2021-12-12T16:44:46.345Z"
   },
   {
    "duration": 21,
    "start_time": "2021-12-12T16:44:46.360Z"
   },
   {
    "duration": 954,
    "start_time": "2021-12-12T16:44:46.384Z"
   },
   {
    "duration": 12,
    "start_time": "2021-12-12T16:44:47.341Z"
   },
   {
    "duration": 30,
    "start_time": "2021-12-12T16:44:47.356Z"
   },
   {
    "duration": 327,
    "start_time": "2021-12-12T16:44:47.389Z"
   },
   {
    "duration": 425,
    "start_time": "2021-12-12T16:44:47.718Z"
   },
   {
    "duration": -3297,
    "start_time": "2021-12-12T16:44:51.442Z"
   },
   {
    "duration": -3297,
    "start_time": "2021-12-12T16:44:51.444Z"
   },
   {
    "duration": -3297,
    "start_time": "2021-12-12T16:44:51.446Z"
   },
   {
    "duration": -3297,
    "start_time": "2021-12-12T16:44:51.448Z"
   },
   {
    "duration": -3297,
    "start_time": "2021-12-12T16:44:51.450Z"
   },
   {
    "duration": -3297,
    "start_time": "2021-12-12T16:44:51.453Z"
   },
   {
    "duration": -3303,
    "start_time": "2021-12-12T16:44:51.461Z"
   },
   {
    "duration": -3304,
    "start_time": "2021-12-12T16:44:51.464Z"
   },
   {
    "duration": -3303,
    "start_time": "2021-12-12T16:44:51.466Z"
   },
   {
    "duration": -3303,
    "start_time": "2021-12-12T16:44:51.468Z"
   },
   {
    "duration": 43,
    "start_time": "2021-12-12T16:45:00.384Z"
   },
   {
    "duration": 827,
    "start_time": "2021-12-12T16:45:15.418Z"
   },
   {
    "duration": 37,
    "start_time": "2021-12-12T16:45:16.248Z"
   },
   {
    "duration": 23,
    "start_time": "2021-12-12T16:45:16.288Z"
   },
   {
    "duration": 25,
    "start_time": "2021-12-12T16:45:16.314Z"
   },
   {
    "duration": 19,
    "start_time": "2021-12-12T16:45:16.342Z"
   },
   {
    "duration": 16,
    "start_time": "2021-12-12T16:45:16.363Z"
   },
   {
    "duration": 43,
    "start_time": "2021-12-12T16:45:16.382Z"
   },
   {
    "duration": 3,
    "start_time": "2021-12-12T16:45:16.428Z"
   },
   {
    "duration": 17,
    "start_time": "2021-12-12T16:45:16.435Z"
   },
   {
    "duration": 4,
    "start_time": "2021-12-12T16:45:16.455Z"
   },
   {
    "duration": 32,
    "start_time": "2021-12-12T16:45:16.461Z"
   },
   {
    "duration": 7,
    "start_time": "2021-12-12T16:45:16.524Z"
   },
   {
    "duration": 16,
    "start_time": "2021-12-12T16:45:16.533Z"
   },
   {
    "duration": 24,
    "start_time": "2021-12-12T16:45:16.551Z"
   },
   {
    "duration": 8,
    "start_time": "2021-12-12T16:45:16.577Z"
   },
   {
    "duration": 40,
    "start_time": "2021-12-12T16:45:16.588Z"
   },
   {
    "duration": 16,
    "start_time": "2021-12-12T16:45:16.631Z"
   },
   {
    "duration": 10,
    "start_time": "2021-12-12T16:45:16.649Z"
   },
   {
    "duration": 14,
    "start_time": "2021-12-12T16:45:16.661Z"
   },
   {
    "duration": 12,
    "start_time": "2021-12-12T16:45:16.678Z"
   },
   {
    "duration": 34,
    "start_time": "2021-12-12T16:45:16.693Z"
   },
   {
    "duration": 41,
    "start_time": "2021-12-12T16:45:16.729Z"
   },
   {
    "duration": 8,
    "start_time": "2021-12-12T16:45:16.774Z"
   },
   {
    "duration": 39,
    "start_time": "2021-12-12T16:45:16.785Z"
   },
   {
    "duration": 981,
    "start_time": "2021-12-12T16:45:16.826Z"
   },
   {
    "duration": 19,
    "start_time": "2021-12-12T16:45:17.810Z"
   },
   {
    "duration": 26,
    "start_time": "2021-12-12T16:45:17.832Z"
   },
   {
    "duration": 366,
    "start_time": "2021-12-12T16:45:17.861Z"
   },
   {
    "duration": 422,
    "start_time": "2021-12-12T16:45:18.230Z"
   },
   {
    "duration": -3340,
    "start_time": "2021-12-12T16:45:21.995Z"
   },
   {
    "duration": -3339,
    "start_time": "2021-12-12T16:45:21.997Z"
   },
   {
    "duration": -3339,
    "start_time": "2021-12-12T16:45:21.999Z"
   },
   {
    "duration": -3340,
    "start_time": "2021-12-12T16:45:22.002Z"
   },
   {
    "duration": -3345,
    "start_time": "2021-12-12T16:45:22.009Z"
   },
   {
    "duration": -3346,
    "start_time": "2021-12-12T16:45:22.012Z"
   },
   {
    "duration": -3346,
    "start_time": "2021-12-12T16:45:22.014Z"
   },
   {
    "duration": -3345,
    "start_time": "2021-12-12T16:45:22.016Z"
   },
   {
    "duration": -3345,
    "start_time": "2021-12-12T16:45:22.018Z"
   },
   {
    "duration": -3352,
    "start_time": "2021-12-12T16:45:22.027Z"
   },
   {
    "duration": 296,
    "start_time": "2021-12-12T16:45:40.753Z"
   },
   {
    "duration": 13,
    "start_time": "2021-12-12T16:45:46.151Z"
   },
   {
    "duration": 275,
    "start_time": "2021-12-12T16:46:36.851Z"
   },
   {
    "duration": 35,
    "start_time": "2021-12-12T16:46:55.679Z"
   },
   {
    "duration": 8,
    "start_time": "2021-12-12T16:47:17.024Z"
   },
   {
    "duration": 301,
    "start_time": "2021-12-12T16:49:09.462Z"
   },
   {
    "duration": 26,
    "start_time": "2021-12-12T16:49:22.928Z"
   },
   {
    "duration": 829,
    "start_time": "2021-12-12T16:49:27.119Z"
   },
   {
    "duration": 40,
    "start_time": "2021-12-12T16:49:27.951Z"
   },
   {
    "duration": 485,
    "start_time": "2021-12-12T16:49:27.997Z"
   },
   {
    "duration": -3302,
    "start_time": "2021-12-12T16:49:31.790Z"
   },
   {
    "duration": -3301,
    "start_time": "2021-12-12T16:49:31.792Z"
   },
   {
    "duration": -3301,
    "start_time": "2021-12-12T16:49:31.794Z"
   },
   {
    "duration": -3302,
    "start_time": "2021-12-12T16:49:31.797Z"
   },
   {
    "duration": -3301,
    "start_time": "2021-12-12T16:49:31.798Z"
   },
   {
    "duration": -3310,
    "start_time": "2021-12-12T16:49:31.809Z"
   },
   {
    "duration": -3310,
    "start_time": "2021-12-12T16:49:31.811Z"
   },
   {
    "duration": -3310,
    "start_time": "2021-12-12T16:49:31.814Z"
   },
   {
    "duration": -3310,
    "start_time": "2021-12-12T16:49:31.816Z"
   },
   {
    "duration": -3313,
    "start_time": "2021-12-12T16:49:31.821Z"
   },
   {
    "duration": -3313,
    "start_time": "2021-12-12T16:49:31.824Z"
   },
   {
    "duration": -3313,
    "start_time": "2021-12-12T16:49:31.826Z"
   },
   {
    "duration": -3313,
    "start_time": "2021-12-12T16:49:31.828Z"
   },
   {
    "duration": -3313,
    "start_time": "2021-12-12T16:49:31.830Z"
   },
   {
    "duration": -3317,
    "start_time": "2021-12-12T16:49:31.836Z"
   },
   {
    "duration": -3318,
    "start_time": "2021-12-12T16:49:31.838Z"
   },
   {
    "duration": -3319,
    "start_time": "2021-12-12T16:49:31.840Z"
   },
   {
    "duration": -3319,
    "start_time": "2021-12-12T16:49:31.842Z"
   },
   {
    "duration": -3319,
    "start_time": "2021-12-12T16:49:31.844Z"
   },
   {
    "duration": -3319,
    "start_time": "2021-12-12T16:49:31.847Z"
   },
   {
    "duration": -3319,
    "start_time": "2021-12-12T16:49:31.849Z"
   },
   {
    "duration": -3320,
    "start_time": "2021-12-12T16:49:31.852Z"
   },
   {
    "duration": -3320,
    "start_time": "2021-12-12T16:49:31.854Z"
   },
   {
    "duration": -3324,
    "start_time": "2021-12-12T16:49:31.860Z"
   },
   {
    "duration": -3324,
    "start_time": "2021-12-12T16:49:31.862Z"
   },
   {
    "duration": -3324,
    "start_time": "2021-12-12T16:49:31.864Z"
   },
   {
    "duration": -3324,
    "start_time": "2021-12-12T16:49:31.866Z"
   },
   {
    "duration": -3324,
    "start_time": "2021-12-12T16:49:31.868Z"
   },
   {
    "duration": -3324,
    "start_time": "2021-12-12T16:49:31.870Z"
   },
   {
    "duration": -3324,
    "start_time": "2021-12-12T16:49:31.872Z"
   },
   {
    "duration": -3357,
    "start_time": "2021-12-12T16:49:31.907Z"
   },
   {
    "duration": -3360,
    "start_time": "2021-12-12T16:49:31.912Z"
   },
   {
    "duration": -3366,
    "start_time": "2021-12-12T16:49:31.920Z"
   },
   {
    "duration": -3367,
    "start_time": "2021-12-12T16:49:31.923Z"
   },
   {
    "duration": -3367,
    "start_time": "2021-12-12T16:49:31.925Z"
   },
   {
    "duration": 12,
    "start_time": "2021-12-12T16:49:57.562Z"
   },
   {
    "duration": 14,
    "start_time": "2021-12-12T16:50:10.908Z"
   },
   {
    "duration": 10,
    "start_time": "2021-12-12T16:50:24.191Z"
   },
   {
    "duration": 19,
    "start_time": "2021-12-12T16:50:29.364Z"
   },
   {
    "duration": 5,
    "start_time": "2021-12-12T16:50:45.240Z"
   },
   {
    "duration": 15,
    "start_time": "2021-12-12T16:50:45.447Z"
   },
   {
    "duration": 98,
    "start_time": "2021-12-12T16:50:48.250Z"
   },
   {
    "duration": 40,
    "start_time": "2021-12-12T16:50:48.820Z"
   },
   {
    "duration": 12,
    "start_time": "2021-12-12T16:50:49.201Z"
   },
   {
    "duration": 15,
    "start_time": "2021-12-12T16:50:50.166Z"
   },
   {
    "duration": 1160,
    "start_time": "2021-12-12T16:51:05.709Z"
   },
   {
    "duration": 38,
    "start_time": "2021-12-12T16:51:06.872Z"
   },
   {
    "duration": 10,
    "start_time": "2021-12-12T16:51:06.916Z"
   },
   {
    "duration": 26,
    "start_time": "2021-12-12T16:51:06.928Z"
   },
   {
    "duration": 28,
    "start_time": "2021-12-12T16:51:06.956Z"
   },
   {
    "duration": 42,
    "start_time": "2021-12-12T16:51:06.987Z"
   },
   {
    "duration": 17,
    "start_time": "2021-12-12T16:51:07.033Z"
   },
   {
    "duration": 15,
    "start_time": "2021-12-12T16:51:07.054Z"
   },
   {
    "duration": 4,
    "start_time": "2021-12-12T16:51:07.071Z"
   },
   {
    "duration": 56,
    "start_time": "2021-12-12T16:51:07.079Z"
   },
   {
    "duration": 4,
    "start_time": "2021-12-12T16:51:07.138Z"
   },
   {
    "duration": 34,
    "start_time": "2021-12-12T16:51:07.144Z"
   },
   {
    "duration": 7,
    "start_time": "2021-12-12T16:51:07.180Z"
   },
   {
    "duration": 35,
    "start_time": "2021-12-12T16:51:07.189Z"
   },
   {
    "duration": 26,
    "start_time": "2021-12-12T16:51:07.226Z"
   },
   {
    "duration": 11,
    "start_time": "2021-12-12T16:51:07.255Z"
   },
   {
    "duration": 7,
    "start_time": "2021-12-12T16:51:07.268Z"
   },
   {
    "duration": 52,
    "start_time": "2021-12-12T16:51:07.277Z"
   },
   {
    "duration": 6,
    "start_time": "2021-12-12T16:51:07.332Z"
   },
   {
    "duration": 16,
    "start_time": "2021-12-12T16:51:07.341Z"
   },
   {
    "duration": 6,
    "start_time": "2021-12-12T16:51:07.360Z"
   },
   {
    "duration": 6,
    "start_time": "2021-12-12T16:51:07.373Z"
   },
   {
    "duration": 8,
    "start_time": "2021-12-12T16:51:07.425Z"
   },
   {
    "duration": 11,
    "start_time": "2021-12-12T16:51:07.436Z"
   },
   {
    "duration": 1404,
    "start_time": "2021-12-12T16:51:07.450Z"
   },
   {
    "duration": 12,
    "start_time": "2021-12-12T16:51:08.857Z"
   },
   {
    "duration": 57,
    "start_time": "2021-12-12T16:51:08.872Z"
   },
   {
    "duration": 1099,
    "start_time": "2021-12-12T16:51:08.932Z"
   },
   {
    "duration": 47,
    "start_time": "2021-12-12T16:51:10.034Z"
   },
   {
    "duration": 7,
    "start_time": "2021-12-12T16:51:10.084Z"
   },
   {
    "duration": 17,
    "start_time": "2021-12-12T16:51:10.123Z"
   },
   {
    "duration": 19,
    "start_time": "2021-12-12T16:51:10.143Z"
   },
   {
    "duration": 277,
    "start_time": "2021-12-12T16:51:10.165Z"
   },
   {
    "duration": 769,
    "start_time": "2021-12-12T16:51:10.444Z"
   },
   {
    "duration": 13,
    "start_time": "2021-12-12T16:51:11.216Z"
   },
   {
    "duration": 38,
    "start_time": "2021-12-12T16:51:11.231Z"
   },
   {
    "duration": 329,
    "start_time": "2021-12-12T16:51:11.272Z"
   },
   {
    "duration": 368,
    "start_time": "2021-12-12T16:51:11.605Z"
   },
   {
    "duration": 7,
    "start_time": "2021-12-12T16:51:11.976Z"
   },
   {
    "duration": 45,
    "start_time": "2021-12-12T16:51:39.609Z"
   },
   {
    "duration": 107,
    "start_time": "2021-12-12T16:54:33.299Z"
   },
   {
    "duration": 40,
    "start_time": "2021-12-12T16:54:33.936Z"
   },
   {
    "duration": 11,
    "start_time": "2021-12-12T16:54:39.344Z"
   },
   {
    "duration": 26,
    "start_time": "2021-12-12T16:54:40.639Z"
   },
   {
    "duration": 14,
    "start_time": "2021-12-12T16:54:52.620Z"
   },
   {
    "duration": 803,
    "start_time": "2021-12-12T16:55:11.377Z"
   },
   {
    "duration": 37,
    "start_time": "2021-12-12T16:55:12.182Z"
   },
   {
    "duration": 16,
    "start_time": "2021-12-12T16:55:12.223Z"
   },
   {
    "duration": 28,
    "start_time": "2021-12-12T16:55:12.243Z"
   },
   {
    "duration": 70,
    "start_time": "2021-12-12T16:55:12.273Z"
   },
   {
    "duration": 16,
    "start_time": "2021-12-12T16:55:12.345Z"
   },
   {
    "duration": 30,
    "start_time": "2021-12-12T16:55:12.364Z"
   },
   {
    "duration": 26,
    "start_time": "2021-12-12T16:55:12.398Z"
   },
   {
    "duration": 4,
    "start_time": "2021-12-12T16:55:12.427Z"
   },
   {
    "duration": 31,
    "start_time": "2021-12-12T16:55:12.434Z"
   },
   {
    "duration": 7,
    "start_time": "2021-12-12T16:55:12.467Z"
   },
   {
    "duration": 13,
    "start_time": "2021-12-12T16:55:12.476Z"
   },
   {
    "duration": 23,
    "start_time": "2021-12-12T16:55:12.524Z"
   },
   {
    "duration": 9,
    "start_time": "2021-12-12T16:55:12.550Z"
   },
   {
    "duration": 7,
    "start_time": "2021-12-12T16:55:12.561Z"
   },
   {
    "duration": 16,
    "start_time": "2021-12-12T16:55:12.571Z"
   },
   {
    "duration": 7,
    "start_time": "2021-12-12T16:55:12.623Z"
   },
   {
    "duration": 14,
    "start_time": "2021-12-12T16:55:12.633Z"
   },
   {
    "duration": 7,
    "start_time": "2021-12-12T16:55:12.650Z"
   },
   {
    "duration": 8,
    "start_time": "2021-12-12T16:55:12.660Z"
   },
   {
    "duration": 52,
    "start_time": "2021-12-12T16:55:12.671Z"
   },
   {
    "duration": 11,
    "start_time": "2021-12-12T16:55:12.725Z"
   },
   {
    "duration": 1082,
    "start_time": "2021-12-12T16:55:12.741Z"
   },
   {
    "duration": 10,
    "start_time": "2021-12-12T16:55:13.826Z"
   },
   {
    "duration": 28,
    "start_time": "2021-12-12T16:55:13.839Z"
   },
   {
    "duration": 722,
    "start_time": "2021-12-12T16:55:13.870Z"
   },
   {
    "duration": 44,
    "start_time": "2021-12-12T16:55:14.595Z"
   },
   {
    "duration": 6,
    "start_time": "2021-12-12T16:55:14.642Z"
   },
   {
    "duration": 23,
    "start_time": "2021-12-12T16:55:14.651Z"
   },
   {
    "duration": 18,
    "start_time": "2021-12-12T16:55:14.676Z"
   },
   {
    "duration": 272,
    "start_time": "2021-12-12T16:55:14.696Z"
   },
   {
    "duration": 503,
    "start_time": "2021-12-12T16:55:14.971Z"
   },
   {
    "duration": 7,
    "start_time": "2021-12-12T16:55:15.476Z"
   },
   {
    "duration": 57,
    "start_time": "2021-12-12T16:55:15.485Z"
   },
   {
    "duration": 286,
    "start_time": "2021-12-12T16:55:15.544Z"
   },
   {
    "duration": 334,
    "start_time": "2021-12-12T16:55:15.832Z"
   },
   {
    "duration": 7,
    "start_time": "2021-12-12T16:55:16.169Z"
   },
   {
    "duration": 878,
    "start_time": "2021-12-12T16:59:28.442Z"
   },
   {
    "duration": 11,
    "start_time": "2021-12-12T16:59:37.603Z"
   },
   {
    "duration": 8,
    "start_time": "2021-12-12T16:59:48.961Z"
   },
   {
    "duration": 9,
    "start_time": "2021-12-12T17:00:01.713Z"
   },
   {
    "duration": 7,
    "start_time": "2021-12-12T17:00:30.278Z"
   },
   {
    "duration": 11,
    "start_time": "2021-12-12T17:00:39.525Z"
   },
   {
    "duration": 277,
    "start_time": "2021-12-12T17:01:05.805Z"
   },
   {
    "duration": 9,
    "start_time": "2021-12-12T17:01:15.979Z"
   },
   {
    "duration": 282,
    "start_time": "2021-12-12T17:01:44.699Z"
   },
   {
    "duration": 9,
    "start_time": "2021-12-12T17:01:54.711Z"
   },
   {
    "duration": 8,
    "start_time": "2021-12-12T17:02:06.384Z"
   },
   {
    "duration": 8,
    "start_time": "2021-12-12T17:02:08.701Z"
   },
   {
    "duration": 8,
    "start_time": "2021-12-12T17:02:11.836Z"
   },
   {
    "duration": 9,
    "start_time": "2021-12-12T17:02:19.585Z"
   },
   {
    "duration": 8,
    "start_time": "2021-12-12T17:02:38.879Z"
   },
   {
    "duration": 6,
    "start_time": "2021-12-12T17:02:51.653Z"
   },
   {
    "duration": 8,
    "start_time": "2021-12-12T17:02:55.305Z"
   },
   {
    "duration": 10,
    "start_time": "2021-12-12T17:03:08.231Z"
   },
   {
    "duration": 98,
    "start_time": "2021-12-12T17:03:24.523Z"
   },
   {
    "duration": 7037,
    "start_time": "2021-12-12T17:03:29.852Z"
   },
   {
    "duration": 4030,
    "start_time": "2021-12-12T17:03:52.045Z"
   },
   {
    "duration": 7,
    "start_time": "2021-12-12T17:03:58.559Z"
   },
   {
    "duration": 9,
    "start_time": "2021-12-12T17:04:04.788Z"
   },
   {
    "duration": 8,
    "start_time": "2021-12-12T17:04:09.909Z"
   },
   {
    "duration": 8,
    "start_time": "2021-12-12T17:04:15.245Z"
   },
   {
    "duration": 8,
    "start_time": "2021-12-12T17:04:33.719Z"
   },
   {
    "duration": 7,
    "start_time": "2021-12-12T17:04:38.434Z"
   },
   {
    "duration": 7,
    "start_time": "2021-12-12T17:04:41.181Z"
   },
   {
    "duration": 95,
    "start_time": "2021-12-12T17:04:57.182Z"
   },
   {
    "duration": 6,
    "start_time": "2021-12-12T17:05:01.464Z"
   },
   {
    "duration": 7,
    "start_time": "2021-12-12T17:05:10.571Z"
   },
   {
    "duration": 7,
    "start_time": "2021-12-12T17:05:13.656Z"
   },
   {
    "duration": 7,
    "start_time": "2021-12-12T17:05:16.965Z"
   },
   {
    "duration": 6,
    "start_time": "2021-12-12T17:05:19.162Z"
   },
   {
    "duration": 7,
    "start_time": "2021-12-12T17:05:22.413Z"
   },
   {
    "duration": 6,
    "start_time": "2021-12-12T17:05:26.103Z"
   },
   {
    "duration": 4,
    "start_time": "2021-12-12T17:05:28.516Z"
   },
   {
    "duration": 10,
    "start_time": "2021-12-12T17:05:30.625Z"
   },
   {
    "duration": 287,
    "start_time": "2021-12-12T17:05:53.281Z"
   },
   {
    "duration": 7,
    "start_time": "2021-12-12T17:05:56.759Z"
   },
   {
    "duration": 7,
    "start_time": "2021-12-12T17:06:18.106Z"
   },
   {
    "duration": 5,
    "start_time": "2021-12-12T17:06:31.150Z"
   },
   {
    "duration": 8,
    "start_time": "2021-12-12T17:06:34.307Z"
   },
   {
    "duration": 297,
    "start_time": "2021-12-12T17:06:51.589Z"
   },
   {
    "duration": 409,
    "start_time": "2021-12-12T17:07:08.383Z"
   },
   {
    "duration": 306,
    "start_time": "2021-12-12T17:07:49.953Z"
   },
   {
    "duration": 291,
    "start_time": "2021-12-12T17:07:55.499Z"
   },
   {
    "duration": 10,
    "start_time": "2021-12-12T17:08:14.843Z"
   },
   {
    "duration": 98,
    "start_time": "2021-12-12T17:08:37.735Z"
   },
   {
    "duration": 87,
    "start_time": "2021-12-12T17:08:41.483Z"
   },
   {
    "duration": 294,
    "start_time": "2021-12-12T17:08:46.048Z"
   },
   {
    "duration": 13,
    "start_time": "2021-12-12T17:08:51.058Z"
   },
   {
    "duration": 347,
    "start_time": "2021-12-12T17:08:59.707Z"
   },
   {
    "duration": 299,
    "start_time": "2021-12-12T17:09:06.085Z"
   },
   {
    "duration": 38,
    "start_time": "2021-12-12T17:09:09.717Z"
   },
   {
    "duration": 6,
    "start_time": "2021-12-12T17:09:54.038Z"
   },
   {
    "duration": 44,
    "start_time": "2021-12-12T17:09:58.410Z"
   },
   {
    "duration": 40,
    "start_time": "2021-12-12T17:10:22.453Z"
   },
   {
    "duration": 13,
    "start_time": "2021-12-12T17:10:35.796Z"
   },
   {
    "duration": 45,
    "start_time": "2021-12-12T17:10:56.053Z"
   },
   {
    "duration": 12,
    "start_time": "2021-12-12T17:11:06.012Z"
   },
   {
    "duration": 11,
    "start_time": "2021-12-12T17:11:21.892Z"
   },
   {
    "duration": 408,
    "start_time": "2021-12-12T17:11:32.210Z"
   },
   {
    "duration": 49,
    "start_time": "2021-12-12T17:11:35.967Z"
   },
   {
    "duration": 11,
    "start_time": "2021-12-12T17:12:32.578Z"
   },
   {
    "duration": 272,
    "start_time": "2021-12-12T17:12:35.917Z"
   },
   {
    "duration": 287,
    "start_time": "2021-12-12T17:12:42.181Z"
   },
   {
    "duration": 801,
    "start_time": "2021-12-12T17:12:44.897Z"
   },
   {
    "duration": 281,
    "start_time": "2021-12-12T17:12:48.850Z"
   },
   {
    "duration": 286,
    "start_time": "2021-12-12T17:12:55.091Z"
   },
   {
    "duration": 295,
    "start_time": "2021-12-12T17:13:10.490Z"
   },
   {
    "duration": 814,
    "start_time": "2021-12-12T17:13:54.229Z"
   },
   {
    "duration": 37,
    "start_time": "2021-12-12T17:13:55.046Z"
   },
   {
    "duration": 13,
    "start_time": "2021-12-12T17:13:55.086Z"
   },
   {
    "duration": 37,
    "start_time": "2021-12-12T17:13:55.101Z"
   },
   {
    "duration": 37,
    "start_time": "2021-12-12T17:13:55.141Z"
   },
   {
    "duration": 23,
    "start_time": "2021-12-12T17:13:55.180Z"
   },
   {
    "duration": 31,
    "start_time": "2021-12-12T17:13:55.205Z"
   },
   {
    "duration": 12,
    "start_time": "2021-12-12T17:13:55.241Z"
   },
   {
    "duration": 11,
    "start_time": "2021-12-12T17:13:55.256Z"
   },
   {
    "duration": 59,
    "start_time": "2021-12-12T17:13:55.269Z"
   },
   {
    "duration": 8,
    "start_time": "2021-12-12T17:13:55.331Z"
   },
   {
    "duration": 13,
    "start_time": "2021-12-12T17:13:55.342Z"
   },
   {
    "duration": 25,
    "start_time": "2021-12-12T17:13:55.358Z"
   },
   {
    "duration": 37,
    "start_time": "2021-12-12T17:13:55.387Z"
   },
   {
    "duration": 7,
    "start_time": "2021-12-12T17:13:55.428Z"
   },
   {
    "duration": 13,
    "start_time": "2021-12-12T17:13:55.438Z"
   },
   {
    "duration": 19,
    "start_time": "2021-12-12T17:13:55.454Z"
   },
   {
    "duration": 48,
    "start_time": "2021-12-12T17:13:55.475Z"
   },
   {
    "duration": 16,
    "start_time": "2021-12-12T17:13:55.525Z"
   },
   {
    "duration": 393,
    "start_time": "2021-12-12T17:13:55.543Z"
   },
   {
    "duration": -3311,
    "start_time": "2021-12-12T17:13:59.250Z"
   },
   {
    "duration": -3315,
    "start_time": "2021-12-12T17:13:59.255Z"
   },
   {
    "duration": -3319,
    "start_time": "2021-12-12T17:13:59.261Z"
   },
   {
    "duration": -3323,
    "start_time": "2021-12-12T17:13:59.267Z"
   },
   {
    "duration": -3327,
    "start_time": "2021-12-12T17:13:59.272Z"
   },
   {
    "duration": -3329,
    "start_time": "2021-12-12T17:13:59.275Z"
   },
   {
    "duration": -3329,
    "start_time": "2021-12-12T17:13:59.277Z"
   },
   {
    "duration": -3329,
    "start_time": "2021-12-12T17:13:59.279Z"
   },
   {
    "duration": -3331,
    "start_time": "2021-12-12T17:13:59.282Z"
   },
   {
    "duration": -3335,
    "start_time": "2021-12-12T17:13:59.287Z"
   },
   {
    "duration": -3336,
    "start_time": "2021-12-12T17:13:59.290Z"
   },
   {
    "duration": -3338,
    "start_time": "2021-12-12T17:13:59.293Z"
   },
   {
    "duration": -3339,
    "start_time": "2021-12-12T17:13:59.296Z"
   },
   {
    "duration": -3341,
    "start_time": "2021-12-12T17:13:59.299Z"
   },
   {
    "duration": -3344,
    "start_time": "2021-12-12T17:13:59.304Z"
   },
   {
    "duration": -3346,
    "start_time": "2021-12-12T17:13:59.307Z"
   },
   {
    "duration": -3347,
    "start_time": "2021-12-12T17:13:59.310Z"
   },
   {
    "duration": -3348,
    "start_time": "2021-12-12T17:13:59.312Z"
   },
   {
    "duration": -3350,
    "start_time": "2021-12-12T17:13:59.316Z"
   },
   {
    "duration": 4,
    "start_time": "2021-12-12T17:14:25.958Z"
   },
   {
    "duration": 3,
    "start_time": "2021-12-12T17:14:28.391Z"
   },
   {
    "duration": 288,
    "start_time": "2021-12-12T17:14:34.584Z"
   },
   {
    "duration": 278,
    "start_time": "2021-12-12T17:14:42.689Z"
   },
   {
    "duration": 1095,
    "start_time": "2021-12-12T17:14:54.727Z"
   },
   {
    "duration": 39,
    "start_time": "2021-12-12T17:14:55.825Z"
   },
   {
    "duration": 10,
    "start_time": "2021-12-12T17:14:55.867Z"
   },
   {
    "duration": 21,
    "start_time": "2021-12-12T17:14:55.880Z"
   },
   {
    "duration": 42,
    "start_time": "2021-12-12T17:14:55.904Z"
   },
   {
    "duration": 16,
    "start_time": "2021-12-12T17:14:55.949Z"
   },
   {
    "duration": 19,
    "start_time": "2021-12-12T17:14:55.968Z"
   },
   {
    "duration": 43,
    "start_time": "2021-12-12T17:14:55.992Z"
   },
   {
    "duration": 4,
    "start_time": "2021-12-12T17:14:56.040Z"
   },
   {
    "duration": 34,
    "start_time": "2021-12-12T17:14:56.047Z"
   },
   {
    "duration": 39,
    "start_time": "2021-12-12T17:14:56.084Z"
   },
   {
    "duration": 9,
    "start_time": "2021-12-12T17:14:56.125Z"
   },
   {
    "duration": 29,
    "start_time": "2021-12-12T17:14:56.137Z"
   },
   {
    "duration": 11,
    "start_time": "2021-12-12T17:14:56.169Z"
   },
   {
    "duration": 40,
    "start_time": "2021-12-12T17:14:56.183Z"
   },
   {
    "duration": 14,
    "start_time": "2021-12-12T17:14:56.226Z"
   },
   {
    "duration": 9,
    "start_time": "2021-12-12T17:14:56.243Z"
   },
   {
    "duration": 13,
    "start_time": "2021-12-12T17:14:56.254Z"
   },
   {
    "duration": 55,
    "start_time": "2021-12-12T17:14:56.269Z"
   },
   {
    "duration": 38,
    "start_time": "2021-12-12T17:14:56.327Z"
   },
   {
    "duration": 9,
    "start_time": "2021-12-12T17:14:56.368Z"
   },
   {
    "duration": 45,
    "start_time": "2021-12-12T17:14:56.379Z"
   },
   {
    "duration": 10,
    "start_time": "2021-12-12T17:14:56.431Z"
   },
   {
    "duration": 12,
    "start_time": "2021-12-12T17:14:56.445Z"
   },
   {
    "duration": 997,
    "start_time": "2021-12-12T17:14:56.460Z"
   },
   {
    "duration": 10,
    "start_time": "2021-12-12T17:14:57.459Z"
   },
   {
    "duration": 32,
    "start_time": "2021-12-12T17:14:57.472Z"
   },
   {
    "duration": 749,
    "start_time": "2021-12-12T17:14:57.524Z"
   },
   {
    "duration": 53,
    "start_time": "2021-12-12T17:14:58.276Z"
   },
   {
    "duration": 7,
    "start_time": "2021-12-12T17:14:58.331Z"
   },
   {
    "duration": 11,
    "start_time": "2021-12-12T17:14:58.341Z"
   },
   {
    "duration": 16,
    "start_time": "2021-12-12T17:14:58.355Z"
   },
   {
    "duration": 272,
    "start_time": "2021-12-12T17:14:58.373Z"
   },
   {
    "duration": 510,
    "start_time": "2021-12-12T17:14:58.648Z"
   },
   {
    "duration": 7,
    "start_time": "2021-12-12T17:14:59.161Z"
   },
   {
    "duration": 60,
    "start_time": "2021-12-12T17:14:59.171Z"
   },
   {
    "duration": 278,
    "start_time": "2021-12-12T17:14:59.233Z"
   },
   {
    "duration": 336,
    "start_time": "2021-12-12T17:14:59.514Z"
   },
   {
    "duration": 7,
    "start_time": "2021-12-12T17:14:59.853Z"
   },
   {
    "duration": 13,
    "start_time": "2021-12-12T17:22:00.684Z"
   },
   {
    "duration": 12,
    "start_time": "2021-12-12T17:22:58.043Z"
   },
   {
    "duration": 11,
    "start_time": "2021-12-12T17:22:59.228Z"
   },
   {
    "duration": 25,
    "start_time": "2021-12-12T17:23:15.783Z"
   },
   {
    "duration": 12,
    "start_time": "2021-12-12T17:23:16.665Z"
   },
   {
    "duration": 9,
    "start_time": "2021-12-12T17:23:24.646Z"
   },
   {
    "duration": 6,
    "start_time": "2021-12-12T17:26:36.430Z"
   },
   {
    "duration": 28,
    "start_time": "2021-12-12T17:26:47.462Z"
   },
   {
    "duration": 6,
    "start_time": "2021-12-12T17:27:00.700Z"
   },
   {
    "duration": 31,
    "start_time": "2021-12-12T17:27:01.461Z"
   },
   {
    "duration": 33,
    "start_time": "2021-12-12T17:28:32.750Z"
   },
   {
    "duration": 30,
    "start_time": "2021-12-12T17:28:43.143Z"
   },
   {
    "duration": 806,
    "start_time": "2021-12-12T17:30:41.894Z"
   },
   {
    "duration": 40,
    "start_time": "2021-12-12T17:30:42.703Z"
   },
   {
    "duration": 9,
    "start_time": "2021-12-12T17:30:42.746Z"
   },
   {
    "duration": 25,
    "start_time": "2021-12-12T17:30:42.757Z"
   },
   {
    "duration": 55,
    "start_time": "2021-12-12T17:30:42.784Z"
   },
   {
    "duration": 22,
    "start_time": "2021-12-12T17:30:42.842Z"
   },
   {
    "duration": 20,
    "start_time": "2021-12-12T17:30:42.867Z"
   },
   {
    "duration": 43,
    "start_time": "2021-12-12T17:30:42.893Z"
   },
   {
    "duration": 4,
    "start_time": "2021-12-12T17:30:42.940Z"
   },
   {
    "duration": 33,
    "start_time": "2021-12-12T17:30:42.947Z"
   },
   {
    "duration": 7,
    "start_time": "2021-12-12T17:30:42.982Z"
   },
   {
    "duration": 38,
    "start_time": "2021-12-12T17:30:42.991Z"
   },
   {
    "duration": 24,
    "start_time": "2021-12-12T17:30:43.031Z"
   },
   {
    "duration": 10,
    "start_time": "2021-12-12T17:30:43.057Z"
   },
   {
    "duration": 7,
    "start_time": "2021-12-12T17:30:43.069Z"
   },
   {
    "duration": 49,
    "start_time": "2021-12-12T17:30:43.078Z"
   },
   {
    "duration": 5,
    "start_time": "2021-12-12T17:30:43.130Z"
   },
   {
    "duration": 12,
    "start_time": "2021-12-12T17:30:43.138Z"
   },
   {
    "duration": 29,
    "start_time": "2021-12-12T17:30:43.152Z"
   },
   {
    "duration": 41,
    "start_time": "2021-12-12T17:30:43.184Z"
   },
   {
    "duration": 5,
    "start_time": "2021-12-12T17:30:43.227Z"
   },
   {
    "duration": 19,
    "start_time": "2021-12-12T17:30:43.235Z"
   },
   {
    "duration": 21,
    "start_time": "2021-12-12T17:30:43.259Z"
   },
   {
    "duration": 35,
    "start_time": "2021-12-12T17:30:43.283Z"
   },
   {
    "duration": 32,
    "start_time": "2021-12-12T17:30:43.321Z"
   },
   {
    "duration": 967,
    "start_time": "2021-12-12T17:30:43.356Z"
   },
   {
    "duration": 10,
    "start_time": "2021-12-12T17:30:44.325Z"
   },
   {
    "duration": 31,
    "start_time": "2021-12-12T17:30:44.337Z"
   },
   {
    "duration": 688,
    "start_time": "2021-12-12T17:30:44.371Z"
   },
   {
    "duration": 35,
    "start_time": "2021-12-12T17:30:45.061Z"
   },
   {
    "duration": 25,
    "start_time": "2021-12-12T17:30:45.099Z"
   },
   {
    "duration": 10,
    "start_time": "2021-12-12T17:30:45.127Z"
   },
   {
    "duration": 7,
    "start_time": "2021-12-12T17:30:45.140Z"
   },
   {
    "duration": 267,
    "start_time": "2021-12-12T17:30:45.150Z"
   },
   {
    "duration": 470,
    "start_time": "2021-12-12T17:30:45.419Z"
   },
   {
    "duration": 5,
    "start_time": "2021-12-12T17:30:45.892Z"
   },
   {
    "duration": 50,
    "start_time": "2021-12-12T17:30:45.900Z"
   },
   {
    "duration": 302,
    "start_time": "2021-12-12T17:30:45.952Z"
   },
   {
    "duration": 308,
    "start_time": "2021-12-12T17:30:46.257Z"
   },
   {
    "duration": 6,
    "start_time": "2021-12-12T17:30:46.568Z"
   },
   {
    "duration": 8882,
    "start_time": "2021-12-12T17:33:26.296Z"
   },
   {
    "duration": 278,
    "start_time": "2021-12-12T17:34:33.311Z"
   },
   {
    "duration": 6871,
    "start_time": "2021-12-12T17:34:39.300Z"
   },
   {
    "duration": 474,
    "start_time": "2021-12-12T17:35:21.437Z"
   },
   {
    "duration": 7157,
    "start_time": "2021-12-12T17:35:37.638Z"
   },
   {
    "duration": 8849,
    "start_time": "2021-12-12T17:36:07.201Z"
   },
   {
    "duration": 1324,
    "start_time": "2021-12-12T17:36:32.885Z"
   },
   {
    "duration": 2082,
    "start_time": "2021-12-12T17:37:22.809Z"
   },
   {
    "duration": 269,
    "start_time": "2021-12-12T17:45:53.727Z"
   },
   {
    "duration": 5,
    "start_time": "2021-12-12T17:46:03.418Z"
   },
   {
    "duration": 27,
    "start_time": "2021-12-12T17:46:04.117Z"
   },
   {
    "duration": 11,
    "start_time": "2021-12-12T17:46:05.610Z"
   },
   {
    "duration": 280,
    "start_time": "2021-12-12T17:46:06.115Z"
   },
   {
    "duration": 300,
    "start_time": "2021-12-12T17:46:37.823Z"
   },
   {
    "duration": 9,
    "start_time": "2021-12-12T17:46:47.035Z"
   },
   {
    "duration": 9,
    "start_time": "2021-12-12T17:46:49.889Z"
   },
   {
    "duration": 11,
    "start_time": "2021-12-12T17:47:01.010Z"
   },
   {
    "duration": 6,
    "start_time": "2021-12-12T17:47:11.142Z"
   },
   {
    "duration": 10,
    "start_time": "2021-12-12T17:47:19.096Z"
   },
   {
    "duration": 7,
    "start_time": "2021-12-12T17:48:10.217Z"
   },
   {
    "duration": 6,
    "start_time": "2021-12-12T17:48:47.435Z"
   },
   {
    "duration": 10,
    "start_time": "2021-12-12T18:43:58.757Z"
   },
   {
    "duration": 10,
    "start_time": "2021-12-12T18:44:03.331Z"
   },
   {
    "duration": 11,
    "start_time": "2021-12-12T18:44:09.214Z"
   },
   {
    "duration": 10,
    "start_time": "2021-12-12T18:44:18.021Z"
   },
   {
    "duration": 278,
    "start_time": "2021-12-12T18:45:00.688Z"
   },
   {
    "duration": 29,
    "start_time": "2021-12-12T18:46:18.435Z"
   },
   {
    "duration": 34,
    "start_time": "2021-12-12T18:46:42.168Z"
   },
   {
    "duration": 272,
    "start_time": "2021-12-12T18:49:00.850Z"
   },
   {
    "duration": 478,
    "start_time": "2021-12-12T18:49:07.847Z"
   },
   {
    "duration": 731,
    "start_time": "2021-12-12T18:49:30.957Z"
   },
   {
    "duration": 281,
    "start_time": "2021-12-12T18:49:45.439Z"
   },
   {
    "duration": 272,
    "start_time": "2021-12-12T18:49:55.077Z"
   },
   {
    "duration": 286,
    "start_time": "2021-12-12T18:50:26.412Z"
   },
   {
    "duration": 294,
    "start_time": "2021-12-12T18:50:33.978Z"
   },
   {
    "duration": 2143,
    "start_time": "2021-12-12T18:51:15.385Z"
   },
   {
    "duration": 497,
    "start_time": "2021-12-12T18:51:25.713Z"
   },
   {
    "duration": 7,
    "start_time": "2021-12-12T18:54:42.402Z"
   },
   {
    "duration": 19,
    "start_time": "2021-12-12T18:57:56.837Z"
   },
   {
    "duration": 18,
    "start_time": "2021-12-12T18:58:01.295Z"
   },
   {
    "duration": 31,
    "start_time": "2021-12-12T18:58:06.912Z"
   },
   {
    "duration": 32,
    "start_time": "2021-12-12T19:00:20.608Z"
   },
   {
    "duration": 21,
    "start_time": "2021-12-12T19:00:40.275Z"
   },
   {
    "duration": 20,
    "start_time": "2021-12-12T19:00:49.204Z"
   },
   {
    "duration": 34,
    "start_time": "2021-12-12T19:00:56.060Z"
   },
   {
    "duration": 18,
    "start_time": "2021-12-12T19:05:33.280Z"
   },
   {
    "duration": 94,
    "start_time": "2021-12-12T19:05:59.211Z"
   },
   {
    "duration": 18,
    "start_time": "2021-12-12T19:06:35.410Z"
   },
   {
    "duration": 845,
    "start_time": "2021-12-12T19:09:16.213Z"
   },
   {
    "duration": 45,
    "start_time": "2021-12-12T19:09:17.060Z"
   },
   {
    "duration": 10,
    "start_time": "2021-12-12T19:09:17.108Z"
   },
   {
    "duration": 20,
    "start_time": "2021-12-12T19:09:17.121Z"
   },
   {
    "duration": 38,
    "start_time": "2021-12-12T19:09:17.144Z"
   },
   {
    "duration": 41,
    "start_time": "2021-12-12T19:09:17.184Z"
   },
   {
    "duration": 16,
    "start_time": "2021-12-12T19:09:17.228Z"
   },
   {
    "duration": 12,
    "start_time": "2021-12-12T19:09:17.247Z"
   },
   {
    "duration": 3,
    "start_time": "2021-12-12T19:09:17.262Z"
   },
   {
    "duration": 70,
    "start_time": "2021-12-12T19:09:17.268Z"
   },
   {
    "duration": 7,
    "start_time": "2021-12-12T19:09:17.341Z"
   },
   {
    "duration": 8,
    "start_time": "2021-12-12T19:09:17.351Z"
   },
   {
    "duration": 25,
    "start_time": "2021-12-12T19:09:17.362Z"
   },
   {
    "duration": 38,
    "start_time": "2021-12-12T19:09:17.390Z"
   },
   {
    "duration": 6,
    "start_time": "2021-12-12T19:09:17.431Z"
   },
   {
    "duration": 12,
    "start_time": "2021-12-12T19:09:17.439Z"
   },
   {
    "duration": 8,
    "start_time": "2021-12-12T19:09:17.454Z"
   },
   {
    "duration": 12,
    "start_time": "2021-12-12T19:09:17.464Z"
   },
   {
    "duration": 63,
    "start_time": "2021-12-12T19:09:17.478Z"
   },
   {
    "duration": 10,
    "start_time": "2021-12-12T19:09:17.543Z"
   },
   {
    "duration": 12,
    "start_time": "2021-12-12T19:09:17.556Z"
   },
   {
    "duration": 10,
    "start_time": "2021-12-12T19:09:17.570Z"
   },
   {
    "duration": 5,
    "start_time": "2021-12-12T19:09:17.585Z"
   },
   {
    "duration": 28,
    "start_time": "2021-12-12T19:09:17.624Z"
   },
   {
    "duration": 724,
    "start_time": "2021-12-12T19:09:17.655Z"
   },
   {
    "duration": 8,
    "start_time": "2021-12-12T19:09:18.382Z"
   },
   {
    "duration": 11,
    "start_time": "2021-12-12T19:09:18.392Z"
   },
   {
    "duration": 308,
    "start_time": "2021-12-12T19:09:18.405Z"
   },
   {
    "duration": 14,
    "start_time": "2021-12-12T19:09:18.716Z"
   },
   {
    "duration": 36,
    "start_time": "2021-12-12T19:09:18.732Z"
   },
   {
    "duration": 681,
    "start_time": "2021-12-12T19:09:18.770Z"
   },
   {
    "duration": 35,
    "start_time": "2021-12-12T19:09:19.453Z"
   },
   {
    "duration": 7,
    "start_time": "2021-12-12T19:09:19.490Z"
   },
   {
    "duration": 32,
    "start_time": "2021-12-12T19:09:19.500Z"
   },
   {
    "duration": 8,
    "start_time": "2021-12-12T19:09:19.535Z"
   },
   {
    "duration": 280,
    "start_time": "2021-12-12T19:09:19.545Z"
   },
   {
    "duration": 533,
    "start_time": "2021-12-12T19:09:19.829Z"
   },
   {
    "duration": 7,
    "start_time": "2021-12-12T19:09:20.364Z"
   },
   {
    "duration": 55,
    "start_time": "2021-12-12T19:09:20.373Z"
   },
   {
    "duration": 7,
    "start_time": "2021-12-12T19:09:20.430Z"
   },
   {
    "duration": 305,
    "start_time": "2021-12-12T19:09:20.439Z"
   },
   {
    "duration": 325,
    "start_time": "2021-12-12T19:09:20.747Z"
   },
   {
    "duration": 55,
    "start_time": "2021-12-12T19:09:21.075Z"
   },
   {
    "duration": 20,
    "start_time": "2021-12-12T19:09:21.133Z"
   },
   {
    "duration": 9,
    "start_time": "2021-12-12T19:10:08.737Z"
   },
   {
    "duration": 9,
    "start_time": "2021-12-12T19:10:11.773Z"
   },
   {
    "duration": 8,
    "start_time": "2021-12-12T19:10:12.396Z"
   },
   {
    "duration": 8,
    "start_time": "2021-12-12T19:10:12.661Z"
   },
   {
    "duration": 8,
    "start_time": "2021-12-12T19:10:38.179Z"
   },
   {
    "duration": 405,
    "start_time": "2021-12-12T19:10:38.854Z"
   },
   {
    "duration": 9,
    "start_time": "2021-12-12T19:10:46.110Z"
   },
   {
    "duration": 8,
    "start_time": "2021-12-12T19:10:46.562Z"
   },
   {
    "duration": 28,
    "start_time": "2021-12-12T19:10:47.743Z"
   },
   {
    "duration": 7,
    "start_time": "2021-12-12T19:10:48.283Z"
   },
   {
    "duration": 7,
    "start_time": "2021-12-12T19:10:48.322Z"
   },
   {
    "duration": 766,
    "start_time": "2021-12-12T19:10:55.172Z"
   },
   {
    "duration": 36,
    "start_time": "2021-12-12T19:10:55.941Z"
   },
   {
    "duration": 23,
    "start_time": "2021-12-12T19:10:55.980Z"
   },
   {
    "duration": 36,
    "start_time": "2021-12-12T19:10:56.005Z"
   },
   {
    "duration": 39,
    "start_time": "2021-12-12T19:10:56.044Z"
   },
   {
    "duration": 17,
    "start_time": "2021-12-12T19:10:56.086Z"
   },
   {
    "duration": 31,
    "start_time": "2021-12-12T19:10:56.105Z"
   },
   {
    "duration": 14,
    "start_time": "2021-12-12T19:10:56.140Z"
   },
   {
    "duration": 17,
    "start_time": "2021-12-12T19:10:56.157Z"
   },
   {
    "duration": 55,
    "start_time": "2021-12-12T19:10:56.176Z"
   },
   {
    "duration": 6,
    "start_time": "2021-12-12T19:10:56.234Z"
   },
   {
    "duration": 12,
    "start_time": "2021-12-12T19:10:56.243Z"
   },
   {
    "duration": 32,
    "start_time": "2021-12-12T19:10:56.258Z"
   },
   {
    "duration": 34,
    "start_time": "2021-12-12T19:10:56.292Z"
   },
   {
    "duration": 6,
    "start_time": "2021-12-12T19:10:56.328Z"
   },
   {
    "duration": 27,
    "start_time": "2021-12-12T19:10:56.336Z"
   },
   {
    "duration": 24,
    "start_time": "2021-12-12T19:10:56.365Z"
   },
   {
    "duration": 34,
    "start_time": "2021-12-12T19:10:56.391Z"
   },
   {
    "duration": 36,
    "start_time": "2021-12-12T19:10:56.427Z"
   },
   {
    "duration": 11,
    "start_time": "2021-12-12T19:10:56.466Z"
   },
   {
    "duration": 14,
    "start_time": "2021-12-12T19:10:56.480Z"
   },
   {
    "duration": 23,
    "start_time": "2021-12-12T19:10:56.496Z"
   },
   {
    "duration": 17,
    "start_time": "2021-12-12T19:10:56.526Z"
   },
   {
    "duration": 42,
    "start_time": "2021-12-12T19:10:56.546Z"
   },
   {
    "duration": 702,
    "start_time": "2021-12-12T19:10:56.590Z"
   },
   {
    "duration": 9,
    "start_time": "2021-12-12T19:10:57.294Z"
   },
   {
    "duration": 28,
    "start_time": "2021-12-12T19:10:57.306Z"
   },
   {
    "duration": 305,
    "start_time": "2021-12-12T19:10:57.336Z"
   },
   {
    "duration": 10,
    "start_time": "2021-12-12T19:10:57.643Z"
   },
   {
    "duration": 48,
    "start_time": "2021-12-12T19:10:57.655Z"
   },
   {
    "duration": 719,
    "start_time": "2021-12-12T19:10:57.706Z"
   },
   {
    "duration": 36,
    "start_time": "2021-12-12T19:10:58.428Z"
   },
   {
    "duration": 7,
    "start_time": "2021-12-12T19:10:58.467Z"
   },
   {
    "duration": 26,
    "start_time": "2021-12-12T19:10:58.477Z"
   },
   {
    "duration": 31,
    "start_time": "2021-12-12T19:10:58.504Z"
   },
   {
    "duration": 249,
    "start_time": "2021-12-12T19:10:58.537Z"
   },
   {
    "duration": 551,
    "start_time": "2021-12-12T19:10:58.788Z"
   },
   {
    "duration": 7,
    "start_time": "2021-12-12T19:10:59.342Z"
   },
   {
    "duration": 71,
    "start_time": "2021-12-12T19:10:59.351Z"
   },
   {
    "duration": 7,
    "start_time": "2021-12-12T19:10:59.424Z"
   },
   {
    "duration": 393,
    "start_time": "2021-12-12T19:10:59.433Z"
   },
   {
    "duration": 359,
    "start_time": "2021-12-12T19:10:59.828Z"
   },
   {
    "duration": 40,
    "start_time": "2021-12-12T19:11:00.189Z"
   },
   {
    "duration": 17,
    "start_time": "2021-12-12T19:11:00.231Z"
   },
   {
    "duration": 7,
    "start_time": "2021-12-12T19:17:56.013Z"
   },
   {
    "duration": 845,
    "start_time": "2021-12-12T19:19:21.095Z"
   },
   {
    "duration": 38,
    "start_time": "2021-12-12T19:19:21.943Z"
   },
   {
    "duration": 9,
    "start_time": "2021-12-12T19:19:21.984Z"
   },
   {
    "duration": 20,
    "start_time": "2021-12-12T19:19:21.997Z"
   },
   {
    "duration": 35,
    "start_time": "2021-12-12T19:19:22.023Z"
   },
   {
    "duration": 17,
    "start_time": "2021-12-12T19:19:22.061Z"
   },
   {
    "duration": 45,
    "start_time": "2021-12-12T19:19:22.081Z"
   },
   {
    "duration": 12,
    "start_time": "2021-12-12T19:19:22.130Z"
   },
   {
    "duration": 4,
    "start_time": "2021-12-12T19:19:22.146Z"
   },
   {
    "duration": 33,
    "start_time": "2021-12-12T19:19:22.152Z"
   },
   {
    "duration": 40,
    "start_time": "2021-12-12T19:19:22.188Z"
   },
   {
    "duration": 10,
    "start_time": "2021-12-12T19:19:22.230Z"
   },
   {
    "duration": 28,
    "start_time": "2021-12-12T19:19:22.242Z"
   },
   {
    "duration": 7,
    "start_time": "2021-12-12T19:19:22.274Z"
   },
   {
    "duration": 41,
    "start_time": "2021-12-12T19:19:22.284Z"
   },
   {
    "duration": 12,
    "start_time": "2021-12-12T19:19:22.327Z"
   },
   {
    "duration": 8,
    "start_time": "2021-12-12T19:19:22.341Z"
   },
   {
    "duration": 12,
    "start_time": "2021-12-12T19:19:22.351Z"
   },
   {
    "duration": 60,
    "start_time": "2021-12-12T19:19:22.365Z"
   },
   {
    "duration": 9,
    "start_time": "2021-12-12T19:19:22.427Z"
   },
   {
    "duration": 8,
    "start_time": "2021-12-12T19:19:22.438Z"
   },
   {
    "duration": 6,
    "start_time": "2021-12-12T19:19:22.449Z"
   },
   {
    "duration": 4,
    "start_time": "2021-12-12T19:19:22.460Z"
   },
   {
    "duration": 5,
    "start_time": "2021-12-12T19:19:22.467Z"
   },
   {
    "duration": 69,
    "start_time": "2021-12-12T19:19:22.475Z"
   },
   {
    "duration": 739,
    "start_time": "2021-12-12T19:19:22.546Z"
   },
   {
    "duration": 9,
    "start_time": "2021-12-12T19:19:23.287Z"
   },
   {
    "duration": 27,
    "start_time": "2021-12-12T19:19:23.298Z"
   },
   {
    "duration": 301,
    "start_time": "2021-12-12T19:19:23.327Z"
   },
   {
    "duration": 10,
    "start_time": "2021-12-12T19:19:23.631Z"
   },
   {
    "duration": 34,
    "start_time": "2021-12-12T19:19:23.644Z"
   },
   {
    "duration": 703,
    "start_time": "2021-12-12T19:19:23.680Z"
   },
   {
    "duration": 46,
    "start_time": "2021-12-12T19:19:24.385Z"
   },
   {
    "duration": 7,
    "start_time": "2021-12-12T19:19:24.434Z"
   },
   {
    "duration": 18,
    "start_time": "2021-12-12T19:19:24.444Z"
   },
   {
    "duration": 16,
    "start_time": "2021-12-12T19:19:24.465Z"
   },
   {
    "duration": 282,
    "start_time": "2021-12-12T19:19:24.483Z"
   },
   {
    "duration": 522,
    "start_time": "2021-12-12T19:19:24.768Z"
   },
   {
    "duration": 6,
    "start_time": "2021-12-12T19:19:25.293Z"
   },
   {
    "duration": 55,
    "start_time": "2021-12-12T19:19:25.302Z"
   },
   {
    "duration": 7,
    "start_time": "2021-12-12T19:19:25.360Z"
   },
   {
    "duration": 314,
    "start_time": "2021-12-12T19:19:25.370Z"
   },
   {
    "duration": 324,
    "start_time": "2021-12-12T19:19:25.688Z"
   },
   {
    "duration": 34,
    "start_time": "2021-12-12T19:19:26.023Z"
   },
   {
    "duration": 19,
    "start_time": "2021-12-12T19:19:26.059Z"
   },
   {
    "duration": 943,
    "start_time": "2021-12-13T13:27:39.261Z"
   },
   {
    "duration": 49,
    "start_time": "2021-12-13T13:27:40.207Z"
   },
   {
    "duration": 11,
    "start_time": "2021-12-13T13:27:40.259Z"
   },
   {
    "duration": 25,
    "start_time": "2021-12-13T13:27:40.272Z"
   },
   {
    "duration": 44,
    "start_time": "2021-12-13T13:27:40.300Z"
   },
   {
    "duration": 18,
    "start_time": "2021-12-13T13:27:40.346Z"
   },
   {
    "duration": 17,
    "start_time": "2021-12-13T13:27:40.366Z"
   },
   {
    "duration": 45,
    "start_time": "2021-12-13T13:27:40.388Z"
   },
   {
    "duration": 3,
    "start_time": "2021-12-13T13:27:40.437Z"
   },
   {
    "duration": 35,
    "start_time": "2021-12-13T13:27:40.443Z"
   },
   {
    "duration": 40,
    "start_time": "2021-12-13T13:27:40.481Z"
   },
   {
    "duration": 10,
    "start_time": "2021-12-13T13:27:40.524Z"
   },
   {
    "duration": 28,
    "start_time": "2021-12-13T13:27:40.536Z"
   },
   {
    "duration": 11,
    "start_time": "2021-12-13T13:27:40.566Z"
   },
   {
    "duration": 6,
    "start_time": "2021-12-13T13:27:40.580Z"
   },
   {
    "duration": 19,
    "start_time": "2021-12-13T13:27:40.618Z"
   },
   {
    "duration": 10,
    "start_time": "2021-12-13T13:27:40.639Z"
   },
   {
    "duration": 12,
    "start_time": "2021-12-13T13:27:40.651Z"
   },
   {
    "duration": 67,
    "start_time": "2021-12-13T13:27:40.666Z"
   },
   {
    "duration": 9,
    "start_time": "2021-12-13T13:27:40.737Z"
   },
   {
    "duration": 4,
    "start_time": "2021-12-13T13:27:40.749Z"
   },
   {
    "duration": 8,
    "start_time": "2021-12-13T13:27:40.756Z"
   },
   {
    "duration": 5,
    "start_time": "2021-12-13T13:27:40.769Z"
   },
   {
    "duration": 4,
    "start_time": "2021-12-13T13:27:40.777Z"
   },
   {
    "duration": 34,
    "start_time": "2021-12-13T13:27:40.818Z"
   },
   {
    "duration": 752,
    "start_time": "2021-12-13T13:27:40.854Z"
   },
   {
    "duration": 17,
    "start_time": "2021-12-13T13:27:41.608Z"
   },
   {
    "duration": 8,
    "start_time": "2021-12-13T13:27:41.630Z"
   },
   {
    "duration": 333,
    "start_time": "2021-12-13T13:27:41.640Z"
   },
   {
    "duration": 11,
    "start_time": "2021-12-13T13:27:41.975Z"
   },
   {
    "duration": 70,
    "start_time": "2021-12-13T13:27:41.989Z"
   },
   {
    "duration": 1266,
    "start_time": "2021-12-13T13:27:42.062Z"
   },
   {
    "duration": 54,
    "start_time": "2021-12-13T13:27:43.331Z"
   },
   {
    "duration": 35,
    "start_time": "2021-12-13T13:27:43.388Z"
   },
   {
    "duration": 16,
    "start_time": "2021-12-13T13:27:43.427Z"
   },
   {
    "duration": 6,
    "start_time": "2021-12-13T13:27:43.446Z"
   },
   {
    "duration": 299,
    "start_time": "2021-12-13T13:27:43.455Z"
   },
   {
    "duration": 634,
    "start_time": "2021-12-13T13:27:43.757Z"
   },
   {
    "duration": 7,
    "start_time": "2021-12-13T13:27:44.393Z"
   },
   {
    "duration": 45,
    "start_time": "2021-12-13T13:27:44.418Z"
   },
   {
    "duration": 7,
    "start_time": "2021-12-13T13:27:44.466Z"
   },
   {
    "duration": 331,
    "start_time": "2021-12-13T13:27:44.477Z"
   },
   {
    "duration": 368,
    "start_time": "2021-12-13T13:27:44.811Z"
   },
   {
    "duration": 55,
    "start_time": "2021-12-13T13:27:45.181Z"
   },
   {
    "duration": 19,
    "start_time": "2021-12-13T13:27:45.240Z"
   },
   {
    "duration": 12,
    "start_time": "2021-12-13T13:33:59.495Z"
   },
   {
    "duration": 11,
    "start_time": "2021-12-13T14:08:07.675Z"
   },
   {
    "duration": 30,
    "start_time": "2021-12-13T14:17:58.214Z"
   },
   {
    "duration": 18,
    "start_time": "2021-12-13T14:19:32.062Z"
   },
   {
    "duration": 1803,
    "start_time": "2021-12-13T16:15:25.543Z"
   },
   {
    "duration": 1836,
    "start_time": "2021-12-13T16:15:39.330Z"
   },
   {
    "duration": 15,
    "start_time": "2021-12-13T16:15:51.852Z"
   },
   {
    "duration": 11,
    "start_time": "2021-12-13T16:15:59.291Z"
   },
   {
    "duration": 14,
    "start_time": "2021-12-13T16:16:06.841Z"
   },
   {
    "duration": 19,
    "start_time": "2021-12-13T16:16:12.174Z"
   },
   {
    "duration": 14,
    "start_time": "2021-12-13T16:16:18.641Z"
   },
   {
    "duration": 330,
    "start_time": "2021-12-13T16:25:41.563Z"
   },
   {
    "duration": 16,
    "start_time": "2021-12-13T16:25:47.223Z"
   },
   {
    "duration": 351,
    "start_time": "2021-12-13T18:00:42.791Z"
   },
   {
    "duration": 762,
    "start_time": "2021-12-13T18:01:09.606Z"
   },
   {
    "duration": 43,
    "start_time": "2021-12-13T18:01:11.611Z"
   },
   {
    "duration": 10,
    "start_time": "2021-12-13T18:01:12.115Z"
   },
   {
    "duration": 17,
    "start_time": "2021-12-13T18:01:12.691Z"
   },
   {
    "duration": 27,
    "start_time": "2021-12-13T18:01:13.795Z"
   },
   {
    "duration": 25,
    "start_time": "2021-12-13T18:01:14.664Z"
   },
   {
    "duration": 22,
    "start_time": "2021-12-13T18:01:14.863Z"
   },
   {
    "duration": 10,
    "start_time": "2021-12-13T18:01:15.248Z"
   },
   {
    "duration": 3,
    "start_time": "2021-12-13T18:01:15.697Z"
   },
   {
    "duration": 19,
    "start_time": "2021-12-13T18:01:17.652Z"
   },
   {
    "duration": 6,
    "start_time": "2021-12-13T18:01:18.706Z"
   },
   {
    "duration": 5,
    "start_time": "2021-12-13T18:01:21.520Z"
   },
   {
    "duration": 4247,
    "start_time": "2021-12-13T18:01:29.775Z"
   },
   {
    "duration": 8,
    "start_time": "2021-12-13T18:01:44.670Z"
   },
   {
    "duration": 6,
    "start_time": "2021-12-13T18:01:45.366Z"
   },
   {
    "duration": 7,
    "start_time": "2021-12-13T18:01:50.734Z"
   },
   {
    "duration": 4934,
    "start_time": "2021-12-13T18:03:44.986Z"
   },
   {
    "duration": 640,
    "start_time": "2021-12-13T18:03:53.004Z"
   },
   {
    "duration": 39,
    "start_time": "2021-12-13T18:03:53.646Z"
   },
   {
    "duration": 8,
    "start_time": "2021-12-13T18:03:53.687Z"
   },
   {
    "duration": 29,
    "start_time": "2021-12-13T18:03:53.697Z"
   },
   {
    "duration": 27,
    "start_time": "2021-12-13T18:03:53.728Z"
   },
   {
    "duration": 14,
    "start_time": "2021-12-13T18:03:53.756Z"
   },
   {
    "duration": 21,
    "start_time": "2021-12-13T18:03:53.772Z"
   },
   {
    "duration": 11,
    "start_time": "2021-12-13T18:03:53.796Z"
   },
   {
    "duration": 4,
    "start_time": "2021-12-13T18:03:53.809Z"
   },
   {
    "duration": 26,
    "start_time": "2021-12-13T18:03:53.815Z"
   },
   {
    "duration": 4,
    "start_time": "2021-12-13T18:03:53.843Z"
   },
   {
    "duration": 74,
    "start_time": "2021-12-13T18:03:53.848Z"
   },
   {
    "duration": 7,
    "start_time": "2021-12-13T18:03:53.924Z"
   },
   {
    "duration": 18,
    "start_time": "2021-12-13T18:03:53.933Z"
   },
   {
    "duration": 6,
    "start_time": "2021-12-13T18:03:53.952Z"
   },
   {
    "duration": 69,
    "start_time": "2021-12-13T18:03:53.959Z"
   },
   {
    "duration": 6,
    "start_time": "2021-12-13T18:03:54.030Z"
   },
   {
    "duration": 10,
    "start_time": "2021-12-13T18:03:54.037Z"
   },
   {
    "duration": 5,
    "start_time": "2021-12-13T18:03:54.048Z"
   },
   {
    "duration": 35,
    "start_time": "2021-12-13T18:03:54.055Z"
   },
   {
    "duration": 24,
    "start_time": "2021-12-13T18:03:54.092Z"
   },
   {
    "duration": 7,
    "start_time": "2021-12-13T18:03:54.118Z"
   },
   {
    "duration": 4,
    "start_time": "2021-12-13T18:03:54.130Z"
   },
   {
    "duration": 5,
    "start_time": "2021-12-13T18:03:54.136Z"
   },
   {
    "duration": 5,
    "start_time": "2021-12-13T18:03:54.142Z"
   },
   {
    "duration": 5,
    "start_time": "2021-12-13T18:03:54.148Z"
   },
   {
    "duration": 54,
    "start_time": "2021-12-13T18:03:54.154Z"
   },
   {
    "duration": 542,
    "start_time": "2021-12-13T18:03:54.210Z"
   },
   {
    "duration": 7,
    "start_time": "2021-12-13T18:03:54.754Z"
   },
   {
    "duration": 4,
    "start_time": "2021-12-13T18:03:54.763Z"
   },
   {
    "duration": 210,
    "start_time": "2021-12-13T18:03:54.769Z"
   },
   {
    "duration": 12,
    "start_time": "2021-12-13T18:03:54.981Z"
   },
   {
    "duration": 19,
    "start_time": "2021-12-13T18:03:54.995Z"
   },
   {
    "duration": 438,
    "start_time": "2021-12-13T18:03:55.016Z"
   },
   {
    "duration": 33,
    "start_time": "2021-12-13T18:03:55.456Z"
   },
   {
    "duration": 5,
    "start_time": "2021-12-13T18:03:55.490Z"
   },
   {
    "duration": 10,
    "start_time": "2021-12-13T18:03:55.497Z"
   },
   {
    "duration": 4,
    "start_time": "2021-12-13T18:03:55.509Z"
   },
   {
    "duration": 225,
    "start_time": "2021-12-13T18:03:55.515Z"
   },
   {
    "duration": 394,
    "start_time": "2021-12-13T18:03:55.742Z"
   },
   {
    "duration": 5,
    "start_time": "2021-12-13T18:03:56.138Z"
   },
   {
    "duration": 25,
    "start_time": "2021-12-13T18:03:56.145Z"
   },
   {
    "duration": 26,
    "start_time": "2021-12-13T18:03:56.171Z"
   },
   {
    "duration": 242,
    "start_time": "2021-12-13T18:03:56.199Z"
   },
   {
    "duration": 184,
    "start_time": "2021-12-13T18:03:56.443Z"
   },
   {
    "duration": 37,
    "start_time": "2021-12-13T18:03:56.629Z"
   },
   {
    "duration": 27,
    "start_time": "2021-12-13T18:03:56.668Z"
   },
   {
    "duration": 5,
    "start_time": "2021-12-13T18:05:24.129Z"
   },
   {
    "duration": 50,
    "start_time": "2021-12-13T18:05:24.991Z"
   },
   {
    "duration": 6,
    "start_time": "2021-12-13T18:05:25.464Z"
   },
   {
    "duration": 73,
    "start_time": "2021-12-13T18:06:01.213Z"
   },
   {
    "duration": 39,
    "start_time": "2021-12-13T18:06:01.745Z"
   },
   {
    "duration": 7,
    "start_time": "2021-12-13T18:06:02.117Z"
   },
   {
    "duration": 14,
    "start_time": "2021-12-13T18:06:02.751Z"
   },
   {
    "duration": 23,
    "start_time": "2021-12-13T18:06:03.737Z"
   },
   {
    "duration": 18,
    "start_time": "2021-12-13T18:06:04.632Z"
   },
   {
    "duration": 10,
    "start_time": "2021-12-13T18:06:04.844Z"
   },
   {
    "duration": 9,
    "start_time": "2021-12-13T18:06:05.307Z"
   },
   {
    "duration": 2,
    "start_time": "2021-12-13T18:06:06.193Z"
   },
   {
    "duration": 30,
    "start_time": "2021-12-13T18:06:07.832Z"
   },
   {
    "duration": 7,
    "start_time": "2021-12-13T18:06:08.280Z"
   },
   {
    "duration": 40,
    "start_time": "2021-12-13T18:06:10.681Z"
   },
   {
    "duration": 6,
    "start_time": "2021-12-13T18:06:11.268Z"
   },
   {
    "duration": 19,
    "start_time": "2021-12-13T18:07:19.551Z"
   },
   {
    "duration": 7,
    "start_time": "2021-12-13T18:07:20.026Z"
   },
   {
    "duration": 11,
    "start_time": "2021-12-13T18:07:34.900Z"
   },
   {
    "duration": 7,
    "start_time": "2021-12-13T18:07:36.140Z"
   },
   {
    "duration": 6,
    "start_time": "2021-12-13T18:07:38.100Z"
   },
   {
    "duration": 9,
    "start_time": "2021-12-13T18:07:38.878Z"
   },
   {
    "duration": 6,
    "start_time": "2021-12-13T18:07:39.101Z"
   },
   {
    "duration": 820,
    "start_time": "2021-12-13T18:07:52.156Z"
   },
   {
    "duration": 40,
    "start_time": "2021-12-13T18:07:52.978Z"
   },
   {
    "duration": 7,
    "start_time": "2021-12-13T18:07:53.021Z"
   },
   {
    "duration": 14,
    "start_time": "2021-12-13T18:07:53.030Z"
   },
   {
    "duration": 21,
    "start_time": "2021-12-13T18:07:53.046Z"
   },
   {
    "duration": 21,
    "start_time": "2021-12-13T18:07:53.069Z"
   },
   {
    "duration": 11,
    "start_time": "2021-12-13T18:07:53.092Z"
   },
   {
    "duration": 7,
    "start_time": "2021-12-13T18:07:53.106Z"
   },
   {
    "duration": 3,
    "start_time": "2021-12-13T18:07:53.115Z"
   },
   {
    "duration": 23,
    "start_time": "2021-12-13T18:07:53.119Z"
   },
   {
    "duration": 5,
    "start_time": "2021-12-13T18:07:53.144Z"
   },
   {
    "duration": 37,
    "start_time": "2021-12-13T18:07:53.151Z"
   },
   {
    "duration": 6,
    "start_time": "2021-12-13T18:07:53.189Z"
   },
   {
    "duration": 16,
    "start_time": "2021-12-13T18:07:53.196Z"
   },
   {
    "duration": 6,
    "start_time": "2021-12-13T18:07:53.214Z"
   },
   {
    "duration": 32,
    "start_time": "2021-12-13T18:07:53.221Z"
   },
   {
    "duration": 33,
    "start_time": "2021-12-13T18:07:53.255Z"
   },
   {
    "duration": 8,
    "start_time": "2021-12-13T18:07:53.289Z"
   },
   {
    "duration": 6,
    "start_time": "2021-12-13T18:07:53.299Z"
   },
   {
    "duration": 12,
    "start_time": "2021-12-13T18:07:53.308Z"
   },
   {
    "duration": 16,
    "start_time": "2021-12-13T18:07:53.321Z"
   },
   {
    "duration": 7,
    "start_time": "2021-12-13T18:07:53.339Z"
   },
   {
    "duration": 40,
    "start_time": "2021-12-13T18:07:53.350Z"
   },
   {
    "duration": 6,
    "start_time": "2021-12-13T18:07:53.393Z"
   },
   {
    "duration": 4,
    "start_time": "2021-12-13T18:07:53.409Z"
   },
   {
    "duration": 4,
    "start_time": "2021-12-13T18:07:53.415Z"
   },
   {
    "duration": 18,
    "start_time": "2021-12-13T18:07:53.420Z"
   },
   {
    "duration": 563,
    "start_time": "2021-12-13T18:07:53.440Z"
   },
   {
    "duration": 7,
    "start_time": "2021-12-13T18:07:54.005Z"
   },
   {
    "duration": 4,
    "start_time": "2021-12-13T18:07:54.014Z"
   },
   {
    "duration": 193,
    "start_time": "2021-12-13T18:07:54.020Z"
   },
   {
    "duration": 7,
    "start_time": "2021-12-13T18:07:54.214Z"
   },
   {
    "duration": 21,
    "start_time": "2021-12-13T18:07:54.223Z"
   },
   {
    "duration": 402,
    "start_time": "2021-12-13T18:07:54.245Z"
   },
   {
    "duration": 24,
    "start_time": "2021-12-13T18:07:54.648Z"
   },
   {
    "duration": 17,
    "start_time": "2021-12-13T18:07:54.673Z"
   },
   {
    "duration": 9,
    "start_time": "2021-12-13T18:07:54.691Z"
   },
   {
    "duration": 7,
    "start_time": "2021-12-13T18:07:54.701Z"
   },
   {
    "duration": 160,
    "start_time": "2021-12-13T18:07:54.709Z"
   },
   {
    "duration": 295,
    "start_time": "2021-12-13T18:07:54.870Z"
   },
   {
    "duration": 6,
    "start_time": "2021-12-13T18:07:55.167Z"
   },
   {
    "duration": 35,
    "start_time": "2021-12-13T18:07:55.174Z"
   },
   {
    "duration": 4,
    "start_time": "2021-12-13T18:07:55.211Z"
   },
   {
    "duration": 231,
    "start_time": "2021-12-13T18:07:55.217Z"
   },
   {
    "duration": 159,
    "start_time": "2021-12-13T18:07:55.450Z"
   },
   {
    "duration": 24,
    "start_time": "2021-12-13T18:07:55.612Z"
   },
   {
    "duration": 17,
    "start_time": "2021-12-13T18:07:55.638Z"
   },
   {
    "duration": 34,
    "start_time": "2021-12-13T18:08:49.415Z"
   },
   {
    "duration": 5,
    "start_time": "2021-12-13T18:08:50.027Z"
   },
   {
    "duration": 794,
    "start_time": "2021-12-13T18:08:55.126Z"
   },
   {
    "duration": 41,
    "start_time": "2021-12-13T18:08:55.922Z"
   },
   {
    "duration": 10,
    "start_time": "2021-12-13T18:08:55.965Z"
   },
   {
    "duration": 28,
    "start_time": "2021-12-13T18:08:55.977Z"
   },
   {
    "duration": 34,
    "start_time": "2021-12-13T18:08:56.007Z"
   },
   {
    "duration": 17,
    "start_time": "2021-12-13T18:08:56.043Z"
   },
   {
    "duration": 32,
    "start_time": "2021-12-13T18:08:56.062Z"
   },
   {
    "duration": 11,
    "start_time": "2021-12-13T18:08:56.097Z"
   },
   {
    "duration": 3,
    "start_time": "2021-12-13T18:08:56.111Z"
   },
   {
    "duration": 34,
    "start_time": "2021-12-13T18:08:56.116Z"
   },
   {
    "duration": 6,
    "start_time": "2021-12-13T18:08:56.152Z"
   },
   {
    "duration": 33,
    "start_time": "2021-12-13T18:08:56.160Z"
   },
   {
    "duration": 6,
    "start_time": "2021-12-13T18:08:56.195Z"
   },
   {
    "duration": 17,
    "start_time": "2021-12-13T18:08:56.202Z"
   },
   {
    "duration": 10,
    "start_time": "2021-12-13T18:08:56.221Z"
   },
   {
    "duration": 32,
    "start_time": "2021-12-13T18:08:56.232Z"
   },
   {
    "duration": 27,
    "start_time": "2021-12-13T18:08:56.265Z"
   },
   {
    "duration": 10,
    "start_time": "2021-12-13T18:08:56.294Z"
   },
   {
    "duration": 5,
    "start_time": "2021-12-13T18:08:56.305Z"
   },
   {
    "duration": 10,
    "start_time": "2021-12-13T18:08:56.312Z"
   },
   {
    "duration": 16,
    "start_time": "2021-12-13T18:08:56.324Z"
   },
   {
    "duration": 6,
    "start_time": "2021-12-13T18:08:56.342Z"
   },
   {
    "duration": 5,
    "start_time": "2021-12-13T18:08:56.388Z"
   },
   {
    "duration": 7,
    "start_time": "2021-12-13T18:08:56.395Z"
   },
   {
    "duration": 6,
    "start_time": "2021-12-13T18:08:56.403Z"
   },
   {
    "duration": 4,
    "start_time": "2021-12-13T18:08:56.411Z"
   },
   {
    "duration": 26,
    "start_time": "2021-12-13T18:08:56.416Z"
   },
   {
    "duration": 695,
    "start_time": "2021-12-13T18:08:56.444Z"
   },
   {
    "duration": 7,
    "start_time": "2021-12-13T18:08:57.141Z"
   },
   {
    "duration": 10,
    "start_time": "2021-12-13T18:08:57.149Z"
   },
   {
    "duration": 238,
    "start_time": "2021-12-13T18:08:57.161Z"
   },
   {
    "duration": 7,
    "start_time": "2021-12-13T18:08:57.401Z"
   },
   {
    "duration": 19,
    "start_time": "2021-12-13T18:08:57.409Z"
   },
   {
    "duration": 408,
    "start_time": "2021-12-13T18:08:57.429Z"
   },
   {
    "duration": 24,
    "start_time": "2021-12-13T18:08:57.839Z"
   },
   {
    "duration": 5,
    "start_time": "2021-12-13T18:08:57.864Z"
   },
   {
    "duration": 7,
    "start_time": "2021-12-13T18:08:57.887Z"
   },
   {
    "duration": 8,
    "start_time": "2021-12-13T18:08:57.896Z"
   },
   {
    "duration": 162,
    "start_time": "2021-12-13T18:08:57.906Z"
   },
   {
    "duration": 308,
    "start_time": "2021-12-13T18:08:58.070Z"
   },
   {
    "duration": 10,
    "start_time": "2021-12-13T18:08:58.380Z"
   },
   {
    "duration": 34,
    "start_time": "2021-12-13T18:08:58.391Z"
   },
   {
    "duration": 5,
    "start_time": "2021-12-13T18:08:58.426Z"
   },
   {
    "duration": 243,
    "start_time": "2021-12-13T18:08:58.432Z"
   },
   {
    "duration": 161,
    "start_time": "2021-12-13T18:08:58.677Z"
   },
   {
    "duration": 20,
    "start_time": "2021-12-13T18:08:58.840Z"
   },
   {
    "duration": 31,
    "start_time": "2021-12-13T18:08:58.862Z"
   },
   {
    "duration": 594,
    "start_time": "2021-12-13T18:09:37.828Z"
   },
   {
    "duration": 39,
    "start_time": "2021-12-13T18:09:38.424Z"
   },
   {
    "duration": 7,
    "start_time": "2021-12-13T18:09:38.466Z"
   },
   {
    "duration": 15,
    "start_time": "2021-12-13T18:09:38.474Z"
   },
   {
    "duration": 20,
    "start_time": "2021-12-13T18:09:38.491Z"
   },
   {
    "duration": 12,
    "start_time": "2021-12-13T18:09:38.513Z"
   },
   {
    "duration": 10,
    "start_time": "2021-12-13T18:09:38.528Z"
   },
   {
    "duration": 7,
    "start_time": "2021-12-13T18:09:38.540Z"
   },
   {
    "duration": 2,
    "start_time": "2021-12-13T18:09:38.549Z"
   },
   {
    "duration": 50,
    "start_time": "2021-12-13T18:09:38.553Z"
   },
   {
    "duration": 4,
    "start_time": "2021-12-13T18:09:38.605Z"
   },
   {
    "duration": 8,
    "start_time": "2021-12-13T18:09:38.611Z"
   },
   {
    "duration": 5,
    "start_time": "2021-12-13T18:09:38.621Z"
   },
   {
    "duration": 17,
    "start_time": "2021-12-13T18:09:38.627Z"
   },
   {
    "duration": 8,
    "start_time": "2021-12-13T18:09:38.645Z"
   },
   {
    "duration": 55,
    "start_time": "2021-12-13T18:09:38.654Z"
   },
   {
    "duration": 5,
    "start_time": "2021-12-13T18:09:38.711Z"
   },
   {
    "duration": 6,
    "start_time": "2021-12-13T18:09:38.718Z"
   },
   {
    "duration": 5,
    "start_time": "2021-12-13T18:09:38.726Z"
   },
   {
    "duration": 10,
    "start_time": "2021-12-13T18:09:38.732Z"
   },
   {
    "duration": 44,
    "start_time": "2021-12-13T18:09:38.744Z"
   },
   {
    "duration": 6,
    "start_time": "2021-12-13T18:09:38.791Z"
   },
   {
    "duration": 5,
    "start_time": "2021-12-13T18:09:38.799Z"
   },
   {
    "duration": 6,
    "start_time": "2021-12-13T18:09:38.805Z"
   },
   {
    "duration": 5,
    "start_time": "2021-12-13T18:09:38.812Z"
   },
   {
    "duration": 3,
    "start_time": "2021-12-13T18:09:38.818Z"
   },
   {
    "duration": 20,
    "start_time": "2021-12-13T18:09:38.823Z"
   },
   {
    "duration": 596,
    "start_time": "2021-12-13T18:09:38.844Z"
   },
   {
    "duration": 7,
    "start_time": "2021-12-13T18:09:39.443Z"
   },
   {
    "duration": 5,
    "start_time": "2021-12-13T18:09:39.452Z"
   },
   {
    "duration": 192,
    "start_time": "2021-12-13T18:09:39.459Z"
   },
   {
    "duration": 8,
    "start_time": "2021-12-13T18:09:39.652Z"
   },
   {
    "duration": 33,
    "start_time": "2021-12-13T18:09:39.662Z"
   },
   {
    "duration": 400,
    "start_time": "2021-12-13T18:09:39.697Z"
   },
   {
    "duration": 24,
    "start_time": "2021-12-13T18:09:40.098Z"
   },
   {
    "duration": 4,
    "start_time": "2021-12-13T18:09:40.124Z"
   },
   {
    "duration": 10,
    "start_time": "2021-12-13T18:09:40.130Z"
   },
   {
    "duration": 4,
    "start_time": "2021-12-13T18:09:40.142Z"
   },
   {
    "duration": 175,
    "start_time": "2021-12-13T18:09:40.147Z"
   },
   {
    "duration": 289,
    "start_time": "2021-12-13T18:09:40.324Z"
   },
   {
    "duration": 5,
    "start_time": "2021-12-13T18:09:40.614Z"
   },
   {
    "duration": 24,
    "start_time": "2021-12-13T18:09:40.620Z"
   },
   {
    "duration": 4,
    "start_time": "2021-12-13T18:09:40.645Z"
   },
   {
    "duration": 237,
    "start_time": "2021-12-13T18:09:40.650Z"
   },
   {
    "duration": 150,
    "start_time": "2021-12-13T18:09:40.889Z"
   },
   {
    "duration": 20,
    "start_time": "2021-12-13T18:09:41.041Z"
   },
   {
    "duration": 28,
    "start_time": "2021-12-13T18:09:41.062Z"
   },
   {
    "duration": 691,
    "start_time": "2021-12-13T18:12:43.380Z"
   },
   {
    "duration": 40,
    "start_time": "2021-12-13T18:12:44.073Z"
   },
   {
    "duration": 7,
    "start_time": "2021-12-13T18:12:44.115Z"
   },
   {
    "duration": 13,
    "start_time": "2021-12-13T18:12:44.123Z"
   },
   {
    "duration": 19,
    "start_time": "2021-12-13T18:12:44.138Z"
   },
   {
    "duration": 10,
    "start_time": "2021-12-13T18:12:44.159Z"
   },
   {
    "duration": 17,
    "start_time": "2021-12-13T18:12:44.171Z"
   },
   {
    "duration": 7,
    "start_time": "2021-12-13T18:12:44.191Z"
   },
   {
    "duration": 3,
    "start_time": "2021-12-13T18:12:44.200Z"
   },
   {
    "duration": 23,
    "start_time": "2021-12-13T18:12:44.204Z"
   },
   {
    "duration": 4,
    "start_time": "2021-12-13T18:12:44.229Z"
   },
   {
    "duration": 9,
    "start_time": "2021-12-13T18:12:44.234Z"
   },
   {
    "duration": 4,
    "start_time": "2021-12-13T18:12:44.245Z"
   },
   {
    "duration": 47,
    "start_time": "2021-12-13T18:12:44.250Z"
   },
   {
    "duration": 6,
    "start_time": "2021-12-13T18:12:44.299Z"
   },
   {
    "duration": 30,
    "start_time": "2021-12-13T18:12:44.306Z"
   },
   {
    "duration": 5,
    "start_time": "2021-12-13T18:12:44.338Z"
   },
   {
    "duration": 7,
    "start_time": "2021-12-13T18:12:44.345Z"
   },
   {
    "duration": 37,
    "start_time": "2021-12-13T18:12:44.354Z"
   },
   {
    "duration": 12,
    "start_time": "2021-12-13T18:12:44.393Z"
   },
   {
    "duration": 27,
    "start_time": "2021-12-13T18:12:44.407Z"
   },
   {
    "duration": 6,
    "start_time": "2021-12-13T18:12:44.436Z"
   },
   {
    "duration": 4,
    "start_time": "2021-12-13T18:12:44.445Z"
   },
   {
    "duration": 5,
    "start_time": "2021-12-13T18:12:44.451Z"
   },
   {
    "duration": 6292,
    "start_time": "2021-12-13T18:12:44.457Z"
   },
   {
    "duration": -2753,
    "start_time": "2021-12-13T18:12:53.504Z"
   },
   {
    "duration": -2754,
    "start_time": "2021-12-13T18:12:53.507Z"
   },
   {
    "duration": -2758,
    "start_time": "2021-12-13T18:12:53.511Z"
   },
   {
    "duration": -2764,
    "start_time": "2021-12-13T18:12:53.519Z"
   },
   {
    "duration": -2767,
    "start_time": "2021-12-13T18:12:53.522Z"
   },
   {
    "duration": -2771,
    "start_time": "2021-12-13T18:12:53.527Z"
   },
   {
    "duration": -2778,
    "start_time": "2021-12-13T18:12:53.535Z"
   },
   {
    "duration": -2782,
    "start_time": "2021-12-13T18:12:53.540Z"
   },
   {
    "duration": -2782,
    "start_time": "2021-12-13T18:12:53.542Z"
   },
   {
    "duration": -2786,
    "start_time": "2021-12-13T18:12:53.547Z"
   },
   {
    "duration": -2794,
    "start_time": "2021-12-13T18:12:53.555Z"
   },
   {
    "duration": -2797,
    "start_time": "2021-12-13T18:12:53.559Z"
   },
   {
    "duration": -2798,
    "start_time": "2021-12-13T18:12:53.561Z"
   },
   {
    "duration": -2805,
    "start_time": "2021-12-13T18:12:53.570Z"
   },
   {
    "duration": -2807,
    "start_time": "2021-12-13T18:12:53.573Z"
   },
   {
    "duration": -2810,
    "start_time": "2021-12-13T18:12:53.576Z"
   },
   {
    "duration": -2812,
    "start_time": "2021-12-13T18:12:53.579Z"
   },
   {
    "duration": -2820,
    "start_time": "2021-12-13T18:12:53.588Z"
   },
   {
    "duration": -2822,
    "start_time": "2021-12-13T18:12:53.591Z"
   },
   {
    "duration": -2824,
    "start_time": "2021-12-13T18:12:53.594Z"
   },
   {
    "duration": -2827,
    "start_time": "2021-12-13T18:12:53.598Z"
   },
   {
    "duration": -2834,
    "start_time": "2021-12-13T18:12:53.606Z"
   },
   {
    "duration": -2836,
    "start_time": "2021-12-13T18:12:53.609Z"
   },
   {
    "duration": 670,
    "start_time": "2021-12-13T18:13:19.386Z"
   },
   {
    "duration": 38,
    "start_time": "2021-12-13T18:13:20.058Z"
   },
   {
    "duration": 7,
    "start_time": "2021-12-13T18:13:20.098Z"
   },
   {
    "duration": 15,
    "start_time": "2021-12-13T18:13:20.107Z"
   },
   {
    "duration": 22,
    "start_time": "2021-12-13T18:13:20.123Z"
   },
   {
    "duration": 10,
    "start_time": "2021-12-13T18:13:20.148Z"
   },
   {
    "duration": 10,
    "start_time": "2021-12-13T18:13:20.187Z"
   },
   {
    "duration": 7,
    "start_time": "2021-12-13T18:13:20.198Z"
   },
   {
    "duration": 2,
    "start_time": "2021-12-13T18:13:20.208Z"
   },
   {
    "duration": 27,
    "start_time": "2021-12-13T18:13:20.212Z"
   },
   {
    "duration": 5,
    "start_time": "2021-12-13T18:13:20.240Z"
   },
   {
    "duration": 10,
    "start_time": "2021-12-13T18:13:20.246Z"
   },
   {
    "duration": 4,
    "start_time": "2021-12-13T18:13:20.258Z"
   },
   {
    "duration": 36,
    "start_time": "2021-12-13T18:13:20.263Z"
   },
   {
    "duration": 6,
    "start_time": "2021-12-13T18:13:20.301Z"
   },
   {
    "duration": 38,
    "start_time": "2021-12-13T18:13:20.309Z"
   },
   {
    "duration": 5,
    "start_time": "2021-12-13T18:13:20.348Z"
   },
   {
    "duration": 7,
    "start_time": "2021-12-13T18:13:20.355Z"
   },
   {
    "duration": 26,
    "start_time": "2021-12-13T18:13:20.363Z"
   },
   {
    "duration": 11,
    "start_time": "2021-12-13T18:13:20.390Z"
   },
   {
    "duration": 18,
    "start_time": "2021-12-13T18:13:20.403Z"
   },
   {
    "duration": 5,
    "start_time": "2021-12-13T18:13:20.423Z"
   },
   {
    "duration": 8,
    "start_time": "2021-12-13T18:13:20.430Z"
   },
   {
    "duration": 7,
    "start_time": "2021-12-13T18:13:20.440Z"
   },
   {
    "duration": 1241,
    "start_time": "2021-12-13T18:13:20.449Z"
   },
   {
    "duration": -2738,
    "start_time": "2021-12-13T18:13:24.431Z"
   },
   {
    "duration": -2741,
    "start_time": "2021-12-13T18:13:24.435Z"
   },
   {
    "duration": -2742,
    "start_time": "2021-12-13T18:13:24.438Z"
   },
   {
    "duration": -2748,
    "start_time": "2021-12-13T18:13:24.445Z"
   },
   {
    "duration": -2750,
    "start_time": "2021-12-13T18:13:24.448Z"
   },
   {
    "duration": -2752,
    "start_time": "2021-12-13T18:13:24.451Z"
   },
   {
    "duration": -2753,
    "start_time": "2021-12-13T18:13:24.453Z"
   },
   {
    "duration": -2755,
    "start_time": "2021-12-13T18:13:24.456Z"
   },
   {
    "duration": -2756,
    "start_time": "2021-12-13T18:13:24.458Z"
   },
   {
    "duration": -2757,
    "start_time": "2021-12-13T18:13:24.460Z"
   },
   {
    "duration": -2759,
    "start_time": "2021-12-13T18:13:24.463Z"
   },
   {
    "duration": -2761,
    "start_time": "2021-12-13T18:13:24.466Z"
   },
   {
    "duration": -2762,
    "start_time": "2021-12-13T18:13:24.468Z"
   },
   {
    "duration": -2763,
    "start_time": "2021-12-13T18:13:24.470Z"
   },
   {
    "duration": -2765,
    "start_time": "2021-12-13T18:13:24.473Z"
   },
   {
    "duration": -2771,
    "start_time": "2021-12-13T18:13:24.481Z"
   },
   {
    "duration": -2773,
    "start_time": "2021-12-13T18:13:24.484Z"
   },
   {
    "duration": -2774,
    "start_time": "2021-12-13T18:13:24.486Z"
   },
   {
    "duration": -2774,
    "start_time": "2021-12-13T18:13:24.489Z"
   },
   {
    "duration": -2774,
    "start_time": "2021-12-13T18:13:24.491Z"
   },
   {
    "duration": -2775,
    "start_time": "2021-12-13T18:13:24.493Z"
   },
   {
    "duration": -2776,
    "start_time": "2021-12-13T18:13:24.495Z"
   },
   {
    "duration": -2778,
    "start_time": "2021-12-13T18:13:24.498Z"
   },
   {
    "duration": 642,
    "start_time": "2021-12-13T18:14:55.521Z"
   },
   {
    "duration": 39,
    "start_time": "2021-12-13T18:14:56.165Z"
   },
   {
    "duration": 7,
    "start_time": "2021-12-13T18:14:56.206Z"
   },
   {
    "duration": 13,
    "start_time": "2021-12-13T18:14:56.215Z"
   },
   {
    "duration": 20,
    "start_time": "2021-12-13T18:14:56.230Z"
   },
   {
    "duration": 11,
    "start_time": "2021-12-13T18:14:56.251Z"
   },
   {
    "duration": 26,
    "start_time": "2021-12-13T18:14:56.264Z"
   },
   {
    "duration": 7,
    "start_time": "2021-12-13T18:14:56.292Z"
   },
   {
    "duration": 2,
    "start_time": "2021-12-13T18:14:56.302Z"
   },
   {
    "duration": 21,
    "start_time": "2021-12-13T18:14:56.307Z"
   },
   {
    "duration": 6,
    "start_time": "2021-12-13T18:14:56.330Z"
   },
   {
    "duration": 10,
    "start_time": "2021-12-13T18:14:56.338Z"
   },
   {
    "duration": 6,
    "start_time": "2021-12-13T18:14:56.349Z"
   },
   {
    "duration": 15,
    "start_time": "2021-12-13T18:14:56.388Z"
   },
   {
    "duration": 6,
    "start_time": "2021-12-13T18:14:56.404Z"
   },
   {
    "duration": 31,
    "start_time": "2021-12-13T18:14:56.411Z"
   },
   {
    "duration": 6,
    "start_time": "2021-12-13T18:14:56.444Z"
   },
   {
    "duration": 36,
    "start_time": "2021-12-13T18:14:56.452Z"
   },
   {
    "duration": 4,
    "start_time": "2021-12-13T18:14:56.490Z"
   },
   {
    "duration": 14,
    "start_time": "2021-12-13T18:14:56.496Z"
   },
   {
    "duration": 15,
    "start_time": "2021-12-13T18:14:56.512Z"
   },
   {
    "duration": 7,
    "start_time": "2021-12-13T18:14:56.529Z"
   },
   {
    "duration": 5,
    "start_time": "2021-12-13T18:14:56.538Z"
   },
   {
    "duration": 7,
    "start_time": "2021-12-13T18:14:56.545Z"
   },
   {
    "duration": 32,
    "start_time": "2021-12-13T18:14:56.588Z"
   },
   {
    "duration": 97,
    "start_time": "2021-12-13T18:14:56.622Z"
   },
   {
    "duration": 63,
    "start_time": "2021-12-13T18:14:56.723Z"
   },
   {
    "duration": 35,
    "start_time": "2021-12-13T18:14:56.789Z"
   },
   {
    "duration": 663,
    "start_time": "2021-12-13T18:14:56.826Z"
   },
   {
    "duration": 6,
    "start_time": "2021-12-13T18:14:57.491Z"
   },
   {
    "duration": 6,
    "start_time": "2021-12-13T18:14:57.499Z"
   },
   {
    "duration": 192,
    "start_time": "2021-12-13T18:14:57.507Z"
   },
   {
    "duration": 7,
    "start_time": "2021-12-13T18:14:57.701Z"
   },
   {
    "duration": 24,
    "start_time": "2021-12-13T18:14:57.710Z"
   },
   {
    "duration": 437,
    "start_time": "2021-12-13T18:14:57.736Z"
   },
   {
    "duration": 33,
    "start_time": "2021-12-13T18:14:58.175Z"
   },
   {
    "duration": 50,
    "start_time": "2021-12-13T18:14:58.210Z"
   },
   {
    "duration": 10,
    "start_time": "2021-12-13T18:14:58.262Z"
   },
   {
    "duration": 8,
    "start_time": "2021-12-13T18:14:58.274Z"
   },
   {
    "duration": 163,
    "start_time": "2021-12-13T18:14:58.284Z"
   },
   {
    "duration": 331,
    "start_time": "2021-12-13T18:14:58.449Z"
   },
   {
    "duration": 9,
    "start_time": "2021-12-13T18:14:58.782Z"
   },
   {
    "duration": 24,
    "start_time": "2021-12-13T18:14:58.792Z"
   },
   {
    "duration": 5,
    "start_time": "2021-12-13T18:14:58.818Z"
   },
   {
    "duration": 246,
    "start_time": "2021-12-13T18:14:58.825Z"
   },
   {
    "duration": 167,
    "start_time": "2021-12-13T18:14:59.073Z"
   },
   {
    "duration": 21,
    "start_time": "2021-12-13T18:14:59.242Z"
   },
   {
    "duration": 27,
    "start_time": "2021-12-13T18:14:59.265Z"
   },
   {
    "duration": 36,
    "start_time": "2021-12-13T18:17:21.731Z"
   },
   {
    "duration": 43,
    "start_time": "2021-12-13T18:17:43.689Z"
   },
   {
    "duration": 23,
    "start_time": "2021-12-13T18:18:15.566Z"
   },
   {
    "duration": 1251,
    "start_time": "2021-12-13T18:18:41.319Z"
   },
   {
    "duration": 12,
    "start_time": "2021-12-13T18:19:18.360Z"
   },
   {
    "duration": 1308,
    "start_time": "2021-12-13T18:20:08.478Z"
   },
   {
    "duration": 1143,
    "start_time": "2021-12-13T18:20:17.439Z"
   },
   {
    "duration": 1232,
    "start_time": "2021-12-13T18:20:24.974Z"
   },
   {
    "duration": 1181,
    "start_time": "2021-12-13T18:23:42.422Z"
   },
   {
    "duration": 1135,
    "start_time": "2021-12-13T18:24:41.141Z"
   },
   {
    "duration": 631,
    "start_time": "2021-12-13T18:24:53.353Z"
   },
   {
    "duration": 39,
    "start_time": "2021-12-13T18:24:53.986Z"
   },
   {
    "duration": 7,
    "start_time": "2021-12-13T18:24:54.029Z"
   },
   {
    "duration": 14,
    "start_time": "2021-12-13T18:24:54.039Z"
   },
   {
    "duration": 21,
    "start_time": "2021-12-13T18:24:54.055Z"
   },
   {
    "duration": 15,
    "start_time": "2021-12-13T18:24:54.078Z"
   },
   {
    "duration": 14,
    "start_time": "2021-12-13T18:24:54.096Z"
   },
   {
    "duration": 8,
    "start_time": "2021-12-13T18:24:54.112Z"
   },
   {
    "duration": 3,
    "start_time": "2021-12-13T18:24:54.122Z"
   },
   {
    "duration": 20,
    "start_time": "2021-12-13T18:24:54.127Z"
   },
   {
    "duration": 5,
    "start_time": "2021-12-13T18:24:54.148Z"
   },
   {
    "duration": 45,
    "start_time": "2021-12-13T18:24:54.155Z"
   },
   {
    "duration": 6,
    "start_time": "2021-12-13T18:24:54.202Z"
   },
   {
    "duration": 24,
    "start_time": "2021-12-13T18:24:54.209Z"
   },
   {
    "duration": 5,
    "start_time": "2021-12-13T18:24:54.235Z"
   },
   {
    "duration": 65,
    "start_time": "2021-12-13T18:24:54.242Z"
   },
   {
    "duration": 7,
    "start_time": "2021-12-13T18:24:54.309Z"
   },
   {
    "duration": 9,
    "start_time": "2021-12-13T18:24:54.317Z"
   },
   {
    "duration": 6,
    "start_time": "2021-12-13T18:24:54.328Z"
   },
   {
    "duration": 16,
    "start_time": "2021-12-13T18:24:54.336Z"
   },
   {
    "duration": 49,
    "start_time": "2021-12-13T18:24:54.354Z"
   },
   {
    "duration": 6,
    "start_time": "2021-12-13T18:24:54.407Z"
   },
   {
    "duration": 4,
    "start_time": "2021-12-13T18:24:54.416Z"
   },
   {
    "duration": 6,
    "start_time": "2021-12-13T18:24:54.421Z"
   },
   {
    "duration": 1249,
    "start_time": "2021-12-13T18:24:54.430Z"
   },
   {
    "duration": -2760,
    "start_time": "2021-12-13T18:24:58.441Z"
   },
   {
    "duration": -2762,
    "start_time": "2021-12-13T18:24:58.444Z"
   },
   {
    "duration": -2763,
    "start_time": "2021-12-13T18:24:58.446Z"
   },
   {
    "duration": -2765,
    "start_time": "2021-12-13T18:24:58.449Z"
   },
   {
    "duration": -2767,
    "start_time": "2021-12-13T18:24:58.452Z"
   },
   {
    "duration": -2768,
    "start_time": "2021-12-13T18:24:58.454Z"
   },
   {
    "duration": -2771,
    "start_time": "2021-12-13T18:24:58.457Z"
   },
   {
    "duration": -2772,
    "start_time": "2021-12-13T18:24:58.459Z"
   },
   {
    "duration": -2774,
    "start_time": "2021-12-13T18:24:58.462Z"
   },
   {
    "duration": -2775,
    "start_time": "2021-12-13T18:24:58.464Z"
   },
   {
    "duration": -2776,
    "start_time": "2021-12-13T18:24:58.466Z"
   },
   {
    "duration": -2778,
    "start_time": "2021-12-13T18:24:58.469Z"
   },
   {
    "duration": -2779,
    "start_time": "2021-12-13T18:24:58.471Z"
   },
   {
    "duration": -2781,
    "start_time": "2021-12-13T18:24:58.474Z"
   },
   {
    "duration": -2782,
    "start_time": "2021-12-13T18:24:58.476Z"
   },
   {
    "duration": -2783,
    "start_time": "2021-12-13T18:24:58.478Z"
   },
   {
    "duration": -2785,
    "start_time": "2021-12-13T18:24:58.481Z"
   },
   {
    "duration": -2793,
    "start_time": "2021-12-13T18:24:58.489Z"
   },
   {
    "duration": -2795,
    "start_time": "2021-12-13T18:24:58.492Z"
   },
   {
    "duration": -2796,
    "start_time": "2021-12-13T18:24:58.494Z"
   },
   {
    "duration": -2798,
    "start_time": "2021-12-13T18:24:58.497Z"
   },
   {
    "duration": -2799,
    "start_time": "2021-12-13T18:24:58.499Z"
   },
   {
    "duration": -2801,
    "start_time": "2021-12-13T18:24:58.502Z"
   },
   {
    "duration": 7053,
    "start_time": "2021-12-13T18:26:01.364Z"
   },
   {
    "duration": 1121,
    "start_time": "2021-12-13T18:28:51.827Z"
   },
   {
    "duration": 84,
    "start_time": "2021-12-13T18:29:05.608Z"
   },
   {
    "duration": 1199,
    "start_time": "2021-12-13T18:29:11.044Z"
   },
   {
    "duration": 18,
    "start_time": "2021-12-13T18:29:55.687Z"
   },
   {
    "duration": 1152,
    "start_time": "2021-12-13T18:30:59.394Z"
   },
   {
    "duration": 1098,
    "start_time": "2021-12-13T18:31:12.058Z"
   },
   {
    "duration": 666,
    "start_time": "2021-12-13T18:32:23.667Z"
   },
   {
    "duration": 41,
    "start_time": "2021-12-13T18:32:24.335Z"
   },
   {
    "duration": 10,
    "start_time": "2021-12-13T18:32:24.378Z"
   },
   {
    "duration": 16,
    "start_time": "2021-12-13T18:32:24.390Z"
   },
   {
    "duration": 28,
    "start_time": "2021-12-13T18:32:24.408Z"
   },
   {
    "duration": 17,
    "start_time": "2021-12-13T18:32:24.438Z"
   },
   {
    "duration": 39,
    "start_time": "2021-12-13T18:32:24.457Z"
   },
   {
    "duration": 11,
    "start_time": "2021-12-13T18:32:24.499Z"
   },
   {
    "duration": 3,
    "start_time": "2021-12-13T18:32:24.513Z"
   },
   {
    "duration": 32,
    "start_time": "2021-12-13T18:32:24.517Z"
   },
   {
    "duration": 5,
    "start_time": "2021-12-13T18:32:24.550Z"
   },
   {
    "duration": 36,
    "start_time": "2021-12-13T18:32:24.557Z"
   },
   {
    "duration": 6,
    "start_time": "2021-12-13T18:32:24.595Z"
   },
   {
    "duration": 17,
    "start_time": "2021-12-13T18:32:24.603Z"
   },
   {
    "duration": 10,
    "start_time": "2021-12-13T18:32:24.622Z"
   },
   {
    "duration": 54,
    "start_time": "2021-12-13T18:32:24.634Z"
   },
   {
    "duration": 7,
    "start_time": "2021-12-13T18:32:24.690Z"
   },
   {
    "duration": 7,
    "start_time": "2021-12-13T18:32:24.698Z"
   },
   {
    "duration": 7,
    "start_time": "2021-12-13T18:32:24.707Z"
   },
   {
    "duration": 13,
    "start_time": "2021-12-13T18:32:24.716Z"
   },
   {
    "duration": 21,
    "start_time": "2021-12-13T18:32:24.731Z"
   },
   {
    "duration": 37,
    "start_time": "2021-12-13T18:32:24.754Z"
   },
   {
    "duration": 4,
    "start_time": "2021-12-13T18:32:24.794Z"
   },
   {
    "duration": 6,
    "start_time": "2021-12-13T18:32:24.800Z"
   },
   {
    "duration": 15,
    "start_time": "2021-12-13T18:32:24.807Z"
   },
   {
    "duration": 9,
    "start_time": "2021-12-13T18:32:24.824Z"
   },
   {
    "duration": 19,
    "start_time": "2021-12-13T18:32:24.835Z"
   },
   {
    "duration": 32,
    "start_time": "2021-12-13T18:32:24.856Z"
   },
   {
    "duration": 28,
    "start_time": "2021-12-13T18:32:24.890Z"
   },
   {
    "duration": 711,
    "start_time": "2021-12-13T18:32:24.920Z"
   },
   {
    "duration": 7,
    "start_time": "2021-12-13T18:32:25.633Z"
   },
   {
    "duration": 9,
    "start_time": "2021-12-13T18:32:25.641Z"
   },
   {
    "duration": 184,
    "start_time": "2021-12-13T18:32:25.651Z"
   },
   {
    "duration": 7,
    "start_time": "2021-12-13T18:32:25.837Z"
   },
   {
    "duration": 21,
    "start_time": "2021-12-13T18:32:25.846Z"
   },
   {
    "duration": 400,
    "start_time": "2021-12-13T18:32:25.868Z"
   },
   {
    "duration": 42,
    "start_time": "2021-12-13T18:32:26.270Z"
   },
   {
    "duration": 5,
    "start_time": "2021-12-13T18:32:26.313Z"
   },
   {
    "duration": 10,
    "start_time": "2021-12-13T18:32:26.320Z"
   },
   {
    "duration": 6,
    "start_time": "2021-12-13T18:32:26.331Z"
   },
   {
    "duration": 164,
    "start_time": "2021-12-13T18:32:26.338Z"
   },
   {
    "duration": 325,
    "start_time": "2021-12-13T18:32:26.504Z"
   },
   {
    "duration": 5,
    "start_time": "2021-12-13T18:32:26.830Z"
   },
   {
    "duration": 24,
    "start_time": "2021-12-13T18:32:26.837Z"
   },
   {
    "duration": 27,
    "start_time": "2021-12-13T18:32:26.862Z"
   },
   {
    "duration": 229,
    "start_time": "2021-12-13T18:32:26.891Z"
   },
   {
    "duration": 154,
    "start_time": "2021-12-13T18:32:27.122Z"
   },
   {
    "duration": 24,
    "start_time": "2021-12-13T18:32:27.277Z"
   },
   {
    "duration": 13,
    "start_time": "2021-12-13T18:32:27.303Z"
   },
   {
    "duration": 1197,
    "start_time": "2021-12-13T18:33:47.508Z"
   },
   {
    "duration": -2766,
    "start_time": "2021-12-13T18:33:51.474Z"
   },
   {
    "duration": 1357,
    "start_time": "2021-12-13T18:34:22.150Z"
   },
   {
    "duration": 1124,
    "start_time": "2021-12-13T18:34:28.945Z"
   },
   {
    "duration": 10,
    "start_time": "2021-12-13T18:34:45.789Z"
   },
   {
    "duration": 14,
    "start_time": "2021-12-13T18:36:21.487Z"
   },
   {
    "duration": 22,
    "start_time": "2021-12-13T18:36:27.771Z"
   },
   {
    "duration": 30,
    "start_time": "2021-12-13T18:36:38.631Z"
   },
   {
    "duration": 756,
    "start_time": "2021-12-13T18:37:26.620Z"
   },
   {
    "duration": 39,
    "start_time": "2021-12-13T18:37:27.378Z"
   },
   {
    "duration": 6,
    "start_time": "2021-12-13T18:37:27.419Z"
   },
   {
    "duration": 14,
    "start_time": "2021-12-13T18:37:27.427Z"
   },
   {
    "duration": 20,
    "start_time": "2021-12-13T18:37:27.443Z"
   },
   {
    "duration": 11,
    "start_time": "2021-12-13T18:37:27.464Z"
   },
   {
    "duration": 13,
    "start_time": "2021-12-13T18:37:27.477Z"
   },
   {
    "duration": 7,
    "start_time": "2021-12-13T18:37:27.492Z"
   },
   {
    "duration": 2,
    "start_time": "2021-12-13T18:37:27.501Z"
   },
   {
    "duration": 23,
    "start_time": "2021-12-13T18:37:27.505Z"
   },
   {
    "duration": 4,
    "start_time": "2021-12-13T18:37:27.530Z"
   },
   {
    "duration": 12,
    "start_time": "2021-12-13T18:37:27.535Z"
   },
   {
    "duration": 6,
    "start_time": "2021-12-13T18:37:27.549Z"
   },
   {
    "duration": 46,
    "start_time": "2021-12-13T18:37:27.557Z"
   },
   {
    "duration": 6,
    "start_time": "2021-12-13T18:37:27.605Z"
   },
   {
    "duration": 32,
    "start_time": "2021-12-13T18:37:27.612Z"
   },
   {
    "duration": 6,
    "start_time": "2021-12-13T18:37:27.645Z"
   },
   {
    "duration": 37,
    "start_time": "2021-12-13T18:37:27.653Z"
   },
   {
    "duration": 6,
    "start_time": "2021-12-13T18:37:27.691Z"
   },
   {
    "duration": 13,
    "start_time": "2021-12-13T18:37:27.699Z"
   },
   {
    "duration": 16,
    "start_time": "2021-12-13T18:37:27.714Z"
   },
   {
    "duration": 7,
    "start_time": "2021-12-13T18:37:27.732Z"
   },
   {
    "duration": 4,
    "start_time": "2021-12-13T18:37:27.741Z"
   },
   {
    "duration": 6,
    "start_time": "2021-12-13T18:37:27.747Z"
   },
   {
    "duration": 44,
    "start_time": "2021-12-13T18:37:27.754Z"
   },
   {
    "duration": 12,
    "start_time": "2021-12-13T18:37:27.800Z"
   },
   {
    "duration": 13,
    "start_time": "2021-12-13T18:37:27.815Z"
   },
   {
    "duration": 59,
    "start_time": "2021-12-13T18:37:27.830Z"
   },
   {
    "duration": 4,
    "start_time": "2021-12-13T18:37:27.891Z"
   },
   {
    "duration": 23,
    "start_time": "2021-12-13T18:37:27.897Z"
   },
   {
    "duration": 551,
    "start_time": "2021-12-13T18:37:27.922Z"
   },
   {
    "duration": 7,
    "start_time": "2021-12-13T18:37:28.474Z"
   },
   {
    "duration": 4,
    "start_time": "2021-12-13T18:37:28.488Z"
   },
   {
    "duration": 180,
    "start_time": "2021-12-13T18:37:28.494Z"
   },
   {
    "duration": 13,
    "start_time": "2021-12-13T18:37:28.675Z"
   },
   {
    "duration": 17,
    "start_time": "2021-12-13T18:37:28.689Z"
   },
   {
    "duration": 399,
    "start_time": "2021-12-13T18:37:28.708Z"
   },
   {
    "duration": 22,
    "start_time": "2021-12-13T18:37:29.108Z"
   },
   {
    "duration": 3,
    "start_time": "2021-12-13T18:37:29.132Z"
   },
   {
    "duration": 8,
    "start_time": "2021-12-13T18:37:29.137Z"
   },
   {
    "duration": 6,
    "start_time": "2021-12-13T18:37:29.146Z"
   },
   {
    "duration": 172,
    "start_time": "2021-12-13T18:37:29.153Z"
   },
   {
    "duration": 284,
    "start_time": "2021-12-13T18:37:29.327Z"
   },
   {
    "duration": 5,
    "start_time": "2021-12-13T18:37:29.612Z"
   },
   {
    "duration": 23,
    "start_time": "2021-12-13T18:37:29.619Z"
   },
   {
    "duration": 4,
    "start_time": "2021-12-13T18:37:29.644Z"
   },
   {
    "duration": 239,
    "start_time": "2021-12-13T18:37:29.650Z"
   },
   {
    "duration": 161,
    "start_time": "2021-12-13T18:37:29.891Z"
   },
   {
    "duration": 21,
    "start_time": "2021-12-13T18:37:30.053Z"
   },
   {
    "duration": 23,
    "start_time": "2021-12-13T18:37:30.075Z"
   },
   {
    "duration": 898,
    "start_time": "2021-12-14T17:59:02.200Z"
   },
   {
    "duration": 41,
    "start_time": "2021-12-14T17:59:03.101Z"
   },
   {
    "duration": 13,
    "start_time": "2021-12-14T17:59:03.146Z"
   },
   {
    "duration": 21,
    "start_time": "2021-12-14T17:59:03.162Z"
   },
   {
    "duration": 52,
    "start_time": "2021-12-14T17:59:03.185Z"
   },
   {
    "duration": 16,
    "start_time": "2021-12-14T17:59:03.239Z"
   },
   {
    "duration": 14,
    "start_time": "2021-12-14T17:59:03.258Z"
   },
   {
    "duration": 44,
    "start_time": "2021-12-14T17:59:03.276Z"
   },
   {
    "duration": 5,
    "start_time": "2021-12-14T17:59:03.324Z"
   },
   {
    "duration": 32,
    "start_time": "2021-12-14T17:59:03.331Z"
   },
   {
    "duration": 9,
    "start_time": "2021-12-14T17:59:03.366Z"
   },
   {
    "duration": 46,
    "start_time": "2021-12-14T17:59:03.378Z"
   },
   {
    "duration": 7,
    "start_time": "2021-12-14T17:59:03.427Z"
   },
   {
    "duration": 26,
    "start_time": "2021-12-14T17:59:03.437Z"
   },
   {
    "duration": 9,
    "start_time": "2021-12-14T17:59:03.466Z"
   },
   {
    "duration": 83,
    "start_time": "2021-12-14T17:59:03.478Z"
   },
   {
    "duration": 7,
    "start_time": "2021-12-14T17:59:03.563Z"
   },
   {
    "duration": 12,
    "start_time": "2021-12-14T17:59:03.573Z"
   },
   {
    "duration": 32,
    "start_time": "2021-12-14T17:59:03.587Z"
   },
   {
    "duration": 26,
    "start_time": "2021-12-14T17:59:03.622Z"
   },
   {
    "duration": 39,
    "start_time": "2021-12-14T17:59:03.651Z"
   },
   {
    "duration": 28,
    "start_time": "2021-12-14T17:59:03.694Z"
   },
   {
    "duration": 18,
    "start_time": "2021-12-14T17:59:03.729Z"
   },
   {
    "duration": 14,
    "start_time": "2021-12-14T17:59:03.750Z"
   },
   {
    "duration": 38,
    "start_time": "2021-12-14T17:59:03.766Z"
   },
   {
    "duration": 17,
    "start_time": "2021-12-14T17:59:03.807Z"
   },
   {
    "duration": 20,
    "start_time": "2021-12-14T17:59:03.826Z"
   },
   {
    "duration": 77,
    "start_time": "2021-12-14T17:59:03.848Z"
   },
   {
    "duration": 4,
    "start_time": "2021-12-14T17:59:03.928Z"
   },
   {
    "duration": 36,
    "start_time": "2021-12-14T17:59:03.934Z"
   },
   {
    "duration": 726,
    "start_time": "2021-12-14T17:59:03.972Z"
   },
   {
    "duration": 17,
    "start_time": "2021-12-14T17:59:04.701Z"
   },
   {
    "duration": 33,
    "start_time": "2021-12-14T17:59:04.720Z"
   },
   {
    "duration": 307,
    "start_time": "2021-12-14T17:59:04.755Z"
   },
   {
    "duration": 10,
    "start_time": "2021-12-14T17:59:05.064Z"
   },
   {
    "duration": 44,
    "start_time": "2021-12-14T17:59:05.077Z"
   },
   {
    "duration": 679,
    "start_time": "2021-12-14T17:59:05.124Z"
   },
   {
    "duration": 44,
    "start_time": "2021-12-14T17:59:05.806Z"
   },
   {
    "duration": 6,
    "start_time": "2021-12-14T17:59:05.852Z"
   },
   {
    "duration": 19,
    "start_time": "2021-12-14T17:59:05.860Z"
   },
   {
    "duration": 24,
    "start_time": "2021-12-14T17:59:05.882Z"
   },
   {
    "duration": 251,
    "start_time": "2021-12-14T17:59:05.917Z"
   },
   {
    "duration": 508,
    "start_time": "2021-12-14T17:59:06.170Z"
   },
   {
    "duration": 6,
    "start_time": "2021-12-14T17:59:06.680Z"
   },
   {
    "duration": 56,
    "start_time": "2021-12-14T17:59:06.688Z"
   },
   {
    "duration": 6,
    "start_time": "2021-12-14T17:59:06.746Z"
   },
   {
    "duration": 381,
    "start_time": "2021-12-14T17:59:06.754Z"
   },
   {
    "duration": 258,
    "start_time": "2021-12-14T17:59:07.138Z"
   },
   {
    "duration": 40,
    "start_time": "2021-12-14T17:59:07.399Z"
   },
   {
    "duration": 17,
    "start_time": "2021-12-14T17:59:07.443Z"
   },
   {
    "duration": 6,
    "start_time": "2021-12-14T17:59:18.993Z"
   },
   {
    "duration": 301,
    "start_time": "2021-12-14T18:02:59.315Z"
   }
  ],
  "colab": {
   "name": "DA+. Сборный проект 1. Шаблон (1).ipynb",
   "provenance": []
  },
  "kernelspec": {
   "display_name": "Python 3 (ipykernel)",
   "language": "python",
   "name": "python3"
  },
  "language_info": {
   "codemirror_mode": {
    "name": "ipython",
    "version": 3
   },
   "file_extension": ".py",
   "mimetype": "text/x-python",
   "name": "python",
   "nbconvert_exporter": "python",
   "pygments_lexer": "ipython3",
   "version": "3.7.6"
  },
  "toc": {
   "base_numbering": 1,
   "nav_menu": {},
   "number_sections": true,
   "sideBar": true,
   "skip_h1_title": true,
   "title_cell": "Table of Contents",
   "title_sidebar": "Contents",
   "toc_cell": false,
   "toc_position": {
    "height": "calc(100% - 180px)",
    "left": "10px",
    "top": "150px",
    "width": "375.391px"
   },
   "toc_section_display": true,
   "toc_window_display": false
  }
 },
 "nbformat": 4,
 "nbformat_minor": 1
}
